{
 "cells": [
  {
   "cell_type": "code",
   "execution_count": 1,
   "id": "fec68358",
   "metadata": {},
   "outputs": [],
   "source": [
    "import pandas as pd\n",
    "from tqdm import tqdm\n",
    "from sklearn.cluster import AgglomerativeClustering\n",
    "from sklearn.cluster import SpectralClustering\n",
    "import numpy as np\n",
    "import scipy.cluster.hierarchy as shc\n",
    "import matplotlib.pyplot as plt\n",
    "from scipy.cluster.hierarchy import cophenet\n",
    "from scipy.spatial.distance import pdist\n",
    "import seaborn as sns\n",
    "from ast import literal_eval\n",
    "import csv\n",
    "from mp_api.client import MPRester\n",
    "import warnings\n",
    "warnings.filterwarnings('ignore')"
   ]
  },
  {
   "cell_type": "code",
   "execution_count": 2,
   "id": "8a16c46b",
   "metadata": {
    "scrolled": false
   },
   "outputs": [
    {
     "data": {
      "text/html": [
       "<div>\n",
       "<style scoped>\n",
       "    .dataframe tbody tr th:only-of-type {\n",
       "        vertical-align: middle;\n",
       "    }\n",
       "\n",
       "    .dataframe tbody tr th {\n",
       "        vertical-align: top;\n",
       "    }\n",
       "\n",
       "    .dataframe thead th {\n",
       "        text-align: right;\n",
       "    }\n",
       "</style>\n",
       "<table border=\"1\" class=\"dataframe\">\n",
       "  <thead>\n",
       "    <tr style=\"text-align: right;\">\n",
       "      <th></th>\n",
       "      <th>Unnamed: 0</th>\n",
       "      <th>material_id</th>\n",
       "      <th>elements</th>\n",
       "      <th>formula_pretty_reduced</th>\n",
       "      <th>formula</th>\n",
       "      <th>num_elements</th>\n",
       "      <th>chemsys</th>\n",
       "      <th>spacegroup_symbol</th>\n",
       "      <th>spacegroup_number</th>\n",
       "      <th>fav</th>\n",
       "      <th>...</th>\n",
       "      <th>0.1</th>\n",
       "      <th>0.2</th>\n",
       "      <th>0.3</th>\n",
       "      <th>0.4</th>\n",
       "      <th>0.5</th>\n",
       "      <th>0.6</th>\n",
       "      <th>1e-05</th>\n",
       "      <th>0.0001</th>\n",
       "      <th>0.001</th>\n",
       "      <th>0.01</th>\n",
       "    </tr>\n",
       "  </thead>\n",
       "  <tbody>\n",
       "    <tr>\n",
       "      <th>0</th>\n",
       "      <td>0</td>\n",
       "      <td>mp-8892</td>\n",
       "      <td>['Li', 'F', 'In']</td>\n",
       "      <td>LiInF4</td>\n",
       "      <td>Li4 In4 F16</td>\n",
       "      <td>3</td>\n",
       "      <td>F-In-Li</td>\n",
       "      <td>Pbcn</td>\n",
       "      <td>60</td>\n",
       "      <td>11.132426</td>\n",
       "      <td>...</td>\n",
       "      <td>9.190986</td>\n",
       "      <td>9.927689</td>\n",
       "      <td>9.927689</td>\n",
       "      <td>9.927689</td>\n",
       "      <td>9.927689</td>\n",
       "      <td>9.927689</td>\n",
       "      <td>0.993939</td>\n",
       "      <td>0.981707</td>\n",
       "      <td>0.962025</td>\n",
       "      <td>0.788732</td>\n",
       "    </tr>\n",
       "    <tr>\n",
       "      <th>1</th>\n",
       "      <td>1</td>\n",
       "      <td>mp-772968</td>\n",
       "      <td>['Li', 'Tl', 'P', 'H', 'O']</td>\n",
       "      <td>LiTlPHO3</td>\n",
       "      <td>Li4 Tl4 P4 H4 O12</td>\n",
       "      <td>5</td>\n",
       "      <td>H-Li-O-P-Tl</td>\n",
       "      <td>C2</td>\n",
       "      <td>5</td>\n",
       "      <td>12.800916</td>\n",
       "      <td>...</td>\n",
       "      <td>11.140249</td>\n",
       "      <td>11.140249</td>\n",
       "      <td>11.140249</td>\n",
       "      <td>14.066884</td>\n",
       "      <td>14.066884</td>\n",
       "      <td>14.066884</td>\n",
       "      <td>1.000000</td>\n",
       "      <td>0.925000</td>\n",
       "      <td>0.725000</td>\n",
       "      <td>0.555556</td>\n",
       "    </tr>\n",
       "    <tr>\n",
       "      <th>2</th>\n",
       "      <td>2</td>\n",
       "      <td>mp-756951</td>\n",
       "      <td>['Li', 'Sb', 'O']</td>\n",
       "      <td>LiSbO3</td>\n",
       "      <td>Li4 Sb4 O12</td>\n",
       "      <td>3</td>\n",
       "      <td>Li-O-Sb</td>\n",
       "      <td>C2/m</td>\n",
       "      <td>12</td>\n",
       "      <td>8.819405</td>\n",
       "      <td>...</td>\n",
       "      <td>4.864107</td>\n",
       "      <td>5.543978</td>\n",
       "      <td>5.543978</td>\n",
       "      <td>5.543978</td>\n",
       "      <td>5.543978</td>\n",
       "      <td>6.903721</td>\n",
       "      <td>1.000000</td>\n",
       "      <td>0.993865</td>\n",
       "      <td>0.906832</td>\n",
       "      <td>0.560606</td>\n",
       "    </tr>\n",
       "    <tr>\n",
       "      <th>3</th>\n",
       "      <td>3</td>\n",
       "      <td>mp-754856</td>\n",
       "      <td>['Li', 'Y', 'Zr', 'S']</td>\n",
       "      <td>Li7Y7ZrS16</td>\n",
       "      <td>Li7 Y7 Zr1 S16</td>\n",
       "      <td>4</td>\n",
       "      <td>Li-S-Y-Zr</td>\n",
       "      <td>P2/m</td>\n",
       "      <td>10</td>\n",
       "      <td>6.245816</td>\n",
       "      <td>...</td>\n",
       "      <td>4.319241</td>\n",
       "      <td>4.319241</td>\n",
       "      <td>4.319241</td>\n",
       "      <td>4.319241</td>\n",
       "      <td>5.047983</td>\n",
       "      <td>5.047983</td>\n",
       "      <td>0.987952</td>\n",
       "      <td>0.962963</td>\n",
       "      <td>0.921569</td>\n",
       "      <td>0.735294</td>\n",
       "    </tr>\n",
       "    <tr>\n",
       "      <th>4</th>\n",
       "      <td>4</td>\n",
       "      <td>mp-24610</td>\n",
       "      <td>['H', 'Li', 'O', 'P']</td>\n",
       "      <td>LiP(HO2)2</td>\n",
       "      <td>Li4 P4 H8 O16</td>\n",
       "      <td>4</td>\n",
       "      <td>H-Li-O-P</td>\n",
       "      <td>Pna2_1</td>\n",
       "      <td>33</td>\n",
       "      <td>38.676281</td>\n",
       "      <td>...</td>\n",
       "      <td>29.153401</td>\n",
       "      <td>29.153401</td>\n",
       "      <td>32.155099</td>\n",
       "      <td>32.155099</td>\n",
       "      <td>32.155099</td>\n",
       "      <td>32.155099</td>\n",
       "      <td>1.000000</td>\n",
       "      <td>0.988506</td>\n",
       "      <td>0.941860</td>\n",
       "      <td>0.537500</td>\n",
       "    </tr>\n",
       "    <tr>\n",
       "      <th>...</th>\n",
       "      <td>...</td>\n",
       "      <td>...</td>\n",
       "      <td>...</td>\n",
       "      <td>...</td>\n",
       "      <td>...</td>\n",
       "      <td>...</td>\n",
       "      <td>...</td>\n",
       "      <td>...</td>\n",
       "      <td>...</td>\n",
       "      <td>...</td>\n",
       "      <td>...</td>\n",
       "      <td>...</td>\n",
       "      <td>...</td>\n",
       "      <td>...</td>\n",
       "      <td>...</td>\n",
       "      <td>...</td>\n",
       "      <td>...</td>\n",
       "      <td>...</td>\n",
       "      <td>...</td>\n",
       "      <td>...</td>\n",
       "      <td>...</td>\n",
       "    </tr>\n",
       "    <tr>\n",
       "      <th>868</th>\n",
       "      <td>868</td>\n",
       "      <td>mp-9919</td>\n",
       "      <td>['Li', 'Zn', 'Sb']</td>\n",
       "      <td>LiZnSb</td>\n",
       "      <td>Li2 Zn2 Sb2</td>\n",
       "      <td>3</td>\n",
       "      <td>Li-Sb-Zn</td>\n",
       "      <td>P6_3mc</td>\n",
       "      <td>186</td>\n",
       "      <td>6.350430</td>\n",
       "      <td>...</td>\n",
       "      <td>4.292991</td>\n",
       "      <td>4.292991</td>\n",
       "      <td>7.108637</td>\n",
       "      <td>7.108637</td>\n",
       "      <td>7.108637</td>\n",
       "      <td>7.108637</td>\n",
       "      <td>0.987578</td>\n",
       "      <td>0.968750</td>\n",
       "      <td>0.876623</td>\n",
       "      <td>0.664286</td>\n",
       "    </tr>\n",
       "    <tr>\n",
       "      <th>869</th>\n",
       "      <td>869</td>\n",
       "      <td>mp-14704</td>\n",
       "      <td>['Li', 'B', 'O', 'Y']</td>\n",
       "      <td>Li6Y(BO3)3</td>\n",
       "      <td>Li24 Y4 B12 O36</td>\n",
       "      <td>4</td>\n",
       "      <td>B-Li-O-Y</td>\n",
       "      <td>P2_1/c</td>\n",
       "      <td>14</td>\n",
       "      <td>11.867930</td>\n",
       "      <td>...</td>\n",
       "      <td>5.185502</td>\n",
       "      <td>5.979421</td>\n",
       "      <td>6.508700</td>\n",
       "      <td>7.567257</td>\n",
       "      <td>11.272210</td>\n",
       "      <td>11.272210</td>\n",
       "      <td>1.000000</td>\n",
       "      <td>0.982143</td>\n",
       "      <td>0.812500</td>\n",
       "      <td>0.742574</td>\n",
       "    </tr>\n",
       "    <tr>\n",
       "      <th>870</th>\n",
       "      <td>870</td>\n",
       "      <td>mp-557756</td>\n",
       "      <td>['Li', 'Zn', 'P', 'O']</td>\n",
       "      <td>Li4Zn(PO4)2</td>\n",
       "      <td>Li16 Zn4 P8 O32</td>\n",
       "      <td>4</td>\n",
       "      <td>Li-O-P-Zn</td>\n",
       "      <td>P2_1/c</td>\n",
       "      <td>14</td>\n",
       "      <td>12.278804</td>\n",
       "      <td>...</td>\n",
       "      <td>4.985237</td>\n",
       "      <td>8.758697</td>\n",
       "      <td>8.758697</td>\n",
       "      <td>8.758697</td>\n",
       "      <td>8.758697</td>\n",
       "      <td>10.855064</td>\n",
       "      <td>1.000000</td>\n",
       "      <td>0.967480</td>\n",
       "      <td>0.811475</td>\n",
       "      <td>0.700935</td>\n",
       "    </tr>\n",
       "    <tr>\n",
       "      <th>871</th>\n",
       "      <td>871</td>\n",
       "      <td>mp-966801</td>\n",
       "      <td>['Li', 'Ca', 'B', 'O']</td>\n",
       "      <td>LiCaBO3</td>\n",
       "      <td>Li8 Ca8 B8 O24</td>\n",
       "      <td>4</td>\n",
       "      <td>B-Ca-Li-O</td>\n",
       "      <td>Ibca</td>\n",
       "      <td>73</td>\n",
       "      <td>10.403979</td>\n",
       "      <td>...</td>\n",
       "      <td>5.331724</td>\n",
       "      <td>7.424524</td>\n",
       "      <td>10.040524</td>\n",
       "      <td>10.040524</td>\n",
       "      <td>10.040524</td>\n",
       "      <td>10.040524</td>\n",
       "      <td>0.989011</td>\n",
       "      <td>0.933333</td>\n",
       "      <td>0.771084</td>\n",
       "      <td>0.735294</td>\n",
       "    </tr>\n",
       "    <tr>\n",
       "      <th>872</th>\n",
       "      <td>872</td>\n",
       "      <td>mp-772721</td>\n",
       "      <td>['Li', 'Si', 'Bi', 'O']</td>\n",
       "      <td>LiSi6Bi9O26</td>\n",
       "      <td>Li2 Si12 Bi18 O52</td>\n",
       "      <td>4</td>\n",
       "      <td>Bi-Li-O-Si</td>\n",
       "      <td>P-3</td>\n",
       "      <td>147</td>\n",
       "      <td>5.711561</td>\n",
       "      <td>...</td>\n",
       "      <td>2.082729</td>\n",
       "      <td>2.817394</td>\n",
       "      <td>2.817394</td>\n",
       "      <td>3.552058</td>\n",
       "      <td>3.552058</td>\n",
       "      <td>3.919391</td>\n",
       "      <td>1.000000</td>\n",
       "      <td>0.957983</td>\n",
       "      <td>0.815126</td>\n",
       "      <td>0.540541</td>\n",
       "    </tr>\n",
       "  </tbody>\n",
       "</table>\n",
       "<p>873 rows × 123 columns</p>\n",
       "</div>"
      ],
      "text/plain": [
       "     Unnamed: 0 material_id                     elements  \\\n",
       "0             0     mp-8892            ['Li', 'F', 'In']   \n",
       "1             1   mp-772968  ['Li', 'Tl', 'P', 'H', 'O']   \n",
       "2             2   mp-756951            ['Li', 'Sb', 'O']   \n",
       "3             3   mp-754856       ['Li', 'Y', 'Zr', 'S']   \n",
       "4             4    mp-24610        ['H', 'Li', 'O', 'P']   \n",
       "..          ...         ...                          ...   \n",
       "868         868     mp-9919           ['Li', 'Zn', 'Sb']   \n",
       "869         869    mp-14704        ['Li', 'B', 'O', 'Y']   \n",
       "870         870   mp-557756       ['Li', 'Zn', 'P', 'O']   \n",
       "871         871   mp-966801       ['Li', 'Ca', 'B', 'O']   \n",
       "872         872   mp-772721      ['Li', 'Si', 'Bi', 'O']   \n",
       "\n",
       "    formula_pretty_reduced            formula  num_elements      chemsys  \\\n",
       "0                   LiInF4        Li4 In4 F16             3      F-In-Li   \n",
       "1                 LiTlPHO3  Li4 Tl4 P4 H4 O12             5  H-Li-O-P-Tl   \n",
       "2                   LiSbO3        Li4 Sb4 O12             3      Li-O-Sb   \n",
       "3               Li7Y7ZrS16     Li7 Y7 Zr1 S16             4    Li-S-Y-Zr   \n",
       "4                LiP(HO2)2      Li4 P4 H8 O16             4     H-Li-O-P   \n",
       "..                     ...                ...           ...          ...   \n",
       "868                 LiZnSb        Li2 Zn2 Sb2             3     Li-Sb-Zn   \n",
       "869             Li6Y(BO3)3    Li24 Y4 B12 O36             4     B-Li-O-Y   \n",
       "870            Li4Zn(PO4)2    Li16 Zn4 P8 O32             4    Li-O-P-Zn   \n",
       "871                LiCaBO3     Li8 Ca8 B8 O24             4    B-Ca-Li-O   \n",
       "872            LiSi6Bi9O26  Li2 Si12 Bi18 O52             4   Bi-Li-O-Si   \n",
       "\n",
       "    spacegroup_symbol  spacegroup_number        fav  ...        0.1  \\\n",
       "0                Pbcn                 60  11.132426  ...   9.190986   \n",
       "1                  C2                  5  12.800916  ...  11.140249   \n",
       "2                C2/m                 12   8.819405  ...   4.864107   \n",
       "3                P2/m                 10   6.245816  ...   4.319241   \n",
       "4              Pna2_1                 33  38.676281  ...  29.153401   \n",
       "..                ...                ...        ...  ...        ...   \n",
       "868            P6_3mc                186   6.350430  ...   4.292991   \n",
       "869            P2_1/c                 14  11.867930  ...   5.185502   \n",
       "870            P2_1/c                 14  12.278804  ...   4.985237   \n",
       "871              Ibca                 73  10.403979  ...   5.331724   \n",
       "872               P-3                147   5.711561  ...   2.082729   \n",
       "\n",
       "           0.2        0.3        0.4        0.5        0.6     1e-05  \\\n",
       "0     9.927689   9.927689   9.927689   9.927689   9.927689  0.993939   \n",
       "1    11.140249  11.140249  14.066884  14.066884  14.066884  1.000000   \n",
       "2     5.543978   5.543978   5.543978   5.543978   6.903721  1.000000   \n",
       "3     4.319241   4.319241   4.319241   5.047983   5.047983  0.987952   \n",
       "4    29.153401  32.155099  32.155099  32.155099  32.155099  1.000000   \n",
       "..         ...        ...        ...        ...        ...       ...   \n",
       "868   4.292991   7.108637   7.108637   7.108637   7.108637  0.987578   \n",
       "869   5.979421   6.508700   7.567257  11.272210  11.272210  1.000000   \n",
       "870   8.758697   8.758697   8.758697   8.758697  10.855064  1.000000   \n",
       "871   7.424524  10.040524  10.040524  10.040524  10.040524  0.989011   \n",
       "872   2.817394   2.817394   3.552058   3.552058   3.919391  1.000000   \n",
       "\n",
       "       0.0001     0.001      0.01  \n",
       "0    0.981707  0.962025  0.788732  \n",
       "1    0.925000  0.725000  0.555556  \n",
       "2    0.993865  0.906832  0.560606  \n",
       "3    0.962963  0.921569  0.735294  \n",
       "4    0.988506  0.941860  0.537500  \n",
       "..        ...       ...       ...  \n",
       "868  0.968750  0.876623  0.664286  \n",
       "869  0.982143  0.812500  0.742574  \n",
       "870  0.967480  0.811475  0.700935  \n",
       "871  0.933333  0.771084  0.735294  \n",
       "872  0.957983  0.815126  0.540541  \n",
       "\n",
       "[873 rows x 123 columns]"
      ]
     },
     "execution_count": 2,
     "metadata": {},
     "output_type": "execute_result"
    }
   ],
   "source": [
    "data = pd.read_csv('data.csv')\n",
    "data"
   ]
  },
  {
   "cell_type": "code",
   "execution_count": 3,
   "id": "4876141c",
   "metadata": {},
   "outputs": [],
   "source": [
    "missing_id = ['mp-867699', 'mp-867712', 'mp-613442', 'mp-561623', 'mp-867677', 'mp-867700']"
   ]
  },
  {
   "cell_type": "code",
   "execution_count": 4,
   "id": "a000b6d6",
   "metadata": {
    "scrolled": false
   },
   "outputs": [
    {
     "data": {
      "text/html": [
       "<div>\n",
       "<style scoped>\n",
       "    .dataframe tbody tr th:only-of-type {\n",
       "        vertical-align: middle;\n",
       "    }\n",
       "\n",
       "    .dataframe tbody tr th {\n",
       "        vertical-align: top;\n",
       "    }\n",
       "\n",
       "    .dataframe thead th {\n",
       "        text-align: right;\n",
       "    }\n",
       "</style>\n",
       "<table border=\"1\" class=\"dataframe\">\n",
       "  <thead>\n",
       "    <tr style=\"text-align: right;\">\n",
       "      <th></th>\n",
       "      <th>Unnamed: 0</th>\n",
       "      <th>material_id</th>\n",
       "      <th>elements</th>\n",
       "      <th>formula_pretty_reduced</th>\n",
       "      <th>formula</th>\n",
       "      <th>num_elements</th>\n",
       "      <th>chemsys</th>\n",
       "      <th>spacegroup_symbol</th>\n",
       "      <th>spacegroup_number</th>\n",
       "      <th>fav</th>\n",
       "      <th>...</th>\n",
       "      <th>0.1</th>\n",
       "      <th>0.2</th>\n",
       "      <th>0.3</th>\n",
       "      <th>0.4</th>\n",
       "      <th>0.5</th>\n",
       "      <th>0.6</th>\n",
       "      <th>1e-05</th>\n",
       "      <th>0.0001</th>\n",
       "      <th>0.001</th>\n",
       "      <th>0.01</th>\n",
       "    </tr>\n",
       "  </thead>\n",
       "  <tbody>\n",
       "    <tr>\n",
       "      <th>0</th>\n",
       "      <td>0</td>\n",
       "      <td>mp-8892</td>\n",
       "      <td>['Li', 'F', 'In']</td>\n",
       "      <td>LiInF4</td>\n",
       "      <td>Li4 In4 F16</td>\n",
       "      <td>3</td>\n",
       "      <td>F-In-Li</td>\n",
       "      <td>Pbcn</td>\n",
       "      <td>60</td>\n",
       "      <td>11.132426</td>\n",
       "      <td>...</td>\n",
       "      <td>9.190986</td>\n",
       "      <td>9.927689</td>\n",
       "      <td>9.927689</td>\n",
       "      <td>9.927689</td>\n",
       "      <td>9.927689</td>\n",
       "      <td>9.927689</td>\n",
       "      <td>0.993939</td>\n",
       "      <td>0.981707</td>\n",
       "      <td>0.962025</td>\n",
       "      <td>0.788732</td>\n",
       "    </tr>\n",
       "    <tr>\n",
       "      <th>1</th>\n",
       "      <td>1</td>\n",
       "      <td>mp-772968</td>\n",
       "      <td>['Li', 'Tl', 'P', 'H', 'O']</td>\n",
       "      <td>LiTlPHO3</td>\n",
       "      <td>Li4 Tl4 P4 H4 O12</td>\n",
       "      <td>5</td>\n",
       "      <td>H-Li-O-P-Tl</td>\n",
       "      <td>C2</td>\n",
       "      <td>5</td>\n",
       "      <td>12.800916</td>\n",
       "      <td>...</td>\n",
       "      <td>11.140249</td>\n",
       "      <td>11.140249</td>\n",
       "      <td>11.140249</td>\n",
       "      <td>14.066884</td>\n",
       "      <td>14.066884</td>\n",
       "      <td>14.066884</td>\n",
       "      <td>1.000000</td>\n",
       "      <td>0.925000</td>\n",
       "      <td>0.725000</td>\n",
       "      <td>0.555556</td>\n",
       "    </tr>\n",
       "    <tr>\n",
       "      <th>2</th>\n",
       "      <td>2</td>\n",
       "      <td>mp-756951</td>\n",
       "      <td>['Li', 'Sb', 'O']</td>\n",
       "      <td>LiSbO3</td>\n",
       "      <td>Li4 Sb4 O12</td>\n",
       "      <td>3</td>\n",
       "      <td>Li-O-Sb</td>\n",
       "      <td>C2/m</td>\n",
       "      <td>12</td>\n",
       "      <td>8.819405</td>\n",
       "      <td>...</td>\n",
       "      <td>4.864107</td>\n",
       "      <td>5.543978</td>\n",
       "      <td>5.543978</td>\n",
       "      <td>5.543978</td>\n",
       "      <td>5.543978</td>\n",
       "      <td>6.903721</td>\n",
       "      <td>1.000000</td>\n",
       "      <td>0.993865</td>\n",
       "      <td>0.906832</td>\n",
       "      <td>0.560606</td>\n",
       "    </tr>\n",
       "    <tr>\n",
       "      <th>3</th>\n",
       "      <td>3</td>\n",
       "      <td>mp-754856</td>\n",
       "      <td>['Li', 'Y', 'Zr', 'S']</td>\n",
       "      <td>Li7Y7ZrS16</td>\n",
       "      <td>Li7 Y7 Zr1 S16</td>\n",
       "      <td>4</td>\n",
       "      <td>Li-S-Y-Zr</td>\n",
       "      <td>P2/m</td>\n",
       "      <td>10</td>\n",
       "      <td>6.245816</td>\n",
       "      <td>...</td>\n",
       "      <td>4.319241</td>\n",
       "      <td>4.319241</td>\n",
       "      <td>4.319241</td>\n",
       "      <td>4.319241</td>\n",
       "      <td>5.047983</td>\n",
       "      <td>5.047983</td>\n",
       "      <td>0.987952</td>\n",
       "      <td>0.962963</td>\n",
       "      <td>0.921569</td>\n",
       "      <td>0.735294</td>\n",
       "    </tr>\n",
       "    <tr>\n",
       "      <th>4</th>\n",
       "      <td>4</td>\n",
       "      <td>mp-24610</td>\n",
       "      <td>['H', 'Li', 'O', 'P']</td>\n",
       "      <td>LiP(HO2)2</td>\n",
       "      <td>Li4 P4 H8 O16</td>\n",
       "      <td>4</td>\n",
       "      <td>H-Li-O-P</td>\n",
       "      <td>Pna2_1</td>\n",
       "      <td>33</td>\n",
       "      <td>38.676281</td>\n",
       "      <td>...</td>\n",
       "      <td>29.153401</td>\n",
       "      <td>29.153401</td>\n",
       "      <td>32.155099</td>\n",
       "      <td>32.155099</td>\n",
       "      <td>32.155099</td>\n",
       "      <td>32.155099</td>\n",
       "      <td>1.000000</td>\n",
       "      <td>0.988506</td>\n",
       "      <td>0.941860</td>\n",
       "      <td>0.537500</td>\n",
       "    </tr>\n",
       "    <tr>\n",
       "      <th>...</th>\n",
       "      <td>...</td>\n",
       "      <td>...</td>\n",
       "      <td>...</td>\n",
       "      <td>...</td>\n",
       "      <td>...</td>\n",
       "      <td>...</td>\n",
       "      <td>...</td>\n",
       "      <td>...</td>\n",
       "      <td>...</td>\n",
       "      <td>...</td>\n",
       "      <td>...</td>\n",
       "      <td>...</td>\n",
       "      <td>...</td>\n",
       "      <td>...</td>\n",
       "      <td>...</td>\n",
       "      <td>...</td>\n",
       "      <td>...</td>\n",
       "      <td>...</td>\n",
       "      <td>...</td>\n",
       "      <td>...</td>\n",
       "      <td>...</td>\n",
       "    </tr>\n",
       "    <tr>\n",
       "      <th>862</th>\n",
       "      <td>868</td>\n",
       "      <td>mp-9919</td>\n",
       "      <td>['Li', 'Zn', 'Sb']</td>\n",
       "      <td>LiZnSb</td>\n",
       "      <td>Li2 Zn2 Sb2</td>\n",
       "      <td>3</td>\n",
       "      <td>Li-Sb-Zn</td>\n",
       "      <td>P6_3mc</td>\n",
       "      <td>186</td>\n",
       "      <td>6.350430</td>\n",
       "      <td>...</td>\n",
       "      <td>4.292991</td>\n",
       "      <td>4.292991</td>\n",
       "      <td>7.108637</td>\n",
       "      <td>7.108637</td>\n",
       "      <td>7.108637</td>\n",
       "      <td>7.108637</td>\n",
       "      <td>0.987578</td>\n",
       "      <td>0.968750</td>\n",
       "      <td>0.876623</td>\n",
       "      <td>0.664286</td>\n",
       "    </tr>\n",
       "    <tr>\n",
       "      <th>863</th>\n",
       "      <td>869</td>\n",
       "      <td>mp-14704</td>\n",
       "      <td>['Li', 'B', 'O', 'Y']</td>\n",
       "      <td>Li6Y(BO3)3</td>\n",
       "      <td>Li24 Y4 B12 O36</td>\n",
       "      <td>4</td>\n",
       "      <td>B-Li-O-Y</td>\n",
       "      <td>P2_1/c</td>\n",
       "      <td>14</td>\n",
       "      <td>11.867930</td>\n",
       "      <td>...</td>\n",
       "      <td>5.185502</td>\n",
       "      <td>5.979421</td>\n",
       "      <td>6.508700</td>\n",
       "      <td>7.567257</td>\n",
       "      <td>11.272210</td>\n",
       "      <td>11.272210</td>\n",
       "      <td>1.000000</td>\n",
       "      <td>0.982143</td>\n",
       "      <td>0.812500</td>\n",
       "      <td>0.742574</td>\n",
       "    </tr>\n",
       "    <tr>\n",
       "      <th>864</th>\n",
       "      <td>870</td>\n",
       "      <td>mp-557756</td>\n",
       "      <td>['Li', 'Zn', 'P', 'O']</td>\n",
       "      <td>Li4Zn(PO4)2</td>\n",
       "      <td>Li16 Zn4 P8 O32</td>\n",
       "      <td>4</td>\n",
       "      <td>Li-O-P-Zn</td>\n",
       "      <td>P2_1/c</td>\n",
       "      <td>14</td>\n",
       "      <td>12.278804</td>\n",
       "      <td>...</td>\n",
       "      <td>4.985237</td>\n",
       "      <td>8.758697</td>\n",
       "      <td>8.758697</td>\n",
       "      <td>8.758697</td>\n",
       "      <td>8.758697</td>\n",
       "      <td>10.855064</td>\n",
       "      <td>1.000000</td>\n",
       "      <td>0.967480</td>\n",
       "      <td>0.811475</td>\n",
       "      <td>0.700935</td>\n",
       "    </tr>\n",
       "    <tr>\n",
       "      <th>865</th>\n",
       "      <td>871</td>\n",
       "      <td>mp-966801</td>\n",
       "      <td>['Li', 'Ca', 'B', 'O']</td>\n",
       "      <td>LiCaBO3</td>\n",
       "      <td>Li8 Ca8 B8 O24</td>\n",
       "      <td>4</td>\n",
       "      <td>B-Ca-Li-O</td>\n",
       "      <td>Ibca</td>\n",
       "      <td>73</td>\n",
       "      <td>10.403979</td>\n",
       "      <td>...</td>\n",
       "      <td>5.331724</td>\n",
       "      <td>7.424524</td>\n",
       "      <td>10.040524</td>\n",
       "      <td>10.040524</td>\n",
       "      <td>10.040524</td>\n",
       "      <td>10.040524</td>\n",
       "      <td>0.989011</td>\n",
       "      <td>0.933333</td>\n",
       "      <td>0.771084</td>\n",
       "      <td>0.735294</td>\n",
       "    </tr>\n",
       "    <tr>\n",
       "      <th>866</th>\n",
       "      <td>872</td>\n",
       "      <td>mp-772721</td>\n",
       "      <td>['Li', 'Si', 'Bi', 'O']</td>\n",
       "      <td>LiSi6Bi9O26</td>\n",
       "      <td>Li2 Si12 Bi18 O52</td>\n",
       "      <td>4</td>\n",
       "      <td>Bi-Li-O-Si</td>\n",
       "      <td>P-3</td>\n",
       "      <td>147</td>\n",
       "      <td>5.711561</td>\n",
       "      <td>...</td>\n",
       "      <td>2.082729</td>\n",
       "      <td>2.817394</td>\n",
       "      <td>2.817394</td>\n",
       "      <td>3.552058</td>\n",
       "      <td>3.552058</td>\n",
       "      <td>3.919391</td>\n",
       "      <td>1.000000</td>\n",
       "      <td>0.957983</td>\n",
       "      <td>0.815126</td>\n",
       "      <td>0.540541</td>\n",
       "    </tr>\n",
       "  </tbody>\n",
       "</table>\n",
       "<p>867 rows × 123 columns</p>\n",
       "</div>"
      ],
      "text/plain": [
       "     Unnamed: 0 material_id                     elements  \\\n",
       "0             0     mp-8892            ['Li', 'F', 'In']   \n",
       "1             1   mp-772968  ['Li', 'Tl', 'P', 'H', 'O']   \n",
       "2             2   mp-756951            ['Li', 'Sb', 'O']   \n",
       "3             3   mp-754856       ['Li', 'Y', 'Zr', 'S']   \n",
       "4             4    mp-24610        ['H', 'Li', 'O', 'P']   \n",
       "..          ...         ...                          ...   \n",
       "862         868     mp-9919           ['Li', 'Zn', 'Sb']   \n",
       "863         869    mp-14704        ['Li', 'B', 'O', 'Y']   \n",
       "864         870   mp-557756       ['Li', 'Zn', 'P', 'O']   \n",
       "865         871   mp-966801       ['Li', 'Ca', 'B', 'O']   \n",
       "866         872   mp-772721      ['Li', 'Si', 'Bi', 'O']   \n",
       "\n",
       "    formula_pretty_reduced            formula  num_elements      chemsys  \\\n",
       "0                   LiInF4        Li4 In4 F16             3      F-In-Li   \n",
       "1                 LiTlPHO3  Li4 Tl4 P4 H4 O12             5  H-Li-O-P-Tl   \n",
       "2                   LiSbO3        Li4 Sb4 O12             3      Li-O-Sb   \n",
       "3               Li7Y7ZrS16     Li7 Y7 Zr1 S16             4    Li-S-Y-Zr   \n",
       "4                LiP(HO2)2      Li4 P4 H8 O16             4     H-Li-O-P   \n",
       "..                     ...                ...           ...          ...   \n",
       "862                 LiZnSb        Li2 Zn2 Sb2             3     Li-Sb-Zn   \n",
       "863             Li6Y(BO3)3    Li24 Y4 B12 O36             4     B-Li-O-Y   \n",
       "864            Li4Zn(PO4)2    Li16 Zn4 P8 O32             4    Li-O-P-Zn   \n",
       "865                LiCaBO3     Li8 Ca8 B8 O24             4    B-Ca-Li-O   \n",
       "866            LiSi6Bi9O26  Li2 Si12 Bi18 O52             4   Bi-Li-O-Si   \n",
       "\n",
       "    spacegroup_symbol  spacegroup_number        fav  ...        0.1  \\\n",
       "0                Pbcn                 60  11.132426  ...   9.190986   \n",
       "1                  C2                  5  12.800916  ...  11.140249   \n",
       "2                C2/m                 12   8.819405  ...   4.864107   \n",
       "3                P2/m                 10   6.245816  ...   4.319241   \n",
       "4              Pna2_1                 33  38.676281  ...  29.153401   \n",
       "..                ...                ...        ...  ...        ...   \n",
       "862            P6_3mc                186   6.350430  ...   4.292991   \n",
       "863            P2_1/c                 14  11.867930  ...   5.185502   \n",
       "864            P2_1/c                 14  12.278804  ...   4.985237   \n",
       "865              Ibca                 73  10.403979  ...   5.331724   \n",
       "866               P-3                147   5.711561  ...   2.082729   \n",
       "\n",
       "           0.2        0.3        0.4        0.5        0.6     1e-05  \\\n",
       "0     9.927689   9.927689   9.927689   9.927689   9.927689  0.993939   \n",
       "1    11.140249  11.140249  14.066884  14.066884  14.066884  1.000000   \n",
       "2     5.543978   5.543978   5.543978   5.543978   6.903721  1.000000   \n",
       "3     4.319241   4.319241   4.319241   5.047983   5.047983  0.987952   \n",
       "4    29.153401  32.155099  32.155099  32.155099  32.155099  1.000000   \n",
       "..         ...        ...        ...        ...        ...       ...   \n",
       "862   4.292991   7.108637   7.108637   7.108637   7.108637  0.987578   \n",
       "863   5.979421   6.508700   7.567257  11.272210  11.272210  1.000000   \n",
       "864   8.758697   8.758697   8.758697   8.758697  10.855064  1.000000   \n",
       "865   7.424524  10.040524  10.040524  10.040524  10.040524  0.989011   \n",
       "866   2.817394   2.817394   3.552058   3.552058   3.919391  1.000000   \n",
       "\n",
       "       0.0001     0.001      0.01  \n",
       "0    0.981707  0.962025  0.788732  \n",
       "1    0.925000  0.725000  0.555556  \n",
       "2    0.993865  0.906832  0.560606  \n",
       "3    0.962963  0.921569  0.735294  \n",
       "4    0.988506  0.941860  0.537500  \n",
       "..        ...       ...       ...  \n",
       "862  0.968750  0.876623  0.664286  \n",
       "863  0.982143  0.812500  0.742574  \n",
       "864  0.967480  0.811475  0.700935  \n",
       "865  0.933333  0.771084  0.735294  \n",
       "866  0.957983  0.815126  0.540541  \n",
       "\n",
       "[867 rows x 123 columns]"
      ]
     },
     "execution_count": 4,
     "metadata": {},
     "output_type": "execute_result"
    }
   ],
   "source": [
    "for mat_id in missing_id:\n",
    "    idx = data[data.material_id == mat_id].index\n",
    "    data.drop(idx, inplace=True)\n",
    "    data.reset_index(drop=True, inplace=True)\n",
    "    \n",
    "data"
   ]
  },
  {
   "cell_type": "code",
   "execution_count": 5,
   "id": "30525cee",
   "metadata": {},
   "outputs": [
    {
     "data": {
      "application/vnd.jupyter.widget-view+json": {
       "model_id": "8e9aff2dac38412aaa57c6d703fc1cc2",
       "version_major": 2,
       "version_minor": 0
      },
      "text/plain": [
       "Retrieving ProvenanceDoc documents:   0%|          | 0/1 [00:00<?, ?it/s]"
      ]
     },
     "metadata": {},
     "output_type": "display_data"
    },
    {
     "data": {
      "application/vnd.jupyter.widget-view+json": {
       "model_id": "0628eb3409b94be597c49635446a29c4",
       "version_major": 2,
       "version_minor": 0
      },
      "text/plain": [
       "Retrieving ProvenanceDoc documents:   0%|          | 0/1 [00:00<?, ?it/s]"
      ]
     },
     "metadata": {},
     "output_type": "display_data"
    },
    {
     "data": {
      "application/vnd.jupyter.widget-view+json": {
       "model_id": "8e72e197fc5345cb867e3ddc1e8ae8b5",
       "version_major": 2,
       "version_minor": 0
      },
      "text/plain": [
       "Retrieving ProvenanceDoc documents:   0%|          | 0/1 [00:00<?, ?it/s]"
      ]
     },
     "metadata": {},
     "output_type": "display_data"
    },
    {
     "data": {
      "application/vnd.jupyter.widget-view+json": {
       "model_id": "cfeff41ca0674fbebe36073ffba2d3c9",
       "version_major": 2,
       "version_minor": 0
      },
      "text/plain": [
       "Retrieving ProvenanceDoc documents:   0%|          | 0/1 [00:00<?, ?it/s]"
      ]
     },
     "metadata": {},
     "output_type": "display_data"
    },
    {
     "data": {
      "application/vnd.jupyter.widget-view+json": {
       "model_id": "aa10cfef589c40b08046d0985751e21c",
       "version_major": 2,
       "version_minor": 0
      },
      "text/plain": [
       "Retrieving ProvenanceDoc documents:   0%|          | 0/1 [00:00<?, ?it/s]"
      ]
     },
     "metadata": {},
     "output_type": "display_data"
    },
    {
     "data": {
      "application/vnd.jupyter.widget-view+json": {
       "model_id": "8ee4458a9e4940ee83dd70c07d6d5391",
       "version_major": 2,
       "version_minor": 0
      },
      "text/plain": [
       "Retrieving ProvenanceDoc documents:   0%|          | 0/1 [00:00<?, ?it/s]"
      ]
     },
     "metadata": {},
     "output_type": "display_data"
    },
    {
     "data": {
      "application/vnd.jupyter.widget-view+json": {
       "model_id": "a6342e5053bf47a7b6a8b6a82024fffc",
       "version_major": 2,
       "version_minor": 0
      },
      "text/plain": [
       "Retrieving ProvenanceDoc documents:   0%|          | 0/1 [00:00<?, ?it/s]"
      ]
     },
     "metadata": {},
     "output_type": "display_data"
    },
    {
     "data": {
      "application/vnd.jupyter.widget-view+json": {
       "model_id": "a27d19aa447443b3b4167f8b9741875a",
       "version_major": 2,
       "version_minor": 0
      },
      "text/plain": [
       "Retrieving ProvenanceDoc documents:   0%|          | 0/1 [00:00<?, ?it/s]"
      ]
     },
     "metadata": {},
     "output_type": "display_data"
    },
    {
     "data": {
      "application/vnd.jupyter.widget-view+json": {
       "model_id": "48ac503a12c64ceeb153154c06726fd1",
       "version_major": 2,
       "version_minor": 0
      },
      "text/plain": [
       "Retrieving ProvenanceDoc documents:   0%|          | 0/1 [00:00<?, ?it/s]"
      ]
     },
     "metadata": {},
     "output_type": "display_data"
    },
    {
     "data": {
      "application/vnd.jupyter.widget-view+json": {
       "model_id": "c1a9d7b78e104d1eaa1d8e7586a2891c",
       "version_major": 2,
       "version_minor": 0
      },
      "text/plain": [
       "Retrieving ProvenanceDoc documents:   0%|          | 0/1 [00:00<?, ?it/s]"
      ]
     },
     "metadata": {},
     "output_type": "display_data"
    },
    {
     "data": {
      "application/vnd.jupyter.widget-view+json": {
       "model_id": "66a93332b9de45b3b6cc0ba68e734ac9",
       "version_major": 2,
       "version_minor": 0
      },
      "text/plain": [
       "Retrieving ProvenanceDoc documents:   0%|          | 0/1 [00:00<?, ?it/s]"
      ]
     },
     "metadata": {},
     "output_type": "display_data"
    },
    {
     "data": {
      "application/vnd.jupyter.widget-view+json": {
       "model_id": "896f69e4877641b6b6b275c5b7e18536",
       "version_major": 2,
       "version_minor": 0
      },
      "text/plain": [
       "Retrieving ProvenanceDoc documents:   0%|          | 0/1 [00:00<?, ?it/s]"
      ]
     },
     "metadata": {},
     "output_type": "display_data"
    },
    {
     "data": {
      "application/vnd.jupyter.widget-view+json": {
       "model_id": "06f9e543579f47ccaadadf53b6d8fc34",
       "version_major": 2,
       "version_minor": 0
      },
      "text/plain": [
       "Retrieving ProvenanceDoc documents:   0%|          | 0/1 [00:00<?, ?it/s]"
      ]
     },
     "metadata": {},
     "output_type": "display_data"
    },
    {
     "data": {
      "application/vnd.jupyter.widget-view+json": {
       "model_id": "78368d9d65a94f18908682f31a105ece",
       "version_major": 2,
       "version_minor": 0
      },
      "text/plain": [
       "Retrieving ProvenanceDoc documents:   0%|          | 0/1 [00:00<?, ?it/s]"
      ]
     },
     "metadata": {},
     "output_type": "display_data"
    },
    {
     "data": {
      "application/vnd.jupyter.widget-view+json": {
       "model_id": "9eb0a10ffc2347dc8b8e4e714134935f",
       "version_major": 2,
       "version_minor": 0
      },
      "text/plain": [
       "Retrieving ProvenanceDoc documents:   0%|          | 0/1 [00:00<?, ?it/s]"
      ]
     },
     "metadata": {},
     "output_type": "display_data"
    },
    {
     "data": {
      "application/vnd.jupyter.widget-view+json": {
       "model_id": "8272070181b841dc93da642d201c3406",
       "version_major": 2,
       "version_minor": 0
      },
      "text/plain": [
       "Retrieving ProvenanceDoc documents:   0%|          | 0/1 [00:00<?, ?it/s]"
      ]
     },
     "metadata": {},
     "output_type": "display_data"
    },
    {
     "data": {
      "application/vnd.jupyter.widget-view+json": {
       "model_id": "9e2d41f341464a4698429baa20c511cd",
       "version_major": 2,
       "version_minor": 0
      },
      "text/plain": [
       "Retrieving ProvenanceDoc documents:   0%|          | 0/1 [00:00<?, ?it/s]"
      ]
     },
     "metadata": {},
     "output_type": "display_data"
    },
    {
     "data": {
      "application/vnd.jupyter.widget-view+json": {
       "model_id": "87165ad52f0f4ef585ae224f053507ee",
       "version_major": 2,
       "version_minor": 0
      },
      "text/plain": [
       "Retrieving ProvenanceDoc documents:   0%|          | 0/1 [00:00<?, ?it/s]"
      ]
     },
     "metadata": {},
     "output_type": "display_data"
    },
    {
     "data": {
      "application/vnd.jupyter.widget-view+json": {
       "model_id": "1c4fc92548754d9595a957af7595f2ff",
       "version_major": 2,
       "version_minor": 0
      },
      "text/plain": [
       "Retrieving ProvenanceDoc documents:   0%|          | 0/1 [00:00<?, ?it/s]"
      ]
     },
     "metadata": {},
     "output_type": "display_data"
    },
    {
     "data": {
      "application/vnd.jupyter.widget-view+json": {
       "model_id": "472156d998ad401bbc20914d810d3962",
       "version_major": 2,
       "version_minor": 0
      },
      "text/plain": [
       "Retrieving ProvenanceDoc documents:   0%|          | 0/1 [00:00<?, ?it/s]"
      ]
     },
     "metadata": {},
     "output_type": "display_data"
    },
    {
     "data": {
      "application/vnd.jupyter.widget-view+json": {
       "model_id": "d669228bb5b248d79bdfaa1d9205ff49",
       "version_major": 2,
       "version_minor": 0
      },
      "text/plain": [
       "Retrieving ProvenanceDoc documents:   0%|          | 0/1 [00:00<?, ?it/s]"
      ]
     },
     "metadata": {},
     "output_type": "display_data"
    },
    {
     "data": {
      "application/vnd.jupyter.widget-view+json": {
       "model_id": "a6510fc28e6949c2b15e32f04a5ecb6d",
       "version_major": 2,
       "version_minor": 0
      },
      "text/plain": [
       "Retrieving ProvenanceDoc documents:   0%|          | 0/1 [00:00<?, ?it/s]"
      ]
     },
     "metadata": {},
     "output_type": "display_data"
    },
    {
     "data": {
      "application/vnd.jupyter.widget-view+json": {
       "model_id": "9c5797f47d9644978ec4aa77ae18a6ec",
       "version_major": 2,
       "version_minor": 0
      },
      "text/plain": [
       "Retrieving ProvenanceDoc documents:   0%|          | 0/1 [00:00<?, ?it/s]"
      ]
     },
     "metadata": {},
     "output_type": "display_data"
    },
    {
     "data": {
      "application/vnd.jupyter.widget-view+json": {
       "model_id": "8d50bf4b9126403e9b0246d56536e648",
       "version_major": 2,
       "version_minor": 0
      },
      "text/plain": [
       "Retrieving ProvenanceDoc documents:   0%|          | 0/1 [00:00<?, ?it/s]"
      ]
     },
     "metadata": {},
     "output_type": "display_data"
    },
    {
     "data": {
      "application/vnd.jupyter.widget-view+json": {
       "model_id": "9b0d60bd446740149561569a57dd0621",
       "version_major": 2,
       "version_minor": 0
      },
      "text/plain": [
       "Retrieving ProvenanceDoc documents:   0%|          | 0/1 [00:00<?, ?it/s]"
      ]
     },
     "metadata": {},
     "output_type": "display_data"
    },
    {
     "data": {
      "application/vnd.jupyter.widget-view+json": {
       "model_id": "ebe3555ccf8840eaa0e4d779be1d1337",
       "version_major": 2,
       "version_minor": 0
      },
      "text/plain": [
       "Retrieving ProvenanceDoc documents:   0%|          | 0/1 [00:00<?, ?it/s]"
      ]
     },
     "metadata": {},
     "output_type": "display_data"
    },
    {
     "data": {
      "application/vnd.jupyter.widget-view+json": {
       "model_id": "fb13a0aba2a84abba018446f340c87ab",
       "version_major": 2,
       "version_minor": 0
      },
      "text/plain": [
       "Retrieving ProvenanceDoc documents:   0%|          | 0/1 [00:00<?, ?it/s]"
      ]
     },
     "metadata": {},
     "output_type": "display_data"
    },
    {
     "data": {
      "application/vnd.jupyter.widget-view+json": {
       "model_id": "0afa95bf6ddb4a329e836e098f675fc6",
       "version_major": 2,
       "version_minor": 0
      },
      "text/plain": [
       "Retrieving ProvenanceDoc documents:   0%|          | 0/1 [00:00<?, ?it/s]"
      ]
     },
     "metadata": {},
     "output_type": "display_data"
    },
    {
     "data": {
      "application/vnd.jupyter.widget-view+json": {
       "model_id": "1dcdff5d6e8d4abcaed438ff60e72e7b",
       "version_major": 2,
       "version_minor": 0
      },
      "text/plain": [
       "Retrieving ProvenanceDoc documents:   0%|          | 0/1 [00:00<?, ?it/s]"
      ]
     },
     "metadata": {},
     "output_type": "display_data"
    },
    {
     "data": {
      "application/vnd.jupyter.widget-view+json": {
       "model_id": "af549a3a225c41078d4ef7542754e150",
       "version_major": 2,
       "version_minor": 0
      },
      "text/plain": [
       "Retrieving ProvenanceDoc documents:   0%|          | 0/1 [00:00<?, ?it/s]"
      ]
     },
     "metadata": {},
     "output_type": "display_data"
    },
    {
     "data": {
      "application/vnd.jupyter.widget-view+json": {
       "model_id": "e32041e250984feb95a0edf15e9ef66a",
       "version_major": 2,
       "version_minor": 0
      },
      "text/plain": [
       "Retrieving ProvenanceDoc documents:   0%|          | 0/1 [00:00<?, ?it/s]"
      ]
     },
     "metadata": {},
     "output_type": "display_data"
    },
    {
     "data": {
      "application/vnd.jupyter.widget-view+json": {
       "model_id": "ebcbd4b887954fa7b920cab52611cce7",
       "version_major": 2,
       "version_minor": 0
      },
      "text/plain": [
       "Retrieving ProvenanceDoc documents:   0%|          | 0/1 [00:00<?, ?it/s]"
      ]
     },
     "metadata": {},
     "output_type": "display_data"
    },
    {
     "data": {
      "application/vnd.jupyter.widget-view+json": {
       "model_id": "7e8013ce1c0f4a368392a9be45934310",
       "version_major": 2,
       "version_minor": 0
      },
      "text/plain": [
       "Retrieving ProvenanceDoc documents:   0%|          | 0/1 [00:00<?, ?it/s]"
      ]
     },
     "metadata": {},
     "output_type": "display_data"
    },
    {
     "data": {
      "application/vnd.jupyter.widget-view+json": {
       "model_id": "c6025bdf572846769bad65918aa44940",
       "version_major": 2,
       "version_minor": 0
      },
      "text/plain": [
       "Retrieving ProvenanceDoc documents:   0%|          | 0/1 [00:00<?, ?it/s]"
      ]
     },
     "metadata": {},
     "output_type": "display_data"
    },
    {
     "data": {
      "application/vnd.jupyter.widget-view+json": {
       "model_id": "2a43c8f212ba4d6fa5ecba0af1809a1f",
       "version_major": 2,
       "version_minor": 0
      },
      "text/plain": [
       "Retrieving ProvenanceDoc documents:   0%|          | 0/1 [00:00<?, ?it/s]"
      ]
     },
     "metadata": {},
     "output_type": "display_data"
    },
    {
     "data": {
      "application/vnd.jupyter.widget-view+json": {
       "model_id": "fbf8e4061c994b4cb9cf01dbb72a7242",
       "version_major": 2,
       "version_minor": 0
      },
      "text/plain": [
       "Retrieving ProvenanceDoc documents:   0%|          | 0/1 [00:00<?, ?it/s]"
      ]
     },
     "metadata": {},
     "output_type": "display_data"
    },
    {
     "data": {
      "application/vnd.jupyter.widget-view+json": {
       "model_id": "4ae49152aa7b4361a818ee66fa9cf20e",
       "version_major": 2,
       "version_minor": 0
      },
      "text/plain": [
       "Retrieving ProvenanceDoc documents:   0%|          | 0/1 [00:00<?, ?it/s]"
      ]
     },
     "metadata": {},
     "output_type": "display_data"
    },
    {
     "data": {
      "application/vnd.jupyter.widget-view+json": {
       "model_id": "2617e95a21474898b12e2f899bf61a4a",
       "version_major": 2,
       "version_minor": 0
      },
      "text/plain": [
       "Retrieving ProvenanceDoc documents:   0%|          | 0/1 [00:00<?, ?it/s]"
      ]
     },
     "metadata": {},
     "output_type": "display_data"
    },
    {
     "data": {
      "application/vnd.jupyter.widget-view+json": {
       "model_id": "c82b3e56c95c4c32b899f8e16917ad96",
       "version_major": 2,
       "version_minor": 0
      },
      "text/plain": [
       "Retrieving ProvenanceDoc documents:   0%|          | 0/1 [00:00<?, ?it/s]"
      ]
     },
     "metadata": {},
     "output_type": "display_data"
    },
    {
     "data": {
      "application/vnd.jupyter.widget-view+json": {
       "model_id": "6d38bcee5ffa498b917ac2bf877585f6",
       "version_major": 2,
       "version_minor": 0
      },
      "text/plain": [
       "Retrieving ProvenanceDoc documents:   0%|          | 0/1 [00:00<?, ?it/s]"
      ]
     },
     "metadata": {},
     "output_type": "display_data"
    },
    {
     "data": {
      "application/vnd.jupyter.widget-view+json": {
       "model_id": "f35ccde0681c479c9aa76a9919f6792e",
       "version_major": 2,
       "version_minor": 0
      },
      "text/plain": [
       "Retrieving ProvenanceDoc documents:   0%|          | 0/1 [00:00<?, ?it/s]"
      ]
     },
     "metadata": {},
     "output_type": "display_data"
    },
    {
     "data": {
      "application/vnd.jupyter.widget-view+json": {
       "model_id": "91c4c8600fec47ceaf6c97269e823095",
       "version_major": 2,
       "version_minor": 0
      },
      "text/plain": [
       "Retrieving ProvenanceDoc documents:   0%|          | 0/1 [00:00<?, ?it/s]"
      ]
     },
     "metadata": {},
     "output_type": "display_data"
    },
    {
     "data": {
      "application/vnd.jupyter.widget-view+json": {
       "model_id": "446561371c8d4f7dad025cd50e52a3ee",
       "version_major": 2,
       "version_minor": 0
      },
      "text/plain": [
       "Retrieving ProvenanceDoc documents:   0%|          | 0/1 [00:00<?, ?it/s]"
      ]
     },
     "metadata": {},
     "output_type": "display_data"
    },
    {
     "data": {
      "application/vnd.jupyter.widget-view+json": {
       "model_id": "c2f3141944e14eb1b464803e352e6c27",
       "version_major": 2,
       "version_minor": 0
      },
      "text/plain": [
       "Retrieving ProvenanceDoc documents:   0%|          | 0/1 [00:00<?, ?it/s]"
      ]
     },
     "metadata": {},
     "output_type": "display_data"
    },
    {
     "data": {
      "application/vnd.jupyter.widget-view+json": {
       "model_id": "d9c20a23f0544527b1cc1279005117cc",
       "version_major": 2,
       "version_minor": 0
      },
      "text/plain": [
       "Retrieving ProvenanceDoc documents:   0%|          | 0/1 [00:00<?, ?it/s]"
      ]
     },
     "metadata": {},
     "output_type": "display_data"
    },
    {
     "data": {
      "application/vnd.jupyter.widget-view+json": {
       "model_id": "254b0046cd3946ef848dbd861c87f702",
       "version_major": 2,
       "version_minor": 0
      },
      "text/plain": [
       "Retrieving ProvenanceDoc documents:   0%|          | 0/1 [00:00<?, ?it/s]"
      ]
     },
     "metadata": {},
     "output_type": "display_data"
    },
    {
     "data": {
      "application/vnd.jupyter.widget-view+json": {
       "model_id": "890084c02e4649f3a3273086cbfba58c",
       "version_major": 2,
       "version_minor": 0
      },
      "text/plain": [
       "Retrieving ProvenanceDoc documents:   0%|          | 0/1 [00:00<?, ?it/s]"
      ]
     },
     "metadata": {},
     "output_type": "display_data"
    },
    {
     "data": {
      "application/vnd.jupyter.widget-view+json": {
       "model_id": "e726d5c8a4aa4d9d8e17b3cef7eeb8df",
       "version_major": 2,
       "version_minor": 0
      },
      "text/plain": [
       "Retrieving ProvenanceDoc documents:   0%|          | 0/1 [00:00<?, ?it/s]"
      ]
     },
     "metadata": {},
     "output_type": "display_data"
    },
    {
     "data": {
      "application/vnd.jupyter.widget-view+json": {
       "model_id": "ad41f49b35d447d9963b3c343ff3e7df",
       "version_major": 2,
       "version_minor": 0
      },
      "text/plain": [
       "Retrieving ProvenanceDoc documents:   0%|          | 0/1 [00:00<?, ?it/s]"
      ]
     },
     "metadata": {},
     "output_type": "display_data"
    },
    {
     "data": {
      "application/vnd.jupyter.widget-view+json": {
       "model_id": "bcd4d1ee87784f05b958e6afd045c229",
       "version_major": 2,
       "version_minor": 0
      },
      "text/plain": [
       "Retrieving ProvenanceDoc documents:   0%|          | 0/1 [00:00<?, ?it/s]"
      ]
     },
     "metadata": {},
     "output_type": "display_data"
    },
    {
     "data": {
      "application/vnd.jupyter.widget-view+json": {
       "model_id": "efc44c6d4fde407c86cdf62bcc0722fe",
       "version_major": 2,
       "version_minor": 0
      },
      "text/plain": [
       "Retrieving ProvenanceDoc documents:   0%|          | 0/1 [00:00<?, ?it/s]"
      ]
     },
     "metadata": {},
     "output_type": "display_data"
    },
    {
     "data": {
      "application/vnd.jupyter.widget-view+json": {
       "model_id": "d05a146009e14c0fb530de2530c46be8",
       "version_major": 2,
       "version_minor": 0
      },
      "text/plain": [
       "Retrieving ProvenanceDoc documents:   0%|          | 0/1 [00:00<?, ?it/s]"
      ]
     },
     "metadata": {},
     "output_type": "display_data"
    },
    {
     "data": {
      "application/vnd.jupyter.widget-view+json": {
       "model_id": "1b38a5ec43e841409a3b5285c7708639",
       "version_major": 2,
       "version_minor": 0
      },
      "text/plain": [
       "Retrieving ProvenanceDoc documents:   0%|          | 0/1 [00:00<?, ?it/s]"
      ]
     },
     "metadata": {},
     "output_type": "display_data"
    },
    {
     "data": {
      "application/vnd.jupyter.widget-view+json": {
       "model_id": "99b3e70388ca465185b9d2d7181fa885",
       "version_major": 2,
       "version_minor": 0
      },
      "text/plain": [
       "Retrieving ProvenanceDoc documents:   0%|          | 0/1 [00:00<?, ?it/s]"
      ]
     },
     "metadata": {},
     "output_type": "display_data"
    },
    {
     "data": {
      "application/vnd.jupyter.widget-view+json": {
       "model_id": "92b94e28b21140558663b4c6a3e226f8",
       "version_major": 2,
       "version_minor": 0
      },
      "text/plain": [
       "Retrieving ProvenanceDoc documents:   0%|          | 0/1 [00:00<?, ?it/s]"
      ]
     },
     "metadata": {},
     "output_type": "display_data"
    },
    {
     "data": {
      "application/vnd.jupyter.widget-view+json": {
       "model_id": "e96cdaea789e417c897508c3a0fb5ded",
       "version_major": 2,
       "version_minor": 0
      },
      "text/plain": [
       "Retrieving ProvenanceDoc documents:   0%|          | 0/1 [00:00<?, ?it/s]"
      ]
     },
     "metadata": {},
     "output_type": "display_data"
    },
    {
     "data": {
      "application/vnd.jupyter.widget-view+json": {
       "model_id": "25ae80fb30a4418ea73d9400805a606d",
       "version_major": 2,
       "version_minor": 0
      },
      "text/plain": [
       "Retrieving ProvenanceDoc documents:   0%|          | 0/1 [00:00<?, ?it/s]"
      ]
     },
     "metadata": {},
     "output_type": "display_data"
    },
    {
     "data": {
      "application/vnd.jupyter.widget-view+json": {
       "model_id": "0557c91d6eaa4203b6ffb5946c7525dd",
       "version_major": 2,
       "version_minor": 0
      },
      "text/plain": [
       "Retrieving ProvenanceDoc documents:   0%|          | 0/1 [00:00<?, ?it/s]"
      ]
     },
     "metadata": {},
     "output_type": "display_data"
    },
    {
     "data": {
      "application/vnd.jupyter.widget-view+json": {
       "model_id": "4d525d42da164c1d95080c2f34e3319f",
       "version_major": 2,
       "version_minor": 0
      },
      "text/plain": [
       "Retrieving ProvenanceDoc documents:   0%|          | 0/1 [00:00<?, ?it/s]"
      ]
     },
     "metadata": {},
     "output_type": "display_data"
    },
    {
     "data": {
      "application/vnd.jupyter.widget-view+json": {
       "model_id": "58586b18f56048c9a516db077e1de9dd",
       "version_major": 2,
       "version_minor": 0
      },
      "text/plain": [
       "Retrieving ProvenanceDoc documents:   0%|          | 0/1 [00:00<?, ?it/s]"
      ]
     },
     "metadata": {},
     "output_type": "display_data"
    },
    {
     "data": {
      "application/vnd.jupyter.widget-view+json": {
       "model_id": "33a3a899d08045faa70942c63e24b143",
       "version_major": 2,
       "version_minor": 0
      },
      "text/plain": [
       "Retrieving ProvenanceDoc documents:   0%|          | 0/1 [00:00<?, ?it/s]"
      ]
     },
     "metadata": {},
     "output_type": "display_data"
    },
    {
     "data": {
      "application/vnd.jupyter.widget-view+json": {
       "model_id": "bd1b42604cbf48b0a5e316c43c6b7927",
       "version_major": 2,
       "version_minor": 0
      },
      "text/plain": [
       "Retrieving ProvenanceDoc documents:   0%|          | 0/1 [00:00<?, ?it/s]"
      ]
     },
     "metadata": {},
     "output_type": "display_data"
    },
    {
     "data": {
      "application/vnd.jupyter.widget-view+json": {
       "model_id": "ffbc9bcff759455da2fea567cc27913f",
       "version_major": 2,
       "version_minor": 0
      },
      "text/plain": [
       "Retrieving ProvenanceDoc documents:   0%|          | 0/1 [00:00<?, ?it/s]"
      ]
     },
     "metadata": {},
     "output_type": "display_data"
    },
    {
     "data": {
      "application/vnd.jupyter.widget-view+json": {
       "model_id": "9b438b2a16eb4f2c85e68d0f5dd8631f",
       "version_major": 2,
       "version_minor": 0
      },
      "text/plain": [
       "Retrieving ProvenanceDoc documents:   0%|          | 0/1 [00:00<?, ?it/s]"
      ]
     },
     "metadata": {},
     "output_type": "display_data"
    },
    {
     "data": {
      "application/vnd.jupyter.widget-view+json": {
       "model_id": "aa20e94bce1d48f3b886ca0f85903429",
       "version_major": 2,
       "version_minor": 0
      },
      "text/plain": [
       "Retrieving ProvenanceDoc documents:   0%|          | 0/1 [00:00<?, ?it/s]"
      ]
     },
     "metadata": {},
     "output_type": "display_data"
    },
    {
     "data": {
      "application/vnd.jupyter.widget-view+json": {
       "model_id": "c77e04933c694f4082a32cb95540c48d",
       "version_major": 2,
       "version_minor": 0
      },
      "text/plain": [
       "Retrieving ProvenanceDoc documents:   0%|          | 0/1 [00:00<?, ?it/s]"
      ]
     },
     "metadata": {},
     "output_type": "display_data"
    },
    {
     "data": {
      "application/vnd.jupyter.widget-view+json": {
       "model_id": "6981970cf4614c43a7e090724a8ac85f",
       "version_major": 2,
       "version_minor": 0
      },
      "text/plain": [
       "Retrieving ProvenanceDoc documents:   0%|          | 0/1 [00:00<?, ?it/s]"
      ]
     },
     "metadata": {},
     "output_type": "display_data"
    },
    {
     "data": {
      "application/vnd.jupyter.widget-view+json": {
       "model_id": "8f6c20722cf64fdcbfd8d5d185dd9999",
       "version_major": 2,
       "version_minor": 0
      },
      "text/plain": [
       "Retrieving ProvenanceDoc documents:   0%|          | 0/1 [00:00<?, ?it/s]"
      ]
     },
     "metadata": {},
     "output_type": "display_data"
    },
    {
     "data": {
      "application/vnd.jupyter.widget-view+json": {
       "model_id": "302fe256a3234766b0198cd2bc9a9d5f",
       "version_major": 2,
       "version_minor": 0
      },
      "text/plain": [
       "Retrieving ProvenanceDoc documents:   0%|          | 0/1 [00:00<?, ?it/s]"
      ]
     },
     "metadata": {},
     "output_type": "display_data"
    },
    {
     "data": {
      "application/vnd.jupyter.widget-view+json": {
       "model_id": "862922cd8c314bbb9794444eb3c40ea0",
       "version_major": 2,
       "version_minor": 0
      },
      "text/plain": [
       "Retrieving ProvenanceDoc documents:   0%|          | 0/1 [00:00<?, ?it/s]"
      ]
     },
     "metadata": {},
     "output_type": "display_data"
    },
    {
     "data": {
      "application/vnd.jupyter.widget-view+json": {
       "model_id": "ea6f74e1181747d5ba7a8bbaa6b08dcc",
       "version_major": 2,
       "version_minor": 0
      },
      "text/plain": [
       "Retrieving ProvenanceDoc documents:   0%|          | 0/1 [00:00<?, ?it/s]"
      ]
     },
     "metadata": {},
     "output_type": "display_data"
    },
    {
     "data": {
      "application/vnd.jupyter.widget-view+json": {
       "model_id": "9468c7ede7fc42b79e6a237504746f44",
       "version_major": 2,
       "version_minor": 0
      },
      "text/plain": [
       "Retrieving ProvenanceDoc documents:   0%|          | 0/1 [00:00<?, ?it/s]"
      ]
     },
     "metadata": {},
     "output_type": "display_data"
    },
    {
     "data": {
      "application/vnd.jupyter.widget-view+json": {
       "model_id": "d340b0070f8d409489fb0bfd2cb89d25",
       "version_major": 2,
       "version_minor": 0
      },
      "text/plain": [
       "Retrieving ProvenanceDoc documents:   0%|          | 0/1 [00:00<?, ?it/s]"
      ]
     },
     "metadata": {},
     "output_type": "display_data"
    },
    {
     "data": {
      "application/vnd.jupyter.widget-view+json": {
       "model_id": "bcd7acd8aac5436e9744f12f518e1d59",
       "version_major": 2,
       "version_minor": 0
      },
      "text/plain": [
       "Retrieving ProvenanceDoc documents:   0%|          | 0/1 [00:00<?, ?it/s]"
      ]
     },
     "metadata": {},
     "output_type": "display_data"
    },
    {
     "data": {
      "application/vnd.jupyter.widget-view+json": {
       "model_id": "c844230ebc3442a28b06c675ce0ce0a4",
       "version_major": 2,
       "version_minor": 0
      },
      "text/plain": [
       "Retrieving ProvenanceDoc documents:   0%|          | 0/1 [00:00<?, ?it/s]"
      ]
     },
     "metadata": {},
     "output_type": "display_data"
    },
    {
     "data": {
      "application/vnd.jupyter.widget-view+json": {
       "model_id": "28b52d95a66e44edba3f57fe82a6229c",
       "version_major": 2,
       "version_minor": 0
      },
      "text/plain": [
       "Retrieving ProvenanceDoc documents:   0%|          | 0/1 [00:00<?, ?it/s]"
      ]
     },
     "metadata": {},
     "output_type": "display_data"
    },
    {
     "data": {
      "application/vnd.jupyter.widget-view+json": {
       "model_id": "411fb67349c44ae3879bd2bdcd2235c1",
       "version_major": 2,
       "version_minor": 0
      },
      "text/plain": [
       "Retrieving ProvenanceDoc documents:   0%|          | 0/1 [00:00<?, ?it/s]"
      ]
     },
     "metadata": {},
     "output_type": "display_data"
    },
    {
     "data": {
      "application/vnd.jupyter.widget-view+json": {
       "model_id": "ec51963f62294981ab013be85db900c7",
       "version_major": 2,
       "version_minor": 0
      },
      "text/plain": [
       "Retrieving ProvenanceDoc documents:   0%|          | 0/1 [00:00<?, ?it/s]"
      ]
     },
     "metadata": {},
     "output_type": "display_data"
    },
    {
     "data": {
      "application/vnd.jupyter.widget-view+json": {
       "model_id": "43b83b0d564940dca6e1d9d3300a36c0",
       "version_major": 2,
       "version_minor": 0
      },
      "text/plain": [
       "Retrieving ProvenanceDoc documents:   0%|          | 0/1 [00:00<?, ?it/s]"
      ]
     },
     "metadata": {},
     "output_type": "display_data"
    },
    {
     "data": {
      "application/vnd.jupyter.widget-view+json": {
       "model_id": "9fbe8a8946f44355a0ab933a62fe4910",
       "version_major": 2,
       "version_minor": 0
      },
      "text/plain": [
       "Retrieving ProvenanceDoc documents:   0%|          | 0/1 [00:00<?, ?it/s]"
      ]
     },
     "metadata": {},
     "output_type": "display_data"
    },
    {
     "data": {
      "application/vnd.jupyter.widget-view+json": {
       "model_id": "480381ab07f74ccea9841d3396c91363",
       "version_major": 2,
       "version_minor": 0
      },
      "text/plain": [
       "Retrieving ProvenanceDoc documents:   0%|          | 0/1 [00:00<?, ?it/s]"
      ]
     },
     "metadata": {},
     "output_type": "display_data"
    },
    {
     "data": {
      "application/vnd.jupyter.widget-view+json": {
       "model_id": "4c924b2ad5a844a89aee358a963549cd",
       "version_major": 2,
       "version_minor": 0
      },
      "text/plain": [
       "Retrieving ProvenanceDoc documents:   0%|          | 0/1 [00:00<?, ?it/s]"
      ]
     },
     "metadata": {},
     "output_type": "display_data"
    },
    {
     "data": {
      "application/vnd.jupyter.widget-view+json": {
       "model_id": "da4625335f094902b59f68e41017c831",
       "version_major": 2,
       "version_minor": 0
      },
      "text/plain": [
       "Retrieving ProvenanceDoc documents:   0%|          | 0/1 [00:00<?, ?it/s]"
      ]
     },
     "metadata": {},
     "output_type": "display_data"
    },
    {
     "data": {
      "application/vnd.jupyter.widget-view+json": {
       "model_id": "3670ae708c59440c8ba9b32143449785",
       "version_major": 2,
       "version_minor": 0
      },
      "text/plain": [
       "Retrieving ProvenanceDoc documents:   0%|          | 0/1 [00:00<?, ?it/s]"
      ]
     },
     "metadata": {},
     "output_type": "display_data"
    },
    {
     "data": {
      "application/vnd.jupyter.widget-view+json": {
       "model_id": "94dadcb4741346b081b8677da935cf3c",
       "version_major": 2,
       "version_minor": 0
      },
      "text/plain": [
       "Retrieving ProvenanceDoc documents:   0%|          | 0/1 [00:00<?, ?it/s]"
      ]
     },
     "metadata": {},
     "output_type": "display_data"
    },
    {
     "data": {
      "application/vnd.jupyter.widget-view+json": {
       "model_id": "758ec39d145e4fac8c68928640418318",
       "version_major": 2,
       "version_minor": 0
      },
      "text/plain": [
       "Retrieving ProvenanceDoc documents:   0%|          | 0/1 [00:00<?, ?it/s]"
      ]
     },
     "metadata": {},
     "output_type": "display_data"
    },
    {
     "data": {
      "application/vnd.jupyter.widget-view+json": {
       "model_id": "e00ea4c4af2c48fead0e2168cabda1e7",
       "version_major": 2,
       "version_minor": 0
      },
      "text/plain": [
       "Retrieving ProvenanceDoc documents:   0%|          | 0/1 [00:00<?, ?it/s]"
      ]
     },
     "metadata": {},
     "output_type": "display_data"
    },
    {
     "data": {
      "application/vnd.jupyter.widget-view+json": {
       "model_id": "5f62964d989b486c8838174e590ed187",
       "version_major": 2,
       "version_minor": 0
      },
      "text/plain": [
       "Retrieving ProvenanceDoc documents:   0%|          | 0/1 [00:00<?, ?it/s]"
      ]
     },
     "metadata": {},
     "output_type": "display_data"
    },
    {
     "data": {
      "application/vnd.jupyter.widget-view+json": {
       "model_id": "9ffd9cb8936e423bb6e6ee69920dbcdd",
       "version_major": 2,
       "version_minor": 0
      },
      "text/plain": [
       "Retrieving ProvenanceDoc documents:   0%|          | 0/1 [00:00<?, ?it/s]"
      ]
     },
     "metadata": {},
     "output_type": "display_data"
    },
    {
     "data": {
      "application/vnd.jupyter.widget-view+json": {
       "model_id": "10fa4f4096004c9ab1cf05c40b5e567b",
       "version_major": 2,
       "version_minor": 0
      },
      "text/plain": [
       "Retrieving ProvenanceDoc documents:   0%|          | 0/1 [00:00<?, ?it/s]"
      ]
     },
     "metadata": {},
     "output_type": "display_data"
    },
    {
     "data": {
      "application/vnd.jupyter.widget-view+json": {
       "model_id": "9701f345da054d349d9c161f00c7535a",
       "version_major": 2,
       "version_minor": 0
      },
      "text/plain": [
       "Retrieving ProvenanceDoc documents:   0%|          | 0/1 [00:00<?, ?it/s]"
      ]
     },
     "metadata": {},
     "output_type": "display_data"
    },
    {
     "data": {
      "application/vnd.jupyter.widget-view+json": {
       "model_id": "ac61ae553af74c639a3f8e51ed75afc0",
       "version_major": 2,
       "version_minor": 0
      },
      "text/plain": [
       "Retrieving ProvenanceDoc documents:   0%|          | 0/1 [00:00<?, ?it/s]"
      ]
     },
     "metadata": {},
     "output_type": "display_data"
    },
    {
     "data": {
      "application/vnd.jupyter.widget-view+json": {
       "model_id": "7a65418349b347df812c81fb9c98a5e0",
       "version_major": 2,
       "version_minor": 0
      },
      "text/plain": [
       "Retrieving ProvenanceDoc documents:   0%|          | 0/1 [00:00<?, ?it/s]"
      ]
     },
     "metadata": {},
     "output_type": "display_data"
    },
    {
     "data": {
      "application/vnd.jupyter.widget-view+json": {
       "model_id": "42cbaa9246854c07b9c45443933e5290",
       "version_major": 2,
       "version_minor": 0
      },
      "text/plain": [
       "Retrieving ProvenanceDoc documents:   0%|          | 0/1 [00:00<?, ?it/s]"
      ]
     },
     "metadata": {},
     "output_type": "display_data"
    },
    {
     "data": {
      "application/vnd.jupyter.widget-view+json": {
       "model_id": "2b52b73a218940eda9e9643e04d8a56e",
       "version_major": 2,
       "version_minor": 0
      },
      "text/plain": [
       "Retrieving ProvenanceDoc documents:   0%|          | 0/1 [00:00<?, ?it/s]"
      ]
     },
     "metadata": {},
     "output_type": "display_data"
    },
    {
     "data": {
      "application/vnd.jupyter.widget-view+json": {
       "model_id": "2b397f9d67f3467db0a2048724d959bc",
       "version_major": 2,
       "version_minor": 0
      },
      "text/plain": [
       "Retrieving ProvenanceDoc documents:   0%|          | 0/1 [00:00<?, ?it/s]"
      ]
     },
     "metadata": {},
     "output_type": "display_data"
    },
    {
     "data": {
      "application/vnd.jupyter.widget-view+json": {
       "model_id": "9518d18163c64ab8ad446886c6c5248e",
       "version_major": 2,
       "version_minor": 0
      },
      "text/plain": [
       "Retrieving ProvenanceDoc documents:   0%|          | 0/1 [00:00<?, ?it/s]"
      ]
     },
     "metadata": {},
     "output_type": "display_data"
    },
    {
     "data": {
      "application/vnd.jupyter.widget-view+json": {
       "model_id": "5a2b0dfb33eb4e7d9314eb5e09857b20",
       "version_major": 2,
       "version_minor": 0
      },
      "text/plain": [
       "Retrieving ProvenanceDoc documents:   0%|          | 0/1 [00:00<?, ?it/s]"
      ]
     },
     "metadata": {},
     "output_type": "display_data"
    },
    {
     "data": {
      "application/vnd.jupyter.widget-view+json": {
       "model_id": "6c1c900946bd4b8c877d5fab18d76b63",
       "version_major": 2,
       "version_minor": 0
      },
      "text/plain": [
       "Retrieving ProvenanceDoc documents:   0%|          | 0/1 [00:00<?, ?it/s]"
      ]
     },
     "metadata": {},
     "output_type": "display_data"
    },
    {
     "data": {
      "application/vnd.jupyter.widget-view+json": {
       "model_id": "c0c39648dca243e1b8dcac6b4189e819",
       "version_major": 2,
       "version_minor": 0
      },
      "text/plain": [
       "Retrieving ProvenanceDoc documents:   0%|          | 0/1 [00:00<?, ?it/s]"
      ]
     },
     "metadata": {},
     "output_type": "display_data"
    },
    {
     "data": {
      "application/vnd.jupyter.widget-view+json": {
       "model_id": "9f5aaf137cda4154b7f8793f85b0953f",
       "version_major": 2,
       "version_minor": 0
      },
      "text/plain": [
       "Retrieving ProvenanceDoc documents:   0%|          | 0/1 [00:00<?, ?it/s]"
      ]
     },
     "metadata": {},
     "output_type": "display_data"
    },
    {
     "data": {
      "application/vnd.jupyter.widget-view+json": {
       "model_id": "852b737e2368436c89d3629ffb88bbf6",
       "version_major": 2,
       "version_minor": 0
      },
      "text/plain": [
       "Retrieving ProvenanceDoc documents:   0%|          | 0/1 [00:00<?, ?it/s]"
      ]
     },
     "metadata": {},
     "output_type": "display_data"
    },
    {
     "data": {
      "application/vnd.jupyter.widget-view+json": {
       "model_id": "11426a09687b4a56930bd186f1485f4e",
       "version_major": 2,
       "version_minor": 0
      },
      "text/plain": [
       "Retrieving ProvenanceDoc documents:   0%|          | 0/1 [00:00<?, ?it/s]"
      ]
     },
     "metadata": {},
     "output_type": "display_data"
    },
    {
     "data": {
      "application/vnd.jupyter.widget-view+json": {
       "model_id": "b429679c49ac466fbc5055c9f81cec96",
       "version_major": 2,
       "version_minor": 0
      },
      "text/plain": [
       "Retrieving ProvenanceDoc documents:   0%|          | 0/1 [00:00<?, ?it/s]"
      ]
     },
     "metadata": {},
     "output_type": "display_data"
    },
    {
     "data": {
      "application/vnd.jupyter.widget-view+json": {
       "model_id": "8271037042a6415a9d64393206a61258",
       "version_major": 2,
       "version_minor": 0
      },
      "text/plain": [
       "Retrieving ProvenanceDoc documents:   0%|          | 0/1 [00:00<?, ?it/s]"
      ]
     },
     "metadata": {},
     "output_type": "display_data"
    },
    {
     "data": {
      "application/vnd.jupyter.widget-view+json": {
       "model_id": "a378627b21684bce85389d6489967a7d",
       "version_major": 2,
       "version_minor": 0
      },
      "text/plain": [
       "Retrieving ProvenanceDoc documents:   0%|          | 0/1 [00:00<?, ?it/s]"
      ]
     },
     "metadata": {},
     "output_type": "display_data"
    },
    {
     "data": {
      "application/vnd.jupyter.widget-view+json": {
       "model_id": "b1836c07e4c54999b8891a595f5d97ad",
       "version_major": 2,
       "version_minor": 0
      },
      "text/plain": [
       "Retrieving ProvenanceDoc documents:   0%|          | 0/1 [00:00<?, ?it/s]"
      ]
     },
     "metadata": {},
     "output_type": "display_data"
    },
    {
     "data": {
      "application/vnd.jupyter.widget-view+json": {
       "model_id": "23f9aeb877a44ded86ad75f9df2bb481",
       "version_major": 2,
       "version_minor": 0
      },
      "text/plain": [
       "Retrieving ProvenanceDoc documents:   0%|          | 0/1 [00:00<?, ?it/s]"
      ]
     },
     "metadata": {},
     "output_type": "display_data"
    },
    {
     "data": {
      "application/vnd.jupyter.widget-view+json": {
       "model_id": "e2f45cf0b14441c68f584117efcabe5f",
       "version_major": 2,
       "version_minor": 0
      },
      "text/plain": [
       "Retrieving ProvenanceDoc documents:   0%|          | 0/1 [00:00<?, ?it/s]"
      ]
     },
     "metadata": {},
     "output_type": "display_data"
    },
    {
     "data": {
      "application/vnd.jupyter.widget-view+json": {
       "model_id": "c80e1fc016c14224b474abacb24828c0",
       "version_major": 2,
       "version_minor": 0
      },
      "text/plain": [
       "Retrieving ProvenanceDoc documents:   0%|          | 0/1 [00:00<?, ?it/s]"
      ]
     },
     "metadata": {},
     "output_type": "display_data"
    },
    {
     "data": {
      "application/vnd.jupyter.widget-view+json": {
       "model_id": "bbe72def9145403fb294ce7c1b0beee1",
       "version_major": 2,
       "version_minor": 0
      },
      "text/plain": [
       "Retrieving ProvenanceDoc documents:   0%|          | 0/1 [00:00<?, ?it/s]"
      ]
     },
     "metadata": {},
     "output_type": "display_data"
    },
    {
     "data": {
      "application/vnd.jupyter.widget-view+json": {
       "model_id": "151ca36a889f4f5d8b5da66bd24f12bb",
       "version_major": 2,
       "version_minor": 0
      },
      "text/plain": [
       "Retrieving ProvenanceDoc documents:   0%|          | 0/1 [00:00<?, ?it/s]"
      ]
     },
     "metadata": {},
     "output_type": "display_data"
    },
    {
     "data": {
      "application/vnd.jupyter.widget-view+json": {
       "model_id": "acd83294d1fd49eaba7d567230aabdba",
       "version_major": 2,
       "version_minor": 0
      },
      "text/plain": [
       "Retrieving ProvenanceDoc documents:   0%|          | 0/1 [00:00<?, ?it/s]"
      ]
     },
     "metadata": {},
     "output_type": "display_data"
    },
    {
     "data": {
      "application/vnd.jupyter.widget-view+json": {
       "model_id": "74169923866a473dad5d7d4d18414e31",
       "version_major": 2,
       "version_minor": 0
      },
      "text/plain": [
       "Retrieving ProvenanceDoc documents:   0%|          | 0/1 [00:00<?, ?it/s]"
      ]
     },
     "metadata": {},
     "output_type": "display_data"
    },
    {
     "data": {
      "application/vnd.jupyter.widget-view+json": {
       "model_id": "df484ea2c2184e2eac591bf21f7ff429",
       "version_major": 2,
       "version_minor": 0
      },
      "text/plain": [
       "Retrieving ProvenanceDoc documents:   0%|          | 0/1 [00:00<?, ?it/s]"
      ]
     },
     "metadata": {},
     "output_type": "display_data"
    },
    {
     "data": {
      "application/vnd.jupyter.widget-view+json": {
       "model_id": "54e7728ff4fe411c8282bfd7c79f51dd",
       "version_major": 2,
       "version_minor": 0
      },
      "text/plain": [
       "Retrieving ProvenanceDoc documents:   0%|          | 0/1 [00:00<?, ?it/s]"
      ]
     },
     "metadata": {},
     "output_type": "display_data"
    },
    {
     "data": {
      "application/vnd.jupyter.widget-view+json": {
       "model_id": "19cae72977cf42d8883e2e386c0485fe",
       "version_major": 2,
       "version_minor": 0
      },
      "text/plain": [
       "Retrieving ProvenanceDoc documents:   0%|          | 0/1 [00:00<?, ?it/s]"
      ]
     },
     "metadata": {},
     "output_type": "display_data"
    },
    {
     "data": {
      "application/vnd.jupyter.widget-view+json": {
       "model_id": "0aa3cdb584d94c228d07985ff1e03158",
       "version_major": 2,
       "version_minor": 0
      },
      "text/plain": [
       "Retrieving ProvenanceDoc documents:   0%|          | 0/1 [00:00<?, ?it/s]"
      ]
     },
     "metadata": {},
     "output_type": "display_data"
    },
    {
     "data": {
      "application/vnd.jupyter.widget-view+json": {
       "model_id": "d03f02e884d44e4abf7dc97f8295ed7f",
       "version_major": 2,
       "version_minor": 0
      },
      "text/plain": [
       "Retrieving ProvenanceDoc documents:   0%|          | 0/1 [00:00<?, ?it/s]"
      ]
     },
     "metadata": {},
     "output_type": "display_data"
    },
    {
     "data": {
      "application/vnd.jupyter.widget-view+json": {
       "model_id": "aa6dcf764339452980d7e3662fa241a7",
       "version_major": 2,
       "version_minor": 0
      },
      "text/plain": [
       "Retrieving ProvenanceDoc documents:   0%|          | 0/1 [00:00<?, ?it/s]"
      ]
     },
     "metadata": {},
     "output_type": "display_data"
    },
    {
     "data": {
      "application/vnd.jupyter.widget-view+json": {
       "model_id": "26048126170f4f5c96cf6ac614c79077",
       "version_major": 2,
       "version_minor": 0
      },
      "text/plain": [
       "Retrieving ProvenanceDoc documents:   0%|          | 0/1 [00:00<?, ?it/s]"
      ]
     },
     "metadata": {},
     "output_type": "display_data"
    },
    {
     "data": {
      "application/vnd.jupyter.widget-view+json": {
       "model_id": "e7462968a32540178441783b7257e9c3",
       "version_major": 2,
       "version_minor": 0
      },
      "text/plain": [
       "Retrieving ProvenanceDoc documents:   0%|          | 0/1 [00:00<?, ?it/s]"
      ]
     },
     "metadata": {},
     "output_type": "display_data"
    },
    {
     "data": {
      "application/vnd.jupyter.widget-view+json": {
       "model_id": "fa7834130f4d410780494606a852b459",
       "version_major": 2,
       "version_minor": 0
      },
      "text/plain": [
       "Retrieving ProvenanceDoc documents:   0%|          | 0/1 [00:00<?, ?it/s]"
      ]
     },
     "metadata": {},
     "output_type": "display_data"
    },
    {
     "data": {
      "application/vnd.jupyter.widget-view+json": {
       "model_id": "93278cfdf5cf449abca2ee3397aa8d71",
       "version_major": 2,
       "version_minor": 0
      },
      "text/plain": [
       "Retrieving ProvenanceDoc documents:   0%|          | 0/1 [00:00<?, ?it/s]"
      ]
     },
     "metadata": {},
     "output_type": "display_data"
    },
    {
     "data": {
      "application/vnd.jupyter.widget-view+json": {
       "model_id": "e8787c1a105e4b1e979e2d42d8ab94b2",
       "version_major": 2,
       "version_minor": 0
      },
      "text/plain": [
       "Retrieving ProvenanceDoc documents:   0%|          | 0/1 [00:00<?, ?it/s]"
      ]
     },
     "metadata": {},
     "output_type": "display_data"
    },
    {
     "data": {
      "application/vnd.jupyter.widget-view+json": {
       "model_id": "af7674f1ff20424aacaf31a51f3c7af9",
       "version_major": 2,
       "version_minor": 0
      },
      "text/plain": [
       "Retrieving ProvenanceDoc documents:   0%|          | 0/1 [00:00<?, ?it/s]"
      ]
     },
     "metadata": {},
     "output_type": "display_data"
    },
    {
     "data": {
      "application/vnd.jupyter.widget-view+json": {
       "model_id": "1ad609aef9744e80a6759acd4964b7c8",
       "version_major": 2,
       "version_minor": 0
      },
      "text/plain": [
       "Retrieving ProvenanceDoc documents:   0%|          | 0/1 [00:00<?, ?it/s]"
      ]
     },
     "metadata": {},
     "output_type": "display_data"
    },
    {
     "data": {
      "application/vnd.jupyter.widget-view+json": {
       "model_id": "7c6229d324df4f5bbf5e94a22a19ab9f",
       "version_major": 2,
       "version_minor": 0
      },
      "text/plain": [
       "Retrieving ProvenanceDoc documents:   0%|          | 0/1 [00:00<?, ?it/s]"
      ]
     },
     "metadata": {},
     "output_type": "display_data"
    },
    {
     "data": {
      "application/vnd.jupyter.widget-view+json": {
       "model_id": "a9029687d3b54267a0be1e6b9b42e4d4",
       "version_major": 2,
       "version_minor": 0
      },
      "text/plain": [
       "Retrieving ProvenanceDoc documents:   0%|          | 0/1 [00:00<?, ?it/s]"
      ]
     },
     "metadata": {},
     "output_type": "display_data"
    },
    {
     "data": {
      "application/vnd.jupyter.widget-view+json": {
       "model_id": "bc2ff0525927490d8487904994888a03",
       "version_major": 2,
       "version_minor": 0
      },
      "text/plain": [
       "Retrieving ProvenanceDoc documents:   0%|          | 0/1 [00:00<?, ?it/s]"
      ]
     },
     "metadata": {},
     "output_type": "display_data"
    },
    {
     "data": {
      "application/vnd.jupyter.widget-view+json": {
       "model_id": "3fc10401031549f386e453388b9794a0",
       "version_major": 2,
       "version_minor": 0
      },
      "text/plain": [
       "Retrieving ProvenanceDoc documents:   0%|          | 0/1 [00:00<?, ?it/s]"
      ]
     },
     "metadata": {},
     "output_type": "display_data"
    },
    {
     "data": {
      "application/vnd.jupyter.widget-view+json": {
       "model_id": "6b18029fe615480ca19405a98d7bdb2e",
       "version_major": 2,
       "version_minor": 0
      },
      "text/plain": [
       "Retrieving ProvenanceDoc documents:   0%|          | 0/1 [00:00<?, ?it/s]"
      ]
     },
     "metadata": {},
     "output_type": "display_data"
    },
    {
     "data": {
      "application/vnd.jupyter.widget-view+json": {
       "model_id": "b76705c4753041929febcc86f491fcfc",
       "version_major": 2,
       "version_minor": 0
      },
      "text/plain": [
       "Retrieving ProvenanceDoc documents:   0%|          | 0/1 [00:00<?, ?it/s]"
      ]
     },
     "metadata": {},
     "output_type": "display_data"
    },
    {
     "data": {
      "application/vnd.jupyter.widget-view+json": {
       "model_id": "e00bacf986264cae8c9c79bddb25326b",
       "version_major": 2,
       "version_minor": 0
      },
      "text/plain": [
       "Retrieving ProvenanceDoc documents:   0%|          | 0/1 [00:00<?, ?it/s]"
      ]
     },
     "metadata": {},
     "output_type": "display_data"
    },
    {
     "data": {
      "application/vnd.jupyter.widget-view+json": {
       "model_id": "95c1ba70c3af477592a3a709d00e62ae",
       "version_major": 2,
       "version_minor": 0
      },
      "text/plain": [
       "Retrieving ProvenanceDoc documents:   0%|          | 0/1 [00:00<?, ?it/s]"
      ]
     },
     "metadata": {},
     "output_type": "display_data"
    },
    {
     "data": {
      "application/vnd.jupyter.widget-view+json": {
       "model_id": "dda0efd8a0cc4057a05fc207861dd04b",
       "version_major": 2,
       "version_minor": 0
      },
      "text/plain": [
       "Retrieving ProvenanceDoc documents:   0%|          | 0/1 [00:00<?, ?it/s]"
      ]
     },
     "metadata": {},
     "output_type": "display_data"
    },
    {
     "data": {
      "application/vnd.jupyter.widget-view+json": {
       "model_id": "4e09177a0f3847c28a800326021a16eb",
       "version_major": 2,
       "version_minor": 0
      },
      "text/plain": [
       "Retrieving ProvenanceDoc documents:   0%|          | 0/1 [00:00<?, ?it/s]"
      ]
     },
     "metadata": {},
     "output_type": "display_data"
    },
    {
     "data": {
      "application/vnd.jupyter.widget-view+json": {
       "model_id": "d11bce6d3ce14dfd8bfa26d63af75eaf",
       "version_major": 2,
       "version_minor": 0
      },
      "text/plain": [
       "Retrieving ProvenanceDoc documents:   0%|          | 0/1 [00:00<?, ?it/s]"
      ]
     },
     "metadata": {},
     "output_type": "display_data"
    },
    {
     "data": {
      "application/vnd.jupyter.widget-view+json": {
       "model_id": "97367c51f7d644d2af905ad29f586fbc",
       "version_major": 2,
       "version_minor": 0
      },
      "text/plain": [
       "Retrieving ProvenanceDoc documents:   0%|          | 0/1 [00:00<?, ?it/s]"
      ]
     },
     "metadata": {},
     "output_type": "display_data"
    },
    {
     "data": {
      "application/vnd.jupyter.widget-view+json": {
       "model_id": "a46cfbdbb7994c69ac126efa62ae42d7",
       "version_major": 2,
       "version_minor": 0
      },
      "text/plain": [
       "Retrieving ProvenanceDoc documents:   0%|          | 0/1 [00:00<?, ?it/s]"
      ]
     },
     "metadata": {},
     "output_type": "display_data"
    },
    {
     "data": {
      "application/vnd.jupyter.widget-view+json": {
       "model_id": "7b522b7f68414daf886047e4e48dadb7",
       "version_major": 2,
       "version_minor": 0
      },
      "text/plain": [
       "Retrieving ProvenanceDoc documents:   0%|          | 0/1 [00:00<?, ?it/s]"
      ]
     },
     "metadata": {},
     "output_type": "display_data"
    },
    {
     "data": {
      "application/vnd.jupyter.widget-view+json": {
       "model_id": "546dea4436254353924398e3ad45eb83",
       "version_major": 2,
       "version_minor": 0
      },
      "text/plain": [
       "Retrieving ProvenanceDoc documents:   0%|          | 0/1 [00:00<?, ?it/s]"
      ]
     },
     "metadata": {},
     "output_type": "display_data"
    },
    {
     "data": {
      "application/vnd.jupyter.widget-view+json": {
       "model_id": "1835be9ac5c6464a985b712c19fb5ac5",
       "version_major": 2,
       "version_minor": 0
      },
      "text/plain": [
       "Retrieving ProvenanceDoc documents:   0%|          | 0/1 [00:00<?, ?it/s]"
      ]
     },
     "metadata": {},
     "output_type": "display_data"
    },
    {
     "data": {
      "application/vnd.jupyter.widget-view+json": {
       "model_id": "03922c2516d24de4b0ba694061f7e5e4",
       "version_major": 2,
       "version_minor": 0
      },
      "text/plain": [
       "Retrieving ProvenanceDoc documents:   0%|          | 0/1 [00:00<?, ?it/s]"
      ]
     },
     "metadata": {},
     "output_type": "display_data"
    },
    {
     "data": {
      "application/vnd.jupyter.widget-view+json": {
       "model_id": "308833acdc9c4cf5b933681562fe09f6",
       "version_major": 2,
       "version_minor": 0
      },
      "text/plain": [
       "Retrieving ProvenanceDoc documents:   0%|          | 0/1 [00:00<?, ?it/s]"
      ]
     },
     "metadata": {},
     "output_type": "display_data"
    },
    {
     "data": {
      "application/vnd.jupyter.widget-view+json": {
       "model_id": "f9b8522fdfec434ba1e6f6a54e2be400",
       "version_major": 2,
       "version_minor": 0
      },
      "text/plain": [
       "Retrieving ProvenanceDoc documents:   0%|          | 0/1 [00:00<?, ?it/s]"
      ]
     },
     "metadata": {},
     "output_type": "display_data"
    },
    {
     "data": {
      "application/vnd.jupyter.widget-view+json": {
       "model_id": "23ca2818c32d4f059229c22093aef74a",
       "version_major": 2,
       "version_minor": 0
      },
      "text/plain": [
       "Retrieving ProvenanceDoc documents:   0%|          | 0/1 [00:00<?, ?it/s]"
      ]
     },
     "metadata": {},
     "output_type": "display_data"
    },
    {
     "data": {
      "application/vnd.jupyter.widget-view+json": {
       "model_id": "fad15ce857e042f8962e3e523138c89c",
       "version_major": 2,
       "version_minor": 0
      },
      "text/plain": [
       "Retrieving ProvenanceDoc documents:   0%|          | 0/1 [00:00<?, ?it/s]"
      ]
     },
     "metadata": {},
     "output_type": "display_data"
    },
    {
     "data": {
      "application/vnd.jupyter.widget-view+json": {
       "model_id": "a795203676644c5a808332c085386a12",
       "version_major": 2,
       "version_minor": 0
      },
      "text/plain": [
       "Retrieving ProvenanceDoc documents:   0%|          | 0/1 [00:00<?, ?it/s]"
      ]
     },
     "metadata": {},
     "output_type": "display_data"
    },
    {
     "data": {
      "application/vnd.jupyter.widget-view+json": {
       "model_id": "f53ef5bd05ac47e1ae3087d341db673a",
       "version_major": 2,
       "version_minor": 0
      },
      "text/plain": [
       "Retrieving ProvenanceDoc documents:   0%|          | 0/1 [00:00<?, ?it/s]"
      ]
     },
     "metadata": {},
     "output_type": "display_data"
    },
    {
     "data": {
      "application/vnd.jupyter.widget-view+json": {
       "model_id": "c75f8c91455b45ebada827c85f177bd6",
       "version_major": 2,
       "version_minor": 0
      },
      "text/plain": [
       "Retrieving ProvenanceDoc documents:   0%|          | 0/1 [00:00<?, ?it/s]"
      ]
     },
     "metadata": {},
     "output_type": "display_data"
    },
    {
     "data": {
      "application/vnd.jupyter.widget-view+json": {
       "model_id": "9a2514974ead4aeb8898ea33d85dcbcb",
       "version_major": 2,
       "version_minor": 0
      },
      "text/plain": [
       "Retrieving ProvenanceDoc documents:   0%|          | 0/1 [00:00<?, ?it/s]"
      ]
     },
     "metadata": {},
     "output_type": "display_data"
    },
    {
     "data": {
      "application/vnd.jupyter.widget-view+json": {
       "model_id": "bb112d484ec147ef9bd3f94b280fb0a1",
       "version_major": 2,
       "version_minor": 0
      },
      "text/plain": [
       "Retrieving ProvenanceDoc documents:   0%|          | 0/1 [00:00<?, ?it/s]"
      ]
     },
     "metadata": {},
     "output_type": "display_data"
    },
    {
     "data": {
      "application/vnd.jupyter.widget-view+json": {
       "model_id": "ba1f5f32aa0144cda88cc63ddb363061",
       "version_major": 2,
       "version_minor": 0
      },
      "text/plain": [
       "Retrieving ProvenanceDoc documents:   0%|          | 0/1 [00:00<?, ?it/s]"
      ]
     },
     "metadata": {},
     "output_type": "display_data"
    },
    {
     "data": {
      "application/vnd.jupyter.widget-view+json": {
       "model_id": "99bc1174cfbd4290bfa8a9479fca1e8f",
       "version_major": 2,
       "version_minor": 0
      },
      "text/plain": [
       "Retrieving ProvenanceDoc documents:   0%|          | 0/1 [00:00<?, ?it/s]"
      ]
     },
     "metadata": {},
     "output_type": "display_data"
    },
    {
     "data": {
      "application/vnd.jupyter.widget-view+json": {
       "model_id": "0cd22816f72246cf8b63665e1d4ff98f",
       "version_major": 2,
       "version_minor": 0
      },
      "text/plain": [
       "Retrieving ProvenanceDoc documents:   0%|          | 0/1 [00:00<?, ?it/s]"
      ]
     },
     "metadata": {},
     "output_type": "display_data"
    },
    {
     "data": {
      "application/vnd.jupyter.widget-view+json": {
       "model_id": "ecd14ffbcef44dcb94712c4dd57df563",
       "version_major": 2,
       "version_minor": 0
      },
      "text/plain": [
       "Retrieving ProvenanceDoc documents:   0%|          | 0/1 [00:00<?, ?it/s]"
      ]
     },
     "metadata": {},
     "output_type": "display_data"
    },
    {
     "data": {
      "application/vnd.jupyter.widget-view+json": {
       "model_id": "277020b0187545cf889919a966cf3827",
       "version_major": 2,
       "version_minor": 0
      },
      "text/plain": [
       "Retrieving ProvenanceDoc documents:   0%|          | 0/1 [00:00<?, ?it/s]"
      ]
     },
     "metadata": {},
     "output_type": "display_data"
    },
    {
     "data": {
      "application/vnd.jupyter.widget-view+json": {
       "model_id": "c1f0556132414ee8a6574c46ffb2333c",
       "version_major": 2,
       "version_minor": 0
      },
      "text/plain": [
       "Retrieving ProvenanceDoc documents:   0%|          | 0/1 [00:00<?, ?it/s]"
      ]
     },
     "metadata": {},
     "output_type": "display_data"
    },
    {
     "data": {
      "application/vnd.jupyter.widget-view+json": {
       "model_id": "dd4f1ee3a5504ab3ad54f2923b4f4c53",
       "version_major": 2,
       "version_minor": 0
      },
      "text/plain": [
       "Retrieving ProvenanceDoc documents:   0%|          | 0/1 [00:00<?, ?it/s]"
      ]
     },
     "metadata": {},
     "output_type": "display_data"
    },
    {
     "data": {
      "application/vnd.jupyter.widget-view+json": {
       "model_id": "50f334bf23794012b2b2fb088a0da456",
       "version_major": 2,
       "version_minor": 0
      },
      "text/plain": [
       "Retrieving ProvenanceDoc documents:   0%|          | 0/1 [00:00<?, ?it/s]"
      ]
     },
     "metadata": {},
     "output_type": "display_data"
    },
    {
     "data": {
      "application/vnd.jupyter.widget-view+json": {
       "model_id": "dbd38c8c35ca43829c811dc83fe9ab01",
       "version_major": 2,
       "version_minor": 0
      },
      "text/plain": [
       "Retrieving ProvenanceDoc documents:   0%|          | 0/1 [00:00<?, ?it/s]"
      ]
     },
     "metadata": {},
     "output_type": "display_data"
    },
    {
     "data": {
      "application/vnd.jupyter.widget-view+json": {
       "model_id": "091a1656ce3447f6995a4a6f36addf6a",
       "version_major": 2,
       "version_minor": 0
      },
      "text/plain": [
       "Retrieving ProvenanceDoc documents:   0%|          | 0/1 [00:00<?, ?it/s]"
      ]
     },
     "metadata": {},
     "output_type": "display_data"
    },
    {
     "data": {
      "application/vnd.jupyter.widget-view+json": {
       "model_id": "2e5ee574ff444ce69b97e5cf962b6f57",
       "version_major": 2,
       "version_minor": 0
      },
      "text/plain": [
       "Retrieving ProvenanceDoc documents:   0%|          | 0/1 [00:00<?, ?it/s]"
      ]
     },
     "metadata": {},
     "output_type": "display_data"
    },
    {
     "data": {
      "application/vnd.jupyter.widget-view+json": {
       "model_id": "58366aabebe74278b9b3a823ae1478e4",
       "version_major": 2,
       "version_minor": 0
      },
      "text/plain": [
       "Retrieving ProvenanceDoc documents:   0%|          | 0/1 [00:00<?, ?it/s]"
      ]
     },
     "metadata": {},
     "output_type": "display_data"
    },
    {
     "data": {
      "application/vnd.jupyter.widget-view+json": {
       "model_id": "c5115bc1f3634a51a44364300131b837",
       "version_major": 2,
       "version_minor": 0
      },
      "text/plain": [
       "Retrieving ProvenanceDoc documents:   0%|          | 0/1 [00:00<?, ?it/s]"
      ]
     },
     "metadata": {},
     "output_type": "display_data"
    },
    {
     "data": {
      "application/vnd.jupyter.widget-view+json": {
       "model_id": "73ccf6af5bdf47e5b9fbd1c185f6188e",
       "version_major": 2,
       "version_minor": 0
      },
      "text/plain": [
       "Retrieving ProvenanceDoc documents:   0%|          | 0/1 [00:00<?, ?it/s]"
      ]
     },
     "metadata": {},
     "output_type": "display_data"
    },
    {
     "data": {
      "application/vnd.jupyter.widget-view+json": {
       "model_id": "b6e7e7b5f98441419a315d7fb2dd6c3a",
       "version_major": 2,
       "version_minor": 0
      },
      "text/plain": [
       "Retrieving ProvenanceDoc documents:   0%|          | 0/1 [00:00<?, ?it/s]"
      ]
     },
     "metadata": {},
     "output_type": "display_data"
    },
    {
     "data": {
      "application/vnd.jupyter.widget-view+json": {
       "model_id": "2f6a88736dc647429145329746ef26c4",
       "version_major": 2,
       "version_minor": 0
      },
      "text/plain": [
       "Retrieving ProvenanceDoc documents:   0%|          | 0/1 [00:00<?, ?it/s]"
      ]
     },
     "metadata": {},
     "output_type": "display_data"
    },
    {
     "data": {
      "application/vnd.jupyter.widget-view+json": {
       "model_id": "ab07c614c8bc4833b165ad8434e359e5",
       "version_major": 2,
       "version_minor": 0
      },
      "text/plain": [
       "Retrieving ProvenanceDoc documents:   0%|          | 0/1 [00:00<?, ?it/s]"
      ]
     },
     "metadata": {},
     "output_type": "display_data"
    },
    {
     "data": {
      "application/vnd.jupyter.widget-view+json": {
       "model_id": "e03521586c2445a08fe7b738ff1d3fde",
       "version_major": 2,
       "version_minor": 0
      },
      "text/plain": [
       "Retrieving ProvenanceDoc documents:   0%|          | 0/1 [00:00<?, ?it/s]"
      ]
     },
     "metadata": {},
     "output_type": "display_data"
    },
    {
     "data": {
      "application/vnd.jupyter.widget-view+json": {
       "model_id": "1737929144e2452caa8a1f55dabd8457",
       "version_major": 2,
       "version_minor": 0
      },
      "text/plain": [
       "Retrieving ProvenanceDoc documents:   0%|          | 0/1 [00:00<?, ?it/s]"
      ]
     },
     "metadata": {},
     "output_type": "display_data"
    },
    {
     "data": {
      "application/vnd.jupyter.widget-view+json": {
       "model_id": "b0bd02cad0fc476dbb2be7824a3f636e",
       "version_major": 2,
       "version_minor": 0
      },
      "text/plain": [
       "Retrieving ProvenanceDoc documents:   0%|          | 0/1 [00:00<?, ?it/s]"
      ]
     },
     "metadata": {},
     "output_type": "display_data"
    },
    {
     "data": {
      "application/vnd.jupyter.widget-view+json": {
       "model_id": "e82f294dc82b4349b2d50f67e1e3335c",
       "version_major": 2,
       "version_minor": 0
      },
      "text/plain": [
       "Retrieving ProvenanceDoc documents:   0%|          | 0/1 [00:00<?, ?it/s]"
      ]
     },
     "metadata": {},
     "output_type": "display_data"
    },
    {
     "data": {
      "application/vnd.jupyter.widget-view+json": {
       "model_id": "b019937a3339404a90da038c11649d4e",
       "version_major": 2,
       "version_minor": 0
      },
      "text/plain": [
       "Retrieving ProvenanceDoc documents:   0%|          | 0/1 [00:00<?, ?it/s]"
      ]
     },
     "metadata": {},
     "output_type": "display_data"
    },
    {
     "data": {
      "application/vnd.jupyter.widget-view+json": {
       "model_id": "669c4fd522d94410ad9dc9c9b1745b07",
       "version_major": 2,
       "version_minor": 0
      },
      "text/plain": [
       "Retrieving ProvenanceDoc documents:   0%|          | 0/1 [00:00<?, ?it/s]"
      ]
     },
     "metadata": {},
     "output_type": "display_data"
    },
    {
     "data": {
      "application/vnd.jupyter.widget-view+json": {
       "model_id": "7646233f98264d94b452b1549587c90a",
       "version_major": 2,
       "version_minor": 0
      },
      "text/plain": [
       "Retrieving ProvenanceDoc documents:   0%|          | 0/1 [00:00<?, ?it/s]"
      ]
     },
     "metadata": {},
     "output_type": "display_data"
    },
    {
     "data": {
      "application/vnd.jupyter.widget-view+json": {
       "model_id": "011e673d8b2e43e5b798a42f67dce05b",
       "version_major": 2,
       "version_minor": 0
      },
      "text/plain": [
       "Retrieving ProvenanceDoc documents:   0%|          | 0/1 [00:00<?, ?it/s]"
      ]
     },
     "metadata": {},
     "output_type": "display_data"
    },
    {
     "data": {
      "application/vnd.jupyter.widget-view+json": {
       "model_id": "c1f942200e814833bdfb0eec64660497",
       "version_major": 2,
       "version_minor": 0
      },
      "text/plain": [
       "Retrieving ProvenanceDoc documents:   0%|          | 0/1 [00:00<?, ?it/s]"
      ]
     },
     "metadata": {},
     "output_type": "display_data"
    },
    {
     "data": {
      "application/vnd.jupyter.widget-view+json": {
       "model_id": "b3b6d12fe6c245e9ba81dbe4fe56f31d",
       "version_major": 2,
       "version_minor": 0
      },
      "text/plain": [
       "Retrieving ProvenanceDoc documents:   0%|          | 0/1 [00:00<?, ?it/s]"
      ]
     },
     "metadata": {},
     "output_type": "display_data"
    },
    {
     "data": {
      "application/vnd.jupyter.widget-view+json": {
       "model_id": "bc124f3d2b8d4812962b537ae1ed2dcf",
       "version_major": 2,
       "version_minor": 0
      },
      "text/plain": [
       "Retrieving ProvenanceDoc documents:   0%|          | 0/1 [00:00<?, ?it/s]"
      ]
     },
     "metadata": {},
     "output_type": "display_data"
    },
    {
     "data": {
      "application/vnd.jupyter.widget-view+json": {
       "model_id": "7e68d1b52d174fa1851835c8ce57d58f",
       "version_major": 2,
       "version_minor": 0
      },
      "text/plain": [
       "Retrieving ProvenanceDoc documents:   0%|          | 0/1 [00:00<?, ?it/s]"
      ]
     },
     "metadata": {},
     "output_type": "display_data"
    },
    {
     "data": {
      "application/vnd.jupyter.widget-view+json": {
       "model_id": "fadfa42ba4a14166a64e67e1ce7728d8",
       "version_major": 2,
       "version_minor": 0
      },
      "text/plain": [
       "Retrieving ProvenanceDoc documents:   0%|          | 0/1 [00:00<?, ?it/s]"
      ]
     },
     "metadata": {},
     "output_type": "display_data"
    },
    {
     "data": {
      "application/vnd.jupyter.widget-view+json": {
       "model_id": "0f4e73223aeb43a0b1da585f1b13abbd",
       "version_major": 2,
       "version_minor": 0
      },
      "text/plain": [
       "Retrieving ProvenanceDoc documents:   0%|          | 0/1 [00:00<?, ?it/s]"
      ]
     },
     "metadata": {},
     "output_type": "display_data"
    },
    {
     "data": {
      "application/vnd.jupyter.widget-view+json": {
       "model_id": "3620a11580ac4ed49ed246d7e13c8b90",
       "version_major": 2,
       "version_minor": 0
      },
      "text/plain": [
       "Retrieving ProvenanceDoc documents:   0%|          | 0/1 [00:00<?, ?it/s]"
      ]
     },
     "metadata": {},
     "output_type": "display_data"
    },
    {
     "data": {
      "application/vnd.jupyter.widget-view+json": {
       "model_id": "627aa558bee141c3b48f967e5094e143",
       "version_major": 2,
       "version_minor": 0
      },
      "text/plain": [
       "Retrieving ProvenanceDoc documents:   0%|          | 0/1 [00:00<?, ?it/s]"
      ]
     },
     "metadata": {},
     "output_type": "display_data"
    },
    {
     "data": {
      "application/vnd.jupyter.widget-view+json": {
       "model_id": "fee14457d87e4a86b5be22f978501dd4",
       "version_major": 2,
       "version_minor": 0
      },
      "text/plain": [
       "Retrieving ProvenanceDoc documents:   0%|          | 0/1 [00:00<?, ?it/s]"
      ]
     },
     "metadata": {},
     "output_type": "display_data"
    },
    {
     "data": {
      "application/vnd.jupyter.widget-view+json": {
       "model_id": "0bfca364bf494c63911df77aa9beee9d",
       "version_major": 2,
       "version_minor": 0
      },
      "text/plain": [
       "Retrieving ProvenanceDoc documents:   0%|          | 0/1 [00:00<?, ?it/s]"
      ]
     },
     "metadata": {},
     "output_type": "display_data"
    },
    {
     "data": {
      "application/vnd.jupyter.widget-view+json": {
       "model_id": "66df09679c5c4a8c8e65b4953518968c",
       "version_major": 2,
       "version_minor": 0
      },
      "text/plain": [
       "Retrieving ProvenanceDoc documents:   0%|          | 0/1 [00:00<?, ?it/s]"
      ]
     },
     "metadata": {},
     "output_type": "display_data"
    },
    {
     "data": {
      "application/vnd.jupyter.widget-view+json": {
       "model_id": "94887f2f39fb4adfaad248623bd5d085",
       "version_major": 2,
       "version_minor": 0
      },
      "text/plain": [
       "Retrieving ProvenanceDoc documents:   0%|          | 0/1 [00:00<?, ?it/s]"
      ]
     },
     "metadata": {},
     "output_type": "display_data"
    },
    {
     "data": {
      "application/vnd.jupyter.widget-view+json": {
       "model_id": "56b49d18a27848ed9732980536bd404e",
       "version_major": 2,
       "version_minor": 0
      },
      "text/plain": [
       "Retrieving ProvenanceDoc documents:   0%|          | 0/1 [00:00<?, ?it/s]"
      ]
     },
     "metadata": {},
     "output_type": "display_data"
    },
    {
     "data": {
      "application/vnd.jupyter.widget-view+json": {
       "model_id": "f840f4aa2fa54958abf17dcedcf129c6",
       "version_major": 2,
       "version_minor": 0
      },
      "text/plain": [
       "Retrieving ProvenanceDoc documents:   0%|          | 0/1 [00:00<?, ?it/s]"
      ]
     },
     "metadata": {},
     "output_type": "display_data"
    },
    {
     "data": {
      "application/vnd.jupyter.widget-view+json": {
       "model_id": "061480bdba5447e4b9861590f6effd2b",
       "version_major": 2,
       "version_minor": 0
      },
      "text/plain": [
       "Retrieving ProvenanceDoc documents:   0%|          | 0/1 [00:00<?, ?it/s]"
      ]
     },
     "metadata": {},
     "output_type": "display_data"
    },
    {
     "data": {
      "application/vnd.jupyter.widget-view+json": {
       "model_id": "86dd801722044fb6ab5e6bec984c8034",
       "version_major": 2,
       "version_minor": 0
      },
      "text/plain": [
       "Retrieving ProvenanceDoc documents:   0%|          | 0/1 [00:00<?, ?it/s]"
      ]
     },
     "metadata": {},
     "output_type": "display_data"
    },
    {
     "data": {
      "application/vnd.jupyter.widget-view+json": {
       "model_id": "05952cf6cd964313a445813dc239138a",
       "version_major": 2,
       "version_minor": 0
      },
      "text/plain": [
       "Retrieving ProvenanceDoc documents:   0%|          | 0/1 [00:00<?, ?it/s]"
      ]
     },
     "metadata": {},
     "output_type": "display_data"
    },
    {
     "data": {
      "application/vnd.jupyter.widget-view+json": {
       "model_id": "63e84569673e4982aa71b32310022d1a",
       "version_major": 2,
       "version_minor": 0
      },
      "text/plain": [
       "Retrieving ProvenanceDoc documents:   0%|          | 0/1 [00:00<?, ?it/s]"
      ]
     },
     "metadata": {},
     "output_type": "display_data"
    },
    {
     "data": {
      "application/vnd.jupyter.widget-view+json": {
       "model_id": "cfbd5259f20a457bb195f93ccdf64c57",
       "version_major": 2,
       "version_minor": 0
      },
      "text/plain": [
       "Retrieving ProvenanceDoc documents:   0%|          | 0/1 [00:00<?, ?it/s]"
      ]
     },
     "metadata": {},
     "output_type": "display_data"
    },
    {
     "data": {
      "application/vnd.jupyter.widget-view+json": {
       "model_id": "ee77dc6c2ea14ffaab631dd3767c9d9f",
       "version_major": 2,
       "version_minor": 0
      },
      "text/plain": [
       "Retrieving ProvenanceDoc documents:   0%|          | 0/1 [00:00<?, ?it/s]"
      ]
     },
     "metadata": {},
     "output_type": "display_data"
    },
    {
     "data": {
      "application/vnd.jupyter.widget-view+json": {
       "model_id": "789e4de385394d129cf61b81053a6924",
       "version_major": 2,
       "version_minor": 0
      },
      "text/plain": [
       "Retrieving ProvenanceDoc documents:   0%|          | 0/1 [00:00<?, ?it/s]"
      ]
     },
     "metadata": {},
     "output_type": "display_data"
    },
    {
     "data": {
      "application/vnd.jupyter.widget-view+json": {
       "model_id": "6078c848a61245298a0f79a6aacd961b",
       "version_major": 2,
       "version_minor": 0
      },
      "text/plain": [
       "Retrieving ProvenanceDoc documents:   0%|          | 0/1 [00:00<?, ?it/s]"
      ]
     },
     "metadata": {},
     "output_type": "display_data"
    },
    {
     "data": {
      "application/vnd.jupyter.widget-view+json": {
       "model_id": "12d13ae0fbf040d68bb25d51f41398c2",
       "version_major": 2,
       "version_minor": 0
      },
      "text/plain": [
       "Retrieving ProvenanceDoc documents:   0%|          | 0/1 [00:00<?, ?it/s]"
      ]
     },
     "metadata": {},
     "output_type": "display_data"
    },
    {
     "data": {
      "application/vnd.jupyter.widget-view+json": {
       "model_id": "030994bce089415fb76862a07ab697d6",
       "version_major": 2,
       "version_minor": 0
      },
      "text/plain": [
       "Retrieving ProvenanceDoc documents:   0%|          | 0/1 [00:00<?, ?it/s]"
      ]
     },
     "metadata": {},
     "output_type": "display_data"
    },
    {
     "data": {
      "application/vnd.jupyter.widget-view+json": {
       "model_id": "fa78e0747ecd458c8b8cffa03b0cb9b2",
       "version_major": 2,
       "version_minor": 0
      },
      "text/plain": [
       "Retrieving ProvenanceDoc documents:   0%|          | 0/1 [00:00<?, ?it/s]"
      ]
     },
     "metadata": {},
     "output_type": "display_data"
    },
    {
     "data": {
      "application/vnd.jupyter.widget-view+json": {
       "model_id": "4d469e7e260f420c94b903ea262b90a6",
       "version_major": 2,
       "version_minor": 0
      },
      "text/plain": [
       "Retrieving ProvenanceDoc documents:   0%|          | 0/1 [00:00<?, ?it/s]"
      ]
     },
     "metadata": {},
     "output_type": "display_data"
    },
    {
     "data": {
      "application/vnd.jupyter.widget-view+json": {
       "model_id": "2d201219959c4022b64f465a4a55f0cf",
       "version_major": 2,
       "version_minor": 0
      },
      "text/plain": [
       "Retrieving ProvenanceDoc documents:   0%|          | 0/1 [00:00<?, ?it/s]"
      ]
     },
     "metadata": {},
     "output_type": "display_data"
    },
    {
     "data": {
      "application/vnd.jupyter.widget-view+json": {
       "model_id": "ae6834db686c4363879fae23ee0baab8",
       "version_major": 2,
       "version_minor": 0
      },
      "text/plain": [
       "Retrieving ProvenanceDoc documents:   0%|          | 0/1 [00:00<?, ?it/s]"
      ]
     },
     "metadata": {},
     "output_type": "display_data"
    },
    {
     "data": {
      "application/vnd.jupyter.widget-view+json": {
       "model_id": "ade4422f0dc4497ea7c8eeb5b50ab8bc",
       "version_major": 2,
       "version_minor": 0
      },
      "text/plain": [
       "Retrieving ProvenanceDoc documents:   0%|          | 0/1 [00:00<?, ?it/s]"
      ]
     },
     "metadata": {},
     "output_type": "display_data"
    },
    {
     "data": {
      "application/vnd.jupyter.widget-view+json": {
       "model_id": "9fa8faf55be14a799197ca0e7a096c4f",
       "version_major": 2,
       "version_minor": 0
      },
      "text/plain": [
       "Retrieving ProvenanceDoc documents:   0%|          | 0/1 [00:00<?, ?it/s]"
      ]
     },
     "metadata": {},
     "output_type": "display_data"
    },
    {
     "data": {
      "application/vnd.jupyter.widget-view+json": {
       "model_id": "4c7475c693b54f089f587bd7db889005",
       "version_major": 2,
       "version_minor": 0
      },
      "text/plain": [
       "Retrieving ProvenanceDoc documents:   0%|          | 0/1 [00:00<?, ?it/s]"
      ]
     },
     "metadata": {},
     "output_type": "display_data"
    },
    {
     "data": {
      "application/vnd.jupyter.widget-view+json": {
       "model_id": "2ffd405101ce4ac8ac01f25733614b8e",
       "version_major": 2,
       "version_minor": 0
      },
      "text/plain": [
       "Retrieving ProvenanceDoc documents:   0%|          | 0/1 [00:00<?, ?it/s]"
      ]
     },
     "metadata": {},
     "output_type": "display_data"
    },
    {
     "data": {
      "application/vnd.jupyter.widget-view+json": {
       "model_id": "2b8a5c5570e8403f86b566420759b275",
       "version_major": 2,
       "version_minor": 0
      },
      "text/plain": [
       "Retrieving ProvenanceDoc documents:   0%|          | 0/1 [00:00<?, ?it/s]"
      ]
     },
     "metadata": {},
     "output_type": "display_data"
    },
    {
     "data": {
      "application/vnd.jupyter.widget-view+json": {
       "model_id": "2a137ffd42db4703b9334dd1a478f4ca",
       "version_major": 2,
       "version_minor": 0
      },
      "text/plain": [
       "Retrieving ProvenanceDoc documents:   0%|          | 0/1 [00:00<?, ?it/s]"
      ]
     },
     "metadata": {},
     "output_type": "display_data"
    },
    {
     "data": {
      "application/vnd.jupyter.widget-view+json": {
       "model_id": "d1df37914b93454a998c2a58ef77d05d",
       "version_major": 2,
       "version_minor": 0
      },
      "text/plain": [
       "Retrieving ProvenanceDoc documents:   0%|          | 0/1 [00:00<?, ?it/s]"
      ]
     },
     "metadata": {},
     "output_type": "display_data"
    },
    {
     "data": {
      "application/vnd.jupyter.widget-view+json": {
       "model_id": "0278666935684af58b1693ae5b082de9",
       "version_major": 2,
       "version_minor": 0
      },
      "text/plain": [
       "Retrieving ProvenanceDoc documents:   0%|          | 0/1 [00:00<?, ?it/s]"
      ]
     },
     "metadata": {},
     "output_type": "display_data"
    },
    {
     "data": {
      "application/vnd.jupyter.widget-view+json": {
       "model_id": "5ac2b4edbf6640e58898ac72f402c92f",
       "version_major": 2,
       "version_minor": 0
      },
      "text/plain": [
       "Retrieving ProvenanceDoc documents:   0%|          | 0/1 [00:00<?, ?it/s]"
      ]
     },
     "metadata": {},
     "output_type": "display_data"
    },
    {
     "data": {
      "application/vnd.jupyter.widget-view+json": {
       "model_id": "528ed5a06df34ff594ff9bdf9f16279a",
       "version_major": 2,
       "version_minor": 0
      },
      "text/plain": [
       "Retrieving ProvenanceDoc documents:   0%|          | 0/1 [00:00<?, ?it/s]"
      ]
     },
     "metadata": {},
     "output_type": "display_data"
    },
    {
     "data": {
      "application/vnd.jupyter.widget-view+json": {
       "model_id": "1c64703234764bf7a1de8d01d5c9d6f9",
       "version_major": 2,
       "version_minor": 0
      },
      "text/plain": [
       "Retrieving ProvenanceDoc documents:   0%|          | 0/1 [00:00<?, ?it/s]"
      ]
     },
     "metadata": {},
     "output_type": "display_data"
    },
    {
     "data": {
      "application/vnd.jupyter.widget-view+json": {
       "model_id": "a5e8f9bac94540b6aa7fb0749677d62a",
       "version_major": 2,
       "version_minor": 0
      },
      "text/plain": [
       "Retrieving ProvenanceDoc documents:   0%|          | 0/1 [00:00<?, ?it/s]"
      ]
     },
     "metadata": {},
     "output_type": "display_data"
    },
    {
     "data": {
      "application/vnd.jupyter.widget-view+json": {
       "model_id": "b02e6c7dabdb4ed19432d6536ca727e3",
       "version_major": 2,
       "version_minor": 0
      },
      "text/plain": [
       "Retrieving ProvenanceDoc documents:   0%|          | 0/1 [00:00<?, ?it/s]"
      ]
     },
     "metadata": {},
     "output_type": "display_data"
    },
    {
     "data": {
      "application/vnd.jupyter.widget-view+json": {
       "model_id": "6b5b2f537f0044699cdcfc220be8ad93",
       "version_major": 2,
       "version_minor": 0
      },
      "text/plain": [
       "Retrieving ProvenanceDoc documents:   0%|          | 0/1 [00:00<?, ?it/s]"
      ]
     },
     "metadata": {},
     "output_type": "display_data"
    },
    {
     "data": {
      "application/vnd.jupyter.widget-view+json": {
       "model_id": "568540291e724aa6919e2769bc94f190",
       "version_major": 2,
       "version_minor": 0
      },
      "text/plain": [
       "Retrieving ProvenanceDoc documents:   0%|          | 0/1 [00:00<?, ?it/s]"
      ]
     },
     "metadata": {},
     "output_type": "display_data"
    },
    {
     "data": {
      "application/vnd.jupyter.widget-view+json": {
       "model_id": "6eaec89c4e554d7ca10983f631901615",
       "version_major": 2,
       "version_minor": 0
      },
      "text/plain": [
       "Retrieving ProvenanceDoc documents:   0%|          | 0/1 [00:00<?, ?it/s]"
      ]
     },
     "metadata": {},
     "output_type": "display_data"
    },
    {
     "data": {
      "application/vnd.jupyter.widget-view+json": {
       "model_id": "375a8edd7fa546ccbc0df483b6f5260a",
       "version_major": 2,
       "version_minor": 0
      },
      "text/plain": [
       "Retrieving ProvenanceDoc documents:   0%|          | 0/1 [00:00<?, ?it/s]"
      ]
     },
     "metadata": {},
     "output_type": "display_data"
    },
    {
     "data": {
      "application/vnd.jupyter.widget-view+json": {
       "model_id": "782c81b6dd4c40c3a2c13974db75f44d",
       "version_major": 2,
       "version_minor": 0
      },
      "text/plain": [
       "Retrieving ProvenanceDoc documents:   0%|          | 0/1 [00:00<?, ?it/s]"
      ]
     },
     "metadata": {},
     "output_type": "display_data"
    },
    {
     "data": {
      "application/vnd.jupyter.widget-view+json": {
       "model_id": "de4c96922bb041ddb5103bb4ec0696b5",
       "version_major": 2,
       "version_minor": 0
      },
      "text/plain": [
       "Retrieving ProvenanceDoc documents:   0%|          | 0/1 [00:00<?, ?it/s]"
      ]
     },
     "metadata": {},
     "output_type": "display_data"
    },
    {
     "data": {
      "application/vnd.jupyter.widget-view+json": {
       "model_id": "6180d8a4fa79423680c0c3b5578820dd",
       "version_major": 2,
       "version_minor": 0
      },
      "text/plain": [
       "Retrieving ProvenanceDoc documents:   0%|          | 0/1 [00:00<?, ?it/s]"
      ]
     },
     "metadata": {},
     "output_type": "display_data"
    },
    {
     "data": {
      "application/vnd.jupyter.widget-view+json": {
       "model_id": "b9ffa3c87b844dbbae08186373dd6037",
       "version_major": 2,
       "version_minor": 0
      },
      "text/plain": [
       "Retrieving ProvenanceDoc documents:   0%|          | 0/1 [00:00<?, ?it/s]"
      ]
     },
     "metadata": {},
     "output_type": "display_data"
    },
    {
     "data": {
      "application/vnd.jupyter.widget-view+json": {
       "model_id": "38374770ea9d4ec99686143fe2eb4995",
       "version_major": 2,
       "version_minor": 0
      },
      "text/plain": [
       "Retrieving ProvenanceDoc documents:   0%|          | 0/1 [00:00<?, ?it/s]"
      ]
     },
     "metadata": {},
     "output_type": "display_data"
    },
    {
     "data": {
      "application/vnd.jupyter.widget-view+json": {
       "model_id": "a106dad6b9bf49b4879da414d3fc1c4d",
       "version_major": 2,
       "version_minor": 0
      },
      "text/plain": [
       "Retrieving ProvenanceDoc documents:   0%|          | 0/1 [00:00<?, ?it/s]"
      ]
     },
     "metadata": {},
     "output_type": "display_data"
    },
    {
     "data": {
      "application/vnd.jupyter.widget-view+json": {
       "model_id": "a17b2a5d92e64e90bff4870fc8f743de",
       "version_major": 2,
       "version_minor": 0
      },
      "text/plain": [
       "Retrieving ProvenanceDoc documents:   0%|          | 0/1 [00:00<?, ?it/s]"
      ]
     },
     "metadata": {},
     "output_type": "display_data"
    },
    {
     "data": {
      "application/vnd.jupyter.widget-view+json": {
       "model_id": "f99ccc4d5186498796eb56923c0f3b91",
       "version_major": 2,
       "version_minor": 0
      },
      "text/plain": [
       "Retrieving ProvenanceDoc documents:   0%|          | 0/1 [00:00<?, ?it/s]"
      ]
     },
     "metadata": {},
     "output_type": "display_data"
    },
    {
     "data": {
      "application/vnd.jupyter.widget-view+json": {
       "model_id": "68d68d15d4704118a1fce7ad43a7903d",
       "version_major": 2,
       "version_minor": 0
      },
      "text/plain": [
       "Retrieving ProvenanceDoc documents:   0%|          | 0/1 [00:00<?, ?it/s]"
      ]
     },
     "metadata": {},
     "output_type": "display_data"
    },
    {
     "data": {
      "application/vnd.jupyter.widget-view+json": {
       "model_id": "e389c07cfb3d42379323a3bd6b262c81",
       "version_major": 2,
       "version_minor": 0
      },
      "text/plain": [
       "Retrieving ProvenanceDoc documents:   0%|          | 0/1 [00:00<?, ?it/s]"
      ]
     },
     "metadata": {},
     "output_type": "display_data"
    },
    {
     "data": {
      "application/vnd.jupyter.widget-view+json": {
       "model_id": "3a16188c90994cf0bf5f180b68901f98",
       "version_major": 2,
       "version_minor": 0
      },
      "text/plain": [
       "Retrieving ProvenanceDoc documents:   0%|          | 0/1 [00:00<?, ?it/s]"
      ]
     },
     "metadata": {},
     "output_type": "display_data"
    },
    {
     "data": {
      "application/vnd.jupyter.widget-view+json": {
       "model_id": "be2ecac64f4a4b9d9caf50ffe39d3e03",
       "version_major": 2,
       "version_minor": 0
      },
      "text/plain": [
       "Retrieving ProvenanceDoc documents:   0%|          | 0/1 [00:00<?, ?it/s]"
      ]
     },
     "metadata": {},
     "output_type": "display_data"
    },
    {
     "data": {
      "application/vnd.jupyter.widget-view+json": {
       "model_id": "cac67727676640278b01855c15c16cd7",
       "version_major": 2,
       "version_minor": 0
      },
      "text/plain": [
       "Retrieving ProvenanceDoc documents:   0%|          | 0/1 [00:00<?, ?it/s]"
      ]
     },
     "metadata": {},
     "output_type": "display_data"
    },
    {
     "data": {
      "application/vnd.jupyter.widget-view+json": {
       "model_id": "15ce6e0046fc45a7b0d51c1aa32631c0",
       "version_major": 2,
       "version_minor": 0
      },
      "text/plain": [
       "Retrieving ProvenanceDoc documents:   0%|          | 0/1 [00:00<?, ?it/s]"
      ]
     },
     "metadata": {},
     "output_type": "display_data"
    },
    {
     "data": {
      "application/vnd.jupyter.widget-view+json": {
       "model_id": "c42f621a20054c56b8357ec174c17d47",
       "version_major": 2,
       "version_minor": 0
      },
      "text/plain": [
       "Retrieving ProvenanceDoc documents:   0%|          | 0/1 [00:00<?, ?it/s]"
      ]
     },
     "metadata": {},
     "output_type": "display_data"
    },
    {
     "data": {
      "application/vnd.jupyter.widget-view+json": {
       "model_id": "94f455125972443182f29ac79195b96a",
       "version_major": 2,
       "version_minor": 0
      },
      "text/plain": [
       "Retrieving ProvenanceDoc documents:   0%|          | 0/1 [00:00<?, ?it/s]"
      ]
     },
     "metadata": {},
     "output_type": "display_data"
    },
    {
     "data": {
      "application/vnd.jupyter.widget-view+json": {
       "model_id": "d3c7965b9ab641b8a48f19e2ebf4ba54",
       "version_major": 2,
       "version_minor": 0
      },
      "text/plain": [
       "Retrieving ProvenanceDoc documents:   0%|          | 0/1 [00:00<?, ?it/s]"
      ]
     },
     "metadata": {},
     "output_type": "display_data"
    },
    {
     "data": {
      "application/vnd.jupyter.widget-view+json": {
       "model_id": "b79c6918a0744ce7ab4e859e2382eccc",
       "version_major": 2,
       "version_minor": 0
      },
      "text/plain": [
       "Retrieving ProvenanceDoc documents:   0%|          | 0/1 [00:00<?, ?it/s]"
      ]
     },
     "metadata": {},
     "output_type": "display_data"
    },
    {
     "data": {
      "application/vnd.jupyter.widget-view+json": {
       "model_id": "5c93e53961384c1fa974aa7d89e51327",
       "version_major": 2,
       "version_minor": 0
      },
      "text/plain": [
       "Retrieving ProvenanceDoc documents:   0%|          | 0/1 [00:00<?, ?it/s]"
      ]
     },
     "metadata": {},
     "output_type": "display_data"
    },
    {
     "data": {
      "application/vnd.jupyter.widget-view+json": {
       "model_id": "aedf88c348714ea493ec6acbaa3cfa97",
       "version_major": 2,
       "version_minor": 0
      },
      "text/plain": [
       "Retrieving ProvenanceDoc documents:   0%|          | 0/1 [00:00<?, ?it/s]"
      ]
     },
     "metadata": {},
     "output_type": "display_data"
    },
    {
     "data": {
      "application/vnd.jupyter.widget-view+json": {
       "model_id": "55727232464b48d681b1103eae49335e",
       "version_major": 2,
       "version_minor": 0
      },
      "text/plain": [
       "Retrieving ProvenanceDoc documents:   0%|          | 0/1 [00:00<?, ?it/s]"
      ]
     },
     "metadata": {},
     "output_type": "display_data"
    },
    {
     "data": {
      "application/vnd.jupyter.widget-view+json": {
       "model_id": "dcd72fbb95ac46f1989bba7532d70ad0",
       "version_major": 2,
       "version_minor": 0
      },
      "text/plain": [
       "Retrieving ProvenanceDoc documents:   0%|          | 0/1 [00:00<?, ?it/s]"
      ]
     },
     "metadata": {},
     "output_type": "display_data"
    },
    {
     "data": {
      "application/vnd.jupyter.widget-view+json": {
       "model_id": "a8bc82017f344b5bb765829d413040ee",
       "version_major": 2,
       "version_minor": 0
      },
      "text/plain": [
       "Retrieving ProvenanceDoc documents:   0%|          | 0/1 [00:00<?, ?it/s]"
      ]
     },
     "metadata": {},
     "output_type": "display_data"
    },
    {
     "data": {
      "application/vnd.jupyter.widget-view+json": {
       "model_id": "40a60eb969c743679572901870699df5",
       "version_major": 2,
       "version_minor": 0
      },
      "text/plain": [
       "Retrieving ProvenanceDoc documents:   0%|          | 0/1 [00:00<?, ?it/s]"
      ]
     },
     "metadata": {},
     "output_type": "display_data"
    },
    {
     "data": {
      "application/vnd.jupyter.widget-view+json": {
       "model_id": "840c0e8ba2a64ccca3a99f73039ac7e6",
       "version_major": 2,
       "version_minor": 0
      },
      "text/plain": [
       "Retrieving ProvenanceDoc documents:   0%|          | 0/1 [00:00<?, ?it/s]"
      ]
     },
     "metadata": {},
     "output_type": "display_data"
    },
    {
     "data": {
      "application/vnd.jupyter.widget-view+json": {
       "model_id": "2846cf3c38494101a81000f34c732903",
       "version_major": 2,
       "version_minor": 0
      },
      "text/plain": [
       "Retrieving ProvenanceDoc documents:   0%|          | 0/1 [00:00<?, ?it/s]"
      ]
     },
     "metadata": {},
     "output_type": "display_data"
    },
    {
     "data": {
      "application/vnd.jupyter.widget-view+json": {
       "model_id": "6eb10ead4a0a4bc2b1c7923f88ca3a07",
       "version_major": 2,
       "version_minor": 0
      },
      "text/plain": [
       "Retrieving ProvenanceDoc documents:   0%|          | 0/1 [00:00<?, ?it/s]"
      ]
     },
     "metadata": {},
     "output_type": "display_data"
    },
    {
     "data": {
      "application/vnd.jupyter.widget-view+json": {
       "model_id": "e88e2fcf1cea45608937508f78b08289",
       "version_major": 2,
       "version_minor": 0
      },
      "text/plain": [
       "Retrieving ProvenanceDoc documents:   0%|          | 0/1 [00:00<?, ?it/s]"
      ]
     },
     "metadata": {},
     "output_type": "display_data"
    },
    {
     "data": {
      "application/vnd.jupyter.widget-view+json": {
       "model_id": "f6d574a53b6045b499243f005a0ef7db",
       "version_major": 2,
       "version_minor": 0
      },
      "text/plain": [
       "Retrieving ProvenanceDoc documents:   0%|          | 0/1 [00:00<?, ?it/s]"
      ]
     },
     "metadata": {},
     "output_type": "display_data"
    },
    {
     "data": {
      "application/vnd.jupyter.widget-view+json": {
       "model_id": "dad93b05ae89499e8ae4ba0289b98312",
       "version_major": 2,
       "version_minor": 0
      },
      "text/plain": [
       "Retrieving ProvenanceDoc documents:   0%|          | 0/1 [00:00<?, ?it/s]"
      ]
     },
     "metadata": {},
     "output_type": "display_data"
    },
    {
     "data": {
      "application/vnd.jupyter.widget-view+json": {
       "model_id": "651b484649874f1f833eec00737a00cb",
       "version_major": 2,
       "version_minor": 0
      },
      "text/plain": [
       "Retrieving ProvenanceDoc documents:   0%|          | 0/1 [00:00<?, ?it/s]"
      ]
     },
     "metadata": {},
     "output_type": "display_data"
    },
    {
     "data": {
      "application/vnd.jupyter.widget-view+json": {
       "model_id": "920ddfacc90d4f678ac275287e213405",
       "version_major": 2,
       "version_minor": 0
      },
      "text/plain": [
       "Retrieving ProvenanceDoc documents:   0%|          | 0/1 [00:00<?, ?it/s]"
      ]
     },
     "metadata": {},
     "output_type": "display_data"
    },
    {
     "data": {
      "application/vnd.jupyter.widget-view+json": {
       "model_id": "615b5c141bdc45a88cf87d4b1e10b782",
       "version_major": 2,
       "version_minor": 0
      },
      "text/plain": [
       "Retrieving ProvenanceDoc documents:   0%|          | 0/1 [00:00<?, ?it/s]"
      ]
     },
     "metadata": {},
     "output_type": "display_data"
    },
    {
     "data": {
      "application/vnd.jupyter.widget-view+json": {
       "model_id": "3c500cbf76f64c26878f8d2a9ce9c626",
       "version_major": 2,
       "version_minor": 0
      },
      "text/plain": [
       "Retrieving ProvenanceDoc documents:   0%|          | 0/1 [00:00<?, ?it/s]"
      ]
     },
     "metadata": {},
     "output_type": "display_data"
    },
    {
     "data": {
      "application/vnd.jupyter.widget-view+json": {
       "model_id": "63a81785b26f4673b7b9d800d965d02b",
       "version_major": 2,
       "version_minor": 0
      },
      "text/plain": [
       "Retrieving ProvenanceDoc documents:   0%|          | 0/1 [00:00<?, ?it/s]"
      ]
     },
     "metadata": {},
     "output_type": "display_data"
    },
    {
     "data": {
      "application/vnd.jupyter.widget-view+json": {
       "model_id": "8dcaf5e5e12644bc9473f7f8ee083b28",
       "version_major": 2,
       "version_minor": 0
      },
      "text/plain": [
       "Retrieving ProvenanceDoc documents:   0%|          | 0/1 [00:00<?, ?it/s]"
      ]
     },
     "metadata": {},
     "output_type": "display_data"
    },
    {
     "data": {
      "application/vnd.jupyter.widget-view+json": {
       "model_id": "ab62d0e79b10486a8ffc2a8c831f999f",
       "version_major": 2,
       "version_minor": 0
      },
      "text/plain": [
       "Retrieving ProvenanceDoc documents:   0%|          | 0/1 [00:00<?, ?it/s]"
      ]
     },
     "metadata": {},
     "output_type": "display_data"
    },
    {
     "data": {
      "application/vnd.jupyter.widget-view+json": {
       "model_id": "788f15493cef4483b477edd2fac15f2f",
       "version_major": 2,
       "version_minor": 0
      },
      "text/plain": [
       "Retrieving ProvenanceDoc documents:   0%|          | 0/1 [00:00<?, ?it/s]"
      ]
     },
     "metadata": {},
     "output_type": "display_data"
    },
    {
     "data": {
      "application/vnd.jupyter.widget-view+json": {
       "model_id": "00498ca520f14eff9a4877ab9912b7f9",
       "version_major": 2,
       "version_minor": 0
      },
      "text/plain": [
       "Retrieving ProvenanceDoc documents:   0%|          | 0/1 [00:00<?, ?it/s]"
      ]
     },
     "metadata": {},
     "output_type": "display_data"
    },
    {
     "data": {
      "application/vnd.jupyter.widget-view+json": {
       "model_id": "8f98d59ea874406c8d9d4738d9415211",
       "version_major": 2,
       "version_minor": 0
      },
      "text/plain": [
       "Retrieving ProvenanceDoc documents:   0%|          | 0/1 [00:00<?, ?it/s]"
      ]
     },
     "metadata": {},
     "output_type": "display_data"
    },
    {
     "data": {
      "application/vnd.jupyter.widget-view+json": {
       "model_id": "9c15e27049d048b488a50dd97636d133",
       "version_major": 2,
       "version_minor": 0
      },
      "text/plain": [
       "Retrieving ProvenanceDoc documents:   0%|          | 0/1 [00:00<?, ?it/s]"
      ]
     },
     "metadata": {},
     "output_type": "display_data"
    },
    {
     "data": {
      "application/vnd.jupyter.widget-view+json": {
       "model_id": "84244d33a66845bfa3831b42d7c40124",
       "version_major": 2,
       "version_minor": 0
      },
      "text/plain": [
       "Retrieving ProvenanceDoc documents:   0%|          | 0/1 [00:00<?, ?it/s]"
      ]
     },
     "metadata": {},
     "output_type": "display_data"
    },
    {
     "data": {
      "application/vnd.jupyter.widget-view+json": {
       "model_id": "2bed74d635764d89aea512bcc4d03543",
       "version_major": 2,
       "version_minor": 0
      },
      "text/plain": [
       "Retrieving ProvenanceDoc documents:   0%|          | 0/1 [00:00<?, ?it/s]"
      ]
     },
     "metadata": {},
     "output_type": "display_data"
    },
    {
     "data": {
      "application/vnd.jupyter.widget-view+json": {
       "model_id": "a141150dd5214e698f6255a9ba258a6a",
       "version_major": 2,
       "version_minor": 0
      },
      "text/plain": [
       "Retrieving ProvenanceDoc documents:   0%|          | 0/1 [00:00<?, ?it/s]"
      ]
     },
     "metadata": {},
     "output_type": "display_data"
    },
    {
     "data": {
      "application/vnd.jupyter.widget-view+json": {
       "model_id": "09c03389a6ae42c28289ff3410b8dbf5",
       "version_major": 2,
       "version_minor": 0
      },
      "text/plain": [
       "Retrieving ProvenanceDoc documents:   0%|          | 0/1 [00:00<?, ?it/s]"
      ]
     },
     "metadata": {},
     "output_type": "display_data"
    },
    {
     "data": {
      "application/vnd.jupyter.widget-view+json": {
       "model_id": "a2320c7eb2324a8fb05f14fe4db52c5a",
       "version_major": 2,
       "version_minor": 0
      },
      "text/plain": [
       "Retrieving ProvenanceDoc documents:   0%|          | 0/1 [00:00<?, ?it/s]"
      ]
     },
     "metadata": {},
     "output_type": "display_data"
    },
    {
     "data": {
      "application/vnd.jupyter.widget-view+json": {
       "model_id": "fa733e761ead43c5bb6636b3e8f2901a",
       "version_major": 2,
       "version_minor": 0
      },
      "text/plain": [
       "Retrieving ProvenanceDoc documents:   0%|          | 0/1 [00:00<?, ?it/s]"
      ]
     },
     "metadata": {},
     "output_type": "display_data"
    },
    {
     "data": {
      "application/vnd.jupyter.widget-view+json": {
       "model_id": "06eb6e90d806414185c25040f5bd4ecb",
       "version_major": 2,
       "version_minor": 0
      },
      "text/plain": [
       "Retrieving ProvenanceDoc documents:   0%|          | 0/1 [00:00<?, ?it/s]"
      ]
     },
     "metadata": {},
     "output_type": "display_data"
    },
    {
     "data": {
      "application/vnd.jupyter.widget-view+json": {
       "model_id": "ab5d5d256c7f4291baa516bfae3ceb7d",
       "version_major": 2,
       "version_minor": 0
      },
      "text/plain": [
       "Retrieving ProvenanceDoc documents:   0%|          | 0/1 [00:00<?, ?it/s]"
      ]
     },
     "metadata": {},
     "output_type": "display_data"
    },
    {
     "data": {
      "application/vnd.jupyter.widget-view+json": {
       "model_id": "72a206cbc13a4e699201a1a37a431745",
       "version_major": 2,
       "version_minor": 0
      },
      "text/plain": [
       "Retrieving ProvenanceDoc documents:   0%|          | 0/1 [00:00<?, ?it/s]"
      ]
     },
     "metadata": {},
     "output_type": "display_data"
    },
    {
     "data": {
      "application/vnd.jupyter.widget-view+json": {
       "model_id": "828d345bdf3d4281bf1ea5d17711dd1e",
       "version_major": 2,
       "version_minor": 0
      },
      "text/plain": [
       "Retrieving ProvenanceDoc documents:   0%|          | 0/1 [00:00<?, ?it/s]"
      ]
     },
     "metadata": {},
     "output_type": "display_data"
    },
    {
     "data": {
      "application/vnd.jupyter.widget-view+json": {
       "model_id": "625729840c9a4fab811a73f4b328f64c",
       "version_major": 2,
       "version_minor": 0
      },
      "text/plain": [
       "Retrieving ProvenanceDoc documents:   0%|          | 0/1 [00:00<?, ?it/s]"
      ]
     },
     "metadata": {},
     "output_type": "display_data"
    },
    {
     "data": {
      "application/vnd.jupyter.widget-view+json": {
       "model_id": "d8ded0d022cd42be8a05946857079242",
       "version_major": 2,
       "version_minor": 0
      },
      "text/plain": [
       "Retrieving ProvenanceDoc documents:   0%|          | 0/1 [00:00<?, ?it/s]"
      ]
     },
     "metadata": {},
     "output_type": "display_data"
    },
    {
     "data": {
      "application/vnd.jupyter.widget-view+json": {
       "model_id": "4f05edff5b1a469b854efa849f80d6fd",
       "version_major": 2,
       "version_minor": 0
      },
      "text/plain": [
       "Retrieving ProvenanceDoc documents:   0%|          | 0/1 [00:00<?, ?it/s]"
      ]
     },
     "metadata": {},
     "output_type": "display_data"
    },
    {
     "data": {
      "application/vnd.jupyter.widget-view+json": {
       "model_id": "49c498150c0a4259b29434f117464822",
       "version_major": 2,
       "version_minor": 0
      },
      "text/plain": [
       "Retrieving ProvenanceDoc documents:   0%|          | 0/1 [00:00<?, ?it/s]"
      ]
     },
     "metadata": {},
     "output_type": "display_data"
    },
    {
     "data": {
      "application/vnd.jupyter.widget-view+json": {
       "model_id": "91270cc5cea74d6cbd45eca072984d50",
       "version_major": 2,
       "version_minor": 0
      },
      "text/plain": [
       "Retrieving ProvenanceDoc documents:   0%|          | 0/1 [00:00<?, ?it/s]"
      ]
     },
     "metadata": {},
     "output_type": "display_data"
    },
    {
     "data": {
      "application/vnd.jupyter.widget-view+json": {
       "model_id": "9fad8d8609bd48d3b689aefc5407facc",
       "version_major": 2,
       "version_minor": 0
      },
      "text/plain": [
       "Retrieving ProvenanceDoc documents:   0%|          | 0/1 [00:00<?, ?it/s]"
      ]
     },
     "metadata": {},
     "output_type": "display_data"
    },
    {
     "data": {
      "application/vnd.jupyter.widget-view+json": {
       "model_id": "79ede3242c754f89987e6a5bdf4d89e7",
       "version_major": 2,
       "version_minor": 0
      },
      "text/plain": [
       "Retrieving ProvenanceDoc documents:   0%|          | 0/1 [00:00<?, ?it/s]"
      ]
     },
     "metadata": {},
     "output_type": "display_data"
    },
    {
     "data": {
      "application/vnd.jupyter.widget-view+json": {
       "model_id": "5c1a45888afa4a1690ade44bcd8e7b34",
       "version_major": 2,
       "version_minor": 0
      },
      "text/plain": [
       "Retrieving ProvenanceDoc documents:   0%|          | 0/1 [00:00<?, ?it/s]"
      ]
     },
     "metadata": {},
     "output_type": "display_data"
    },
    {
     "data": {
      "application/vnd.jupyter.widget-view+json": {
       "model_id": "d8dc37017a494be9b6dbac06dfffdbe4",
       "version_major": 2,
       "version_minor": 0
      },
      "text/plain": [
       "Retrieving ProvenanceDoc documents:   0%|          | 0/1 [00:00<?, ?it/s]"
      ]
     },
     "metadata": {},
     "output_type": "display_data"
    },
    {
     "data": {
      "application/vnd.jupyter.widget-view+json": {
       "model_id": "af241e7aae0b4639a8485abd8f87835e",
       "version_major": 2,
       "version_minor": 0
      },
      "text/plain": [
       "Retrieving ProvenanceDoc documents:   0%|          | 0/1 [00:00<?, ?it/s]"
      ]
     },
     "metadata": {},
     "output_type": "display_data"
    },
    {
     "data": {
      "application/vnd.jupyter.widget-view+json": {
       "model_id": "c61c749b8f964f24997b5da3f9336de5",
       "version_major": 2,
       "version_minor": 0
      },
      "text/plain": [
       "Retrieving ProvenanceDoc documents:   0%|          | 0/1 [00:00<?, ?it/s]"
      ]
     },
     "metadata": {},
     "output_type": "display_data"
    },
    {
     "data": {
      "application/vnd.jupyter.widget-view+json": {
       "model_id": "9fe134effebd43c09c5d29e128ef8588",
       "version_major": 2,
       "version_minor": 0
      },
      "text/plain": [
       "Retrieving ProvenanceDoc documents:   0%|          | 0/1 [00:00<?, ?it/s]"
      ]
     },
     "metadata": {},
     "output_type": "display_data"
    },
    {
     "data": {
      "application/vnd.jupyter.widget-view+json": {
       "model_id": "56c07f3bb2e4416f97af65966dde2842",
       "version_major": 2,
       "version_minor": 0
      },
      "text/plain": [
       "Retrieving ProvenanceDoc documents:   0%|          | 0/1 [00:00<?, ?it/s]"
      ]
     },
     "metadata": {},
     "output_type": "display_data"
    },
    {
     "data": {
      "application/vnd.jupyter.widget-view+json": {
       "model_id": "c3bab38ff5044aaa800cd4e8b6ad4c74",
       "version_major": 2,
       "version_minor": 0
      },
      "text/plain": [
       "Retrieving ProvenanceDoc documents:   0%|          | 0/1 [00:00<?, ?it/s]"
      ]
     },
     "metadata": {},
     "output_type": "display_data"
    },
    {
     "data": {
      "application/vnd.jupyter.widget-view+json": {
       "model_id": "bac4df4b5fa94dc1ac0144b53c280884",
       "version_major": 2,
       "version_minor": 0
      },
      "text/plain": [
       "Retrieving ProvenanceDoc documents:   0%|          | 0/1 [00:00<?, ?it/s]"
      ]
     },
     "metadata": {},
     "output_type": "display_data"
    },
    {
     "data": {
      "application/vnd.jupyter.widget-view+json": {
       "model_id": "03ff00cc638246ea9974dc35fdb7df08",
       "version_major": 2,
       "version_minor": 0
      },
      "text/plain": [
       "Retrieving ProvenanceDoc documents:   0%|          | 0/1 [00:00<?, ?it/s]"
      ]
     },
     "metadata": {},
     "output_type": "display_data"
    },
    {
     "data": {
      "application/vnd.jupyter.widget-view+json": {
       "model_id": "8c5fb72c51224aefbf76725848da842e",
       "version_major": 2,
       "version_minor": 0
      },
      "text/plain": [
       "Retrieving ProvenanceDoc documents:   0%|          | 0/1 [00:00<?, ?it/s]"
      ]
     },
     "metadata": {},
     "output_type": "display_data"
    },
    {
     "data": {
      "application/vnd.jupyter.widget-view+json": {
       "model_id": "2a4cc7e88c5b4de3b8a91db513791b3e",
       "version_major": 2,
       "version_minor": 0
      },
      "text/plain": [
       "Retrieving ProvenanceDoc documents:   0%|          | 0/1 [00:00<?, ?it/s]"
      ]
     },
     "metadata": {},
     "output_type": "display_data"
    },
    {
     "data": {
      "application/vnd.jupyter.widget-view+json": {
       "model_id": "e4a048a8569342c5b12d7dfb4507b440",
       "version_major": 2,
       "version_minor": 0
      },
      "text/plain": [
       "Retrieving ProvenanceDoc documents:   0%|          | 0/1 [00:00<?, ?it/s]"
      ]
     },
     "metadata": {},
     "output_type": "display_data"
    },
    {
     "data": {
      "application/vnd.jupyter.widget-view+json": {
       "model_id": "eb6c8ed748054b64b021652fef669108",
       "version_major": 2,
       "version_minor": 0
      },
      "text/plain": [
       "Retrieving ProvenanceDoc documents:   0%|          | 0/1 [00:00<?, ?it/s]"
      ]
     },
     "metadata": {},
     "output_type": "display_data"
    },
    {
     "data": {
      "application/vnd.jupyter.widget-view+json": {
       "model_id": "05e3aa28c1fb47adb8fb089e38a347d3",
       "version_major": 2,
       "version_minor": 0
      },
      "text/plain": [
       "Retrieving ProvenanceDoc documents:   0%|          | 0/1 [00:00<?, ?it/s]"
      ]
     },
     "metadata": {},
     "output_type": "display_data"
    },
    {
     "data": {
      "application/vnd.jupyter.widget-view+json": {
       "model_id": "26aa5f5abd554e0f91b05bdeb802d06e",
       "version_major": 2,
       "version_minor": 0
      },
      "text/plain": [
       "Retrieving ProvenanceDoc documents:   0%|          | 0/1 [00:00<?, ?it/s]"
      ]
     },
     "metadata": {},
     "output_type": "display_data"
    },
    {
     "data": {
      "application/vnd.jupyter.widget-view+json": {
       "model_id": "ef8ffdb5a9b540289ce452d40d77b33a",
       "version_major": 2,
       "version_minor": 0
      },
      "text/plain": [
       "Retrieving ProvenanceDoc documents:   0%|          | 0/1 [00:00<?, ?it/s]"
      ]
     },
     "metadata": {},
     "output_type": "display_data"
    },
    {
     "data": {
      "application/vnd.jupyter.widget-view+json": {
       "model_id": "4a50e15bf7b147dbb7d6433d7f7a2e3f",
       "version_major": 2,
       "version_minor": 0
      },
      "text/plain": [
       "Retrieving ProvenanceDoc documents:   0%|          | 0/1 [00:00<?, ?it/s]"
      ]
     },
     "metadata": {},
     "output_type": "display_data"
    },
    {
     "data": {
      "application/vnd.jupyter.widget-view+json": {
       "model_id": "02b6f2f02ef7492fbf5031921e55e9e7",
       "version_major": 2,
       "version_minor": 0
      },
      "text/plain": [
       "Retrieving ProvenanceDoc documents:   0%|          | 0/1 [00:00<?, ?it/s]"
      ]
     },
     "metadata": {},
     "output_type": "display_data"
    },
    {
     "data": {
      "application/vnd.jupyter.widget-view+json": {
       "model_id": "daaa7b9307904bd388b9ab292e00fbcd",
       "version_major": 2,
       "version_minor": 0
      },
      "text/plain": [
       "Retrieving ProvenanceDoc documents:   0%|          | 0/1 [00:00<?, ?it/s]"
      ]
     },
     "metadata": {},
     "output_type": "display_data"
    },
    {
     "data": {
      "application/vnd.jupyter.widget-view+json": {
       "model_id": "3d9854598e9749a2b26e9accd0f230fd",
       "version_major": 2,
       "version_minor": 0
      },
      "text/plain": [
       "Retrieving ProvenanceDoc documents:   0%|          | 0/1 [00:00<?, ?it/s]"
      ]
     },
     "metadata": {},
     "output_type": "display_data"
    },
    {
     "data": {
      "application/vnd.jupyter.widget-view+json": {
       "model_id": "34440ae688bc46b5ab02820f72e1a099",
       "version_major": 2,
       "version_minor": 0
      },
      "text/plain": [
       "Retrieving ProvenanceDoc documents:   0%|          | 0/1 [00:00<?, ?it/s]"
      ]
     },
     "metadata": {},
     "output_type": "display_data"
    },
    {
     "data": {
      "application/vnd.jupyter.widget-view+json": {
       "model_id": "5ce546493a8547b1945c529036262a03",
       "version_major": 2,
       "version_minor": 0
      },
      "text/plain": [
       "Retrieving ProvenanceDoc documents:   0%|          | 0/1 [00:00<?, ?it/s]"
      ]
     },
     "metadata": {},
     "output_type": "display_data"
    },
    {
     "data": {
      "application/vnd.jupyter.widget-view+json": {
       "model_id": "bcd1729684a7421a846af4f9ac2535d7",
       "version_major": 2,
       "version_minor": 0
      },
      "text/plain": [
       "Retrieving ProvenanceDoc documents:   0%|          | 0/1 [00:00<?, ?it/s]"
      ]
     },
     "metadata": {},
     "output_type": "display_data"
    },
    {
     "data": {
      "application/vnd.jupyter.widget-view+json": {
       "model_id": "b22962b3b2114e979c27c4cc8343d9cf",
       "version_major": 2,
       "version_minor": 0
      },
      "text/plain": [
       "Retrieving ProvenanceDoc documents:   0%|          | 0/1 [00:00<?, ?it/s]"
      ]
     },
     "metadata": {},
     "output_type": "display_data"
    },
    {
     "data": {
      "application/vnd.jupyter.widget-view+json": {
       "model_id": "331f6997ba50403e9920736558b23081",
       "version_major": 2,
       "version_minor": 0
      },
      "text/plain": [
       "Retrieving ProvenanceDoc documents:   0%|          | 0/1 [00:00<?, ?it/s]"
      ]
     },
     "metadata": {},
     "output_type": "display_data"
    },
    {
     "data": {
      "application/vnd.jupyter.widget-view+json": {
       "model_id": "8f85199a78ee4c25a812d7b1cdc2dd2b",
       "version_major": 2,
       "version_minor": 0
      },
      "text/plain": [
       "Retrieving ProvenanceDoc documents:   0%|          | 0/1 [00:00<?, ?it/s]"
      ]
     },
     "metadata": {},
     "output_type": "display_data"
    },
    {
     "data": {
      "application/vnd.jupyter.widget-view+json": {
       "model_id": "89e8293f057e49118b347d3dcfb996b2",
       "version_major": 2,
       "version_minor": 0
      },
      "text/plain": [
       "Retrieving ProvenanceDoc documents:   0%|          | 0/1 [00:00<?, ?it/s]"
      ]
     },
     "metadata": {},
     "output_type": "display_data"
    },
    {
     "data": {
      "application/vnd.jupyter.widget-view+json": {
       "model_id": "92fa170100e047c7ad83e7ab4952a23c",
       "version_major": 2,
       "version_minor": 0
      },
      "text/plain": [
       "Retrieving ProvenanceDoc documents:   0%|          | 0/1 [00:00<?, ?it/s]"
      ]
     },
     "metadata": {},
     "output_type": "display_data"
    },
    {
     "data": {
      "application/vnd.jupyter.widget-view+json": {
       "model_id": "0f11209b0ed14127824d2de085011bdd",
       "version_major": 2,
       "version_minor": 0
      },
      "text/plain": [
       "Retrieving ProvenanceDoc documents:   0%|          | 0/1 [00:00<?, ?it/s]"
      ]
     },
     "metadata": {},
     "output_type": "display_data"
    },
    {
     "data": {
      "application/vnd.jupyter.widget-view+json": {
       "model_id": "9afecf4f53bf460daa686e3d3afcf5b1",
       "version_major": 2,
       "version_minor": 0
      },
      "text/plain": [
       "Retrieving ProvenanceDoc documents:   0%|          | 0/1 [00:00<?, ?it/s]"
      ]
     },
     "metadata": {},
     "output_type": "display_data"
    },
    {
     "data": {
      "application/vnd.jupyter.widget-view+json": {
       "model_id": "1a77faa663954ea2b0b8ca4fa7b35ca9",
       "version_major": 2,
       "version_minor": 0
      },
      "text/plain": [
       "Retrieving ProvenanceDoc documents:   0%|          | 0/1 [00:00<?, ?it/s]"
      ]
     },
     "metadata": {},
     "output_type": "display_data"
    },
    {
     "data": {
      "application/vnd.jupyter.widget-view+json": {
       "model_id": "f02796ce7bf8460e854cc6b04fa1bfa4",
       "version_major": 2,
       "version_minor": 0
      },
      "text/plain": [
       "Retrieving ProvenanceDoc documents:   0%|          | 0/1 [00:00<?, ?it/s]"
      ]
     },
     "metadata": {},
     "output_type": "display_data"
    },
    {
     "data": {
      "application/vnd.jupyter.widget-view+json": {
       "model_id": "74d2d7f62a3942c8b95e0a7cac403938",
       "version_major": 2,
       "version_minor": 0
      },
      "text/plain": [
       "Retrieving ProvenanceDoc documents:   0%|          | 0/1 [00:00<?, ?it/s]"
      ]
     },
     "metadata": {},
     "output_type": "display_data"
    },
    {
     "data": {
      "application/vnd.jupyter.widget-view+json": {
       "model_id": "4b81f247da4c44dca156ba3b1ac789b1",
       "version_major": 2,
       "version_minor": 0
      },
      "text/plain": [
       "Retrieving ProvenanceDoc documents:   0%|          | 0/1 [00:00<?, ?it/s]"
      ]
     },
     "metadata": {},
     "output_type": "display_data"
    },
    {
     "data": {
      "application/vnd.jupyter.widget-view+json": {
       "model_id": "82a163645f264c66843f0ce01b38529d",
       "version_major": 2,
       "version_minor": 0
      },
      "text/plain": [
       "Retrieving ProvenanceDoc documents:   0%|          | 0/1 [00:00<?, ?it/s]"
      ]
     },
     "metadata": {},
     "output_type": "display_data"
    },
    {
     "data": {
      "application/vnd.jupyter.widget-view+json": {
       "model_id": "c84f95ff6bd14fbe9f6c7df13dde06a5",
       "version_major": 2,
       "version_minor": 0
      },
      "text/plain": [
       "Retrieving ProvenanceDoc documents:   0%|          | 0/1 [00:00<?, ?it/s]"
      ]
     },
     "metadata": {},
     "output_type": "display_data"
    },
    {
     "data": {
      "application/vnd.jupyter.widget-view+json": {
       "model_id": "2222252c70894f37a240263f9f4f0d48",
       "version_major": 2,
       "version_minor": 0
      },
      "text/plain": [
       "Retrieving ProvenanceDoc documents:   0%|          | 0/1 [00:00<?, ?it/s]"
      ]
     },
     "metadata": {},
     "output_type": "display_data"
    },
    {
     "data": {
      "application/vnd.jupyter.widget-view+json": {
       "model_id": "3022fb81e82748408ffd289febc1cfc9",
       "version_major": 2,
       "version_minor": 0
      },
      "text/plain": [
       "Retrieving ProvenanceDoc documents:   0%|          | 0/1 [00:00<?, ?it/s]"
      ]
     },
     "metadata": {},
     "output_type": "display_data"
    },
    {
     "data": {
      "application/vnd.jupyter.widget-view+json": {
       "model_id": "09fde61389f74bd4885772ea3f074881",
       "version_major": 2,
       "version_minor": 0
      },
      "text/plain": [
       "Retrieving ProvenanceDoc documents:   0%|          | 0/1 [00:00<?, ?it/s]"
      ]
     },
     "metadata": {},
     "output_type": "display_data"
    },
    {
     "data": {
      "application/vnd.jupyter.widget-view+json": {
       "model_id": "e16fa402942e44b09dddbb0a82dcf035",
       "version_major": 2,
       "version_minor": 0
      },
      "text/plain": [
       "Retrieving ProvenanceDoc documents:   0%|          | 0/1 [00:00<?, ?it/s]"
      ]
     },
     "metadata": {},
     "output_type": "display_data"
    },
    {
     "data": {
      "application/vnd.jupyter.widget-view+json": {
       "model_id": "c6b08638f8b64ff1a9097bcf76547eb9",
       "version_major": 2,
       "version_minor": 0
      },
      "text/plain": [
       "Retrieving ProvenanceDoc documents:   0%|          | 0/1 [00:00<?, ?it/s]"
      ]
     },
     "metadata": {},
     "output_type": "display_data"
    },
    {
     "data": {
      "application/vnd.jupyter.widget-view+json": {
       "model_id": "56fce6248eae4d79b42cee061ae2326f",
       "version_major": 2,
       "version_minor": 0
      },
      "text/plain": [
       "Retrieving ProvenanceDoc documents:   0%|          | 0/1 [00:00<?, ?it/s]"
      ]
     },
     "metadata": {},
     "output_type": "display_data"
    },
    {
     "data": {
      "application/vnd.jupyter.widget-view+json": {
       "model_id": "ffe7335833aa4d05b6e4832f00563c6b",
       "version_major": 2,
       "version_minor": 0
      },
      "text/plain": [
       "Retrieving ProvenanceDoc documents:   0%|          | 0/1 [00:00<?, ?it/s]"
      ]
     },
     "metadata": {},
     "output_type": "display_data"
    },
    {
     "data": {
      "application/vnd.jupyter.widget-view+json": {
       "model_id": "117b595fb3c44871be5238d2f39f99ab",
       "version_major": 2,
       "version_minor": 0
      },
      "text/plain": [
       "Retrieving ProvenanceDoc documents:   0%|          | 0/1 [00:00<?, ?it/s]"
      ]
     },
     "metadata": {},
     "output_type": "display_data"
    },
    {
     "data": {
      "application/vnd.jupyter.widget-view+json": {
       "model_id": "da8ec809e70b4e749ab2f9102757c278",
       "version_major": 2,
       "version_minor": 0
      },
      "text/plain": [
       "Retrieving ProvenanceDoc documents:   0%|          | 0/1 [00:00<?, ?it/s]"
      ]
     },
     "metadata": {},
     "output_type": "display_data"
    },
    {
     "data": {
      "application/vnd.jupyter.widget-view+json": {
       "model_id": "763b455840854d5f908dc9e74eb78327",
       "version_major": 2,
       "version_minor": 0
      },
      "text/plain": [
       "Retrieving ProvenanceDoc documents:   0%|          | 0/1 [00:00<?, ?it/s]"
      ]
     },
     "metadata": {},
     "output_type": "display_data"
    },
    {
     "data": {
      "application/vnd.jupyter.widget-view+json": {
       "model_id": "ca9a6d834be5469790e8ea4b122da792",
       "version_major": 2,
       "version_minor": 0
      },
      "text/plain": [
       "Retrieving ProvenanceDoc documents:   0%|          | 0/1 [00:00<?, ?it/s]"
      ]
     },
     "metadata": {},
     "output_type": "display_data"
    },
    {
     "data": {
      "application/vnd.jupyter.widget-view+json": {
       "model_id": "fa96294de5c2448aa8a968ee8b360987",
       "version_major": 2,
       "version_minor": 0
      },
      "text/plain": [
       "Retrieving ProvenanceDoc documents:   0%|          | 0/1 [00:00<?, ?it/s]"
      ]
     },
     "metadata": {},
     "output_type": "display_data"
    },
    {
     "data": {
      "application/vnd.jupyter.widget-view+json": {
       "model_id": "2dc04b0336604a3a88a4ac1c9a1d4600",
       "version_major": 2,
       "version_minor": 0
      },
      "text/plain": [
       "Retrieving ProvenanceDoc documents:   0%|          | 0/1 [00:00<?, ?it/s]"
      ]
     },
     "metadata": {},
     "output_type": "display_data"
    },
    {
     "data": {
      "application/vnd.jupyter.widget-view+json": {
       "model_id": "496424574f994ed7b96c5334ea50ebf5",
       "version_major": 2,
       "version_minor": 0
      },
      "text/plain": [
       "Retrieving ProvenanceDoc documents:   0%|          | 0/1 [00:00<?, ?it/s]"
      ]
     },
     "metadata": {},
     "output_type": "display_data"
    },
    {
     "data": {
      "application/vnd.jupyter.widget-view+json": {
       "model_id": "5ce60dd20e2c4d98bb23eaa1a08aa307",
       "version_major": 2,
       "version_minor": 0
      },
      "text/plain": [
       "Retrieving ProvenanceDoc documents:   0%|          | 0/1 [00:00<?, ?it/s]"
      ]
     },
     "metadata": {},
     "output_type": "display_data"
    },
    {
     "data": {
      "application/vnd.jupyter.widget-view+json": {
       "model_id": "1e17aeba68df48bf8808ce5a81a36c76",
       "version_major": 2,
       "version_minor": 0
      },
      "text/plain": [
       "Retrieving ProvenanceDoc documents:   0%|          | 0/1 [00:00<?, ?it/s]"
      ]
     },
     "metadata": {},
     "output_type": "display_data"
    },
    {
     "data": {
      "application/vnd.jupyter.widget-view+json": {
       "model_id": "4657534b6a7b4a62aa0d54579383098d",
       "version_major": 2,
       "version_minor": 0
      },
      "text/plain": [
       "Retrieving ProvenanceDoc documents:   0%|          | 0/1 [00:00<?, ?it/s]"
      ]
     },
     "metadata": {},
     "output_type": "display_data"
    },
    {
     "data": {
      "application/vnd.jupyter.widget-view+json": {
       "model_id": "144ff26f53ca4716abb99a3e7847ef25",
       "version_major": 2,
       "version_minor": 0
      },
      "text/plain": [
       "Retrieving ProvenanceDoc documents:   0%|          | 0/1 [00:00<?, ?it/s]"
      ]
     },
     "metadata": {},
     "output_type": "display_data"
    },
    {
     "data": {
      "application/vnd.jupyter.widget-view+json": {
       "model_id": "2740112f68984c5ca8d35a01b71d1e11",
       "version_major": 2,
       "version_minor": 0
      },
      "text/plain": [
       "Retrieving ProvenanceDoc documents:   0%|          | 0/1 [00:00<?, ?it/s]"
      ]
     },
     "metadata": {},
     "output_type": "display_data"
    },
    {
     "data": {
      "application/vnd.jupyter.widget-view+json": {
       "model_id": "96081491e4cb4cc3a53d17d4de7d7c9b",
       "version_major": 2,
       "version_minor": 0
      },
      "text/plain": [
       "Retrieving ProvenanceDoc documents:   0%|          | 0/1 [00:00<?, ?it/s]"
      ]
     },
     "metadata": {},
     "output_type": "display_data"
    },
    {
     "data": {
      "application/vnd.jupyter.widget-view+json": {
       "model_id": "efb1e6d188954633a75442c0e1c8b4cf",
       "version_major": 2,
       "version_minor": 0
      },
      "text/plain": [
       "Retrieving ProvenanceDoc documents:   0%|          | 0/1 [00:00<?, ?it/s]"
      ]
     },
     "metadata": {},
     "output_type": "display_data"
    },
    {
     "data": {
      "application/vnd.jupyter.widget-view+json": {
       "model_id": "72c0fb85e8de4222af3f55498e5f5cb8",
       "version_major": 2,
       "version_minor": 0
      },
      "text/plain": [
       "Retrieving ProvenanceDoc documents:   0%|          | 0/1 [00:00<?, ?it/s]"
      ]
     },
     "metadata": {},
     "output_type": "display_data"
    },
    {
     "data": {
      "application/vnd.jupyter.widget-view+json": {
       "model_id": "fdb2b5e56c9c4ab1a64c10247b17ea0a",
       "version_major": 2,
       "version_minor": 0
      },
      "text/plain": [
       "Retrieving ProvenanceDoc documents:   0%|          | 0/1 [00:00<?, ?it/s]"
      ]
     },
     "metadata": {},
     "output_type": "display_data"
    },
    {
     "data": {
      "application/vnd.jupyter.widget-view+json": {
       "model_id": "c17779cddb914154b4ede5d8c0a96c32",
       "version_major": 2,
       "version_minor": 0
      },
      "text/plain": [
       "Retrieving ProvenanceDoc documents:   0%|          | 0/1 [00:00<?, ?it/s]"
      ]
     },
     "metadata": {},
     "output_type": "display_data"
    },
    {
     "data": {
      "application/vnd.jupyter.widget-view+json": {
       "model_id": "6acb34d537184f598e98bff717fa258b",
       "version_major": 2,
       "version_minor": 0
      },
      "text/plain": [
       "Retrieving ProvenanceDoc documents:   0%|          | 0/1 [00:00<?, ?it/s]"
      ]
     },
     "metadata": {},
     "output_type": "display_data"
    },
    {
     "data": {
      "application/vnd.jupyter.widget-view+json": {
       "model_id": "55496fc4611b4c2d842ecf4ef28f7e06",
       "version_major": 2,
       "version_minor": 0
      },
      "text/plain": [
       "Retrieving ProvenanceDoc documents:   0%|          | 0/1 [00:00<?, ?it/s]"
      ]
     },
     "metadata": {},
     "output_type": "display_data"
    },
    {
     "data": {
      "application/vnd.jupyter.widget-view+json": {
       "model_id": "5eef72410ab14d97b788338484785986",
       "version_major": 2,
       "version_minor": 0
      },
      "text/plain": [
       "Retrieving ProvenanceDoc documents:   0%|          | 0/1 [00:00<?, ?it/s]"
      ]
     },
     "metadata": {},
     "output_type": "display_data"
    },
    {
     "data": {
      "application/vnd.jupyter.widget-view+json": {
       "model_id": "ff4a53033f744de9ae0d3663498fd4e3",
       "version_major": 2,
       "version_minor": 0
      },
      "text/plain": [
       "Retrieving ProvenanceDoc documents:   0%|          | 0/1 [00:00<?, ?it/s]"
      ]
     },
     "metadata": {},
     "output_type": "display_data"
    },
    {
     "data": {
      "application/vnd.jupyter.widget-view+json": {
       "model_id": "dd287c2015eb40c8abf5609e3f784373",
       "version_major": 2,
       "version_minor": 0
      },
      "text/plain": [
       "Retrieving ProvenanceDoc documents:   0%|          | 0/1 [00:00<?, ?it/s]"
      ]
     },
     "metadata": {},
     "output_type": "display_data"
    },
    {
     "data": {
      "application/vnd.jupyter.widget-view+json": {
       "model_id": "d3206d071a904f9eb53b8f5712e4cfcf",
       "version_major": 2,
       "version_minor": 0
      },
      "text/plain": [
       "Retrieving ProvenanceDoc documents:   0%|          | 0/1 [00:00<?, ?it/s]"
      ]
     },
     "metadata": {},
     "output_type": "display_data"
    },
    {
     "data": {
      "application/vnd.jupyter.widget-view+json": {
       "model_id": "99e34eb9254946ea98e04c6370e7006a",
       "version_major": 2,
       "version_minor": 0
      },
      "text/plain": [
       "Retrieving ProvenanceDoc documents:   0%|          | 0/1 [00:00<?, ?it/s]"
      ]
     },
     "metadata": {},
     "output_type": "display_data"
    },
    {
     "data": {
      "application/vnd.jupyter.widget-view+json": {
       "model_id": "a9b5602fe6e1494fbed507a98c214ffa",
       "version_major": 2,
       "version_minor": 0
      },
      "text/plain": [
       "Retrieving ProvenanceDoc documents:   0%|          | 0/1 [00:00<?, ?it/s]"
      ]
     },
     "metadata": {},
     "output_type": "display_data"
    },
    {
     "data": {
      "application/vnd.jupyter.widget-view+json": {
       "model_id": "08c1b31b279b476288993dfbfab2191b",
       "version_major": 2,
       "version_minor": 0
      },
      "text/plain": [
       "Retrieving ProvenanceDoc documents:   0%|          | 0/1 [00:00<?, ?it/s]"
      ]
     },
     "metadata": {},
     "output_type": "display_data"
    },
    {
     "data": {
      "application/vnd.jupyter.widget-view+json": {
       "model_id": "5028e8b177cc40108cd7375d902d01a7",
       "version_major": 2,
       "version_minor": 0
      },
      "text/plain": [
       "Retrieving ProvenanceDoc documents:   0%|          | 0/1 [00:00<?, ?it/s]"
      ]
     },
     "metadata": {},
     "output_type": "display_data"
    },
    {
     "data": {
      "application/vnd.jupyter.widget-view+json": {
       "model_id": "2e644af8b3744a1fa98d88b3d5448cb8",
       "version_major": 2,
       "version_minor": 0
      },
      "text/plain": [
       "Retrieving ProvenanceDoc documents:   0%|          | 0/1 [00:00<?, ?it/s]"
      ]
     },
     "metadata": {},
     "output_type": "display_data"
    },
    {
     "data": {
      "application/vnd.jupyter.widget-view+json": {
       "model_id": "5c5d2f0a971941229c05dd164e831be9",
       "version_major": 2,
       "version_minor": 0
      },
      "text/plain": [
       "Retrieving ProvenanceDoc documents:   0%|          | 0/1 [00:00<?, ?it/s]"
      ]
     },
     "metadata": {},
     "output_type": "display_data"
    },
    {
     "data": {
      "application/vnd.jupyter.widget-view+json": {
       "model_id": "da7854802ecb4decb93eb92e2bfc085e",
       "version_major": 2,
       "version_minor": 0
      },
      "text/plain": [
       "Retrieving ProvenanceDoc documents:   0%|          | 0/1 [00:00<?, ?it/s]"
      ]
     },
     "metadata": {},
     "output_type": "display_data"
    },
    {
     "data": {
      "application/vnd.jupyter.widget-view+json": {
       "model_id": "4292d0f98e9f4ddc90dc8f49d75b97cc",
       "version_major": 2,
       "version_minor": 0
      },
      "text/plain": [
       "Retrieving ProvenanceDoc documents:   0%|          | 0/1 [00:00<?, ?it/s]"
      ]
     },
     "metadata": {},
     "output_type": "display_data"
    },
    {
     "data": {
      "application/vnd.jupyter.widget-view+json": {
       "model_id": "ed2e341ce4bc4afba25d19a74d38d974",
       "version_major": 2,
       "version_minor": 0
      },
      "text/plain": [
       "Retrieving ProvenanceDoc documents:   0%|          | 0/1 [00:00<?, ?it/s]"
      ]
     },
     "metadata": {},
     "output_type": "display_data"
    },
    {
     "data": {
      "application/vnd.jupyter.widget-view+json": {
       "model_id": "5f2fae31c0d043d8961cc3ba8d9c96c0",
       "version_major": 2,
       "version_minor": 0
      },
      "text/plain": [
       "Retrieving ProvenanceDoc documents:   0%|          | 0/1 [00:00<?, ?it/s]"
      ]
     },
     "metadata": {},
     "output_type": "display_data"
    },
    {
     "data": {
      "application/vnd.jupyter.widget-view+json": {
       "model_id": "eb8e383a27bb487b85e368e2aa2ad64e",
       "version_major": 2,
       "version_minor": 0
      },
      "text/plain": [
       "Retrieving ProvenanceDoc documents:   0%|          | 0/1 [00:00<?, ?it/s]"
      ]
     },
     "metadata": {},
     "output_type": "display_data"
    },
    {
     "data": {
      "application/vnd.jupyter.widget-view+json": {
       "model_id": "96b6d712a1a64edca32b0f05796c4077",
       "version_major": 2,
       "version_minor": 0
      },
      "text/plain": [
       "Retrieving ProvenanceDoc documents:   0%|          | 0/1 [00:00<?, ?it/s]"
      ]
     },
     "metadata": {},
     "output_type": "display_data"
    },
    {
     "data": {
      "application/vnd.jupyter.widget-view+json": {
       "model_id": "52686d9c8bcb4ff8bdc640fe029c663a",
       "version_major": 2,
       "version_minor": 0
      },
      "text/plain": [
       "Retrieving ProvenanceDoc documents:   0%|          | 0/1 [00:00<?, ?it/s]"
      ]
     },
     "metadata": {},
     "output_type": "display_data"
    },
    {
     "data": {
      "application/vnd.jupyter.widget-view+json": {
       "model_id": "5da9d78e9f4b43d38a899e184b339f84",
       "version_major": 2,
       "version_minor": 0
      },
      "text/plain": [
       "Retrieving ProvenanceDoc documents:   0%|          | 0/1 [00:00<?, ?it/s]"
      ]
     },
     "metadata": {},
     "output_type": "display_data"
    },
    {
     "data": {
      "application/vnd.jupyter.widget-view+json": {
       "model_id": "06e272f4c11d42ca84654f0c9f700254",
       "version_major": 2,
       "version_minor": 0
      },
      "text/plain": [
       "Retrieving ProvenanceDoc documents:   0%|          | 0/1 [00:00<?, ?it/s]"
      ]
     },
     "metadata": {},
     "output_type": "display_data"
    },
    {
     "data": {
      "application/vnd.jupyter.widget-view+json": {
       "model_id": "9445c2f439b543ad9160052ec3e1b0d4",
       "version_major": 2,
       "version_minor": 0
      },
      "text/plain": [
       "Retrieving ProvenanceDoc documents:   0%|          | 0/1 [00:00<?, ?it/s]"
      ]
     },
     "metadata": {},
     "output_type": "display_data"
    },
    {
     "data": {
      "application/vnd.jupyter.widget-view+json": {
       "model_id": "943bd506b77045098968bda2fa37b4a5",
       "version_major": 2,
       "version_minor": 0
      },
      "text/plain": [
       "Retrieving ProvenanceDoc documents:   0%|          | 0/1 [00:00<?, ?it/s]"
      ]
     },
     "metadata": {},
     "output_type": "display_data"
    },
    {
     "data": {
      "application/vnd.jupyter.widget-view+json": {
       "model_id": "2289cba7c2804ed18c57a2db2c8a0820",
       "version_major": 2,
       "version_minor": 0
      },
      "text/plain": [
       "Retrieving ProvenanceDoc documents:   0%|          | 0/1 [00:00<?, ?it/s]"
      ]
     },
     "metadata": {},
     "output_type": "display_data"
    },
    {
     "data": {
      "application/vnd.jupyter.widget-view+json": {
       "model_id": "a89932d036f6467c8954f27c509ef6e8",
       "version_major": 2,
       "version_minor": 0
      },
      "text/plain": [
       "Retrieving ProvenanceDoc documents:   0%|          | 0/1 [00:00<?, ?it/s]"
      ]
     },
     "metadata": {},
     "output_type": "display_data"
    },
    {
     "data": {
      "application/vnd.jupyter.widget-view+json": {
       "model_id": "a7acdce816f4466c81055e139128e94e",
       "version_major": 2,
       "version_minor": 0
      },
      "text/plain": [
       "Retrieving ProvenanceDoc documents:   0%|          | 0/1 [00:00<?, ?it/s]"
      ]
     },
     "metadata": {},
     "output_type": "display_data"
    },
    {
     "data": {
      "application/vnd.jupyter.widget-view+json": {
       "model_id": "de39fbe12a49411a8015ceada8ccb44f",
       "version_major": 2,
       "version_minor": 0
      },
      "text/plain": [
       "Retrieving ProvenanceDoc documents:   0%|          | 0/1 [00:00<?, ?it/s]"
      ]
     },
     "metadata": {},
     "output_type": "display_data"
    },
    {
     "data": {
      "application/vnd.jupyter.widget-view+json": {
       "model_id": "4082e67cb8a2469096dda0ce3b8aab43",
       "version_major": 2,
       "version_minor": 0
      },
      "text/plain": [
       "Retrieving ProvenanceDoc documents:   0%|          | 0/1 [00:00<?, ?it/s]"
      ]
     },
     "metadata": {},
     "output_type": "display_data"
    },
    {
     "data": {
      "application/vnd.jupyter.widget-view+json": {
       "model_id": "0432ea739b4f4d338b02da7cc03fbd2f",
       "version_major": 2,
       "version_minor": 0
      },
      "text/plain": [
       "Retrieving ProvenanceDoc documents:   0%|          | 0/1 [00:00<?, ?it/s]"
      ]
     },
     "metadata": {},
     "output_type": "display_data"
    },
    {
     "data": {
      "application/vnd.jupyter.widget-view+json": {
       "model_id": "2b69dab1bd26435998bcc849ebedbccd",
       "version_major": 2,
       "version_minor": 0
      },
      "text/plain": [
       "Retrieving ProvenanceDoc documents:   0%|          | 0/1 [00:00<?, ?it/s]"
      ]
     },
     "metadata": {},
     "output_type": "display_data"
    },
    {
     "data": {
      "application/vnd.jupyter.widget-view+json": {
       "model_id": "ce808840f47640aab5905b6e3aa679d3",
       "version_major": 2,
       "version_minor": 0
      },
      "text/plain": [
       "Retrieving ProvenanceDoc documents:   0%|          | 0/1 [00:00<?, ?it/s]"
      ]
     },
     "metadata": {},
     "output_type": "display_data"
    },
    {
     "data": {
      "application/vnd.jupyter.widget-view+json": {
       "model_id": "5262018f0887409e93896e333b012026",
       "version_major": 2,
       "version_minor": 0
      },
      "text/plain": [
       "Retrieving ProvenanceDoc documents:   0%|          | 0/1 [00:00<?, ?it/s]"
      ]
     },
     "metadata": {},
     "output_type": "display_data"
    },
    {
     "data": {
      "application/vnd.jupyter.widget-view+json": {
       "model_id": "378edc737308414ba50a927f70fa5a21",
       "version_major": 2,
       "version_minor": 0
      },
      "text/plain": [
       "Retrieving ProvenanceDoc documents:   0%|          | 0/1 [00:00<?, ?it/s]"
      ]
     },
     "metadata": {},
     "output_type": "display_data"
    },
    {
     "data": {
      "application/vnd.jupyter.widget-view+json": {
       "model_id": "672af3e652ee4351b0db0e96b6c0ac44",
       "version_major": 2,
       "version_minor": 0
      },
      "text/plain": [
       "Retrieving ProvenanceDoc documents:   0%|          | 0/1 [00:00<?, ?it/s]"
      ]
     },
     "metadata": {},
     "output_type": "display_data"
    },
    {
     "data": {
      "application/vnd.jupyter.widget-view+json": {
       "model_id": "8de13f5c89f747b1921eb3095e95f7aa",
       "version_major": 2,
       "version_minor": 0
      },
      "text/plain": [
       "Retrieving ProvenanceDoc documents:   0%|          | 0/1 [00:00<?, ?it/s]"
      ]
     },
     "metadata": {},
     "output_type": "display_data"
    },
    {
     "data": {
      "application/vnd.jupyter.widget-view+json": {
       "model_id": "cb896c5e0b1f463a86ad4b25b197975d",
       "version_major": 2,
       "version_minor": 0
      },
      "text/plain": [
       "Retrieving ProvenanceDoc documents:   0%|          | 0/1 [00:00<?, ?it/s]"
      ]
     },
     "metadata": {},
     "output_type": "display_data"
    },
    {
     "data": {
      "application/vnd.jupyter.widget-view+json": {
       "model_id": "d152ca8a31b74ec2b4282cc8ee231601",
       "version_major": 2,
       "version_minor": 0
      },
      "text/plain": [
       "Retrieving ProvenanceDoc documents:   0%|          | 0/1 [00:00<?, ?it/s]"
      ]
     },
     "metadata": {},
     "output_type": "display_data"
    },
    {
     "data": {
      "application/vnd.jupyter.widget-view+json": {
       "model_id": "178c365b9fe74839932641afdf3dfb31",
       "version_major": 2,
       "version_minor": 0
      },
      "text/plain": [
       "Retrieving ProvenanceDoc documents:   0%|          | 0/1 [00:00<?, ?it/s]"
      ]
     },
     "metadata": {},
     "output_type": "display_data"
    },
    {
     "data": {
      "application/vnd.jupyter.widget-view+json": {
       "model_id": "867b1bb68b7846a58e489ab4c9723a96",
       "version_major": 2,
       "version_minor": 0
      },
      "text/plain": [
       "Retrieving ProvenanceDoc documents:   0%|          | 0/1 [00:00<?, ?it/s]"
      ]
     },
     "metadata": {},
     "output_type": "display_data"
    },
    {
     "data": {
      "application/vnd.jupyter.widget-view+json": {
       "model_id": "809b6e85aaa04ddfbc3d3c6d2a3eddf0",
       "version_major": 2,
       "version_minor": 0
      },
      "text/plain": [
       "Retrieving ProvenanceDoc documents:   0%|          | 0/1 [00:00<?, ?it/s]"
      ]
     },
     "metadata": {},
     "output_type": "display_data"
    },
    {
     "data": {
      "application/vnd.jupyter.widget-view+json": {
       "model_id": "257cb1124386435f9112d0afb97c7ea0",
       "version_major": 2,
       "version_minor": 0
      },
      "text/plain": [
       "Retrieving ProvenanceDoc documents:   0%|          | 0/1 [00:00<?, ?it/s]"
      ]
     },
     "metadata": {},
     "output_type": "display_data"
    },
    {
     "data": {
      "application/vnd.jupyter.widget-view+json": {
       "model_id": "b5e5189ec30b41749cf47796f29c4fda",
       "version_major": 2,
       "version_minor": 0
      },
      "text/plain": [
       "Retrieving ProvenanceDoc documents:   0%|          | 0/1 [00:00<?, ?it/s]"
      ]
     },
     "metadata": {},
     "output_type": "display_data"
    },
    {
     "data": {
      "application/vnd.jupyter.widget-view+json": {
       "model_id": "29cce34541d44c56a9bdc7a421b53d78",
       "version_major": 2,
       "version_minor": 0
      },
      "text/plain": [
       "Retrieving ProvenanceDoc documents:   0%|          | 0/1 [00:00<?, ?it/s]"
      ]
     },
     "metadata": {},
     "output_type": "display_data"
    },
    {
     "data": {
      "application/vnd.jupyter.widget-view+json": {
       "model_id": "d13621ff219244ba92110184773e05b1",
       "version_major": 2,
       "version_minor": 0
      },
      "text/plain": [
       "Retrieving ProvenanceDoc documents:   0%|          | 0/1 [00:00<?, ?it/s]"
      ]
     },
     "metadata": {},
     "output_type": "display_data"
    },
    {
     "data": {
      "application/vnd.jupyter.widget-view+json": {
       "model_id": "a9cf9cc08d3d477c97bb59dff976aa94",
       "version_major": 2,
       "version_minor": 0
      },
      "text/plain": [
       "Retrieving ProvenanceDoc documents:   0%|          | 0/1 [00:00<?, ?it/s]"
      ]
     },
     "metadata": {},
     "output_type": "display_data"
    },
    {
     "data": {
      "application/vnd.jupyter.widget-view+json": {
       "model_id": "71e92d03669147e5b5cc2e611ff0d1a4",
       "version_major": 2,
       "version_minor": 0
      },
      "text/plain": [
       "Retrieving ProvenanceDoc documents:   0%|          | 0/1 [00:00<?, ?it/s]"
      ]
     },
     "metadata": {},
     "output_type": "display_data"
    },
    {
     "data": {
      "application/vnd.jupyter.widget-view+json": {
       "model_id": "d6e44c75ab264913b5be01fe39432c5c",
       "version_major": 2,
       "version_minor": 0
      },
      "text/plain": [
       "Retrieving ProvenanceDoc documents:   0%|          | 0/1 [00:00<?, ?it/s]"
      ]
     },
     "metadata": {},
     "output_type": "display_data"
    },
    {
     "data": {
      "application/vnd.jupyter.widget-view+json": {
       "model_id": "2ee2aa4f4b484239935500624a5add82",
       "version_major": 2,
       "version_minor": 0
      },
      "text/plain": [
       "Retrieving ProvenanceDoc documents:   0%|          | 0/1 [00:00<?, ?it/s]"
      ]
     },
     "metadata": {},
     "output_type": "display_data"
    },
    {
     "data": {
      "application/vnd.jupyter.widget-view+json": {
       "model_id": "82b31a1bb2b6466eb9e86c2301aedebc",
       "version_major": 2,
       "version_minor": 0
      },
      "text/plain": [
       "Retrieving ProvenanceDoc documents:   0%|          | 0/1 [00:00<?, ?it/s]"
      ]
     },
     "metadata": {},
     "output_type": "display_data"
    },
    {
     "data": {
      "application/vnd.jupyter.widget-view+json": {
       "model_id": "5f5f632b55694de0b6f3b59c782b23e0",
       "version_major": 2,
       "version_minor": 0
      },
      "text/plain": [
       "Retrieving ProvenanceDoc documents:   0%|          | 0/1 [00:00<?, ?it/s]"
      ]
     },
     "metadata": {},
     "output_type": "display_data"
    },
    {
     "data": {
      "application/vnd.jupyter.widget-view+json": {
       "model_id": "9a2af932f0044754857597458f3e3035",
       "version_major": 2,
       "version_minor": 0
      },
      "text/plain": [
       "Retrieving ProvenanceDoc documents:   0%|          | 0/1 [00:00<?, ?it/s]"
      ]
     },
     "metadata": {},
     "output_type": "display_data"
    },
    {
     "data": {
      "application/vnd.jupyter.widget-view+json": {
       "model_id": "acc877912825424ea3d2b9ace0c10da1",
       "version_major": 2,
       "version_minor": 0
      },
      "text/plain": [
       "Retrieving ProvenanceDoc documents:   0%|          | 0/1 [00:00<?, ?it/s]"
      ]
     },
     "metadata": {},
     "output_type": "display_data"
    },
    {
     "data": {
      "application/vnd.jupyter.widget-view+json": {
       "model_id": "e768011d624645eb85d91e45e18cbd05",
       "version_major": 2,
       "version_minor": 0
      },
      "text/plain": [
       "Retrieving ProvenanceDoc documents:   0%|          | 0/1 [00:00<?, ?it/s]"
      ]
     },
     "metadata": {},
     "output_type": "display_data"
    },
    {
     "data": {
      "application/vnd.jupyter.widget-view+json": {
       "model_id": "71c8e06a528f415e9d9c91df8298d21c",
       "version_major": 2,
       "version_minor": 0
      },
      "text/plain": [
       "Retrieving ProvenanceDoc documents:   0%|          | 0/1 [00:00<?, ?it/s]"
      ]
     },
     "metadata": {},
     "output_type": "display_data"
    },
    {
     "data": {
      "application/vnd.jupyter.widget-view+json": {
       "model_id": "cb530d3cbe6044d090d3b2878b05f4ef",
       "version_major": 2,
       "version_minor": 0
      },
      "text/plain": [
       "Retrieving ProvenanceDoc documents:   0%|          | 0/1 [00:00<?, ?it/s]"
      ]
     },
     "metadata": {},
     "output_type": "display_data"
    },
    {
     "data": {
      "application/vnd.jupyter.widget-view+json": {
       "model_id": "c919a77ef6c84ea094db230bd3672e6d",
       "version_major": 2,
       "version_minor": 0
      },
      "text/plain": [
       "Retrieving ProvenanceDoc documents:   0%|          | 0/1 [00:00<?, ?it/s]"
      ]
     },
     "metadata": {},
     "output_type": "display_data"
    },
    {
     "data": {
      "application/vnd.jupyter.widget-view+json": {
       "model_id": "a214a53d4fec426dbbfa897c7b4503b9",
       "version_major": 2,
       "version_minor": 0
      },
      "text/plain": [
       "Retrieving ProvenanceDoc documents:   0%|          | 0/1 [00:00<?, ?it/s]"
      ]
     },
     "metadata": {},
     "output_type": "display_data"
    },
    {
     "data": {
      "application/vnd.jupyter.widget-view+json": {
       "model_id": "fe550c55215742d8a996609cfbd41e6f",
       "version_major": 2,
       "version_minor": 0
      },
      "text/plain": [
       "Retrieving ProvenanceDoc documents:   0%|          | 0/1 [00:00<?, ?it/s]"
      ]
     },
     "metadata": {},
     "output_type": "display_data"
    },
    {
     "data": {
      "application/vnd.jupyter.widget-view+json": {
       "model_id": "ad5f5155e64841f7b5eac7e6d7f2918e",
       "version_major": 2,
       "version_minor": 0
      },
      "text/plain": [
       "Retrieving ProvenanceDoc documents:   0%|          | 0/1 [00:00<?, ?it/s]"
      ]
     },
     "metadata": {},
     "output_type": "display_data"
    },
    {
     "data": {
      "application/vnd.jupyter.widget-view+json": {
       "model_id": "6a5c9ddd5d994ed5adb67c0dc4d913d4",
       "version_major": 2,
       "version_minor": 0
      },
      "text/plain": [
       "Retrieving ProvenanceDoc documents:   0%|          | 0/1 [00:00<?, ?it/s]"
      ]
     },
     "metadata": {},
     "output_type": "display_data"
    },
    {
     "data": {
      "application/vnd.jupyter.widget-view+json": {
       "model_id": "51d884c73cca4ee8b7e6c274d8308231",
       "version_major": 2,
       "version_minor": 0
      },
      "text/plain": [
       "Retrieving ProvenanceDoc documents:   0%|          | 0/1 [00:00<?, ?it/s]"
      ]
     },
     "metadata": {},
     "output_type": "display_data"
    },
    {
     "data": {
      "application/vnd.jupyter.widget-view+json": {
       "model_id": "150067082bb840349fa0b6190841ccd9",
       "version_major": 2,
       "version_minor": 0
      },
      "text/plain": [
       "Retrieving ProvenanceDoc documents:   0%|          | 0/1 [00:00<?, ?it/s]"
      ]
     },
     "metadata": {},
     "output_type": "display_data"
    },
    {
     "data": {
      "application/vnd.jupyter.widget-view+json": {
       "model_id": "f4aa918438c344398f5d9ab0c461afa6",
       "version_major": 2,
       "version_minor": 0
      },
      "text/plain": [
       "Retrieving ProvenanceDoc documents:   0%|          | 0/1 [00:00<?, ?it/s]"
      ]
     },
     "metadata": {},
     "output_type": "display_data"
    },
    {
     "data": {
      "application/vnd.jupyter.widget-view+json": {
       "model_id": "4ad38bcb551844f1a572954581aba742",
       "version_major": 2,
       "version_minor": 0
      },
      "text/plain": [
       "Retrieving ProvenanceDoc documents:   0%|          | 0/1 [00:00<?, ?it/s]"
      ]
     },
     "metadata": {},
     "output_type": "display_data"
    },
    {
     "data": {
      "application/vnd.jupyter.widget-view+json": {
       "model_id": "6bdfb173e5ef46c99243761ad7ecdaff",
       "version_major": 2,
       "version_minor": 0
      },
      "text/plain": [
       "Retrieving ProvenanceDoc documents:   0%|          | 0/1 [00:00<?, ?it/s]"
      ]
     },
     "metadata": {},
     "output_type": "display_data"
    },
    {
     "data": {
      "application/vnd.jupyter.widget-view+json": {
       "model_id": "624c689c09ba423c95b9e10cc70180f5",
       "version_major": 2,
       "version_minor": 0
      },
      "text/plain": [
       "Retrieving ProvenanceDoc documents:   0%|          | 0/1 [00:00<?, ?it/s]"
      ]
     },
     "metadata": {},
     "output_type": "display_data"
    },
    {
     "data": {
      "application/vnd.jupyter.widget-view+json": {
       "model_id": "253191d6812444cf8cbe6c3ed4b5e6b4",
       "version_major": 2,
       "version_minor": 0
      },
      "text/plain": [
       "Retrieving ProvenanceDoc documents:   0%|          | 0/1 [00:00<?, ?it/s]"
      ]
     },
     "metadata": {},
     "output_type": "display_data"
    },
    {
     "data": {
      "application/vnd.jupyter.widget-view+json": {
       "model_id": "98ba94685d874a8db4f2df3d0fbc4991",
       "version_major": 2,
       "version_minor": 0
      },
      "text/plain": [
       "Retrieving ProvenanceDoc documents:   0%|          | 0/1 [00:00<?, ?it/s]"
      ]
     },
     "metadata": {},
     "output_type": "display_data"
    },
    {
     "data": {
      "application/vnd.jupyter.widget-view+json": {
       "model_id": "39a59ebae75148d6bc17941f30541afe",
       "version_major": 2,
       "version_minor": 0
      },
      "text/plain": [
       "Retrieving ProvenanceDoc documents:   0%|          | 0/1 [00:00<?, ?it/s]"
      ]
     },
     "metadata": {},
     "output_type": "display_data"
    },
    {
     "data": {
      "application/vnd.jupyter.widget-view+json": {
       "model_id": "784a0900efe2436eb88dce2afe2ce927",
       "version_major": 2,
       "version_minor": 0
      },
      "text/plain": [
       "Retrieving ProvenanceDoc documents:   0%|          | 0/1 [00:00<?, ?it/s]"
      ]
     },
     "metadata": {},
     "output_type": "display_data"
    },
    {
     "data": {
      "application/vnd.jupyter.widget-view+json": {
       "model_id": "b855eae79cca4c328f9b3bdee8bceba6",
       "version_major": 2,
       "version_minor": 0
      },
      "text/plain": [
       "Retrieving ProvenanceDoc documents:   0%|          | 0/1 [00:00<?, ?it/s]"
      ]
     },
     "metadata": {},
     "output_type": "display_data"
    },
    {
     "data": {
      "application/vnd.jupyter.widget-view+json": {
       "model_id": "dfb1aa2040f14a9bb672f5ff6829a58b",
       "version_major": 2,
       "version_minor": 0
      },
      "text/plain": [
       "Retrieving ProvenanceDoc documents:   0%|          | 0/1 [00:00<?, ?it/s]"
      ]
     },
     "metadata": {},
     "output_type": "display_data"
    },
    {
     "data": {
      "application/vnd.jupyter.widget-view+json": {
       "model_id": "09f076c706674990b9d33299c11907cf",
       "version_major": 2,
       "version_minor": 0
      },
      "text/plain": [
       "Retrieving ProvenanceDoc documents:   0%|          | 0/1 [00:00<?, ?it/s]"
      ]
     },
     "metadata": {},
     "output_type": "display_data"
    },
    {
     "data": {
      "application/vnd.jupyter.widget-view+json": {
       "model_id": "6b7854861bb04e7d953ca5a2241ba47b",
       "version_major": 2,
       "version_minor": 0
      },
      "text/plain": [
       "Retrieving ProvenanceDoc documents:   0%|          | 0/1 [00:00<?, ?it/s]"
      ]
     },
     "metadata": {},
     "output_type": "display_data"
    },
    {
     "data": {
      "application/vnd.jupyter.widget-view+json": {
       "model_id": "b046ea830a114daea032062a41b1f0a7",
       "version_major": 2,
       "version_minor": 0
      },
      "text/plain": [
       "Retrieving ProvenanceDoc documents:   0%|          | 0/1 [00:00<?, ?it/s]"
      ]
     },
     "metadata": {},
     "output_type": "display_data"
    },
    {
     "data": {
      "application/vnd.jupyter.widget-view+json": {
       "model_id": "b276fcfde8a94242a73eb093662157e5",
       "version_major": 2,
       "version_minor": 0
      },
      "text/plain": [
       "Retrieving ProvenanceDoc documents:   0%|          | 0/1 [00:00<?, ?it/s]"
      ]
     },
     "metadata": {},
     "output_type": "display_data"
    },
    {
     "data": {
      "application/vnd.jupyter.widget-view+json": {
       "model_id": "b6fd849668cc4f79b316d2159d4f7aa1",
       "version_major": 2,
       "version_minor": 0
      },
      "text/plain": [
       "Retrieving ProvenanceDoc documents:   0%|          | 0/1 [00:00<?, ?it/s]"
      ]
     },
     "metadata": {},
     "output_type": "display_data"
    },
    {
     "data": {
      "application/vnd.jupyter.widget-view+json": {
       "model_id": "58d876d7352e457eb00e38f59a15a042",
       "version_major": 2,
       "version_minor": 0
      },
      "text/plain": [
       "Retrieving ProvenanceDoc documents:   0%|          | 0/1 [00:00<?, ?it/s]"
      ]
     },
     "metadata": {},
     "output_type": "display_data"
    },
    {
     "data": {
      "application/vnd.jupyter.widget-view+json": {
       "model_id": "ae0fb73ea1324a36b8f329b2d58b23fb",
       "version_major": 2,
       "version_minor": 0
      },
      "text/plain": [
       "Retrieving ProvenanceDoc documents:   0%|          | 0/1 [00:00<?, ?it/s]"
      ]
     },
     "metadata": {},
     "output_type": "display_data"
    },
    {
     "data": {
      "application/vnd.jupyter.widget-view+json": {
       "model_id": "ea7a643b8ae44e02a50dcf2a6b1b2e3d",
       "version_major": 2,
       "version_minor": 0
      },
      "text/plain": [
       "Retrieving ProvenanceDoc documents:   0%|          | 0/1 [00:00<?, ?it/s]"
      ]
     },
     "metadata": {},
     "output_type": "display_data"
    },
    {
     "data": {
      "application/vnd.jupyter.widget-view+json": {
       "model_id": "bc250f3fd30b47dd81f489ef9dadf493",
       "version_major": 2,
       "version_minor": 0
      },
      "text/plain": [
       "Retrieving ProvenanceDoc documents:   0%|          | 0/1 [00:00<?, ?it/s]"
      ]
     },
     "metadata": {},
     "output_type": "display_data"
    },
    {
     "data": {
      "application/vnd.jupyter.widget-view+json": {
       "model_id": "e3b8fb37fee641cfa8720ec50419592b",
       "version_major": 2,
       "version_minor": 0
      },
      "text/plain": [
       "Retrieving ProvenanceDoc documents:   0%|          | 0/1 [00:00<?, ?it/s]"
      ]
     },
     "metadata": {},
     "output_type": "display_data"
    },
    {
     "data": {
      "application/vnd.jupyter.widget-view+json": {
       "model_id": "08e184360d7b419abc1a008aa82bac74",
       "version_major": 2,
       "version_minor": 0
      },
      "text/plain": [
       "Retrieving ProvenanceDoc documents:   0%|          | 0/1 [00:00<?, ?it/s]"
      ]
     },
     "metadata": {},
     "output_type": "display_data"
    },
    {
     "data": {
      "application/vnd.jupyter.widget-view+json": {
       "model_id": "b681223dc4d940e1bbd0b1024d65421d",
       "version_major": 2,
       "version_minor": 0
      },
      "text/plain": [
       "Retrieving ProvenanceDoc documents:   0%|          | 0/1 [00:00<?, ?it/s]"
      ]
     },
     "metadata": {},
     "output_type": "display_data"
    },
    {
     "data": {
      "application/vnd.jupyter.widget-view+json": {
       "model_id": "4dcd35841b4a417684777569c3b332cb",
       "version_major": 2,
       "version_minor": 0
      },
      "text/plain": [
       "Retrieving ProvenanceDoc documents:   0%|          | 0/1 [00:00<?, ?it/s]"
      ]
     },
     "metadata": {},
     "output_type": "display_data"
    },
    {
     "data": {
      "application/vnd.jupyter.widget-view+json": {
       "model_id": "905ab6212b534e10a84799a61a23406d",
       "version_major": 2,
       "version_minor": 0
      },
      "text/plain": [
       "Retrieving ProvenanceDoc documents:   0%|          | 0/1 [00:00<?, ?it/s]"
      ]
     },
     "metadata": {},
     "output_type": "display_data"
    },
    {
     "data": {
      "application/vnd.jupyter.widget-view+json": {
       "model_id": "de3e5c133e3746ea85cbf5d2a1988817",
       "version_major": 2,
       "version_minor": 0
      },
      "text/plain": [
       "Retrieving ProvenanceDoc documents:   0%|          | 0/1 [00:00<?, ?it/s]"
      ]
     },
     "metadata": {},
     "output_type": "display_data"
    },
    {
     "data": {
      "application/vnd.jupyter.widget-view+json": {
       "model_id": "c204ee2e48224edd88a010e7b3d0702c",
       "version_major": 2,
       "version_minor": 0
      },
      "text/plain": [
       "Retrieving ProvenanceDoc documents:   0%|          | 0/1 [00:00<?, ?it/s]"
      ]
     },
     "metadata": {},
     "output_type": "display_data"
    },
    {
     "data": {
      "application/vnd.jupyter.widget-view+json": {
       "model_id": "ab70e9e767764cfda634284524a9cf17",
       "version_major": 2,
       "version_minor": 0
      },
      "text/plain": [
       "Retrieving ProvenanceDoc documents:   0%|          | 0/1 [00:00<?, ?it/s]"
      ]
     },
     "metadata": {},
     "output_type": "display_data"
    },
    {
     "data": {
      "application/vnd.jupyter.widget-view+json": {
       "model_id": "709c0e9ae14043c1a8f59b81f3591192",
       "version_major": 2,
       "version_minor": 0
      },
      "text/plain": [
       "Retrieving ProvenanceDoc documents:   0%|          | 0/1 [00:00<?, ?it/s]"
      ]
     },
     "metadata": {},
     "output_type": "display_data"
    },
    {
     "data": {
      "application/vnd.jupyter.widget-view+json": {
       "model_id": "83962a85f58d4677b13cfd765089a484",
       "version_major": 2,
       "version_minor": 0
      },
      "text/plain": [
       "Retrieving ProvenanceDoc documents:   0%|          | 0/1 [00:00<?, ?it/s]"
      ]
     },
     "metadata": {},
     "output_type": "display_data"
    },
    {
     "data": {
      "application/vnd.jupyter.widget-view+json": {
       "model_id": "478c068d97bf4562b0f31eaaf418d8ba",
       "version_major": 2,
       "version_minor": 0
      },
      "text/plain": [
       "Retrieving ProvenanceDoc documents:   0%|          | 0/1 [00:00<?, ?it/s]"
      ]
     },
     "metadata": {},
     "output_type": "display_data"
    },
    {
     "data": {
      "application/vnd.jupyter.widget-view+json": {
       "model_id": "cccc057a022b4862900e9d9203b92b84",
       "version_major": 2,
       "version_minor": 0
      },
      "text/plain": [
       "Retrieving ProvenanceDoc documents:   0%|          | 0/1 [00:00<?, ?it/s]"
      ]
     },
     "metadata": {},
     "output_type": "display_data"
    },
    {
     "data": {
      "application/vnd.jupyter.widget-view+json": {
       "model_id": "32436247b5be40ac9e59a1b47584ec65",
       "version_major": 2,
       "version_minor": 0
      },
      "text/plain": [
       "Retrieving ProvenanceDoc documents:   0%|          | 0/1 [00:00<?, ?it/s]"
      ]
     },
     "metadata": {},
     "output_type": "display_data"
    },
    {
     "data": {
      "application/vnd.jupyter.widget-view+json": {
       "model_id": "646ec7f77c2b42fc9bd62f5dc2e2260e",
       "version_major": 2,
       "version_minor": 0
      },
      "text/plain": [
       "Retrieving ProvenanceDoc documents:   0%|          | 0/1 [00:00<?, ?it/s]"
      ]
     },
     "metadata": {},
     "output_type": "display_data"
    },
    {
     "data": {
      "application/vnd.jupyter.widget-view+json": {
       "model_id": "bc93e81534dd467a9124d753bb407000",
       "version_major": 2,
       "version_minor": 0
      },
      "text/plain": [
       "Retrieving ProvenanceDoc documents:   0%|          | 0/1 [00:00<?, ?it/s]"
      ]
     },
     "metadata": {},
     "output_type": "display_data"
    },
    {
     "data": {
      "application/vnd.jupyter.widget-view+json": {
       "model_id": "fa554e94260f4b09a25ff42f3d77cf97",
       "version_major": 2,
       "version_minor": 0
      },
      "text/plain": [
       "Retrieving ProvenanceDoc documents:   0%|          | 0/1 [00:00<?, ?it/s]"
      ]
     },
     "metadata": {},
     "output_type": "display_data"
    },
    {
     "data": {
      "application/vnd.jupyter.widget-view+json": {
       "model_id": "f56c065db2a742a6ba47bc2f45f578d8",
       "version_major": 2,
       "version_minor": 0
      },
      "text/plain": [
       "Retrieving ProvenanceDoc documents:   0%|          | 0/1 [00:00<?, ?it/s]"
      ]
     },
     "metadata": {},
     "output_type": "display_data"
    },
    {
     "data": {
      "application/vnd.jupyter.widget-view+json": {
       "model_id": "8a27658aa27240dfbfbafd394db78803",
       "version_major": 2,
       "version_minor": 0
      },
      "text/plain": [
       "Retrieving ProvenanceDoc documents:   0%|          | 0/1 [00:00<?, ?it/s]"
      ]
     },
     "metadata": {},
     "output_type": "display_data"
    },
    {
     "data": {
      "application/vnd.jupyter.widget-view+json": {
       "model_id": "48f3df862f414111a5677bc6cf91def0",
       "version_major": 2,
       "version_minor": 0
      },
      "text/plain": [
       "Retrieving ProvenanceDoc documents:   0%|          | 0/1 [00:00<?, ?it/s]"
      ]
     },
     "metadata": {},
     "output_type": "display_data"
    },
    {
     "data": {
      "application/vnd.jupyter.widget-view+json": {
       "model_id": "a3133e08b0534e538e315bc8046f2dde",
       "version_major": 2,
       "version_minor": 0
      },
      "text/plain": [
       "Retrieving ProvenanceDoc documents:   0%|          | 0/1 [00:00<?, ?it/s]"
      ]
     },
     "metadata": {},
     "output_type": "display_data"
    },
    {
     "data": {
      "application/vnd.jupyter.widget-view+json": {
       "model_id": "6bd2cafda0844952b0aee938b9dcdaf6",
       "version_major": 2,
       "version_minor": 0
      },
      "text/plain": [
       "Retrieving ProvenanceDoc documents:   0%|          | 0/1 [00:00<?, ?it/s]"
      ]
     },
     "metadata": {},
     "output_type": "display_data"
    },
    {
     "data": {
      "application/vnd.jupyter.widget-view+json": {
       "model_id": "09004f033c474df7b77fabc2d8f43aeb",
       "version_major": 2,
       "version_minor": 0
      },
      "text/plain": [
       "Retrieving ProvenanceDoc documents:   0%|          | 0/1 [00:00<?, ?it/s]"
      ]
     },
     "metadata": {},
     "output_type": "display_data"
    },
    {
     "data": {
      "application/vnd.jupyter.widget-view+json": {
       "model_id": "aeb6f00e359d4b7188c4ff67c48cd337",
       "version_major": 2,
       "version_minor": 0
      },
      "text/plain": [
       "Retrieving ProvenanceDoc documents:   0%|          | 0/1 [00:00<?, ?it/s]"
      ]
     },
     "metadata": {},
     "output_type": "display_data"
    },
    {
     "data": {
      "application/vnd.jupyter.widget-view+json": {
       "model_id": "52675b1a756d43e797d27c018d8117c5",
       "version_major": 2,
       "version_minor": 0
      },
      "text/plain": [
       "Retrieving ProvenanceDoc documents:   0%|          | 0/1 [00:00<?, ?it/s]"
      ]
     },
     "metadata": {},
     "output_type": "display_data"
    },
    {
     "data": {
      "application/vnd.jupyter.widget-view+json": {
       "model_id": "45c6452bd7ed4de1bb996dda914d3f66",
       "version_major": 2,
       "version_minor": 0
      },
      "text/plain": [
       "Retrieving ProvenanceDoc documents:   0%|          | 0/1 [00:00<?, ?it/s]"
      ]
     },
     "metadata": {},
     "output_type": "display_data"
    },
    {
     "data": {
      "application/vnd.jupyter.widget-view+json": {
       "model_id": "609fccbdde004907934d74105b286d01",
       "version_major": 2,
       "version_minor": 0
      },
      "text/plain": [
       "Retrieving ProvenanceDoc documents:   0%|          | 0/1 [00:00<?, ?it/s]"
      ]
     },
     "metadata": {},
     "output_type": "display_data"
    },
    {
     "data": {
      "application/vnd.jupyter.widget-view+json": {
       "model_id": "9e638e3b03b0424aaed12b56c529af3f",
       "version_major": 2,
       "version_minor": 0
      },
      "text/plain": [
       "Retrieving ProvenanceDoc documents:   0%|          | 0/1 [00:00<?, ?it/s]"
      ]
     },
     "metadata": {},
     "output_type": "display_data"
    },
    {
     "data": {
      "application/vnd.jupyter.widget-view+json": {
       "model_id": "df395cd10c9843e8aa32f70b268dacb1",
       "version_major": 2,
       "version_minor": 0
      },
      "text/plain": [
       "Retrieving ProvenanceDoc documents:   0%|          | 0/1 [00:00<?, ?it/s]"
      ]
     },
     "metadata": {},
     "output_type": "display_data"
    },
    {
     "data": {
      "application/vnd.jupyter.widget-view+json": {
       "model_id": "58f4edbc0cae47e3931274ad65e14eb1",
       "version_major": 2,
       "version_minor": 0
      },
      "text/plain": [
       "Retrieving ProvenanceDoc documents:   0%|          | 0/1 [00:00<?, ?it/s]"
      ]
     },
     "metadata": {},
     "output_type": "display_data"
    },
    {
     "data": {
      "application/vnd.jupyter.widget-view+json": {
       "model_id": "eb1cd879e08f418ea8730f0352f25e8d",
       "version_major": 2,
       "version_minor": 0
      },
      "text/plain": [
       "Retrieving ProvenanceDoc documents:   0%|          | 0/1 [00:00<?, ?it/s]"
      ]
     },
     "metadata": {},
     "output_type": "display_data"
    },
    {
     "data": {
      "application/vnd.jupyter.widget-view+json": {
       "model_id": "8eef4b81bf6d4afaa519751a88b6c03b",
       "version_major": 2,
       "version_minor": 0
      },
      "text/plain": [
       "Retrieving ProvenanceDoc documents:   0%|          | 0/1 [00:00<?, ?it/s]"
      ]
     },
     "metadata": {},
     "output_type": "display_data"
    },
    {
     "data": {
      "application/vnd.jupyter.widget-view+json": {
       "model_id": "31692301203f4a0cacaaba7dc6d5c9f1",
       "version_major": 2,
       "version_minor": 0
      },
      "text/plain": [
       "Retrieving ProvenanceDoc documents:   0%|          | 0/1 [00:00<?, ?it/s]"
      ]
     },
     "metadata": {},
     "output_type": "display_data"
    },
    {
     "data": {
      "application/vnd.jupyter.widget-view+json": {
       "model_id": "c7db98122eb649f493b71294ccbf0d27",
       "version_major": 2,
       "version_minor": 0
      },
      "text/plain": [
       "Retrieving ProvenanceDoc documents:   0%|          | 0/1 [00:00<?, ?it/s]"
      ]
     },
     "metadata": {},
     "output_type": "display_data"
    },
    {
     "data": {
      "application/vnd.jupyter.widget-view+json": {
       "model_id": "acb3d3ee6cc04e5283379bf16e0fc4ed",
       "version_major": 2,
       "version_minor": 0
      },
      "text/plain": [
       "Retrieving ProvenanceDoc documents:   0%|          | 0/1 [00:00<?, ?it/s]"
      ]
     },
     "metadata": {},
     "output_type": "display_data"
    },
    {
     "data": {
      "application/vnd.jupyter.widget-view+json": {
       "model_id": "b38864e013e842ddb09de57a1c642b10",
       "version_major": 2,
       "version_minor": 0
      },
      "text/plain": [
       "Retrieving ProvenanceDoc documents:   0%|          | 0/1 [00:00<?, ?it/s]"
      ]
     },
     "metadata": {},
     "output_type": "display_data"
    },
    {
     "data": {
      "application/vnd.jupyter.widget-view+json": {
       "model_id": "4300bc67057543568a94a3edcd0cd390",
       "version_major": 2,
       "version_minor": 0
      },
      "text/plain": [
       "Retrieving ProvenanceDoc documents:   0%|          | 0/1 [00:00<?, ?it/s]"
      ]
     },
     "metadata": {},
     "output_type": "display_data"
    },
    {
     "data": {
      "application/vnd.jupyter.widget-view+json": {
       "model_id": "ca7451dd74a847ab99eea247af9cd43f",
       "version_major": 2,
       "version_minor": 0
      },
      "text/plain": [
       "Retrieving ProvenanceDoc documents:   0%|          | 0/1 [00:00<?, ?it/s]"
      ]
     },
     "metadata": {},
     "output_type": "display_data"
    },
    {
     "data": {
      "application/vnd.jupyter.widget-view+json": {
       "model_id": "4f5c12c1bc804ae3a6b3dc693c49d1e9",
       "version_major": 2,
       "version_minor": 0
      },
      "text/plain": [
       "Retrieving ProvenanceDoc documents:   0%|          | 0/1 [00:00<?, ?it/s]"
      ]
     },
     "metadata": {},
     "output_type": "display_data"
    },
    {
     "data": {
      "application/vnd.jupyter.widget-view+json": {
       "model_id": "9eb7df2fd928452fb2132423a31c8606",
       "version_major": 2,
       "version_minor": 0
      },
      "text/plain": [
       "Retrieving ProvenanceDoc documents:   0%|          | 0/1 [00:00<?, ?it/s]"
      ]
     },
     "metadata": {},
     "output_type": "display_data"
    },
    {
     "data": {
      "application/vnd.jupyter.widget-view+json": {
       "model_id": "95d655bffeea4bdcbe3657ccf54706d9",
       "version_major": 2,
       "version_minor": 0
      },
      "text/plain": [
       "Retrieving ProvenanceDoc documents:   0%|          | 0/1 [00:00<?, ?it/s]"
      ]
     },
     "metadata": {},
     "output_type": "display_data"
    },
    {
     "data": {
      "application/vnd.jupyter.widget-view+json": {
       "model_id": "3ac5a0adc6ce4f0b83515caf16caa304",
       "version_major": 2,
       "version_minor": 0
      },
      "text/plain": [
       "Retrieving ProvenanceDoc documents:   0%|          | 0/1 [00:00<?, ?it/s]"
      ]
     },
     "metadata": {},
     "output_type": "display_data"
    },
    {
     "data": {
      "application/vnd.jupyter.widget-view+json": {
       "model_id": "729164f09563442695b1c9a9d5dedbd8",
       "version_major": 2,
       "version_minor": 0
      },
      "text/plain": [
       "Retrieving ProvenanceDoc documents:   0%|          | 0/1 [00:00<?, ?it/s]"
      ]
     },
     "metadata": {},
     "output_type": "display_data"
    },
    {
     "data": {
      "application/vnd.jupyter.widget-view+json": {
       "model_id": "7e9ec97ec97641a8b281f1950c02b5fc",
       "version_major": 2,
       "version_minor": 0
      },
      "text/plain": [
       "Retrieving ProvenanceDoc documents:   0%|          | 0/1 [00:00<?, ?it/s]"
      ]
     },
     "metadata": {},
     "output_type": "display_data"
    },
    {
     "data": {
      "application/vnd.jupyter.widget-view+json": {
       "model_id": "55f441c99c9b4ed6b91b99e6fad66067",
       "version_major": 2,
       "version_minor": 0
      },
      "text/plain": [
       "Retrieving ProvenanceDoc documents:   0%|          | 0/1 [00:00<?, ?it/s]"
      ]
     },
     "metadata": {},
     "output_type": "display_data"
    },
    {
     "data": {
      "application/vnd.jupyter.widget-view+json": {
       "model_id": "2a308f302d1340de91d858a11e4c4fcf",
       "version_major": 2,
       "version_minor": 0
      },
      "text/plain": [
       "Retrieving ProvenanceDoc documents:   0%|          | 0/1 [00:00<?, ?it/s]"
      ]
     },
     "metadata": {},
     "output_type": "display_data"
    },
    {
     "data": {
      "application/vnd.jupyter.widget-view+json": {
       "model_id": "21de2a5d36cc401b989c927dbd8aec67",
       "version_major": 2,
       "version_minor": 0
      },
      "text/plain": [
       "Retrieving ProvenanceDoc documents:   0%|          | 0/1 [00:00<?, ?it/s]"
      ]
     },
     "metadata": {},
     "output_type": "display_data"
    },
    {
     "data": {
      "application/vnd.jupyter.widget-view+json": {
       "model_id": "3f2fb750f3194127a6cb7fa5c2ecdf4b",
       "version_major": 2,
       "version_minor": 0
      },
      "text/plain": [
       "Retrieving ProvenanceDoc documents:   0%|          | 0/1 [00:00<?, ?it/s]"
      ]
     },
     "metadata": {},
     "output_type": "display_data"
    },
    {
     "data": {
      "application/vnd.jupyter.widget-view+json": {
       "model_id": "d8b0f55856e041b1829601ba1b48c17b",
       "version_major": 2,
       "version_minor": 0
      },
      "text/plain": [
       "Retrieving ProvenanceDoc documents:   0%|          | 0/1 [00:00<?, ?it/s]"
      ]
     },
     "metadata": {},
     "output_type": "display_data"
    },
    {
     "data": {
      "application/vnd.jupyter.widget-view+json": {
       "model_id": "c77afaa9a354440380b4e71be10ba64f",
       "version_major": 2,
       "version_minor": 0
      },
      "text/plain": [
       "Retrieving ProvenanceDoc documents:   0%|          | 0/1 [00:00<?, ?it/s]"
      ]
     },
     "metadata": {},
     "output_type": "display_data"
    },
    {
     "data": {
      "application/vnd.jupyter.widget-view+json": {
       "model_id": "be1bde58b28a4a12bdc75ad0b6779adc",
       "version_major": 2,
       "version_minor": 0
      },
      "text/plain": [
       "Retrieving ProvenanceDoc documents:   0%|          | 0/1 [00:00<?, ?it/s]"
      ]
     },
     "metadata": {},
     "output_type": "display_data"
    },
    {
     "data": {
      "application/vnd.jupyter.widget-view+json": {
       "model_id": "37deb1d34a7a4d2cbc8152dac1012c6c",
       "version_major": 2,
       "version_minor": 0
      },
      "text/plain": [
       "Retrieving ProvenanceDoc documents:   0%|          | 0/1 [00:00<?, ?it/s]"
      ]
     },
     "metadata": {},
     "output_type": "display_data"
    },
    {
     "data": {
      "application/vnd.jupyter.widget-view+json": {
       "model_id": "ba1404487beb4f2690e38ecee8d17eab",
       "version_major": 2,
       "version_minor": 0
      },
      "text/plain": [
       "Retrieving ProvenanceDoc documents:   0%|          | 0/1 [00:00<?, ?it/s]"
      ]
     },
     "metadata": {},
     "output_type": "display_data"
    },
    {
     "data": {
      "application/vnd.jupyter.widget-view+json": {
       "model_id": "7051885896dc4459a7334e21b7b31f99",
       "version_major": 2,
       "version_minor": 0
      },
      "text/plain": [
       "Retrieving ProvenanceDoc documents:   0%|          | 0/1 [00:00<?, ?it/s]"
      ]
     },
     "metadata": {},
     "output_type": "display_data"
    },
    {
     "data": {
      "application/vnd.jupyter.widget-view+json": {
       "model_id": "b980839ef36a4062886780858289d617",
       "version_major": 2,
       "version_minor": 0
      },
      "text/plain": [
       "Retrieving ProvenanceDoc documents:   0%|          | 0/1 [00:00<?, ?it/s]"
      ]
     },
     "metadata": {},
     "output_type": "display_data"
    },
    {
     "data": {
      "application/vnd.jupyter.widget-view+json": {
       "model_id": "24c9b3c4578d40e288e57fbe51491b97",
       "version_major": 2,
       "version_minor": 0
      },
      "text/plain": [
       "Retrieving ProvenanceDoc documents:   0%|          | 0/1 [00:00<?, ?it/s]"
      ]
     },
     "metadata": {},
     "output_type": "display_data"
    },
    {
     "data": {
      "application/vnd.jupyter.widget-view+json": {
       "model_id": "7e90ecbf5d2a40eab78cddb6f3666864",
       "version_major": 2,
       "version_minor": 0
      },
      "text/plain": [
       "Retrieving ProvenanceDoc documents:   0%|          | 0/1 [00:00<?, ?it/s]"
      ]
     },
     "metadata": {},
     "output_type": "display_data"
    },
    {
     "data": {
      "application/vnd.jupyter.widget-view+json": {
       "model_id": "39d0fd7080d5447997b63791a3743439",
       "version_major": 2,
       "version_minor": 0
      },
      "text/plain": [
       "Retrieving ProvenanceDoc documents:   0%|          | 0/1 [00:00<?, ?it/s]"
      ]
     },
     "metadata": {},
     "output_type": "display_data"
    },
    {
     "data": {
      "application/vnd.jupyter.widget-view+json": {
       "model_id": "04afcbec67e74f45a15e91293ded1a20",
       "version_major": 2,
       "version_minor": 0
      },
      "text/plain": [
       "Retrieving ProvenanceDoc documents:   0%|          | 0/1 [00:00<?, ?it/s]"
      ]
     },
     "metadata": {},
     "output_type": "display_data"
    },
    {
     "data": {
      "application/vnd.jupyter.widget-view+json": {
       "model_id": "be83b57e42f8490b991a38775ffadd14",
       "version_major": 2,
       "version_minor": 0
      },
      "text/plain": [
       "Retrieving ProvenanceDoc documents:   0%|          | 0/1 [00:00<?, ?it/s]"
      ]
     },
     "metadata": {},
     "output_type": "display_data"
    },
    {
     "data": {
      "application/vnd.jupyter.widget-view+json": {
       "model_id": "ec60897b5dda47b4ad83cd906d9d723e",
       "version_major": 2,
       "version_minor": 0
      },
      "text/plain": [
       "Retrieving ProvenanceDoc documents:   0%|          | 0/1 [00:00<?, ?it/s]"
      ]
     },
     "metadata": {},
     "output_type": "display_data"
    },
    {
     "data": {
      "application/vnd.jupyter.widget-view+json": {
       "model_id": "587d5ceb36a148fbbe55fad7e45fd617",
       "version_major": 2,
       "version_minor": 0
      },
      "text/plain": [
       "Retrieving ProvenanceDoc documents:   0%|          | 0/1 [00:00<?, ?it/s]"
      ]
     },
     "metadata": {},
     "output_type": "display_data"
    },
    {
     "data": {
      "application/vnd.jupyter.widget-view+json": {
       "model_id": "698165e9b7e149f1ac6ff71e5ab53e84",
       "version_major": 2,
       "version_minor": 0
      },
      "text/plain": [
       "Retrieving ProvenanceDoc documents:   0%|          | 0/1 [00:00<?, ?it/s]"
      ]
     },
     "metadata": {},
     "output_type": "display_data"
    },
    {
     "data": {
      "application/vnd.jupyter.widget-view+json": {
       "model_id": "0b89162eb3f64bf79f52c7968bd78d01",
       "version_major": 2,
       "version_minor": 0
      },
      "text/plain": [
       "Retrieving ProvenanceDoc documents:   0%|          | 0/1 [00:00<?, ?it/s]"
      ]
     },
     "metadata": {},
     "output_type": "display_data"
    },
    {
     "data": {
      "application/vnd.jupyter.widget-view+json": {
       "model_id": "bcadec734a2146c7893230f7e3509cfa",
       "version_major": 2,
       "version_minor": 0
      },
      "text/plain": [
       "Retrieving ProvenanceDoc documents:   0%|          | 0/1 [00:00<?, ?it/s]"
      ]
     },
     "metadata": {},
     "output_type": "display_data"
    },
    {
     "data": {
      "application/vnd.jupyter.widget-view+json": {
       "model_id": "fd4e82073bba422886403fc340c81c4c",
       "version_major": 2,
       "version_minor": 0
      },
      "text/plain": [
       "Retrieving ProvenanceDoc documents:   0%|          | 0/1 [00:00<?, ?it/s]"
      ]
     },
     "metadata": {},
     "output_type": "display_data"
    },
    {
     "data": {
      "application/vnd.jupyter.widget-view+json": {
       "model_id": "9007b678fb4644af8da2c8251dc2334e",
       "version_major": 2,
       "version_minor": 0
      },
      "text/plain": [
       "Retrieving ProvenanceDoc documents:   0%|          | 0/1 [00:00<?, ?it/s]"
      ]
     },
     "metadata": {},
     "output_type": "display_data"
    },
    {
     "data": {
      "application/vnd.jupyter.widget-view+json": {
       "model_id": "246907df9c0a4f479015884c195fcabc",
       "version_major": 2,
       "version_minor": 0
      },
      "text/plain": [
       "Retrieving ProvenanceDoc documents:   0%|          | 0/1 [00:00<?, ?it/s]"
      ]
     },
     "metadata": {},
     "output_type": "display_data"
    },
    {
     "data": {
      "application/vnd.jupyter.widget-view+json": {
       "model_id": "7f5b76089dfc4d3f81d0ad0092f69dc9",
       "version_major": 2,
       "version_minor": 0
      },
      "text/plain": [
       "Retrieving ProvenanceDoc documents:   0%|          | 0/1 [00:00<?, ?it/s]"
      ]
     },
     "metadata": {},
     "output_type": "display_data"
    },
    {
     "data": {
      "application/vnd.jupyter.widget-view+json": {
       "model_id": "464de578400043c396e54091c0fcbe96",
       "version_major": 2,
       "version_minor": 0
      },
      "text/plain": [
       "Retrieving ProvenanceDoc documents:   0%|          | 0/1 [00:00<?, ?it/s]"
      ]
     },
     "metadata": {},
     "output_type": "display_data"
    },
    {
     "data": {
      "application/vnd.jupyter.widget-view+json": {
       "model_id": "bb7df908a77348d2a6b85a66dd3767e6",
       "version_major": 2,
       "version_minor": 0
      },
      "text/plain": [
       "Retrieving ProvenanceDoc documents:   0%|          | 0/1 [00:00<?, ?it/s]"
      ]
     },
     "metadata": {},
     "output_type": "display_data"
    },
    {
     "data": {
      "application/vnd.jupyter.widget-view+json": {
       "model_id": "866f144142ac40e089bd8622bcfb707a",
       "version_major": 2,
       "version_minor": 0
      },
      "text/plain": [
       "Retrieving ProvenanceDoc documents:   0%|          | 0/1 [00:00<?, ?it/s]"
      ]
     },
     "metadata": {},
     "output_type": "display_data"
    },
    {
     "data": {
      "application/vnd.jupyter.widget-view+json": {
       "model_id": "431c097bd622494ebdf1b3bf8813f244",
       "version_major": 2,
       "version_minor": 0
      },
      "text/plain": [
       "Retrieving ProvenanceDoc documents:   0%|          | 0/1 [00:00<?, ?it/s]"
      ]
     },
     "metadata": {},
     "output_type": "display_data"
    },
    {
     "data": {
      "application/vnd.jupyter.widget-view+json": {
       "model_id": "513478b085e94c7b941a1784a18ff791",
       "version_major": 2,
       "version_minor": 0
      },
      "text/plain": [
       "Retrieving ProvenanceDoc documents:   0%|          | 0/1 [00:00<?, ?it/s]"
      ]
     },
     "metadata": {},
     "output_type": "display_data"
    },
    {
     "data": {
      "application/vnd.jupyter.widget-view+json": {
       "model_id": "2796a48904b1419c866449298f4a1582",
       "version_major": 2,
       "version_minor": 0
      },
      "text/plain": [
       "Retrieving ProvenanceDoc documents:   0%|          | 0/1 [00:00<?, ?it/s]"
      ]
     },
     "metadata": {},
     "output_type": "display_data"
    },
    {
     "data": {
      "application/vnd.jupyter.widget-view+json": {
       "model_id": "dccf09737a0a49ddb5d5287f4d0d5903",
       "version_major": 2,
       "version_minor": 0
      },
      "text/plain": [
       "Retrieving ProvenanceDoc documents:   0%|          | 0/1 [00:00<?, ?it/s]"
      ]
     },
     "metadata": {},
     "output_type": "display_data"
    },
    {
     "data": {
      "application/vnd.jupyter.widget-view+json": {
       "model_id": "4005249ab4184914af8e83723dc33254",
       "version_major": 2,
       "version_minor": 0
      },
      "text/plain": [
       "Retrieving ProvenanceDoc documents:   0%|          | 0/1 [00:00<?, ?it/s]"
      ]
     },
     "metadata": {},
     "output_type": "display_data"
    },
    {
     "data": {
      "application/vnd.jupyter.widget-view+json": {
       "model_id": "1cfdc25a195f4224871a86086b771697",
       "version_major": 2,
       "version_minor": 0
      },
      "text/plain": [
       "Retrieving ProvenanceDoc documents:   0%|          | 0/1 [00:00<?, ?it/s]"
      ]
     },
     "metadata": {},
     "output_type": "display_data"
    },
    {
     "data": {
      "application/vnd.jupyter.widget-view+json": {
       "model_id": "34411ba891044ff9b5e04c5f87a37677",
       "version_major": 2,
       "version_minor": 0
      },
      "text/plain": [
       "Retrieving ProvenanceDoc documents:   0%|          | 0/1 [00:00<?, ?it/s]"
      ]
     },
     "metadata": {},
     "output_type": "display_data"
    },
    {
     "data": {
      "application/vnd.jupyter.widget-view+json": {
       "model_id": "d173714a2367408f8d6368a3ebbd0bff",
       "version_major": 2,
       "version_minor": 0
      },
      "text/plain": [
       "Retrieving ProvenanceDoc documents:   0%|          | 0/1 [00:00<?, ?it/s]"
      ]
     },
     "metadata": {},
     "output_type": "display_data"
    },
    {
     "data": {
      "application/vnd.jupyter.widget-view+json": {
       "model_id": "4d655b216e9341e89333d81306d43c35",
       "version_major": 2,
       "version_minor": 0
      },
      "text/plain": [
       "Retrieving ProvenanceDoc documents:   0%|          | 0/1 [00:00<?, ?it/s]"
      ]
     },
     "metadata": {},
     "output_type": "display_data"
    },
    {
     "data": {
      "application/vnd.jupyter.widget-view+json": {
       "model_id": "3ac0d5b8c010416cb0c299825afeb72f",
       "version_major": 2,
       "version_minor": 0
      },
      "text/plain": [
       "Retrieving ProvenanceDoc documents:   0%|          | 0/1 [00:00<?, ?it/s]"
      ]
     },
     "metadata": {},
     "output_type": "display_data"
    },
    {
     "data": {
      "application/vnd.jupyter.widget-view+json": {
       "model_id": "801a1068755845abaa29a712fb487eb5",
       "version_major": 2,
       "version_minor": 0
      },
      "text/plain": [
       "Retrieving ProvenanceDoc documents:   0%|          | 0/1 [00:00<?, ?it/s]"
      ]
     },
     "metadata": {},
     "output_type": "display_data"
    },
    {
     "data": {
      "application/vnd.jupyter.widget-view+json": {
       "model_id": "ad886af2e89e418e9d867834ac3cc741",
       "version_major": 2,
       "version_minor": 0
      },
      "text/plain": [
       "Retrieving ProvenanceDoc documents:   0%|          | 0/1 [00:00<?, ?it/s]"
      ]
     },
     "metadata": {},
     "output_type": "display_data"
    },
    {
     "data": {
      "application/vnd.jupyter.widget-view+json": {
       "model_id": "e7333e189f40440c9fd39ef19b9ca9c9",
       "version_major": 2,
       "version_minor": 0
      },
      "text/plain": [
       "Retrieving ProvenanceDoc documents:   0%|          | 0/1 [00:00<?, ?it/s]"
      ]
     },
     "metadata": {},
     "output_type": "display_data"
    },
    {
     "data": {
      "application/vnd.jupyter.widget-view+json": {
       "model_id": "f3c7c46da27a42b5922e17d2caa0f49c",
       "version_major": 2,
       "version_minor": 0
      },
      "text/plain": [
       "Retrieving ProvenanceDoc documents:   0%|          | 0/1 [00:00<?, ?it/s]"
      ]
     },
     "metadata": {},
     "output_type": "display_data"
    },
    {
     "data": {
      "application/vnd.jupyter.widget-view+json": {
       "model_id": "18725c63eefe4ca5a0b56b8528720b06",
       "version_major": 2,
       "version_minor": 0
      },
      "text/plain": [
       "Retrieving ProvenanceDoc documents:   0%|          | 0/1 [00:00<?, ?it/s]"
      ]
     },
     "metadata": {},
     "output_type": "display_data"
    },
    {
     "data": {
      "application/vnd.jupyter.widget-view+json": {
       "model_id": "a304aaf673ec4b7a9c0da24d9c26e942",
       "version_major": 2,
       "version_minor": 0
      },
      "text/plain": [
       "Retrieving ProvenanceDoc documents:   0%|          | 0/1 [00:00<?, ?it/s]"
      ]
     },
     "metadata": {},
     "output_type": "display_data"
    },
    {
     "data": {
      "application/vnd.jupyter.widget-view+json": {
       "model_id": "3577863170da4f5f98bc0306724cd1c8",
       "version_major": 2,
       "version_minor": 0
      },
      "text/plain": [
       "Retrieving ProvenanceDoc documents:   0%|          | 0/1 [00:00<?, ?it/s]"
      ]
     },
     "metadata": {},
     "output_type": "display_data"
    },
    {
     "data": {
      "application/vnd.jupyter.widget-view+json": {
       "model_id": "ed4955f3a406464b8a3c563d5f175f13",
       "version_major": 2,
       "version_minor": 0
      },
      "text/plain": [
       "Retrieving ProvenanceDoc documents:   0%|          | 0/1 [00:00<?, ?it/s]"
      ]
     },
     "metadata": {},
     "output_type": "display_data"
    },
    {
     "data": {
      "application/vnd.jupyter.widget-view+json": {
       "model_id": "e1bb20984cc44f54b357e04090654a40",
       "version_major": 2,
       "version_minor": 0
      },
      "text/plain": [
       "Retrieving ProvenanceDoc documents:   0%|          | 0/1 [00:00<?, ?it/s]"
      ]
     },
     "metadata": {},
     "output_type": "display_data"
    },
    {
     "data": {
      "application/vnd.jupyter.widget-view+json": {
       "model_id": "4784efeb54ac4db086a1a340d363f7e0",
       "version_major": 2,
       "version_minor": 0
      },
      "text/plain": [
       "Retrieving ProvenanceDoc documents:   0%|          | 0/1 [00:00<?, ?it/s]"
      ]
     },
     "metadata": {},
     "output_type": "display_data"
    },
    {
     "data": {
      "application/vnd.jupyter.widget-view+json": {
       "model_id": "609435bc26de407f866cde914a1ec4d1",
       "version_major": 2,
       "version_minor": 0
      },
      "text/plain": [
       "Retrieving ProvenanceDoc documents:   0%|          | 0/1 [00:00<?, ?it/s]"
      ]
     },
     "metadata": {},
     "output_type": "display_data"
    },
    {
     "data": {
      "application/vnd.jupyter.widget-view+json": {
       "model_id": "7fa5d1a0f2fc4f1b811aa3dd73ca6d95",
       "version_major": 2,
       "version_minor": 0
      },
      "text/plain": [
       "Retrieving ProvenanceDoc documents:   0%|          | 0/1 [00:00<?, ?it/s]"
      ]
     },
     "metadata": {},
     "output_type": "display_data"
    },
    {
     "data": {
      "application/vnd.jupyter.widget-view+json": {
       "model_id": "46f22df9c55c47edb2a2801bb5bc27f6",
       "version_major": 2,
       "version_minor": 0
      },
      "text/plain": [
       "Retrieving ProvenanceDoc documents:   0%|          | 0/1 [00:00<?, ?it/s]"
      ]
     },
     "metadata": {},
     "output_type": "display_data"
    },
    {
     "data": {
      "application/vnd.jupyter.widget-view+json": {
       "model_id": "a69b392c3a844949a1870d6897605c6e",
       "version_major": 2,
       "version_minor": 0
      },
      "text/plain": [
       "Retrieving ProvenanceDoc documents:   0%|          | 0/1 [00:00<?, ?it/s]"
      ]
     },
     "metadata": {},
     "output_type": "display_data"
    },
    {
     "data": {
      "application/vnd.jupyter.widget-view+json": {
       "model_id": "ddd834ab25214836a399697574210fe0",
       "version_major": 2,
       "version_minor": 0
      },
      "text/plain": [
       "Retrieving ProvenanceDoc documents:   0%|          | 0/1 [00:00<?, ?it/s]"
      ]
     },
     "metadata": {},
     "output_type": "display_data"
    },
    {
     "data": {
      "application/vnd.jupyter.widget-view+json": {
       "model_id": "34bd190a48c34d7fa628fc40caba1351",
       "version_major": 2,
       "version_minor": 0
      },
      "text/plain": [
       "Retrieving ProvenanceDoc documents:   0%|          | 0/1 [00:00<?, ?it/s]"
      ]
     },
     "metadata": {},
     "output_type": "display_data"
    },
    {
     "data": {
      "application/vnd.jupyter.widget-view+json": {
       "model_id": "046c3977756645e0b674e0237bac96e2",
       "version_major": 2,
       "version_minor": 0
      },
      "text/plain": [
       "Retrieving ProvenanceDoc documents:   0%|          | 0/1 [00:00<?, ?it/s]"
      ]
     },
     "metadata": {},
     "output_type": "display_data"
    },
    {
     "data": {
      "application/vnd.jupyter.widget-view+json": {
       "model_id": "bad2e1d59d4f44ada17ae439bda397ac",
       "version_major": 2,
       "version_minor": 0
      },
      "text/plain": [
       "Retrieving ProvenanceDoc documents:   0%|          | 0/1 [00:00<?, ?it/s]"
      ]
     },
     "metadata": {},
     "output_type": "display_data"
    },
    {
     "data": {
      "application/vnd.jupyter.widget-view+json": {
       "model_id": "1bbd7ee16f1b44ad8a3d2617c24fdf06",
       "version_major": 2,
       "version_minor": 0
      },
      "text/plain": [
       "Retrieving ProvenanceDoc documents:   0%|          | 0/1 [00:00<?, ?it/s]"
      ]
     },
     "metadata": {},
     "output_type": "display_data"
    },
    {
     "data": {
      "application/vnd.jupyter.widget-view+json": {
       "model_id": "55eb206380254835b79f2570c4fa15fc",
       "version_major": 2,
       "version_minor": 0
      },
      "text/plain": [
       "Retrieving ProvenanceDoc documents:   0%|          | 0/1 [00:00<?, ?it/s]"
      ]
     },
     "metadata": {},
     "output_type": "display_data"
    },
    {
     "data": {
      "application/vnd.jupyter.widget-view+json": {
       "model_id": "8892a26e05d94a52a2d57d371fe25f2b",
       "version_major": 2,
       "version_minor": 0
      },
      "text/plain": [
       "Retrieving ProvenanceDoc documents:   0%|          | 0/1 [00:00<?, ?it/s]"
      ]
     },
     "metadata": {},
     "output_type": "display_data"
    },
    {
     "data": {
      "application/vnd.jupyter.widget-view+json": {
       "model_id": "f85054c8c8d64742853965b1c4f7f32a",
       "version_major": 2,
       "version_minor": 0
      },
      "text/plain": [
       "Retrieving ProvenanceDoc documents:   0%|          | 0/1 [00:00<?, ?it/s]"
      ]
     },
     "metadata": {},
     "output_type": "display_data"
    },
    {
     "data": {
      "application/vnd.jupyter.widget-view+json": {
       "model_id": "2a3b08c668cc48c584734b43e64b61b8",
       "version_major": 2,
       "version_minor": 0
      },
      "text/plain": [
       "Retrieving ProvenanceDoc documents:   0%|          | 0/1 [00:00<?, ?it/s]"
      ]
     },
     "metadata": {},
     "output_type": "display_data"
    },
    {
     "data": {
      "application/vnd.jupyter.widget-view+json": {
       "model_id": "487251cdb9ff4f00a5b202292324043f",
       "version_major": 2,
       "version_minor": 0
      },
      "text/plain": [
       "Retrieving ProvenanceDoc documents:   0%|          | 0/1 [00:00<?, ?it/s]"
      ]
     },
     "metadata": {},
     "output_type": "display_data"
    },
    {
     "data": {
      "application/vnd.jupyter.widget-view+json": {
       "model_id": "323e4ababe0c4bd6b1711bdf6b42d2b5",
       "version_major": 2,
       "version_minor": 0
      },
      "text/plain": [
       "Retrieving ProvenanceDoc documents:   0%|          | 0/1 [00:00<?, ?it/s]"
      ]
     },
     "metadata": {},
     "output_type": "display_data"
    },
    {
     "data": {
      "application/vnd.jupyter.widget-view+json": {
       "model_id": "ac2597c885954eb89c2155c444faf427",
       "version_major": 2,
       "version_minor": 0
      },
      "text/plain": [
       "Retrieving ProvenanceDoc documents:   0%|          | 0/1 [00:00<?, ?it/s]"
      ]
     },
     "metadata": {},
     "output_type": "display_data"
    },
    {
     "data": {
      "application/vnd.jupyter.widget-view+json": {
       "model_id": "9478a7e313c44e38996a9afae759987a",
       "version_major": 2,
       "version_minor": 0
      },
      "text/plain": [
       "Retrieving ProvenanceDoc documents:   0%|          | 0/1 [00:00<?, ?it/s]"
      ]
     },
     "metadata": {},
     "output_type": "display_data"
    },
    {
     "data": {
      "application/vnd.jupyter.widget-view+json": {
       "model_id": "63dd185efab74314954caf4d93edabeb",
       "version_major": 2,
       "version_minor": 0
      },
      "text/plain": [
       "Retrieving ProvenanceDoc documents:   0%|          | 0/1 [00:00<?, ?it/s]"
      ]
     },
     "metadata": {},
     "output_type": "display_data"
    },
    {
     "data": {
      "application/vnd.jupyter.widget-view+json": {
       "model_id": "64e2d02edadf4c6785dfc9fd25ee4bb4",
       "version_major": 2,
       "version_minor": 0
      },
      "text/plain": [
       "Retrieving ProvenanceDoc documents:   0%|          | 0/1 [00:00<?, ?it/s]"
      ]
     },
     "metadata": {},
     "output_type": "display_data"
    },
    {
     "data": {
      "application/vnd.jupyter.widget-view+json": {
       "model_id": "c8626f326b794669ac450087248527fb",
       "version_major": 2,
       "version_minor": 0
      },
      "text/plain": [
       "Retrieving ProvenanceDoc documents:   0%|          | 0/1 [00:00<?, ?it/s]"
      ]
     },
     "metadata": {},
     "output_type": "display_data"
    },
    {
     "data": {
      "application/vnd.jupyter.widget-view+json": {
       "model_id": "bab4df38744e44caaf8e68ed011acef0",
       "version_major": 2,
       "version_minor": 0
      },
      "text/plain": [
       "Retrieving ProvenanceDoc documents:   0%|          | 0/1 [00:00<?, ?it/s]"
      ]
     },
     "metadata": {},
     "output_type": "display_data"
    },
    {
     "data": {
      "application/vnd.jupyter.widget-view+json": {
       "model_id": "42b500a090d74a0da8c942c6234eea37",
       "version_major": 2,
       "version_minor": 0
      },
      "text/plain": [
       "Retrieving ProvenanceDoc documents:   0%|          | 0/1 [00:00<?, ?it/s]"
      ]
     },
     "metadata": {},
     "output_type": "display_data"
    },
    {
     "data": {
      "application/vnd.jupyter.widget-view+json": {
       "model_id": "a1a4647f064f48c8871aef27b2d4898d",
       "version_major": 2,
       "version_minor": 0
      },
      "text/plain": [
       "Retrieving ProvenanceDoc documents:   0%|          | 0/1 [00:00<?, ?it/s]"
      ]
     },
     "metadata": {},
     "output_type": "display_data"
    },
    {
     "data": {
      "application/vnd.jupyter.widget-view+json": {
       "model_id": "c4bd86441d2745e8954703817870871c",
       "version_major": 2,
       "version_minor": 0
      },
      "text/plain": [
       "Retrieving ProvenanceDoc documents:   0%|          | 0/1 [00:00<?, ?it/s]"
      ]
     },
     "metadata": {},
     "output_type": "display_data"
    },
    {
     "data": {
      "application/vnd.jupyter.widget-view+json": {
       "model_id": "78418bb594b241ed8c390c27ed1ee257",
       "version_major": 2,
       "version_minor": 0
      },
      "text/plain": [
       "Retrieving ProvenanceDoc documents:   0%|          | 0/1 [00:00<?, ?it/s]"
      ]
     },
     "metadata": {},
     "output_type": "display_data"
    },
    {
     "data": {
      "application/vnd.jupyter.widget-view+json": {
       "model_id": "e62cd6dd5572480daedd758f4f79ee70",
       "version_major": 2,
       "version_minor": 0
      },
      "text/plain": [
       "Retrieving ProvenanceDoc documents:   0%|          | 0/1 [00:00<?, ?it/s]"
      ]
     },
     "metadata": {},
     "output_type": "display_data"
    },
    {
     "data": {
      "application/vnd.jupyter.widget-view+json": {
       "model_id": "d41409d6bc3b4ae99ef48d54ef31f325",
       "version_major": 2,
       "version_minor": 0
      },
      "text/plain": [
       "Retrieving ProvenanceDoc documents:   0%|          | 0/1 [00:00<?, ?it/s]"
      ]
     },
     "metadata": {},
     "output_type": "display_data"
    },
    {
     "data": {
      "application/vnd.jupyter.widget-view+json": {
       "model_id": "2a73ba3a74c64771903e9acae6e8eb19",
       "version_major": 2,
       "version_minor": 0
      },
      "text/plain": [
       "Retrieving ProvenanceDoc documents:   0%|          | 0/1 [00:00<?, ?it/s]"
      ]
     },
     "metadata": {},
     "output_type": "display_data"
    },
    {
     "data": {
      "application/vnd.jupyter.widget-view+json": {
       "model_id": "06a3644c83cd46db99a42a8f5f0b5851",
       "version_major": 2,
       "version_minor": 0
      },
      "text/plain": [
       "Retrieving ProvenanceDoc documents:   0%|          | 0/1 [00:00<?, ?it/s]"
      ]
     },
     "metadata": {},
     "output_type": "display_data"
    },
    {
     "data": {
      "application/vnd.jupyter.widget-view+json": {
       "model_id": "01a82fe1beac4ab2b1e70ce049677045",
       "version_major": 2,
       "version_minor": 0
      },
      "text/plain": [
       "Retrieving ProvenanceDoc documents:   0%|          | 0/1 [00:00<?, ?it/s]"
      ]
     },
     "metadata": {},
     "output_type": "display_data"
    },
    {
     "data": {
      "application/vnd.jupyter.widget-view+json": {
       "model_id": "c50c8be0589f42498f39f163b767d93b",
       "version_major": 2,
       "version_minor": 0
      },
      "text/plain": [
       "Retrieving ProvenanceDoc documents:   0%|          | 0/1 [00:00<?, ?it/s]"
      ]
     },
     "metadata": {},
     "output_type": "display_data"
    },
    {
     "data": {
      "application/vnd.jupyter.widget-view+json": {
       "model_id": "acadea823f0149daa7000b69c782edef",
       "version_major": 2,
       "version_minor": 0
      },
      "text/plain": [
       "Retrieving ProvenanceDoc documents:   0%|          | 0/1 [00:00<?, ?it/s]"
      ]
     },
     "metadata": {},
     "output_type": "display_data"
    },
    {
     "data": {
      "application/vnd.jupyter.widget-view+json": {
       "model_id": "84f6639cca7944f9a5c8117787822e41",
       "version_major": 2,
       "version_minor": 0
      },
      "text/plain": [
       "Retrieving ProvenanceDoc documents:   0%|          | 0/1 [00:00<?, ?it/s]"
      ]
     },
     "metadata": {},
     "output_type": "display_data"
    },
    {
     "data": {
      "application/vnd.jupyter.widget-view+json": {
       "model_id": "32c50029a73c4b7488179fa0a0c14ae3",
       "version_major": 2,
       "version_minor": 0
      },
      "text/plain": [
       "Retrieving ProvenanceDoc documents:   0%|          | 0/1 [00:00<?, ?it/s]"
      ]
     },
     "metadata": {},
     "output_type": "display_data"
    },
    {
     "data": {
      "application/vnd.jupyter.widget-view+json": {
       "model_id": "dc5fa2ce032f4e6bba8a9979227f2dba",
       "version_major": 2,
       "version_minor": 0
      },
      "text/plain": [
       "Retrieving ProvenanceDoc documents:   0%|          | 0/1 [00:00<?, ?it/s]"
      ]
     },
     "metadata": {},
     "output_type": "display_data"
    },
    {
     "data": {
      "application/vnd.jupyter.widget-view+json": {
       "model_id": "5efae4fc5d61480695a5a3042bfe81e1",
       "version_major": 2,
       "version_minor": 0
      },
      "text/plain": [
       "Retrieving ProvenanceDoc documents:   0%|          | 0/1 [00:00<?, ?it/s]"
      ]
     },
     "metadata": {},
     "output_type": "display_data"
    },
    {
     "data": {
      "application/vnd.jupyter.widget-view+json": {
       "model_id": "73fa1199be704ee3a231ea1f16a6282d",
       "version_major": 2,
       "version_minor": 0
      },
      "text/plain": [
       "Retrieving ProvenanceDoc documents:   0%|          | 0/1 [00:00<?, ?it/s]"
      ]
     },
     "metadata": {},
     "output_type": "display_data"
    },
    {
     "data": {
      "application/vnd.jupyter.widget-view+json": {
       "model_id": "9bc8cbe244a040e28f3fb4fc4e05adca",
       "version_major": 2,
       "version_minor": 0
      },
      "text/plain": [
       "Retrieving ProvenanceDoc documents:   0%|          | 0/1 [00:00<?, ?it/s]"
      ]
     },
     "metadata": {},
     "output_type": "display_data"
    },
    {
     "data": {
      "application/vnd.jupyter.widget-view+json": {
       "model_id": "eab557ea858745e788141c19d159766e",
       "version_major": 2,
       "version_minor": 0
      },
      "text/plain": [
       "Retrieving ProvenanceDoc documents:   0%|          | 0/1 [00:00<?, ?it/s]"
      ]
     },
     "metadata": {},
     "output_type": "display_data"
    },
    {
     "data": {
      "application/vnd.jupyter.widget-view+json": {
       "model_id": "a3aa97a1b7b94b3eb23a667270cb4c9c",
       "version_major": 2,
       "version_minor": 0
      },
      "text/plain": [
       "Retrieving ProvenanceDoc documents:   0%|          | 0/1 [00:00<?, ?it/s]"
      ]
     },
     "metadata": {},
     "output_type": "display_data"
    },
    {
     "data": {
      "application/vnd.jupyter.widget-view+json": {
       "model_id": "5a5d6f4d16ca4393a4f1aba245f4b21e",
       "version_major": 2,
       "version_minor": 0
      },
      "text/plain": [
       "Retrieving ProvenanceDoc documents:   0%|          | 0/1 [00:00<?, ?it/s]"
      ]
     },
     "metadata": {},
     "output_type": "display_data"
    },
    {
     "data": {
      "application/vnd.jupyter.widget-view+json": {
       "model_id": "bca72b607f2143da999cbf110fa09232",
       "version_major": 2,
       "version_minor": 0
      },
      "text/plain": [
       "Retrieving ProvenanceDoc documents:   0%|          | 0/1 [00:00<?, ?it/s]"
      ]
     },
     "metadata": {},
     "output_type": "display_data"
    },
    {
     "data": {
      "application/vnd.jupyter.widget-view+json": {
       "model_id": "6648f9592b7541be897e693fbc5b7192",
       "version_major": 2,
       "version_minor": 0
      },
      "text/plain": [
       "Retrieving ProvenanceDoc documents:   0%|          | 0/1 [00:00<?, ?it/s]"
      ]
     },
     "metadata": {},
     "output_type": "display_data"
    },
    {
     "data": {
      "application/vnd.jupyter.widget-view+json": {
       "model_id": "922c95ffad47414b8da0097006449633",
       "version_major": 2,
       "version_minor": 0
      },
      "text/plain": [
       "Retrieving ProvenanceDoc documents:   0%|          | 0/1 [00:00<?, ?it/s]"
      ]
     },
     "metadata": {},
     "output_type": "display_data"
    },
    {
     "data": {
      "application/vnd.jupyter.widget-view+json": {
       "model_id": "e955c3e0fd8c467ab5b930642aacd008",
       "version_major": 2,
       "version_minor": 0
      },
      "text/plain": [
       "Retrieving ProvenanceDoc documents:   0%|          | 0/1 [00:00<?, ?it/s]"
      ]
     },
     "metadata": {},
     "output_type": "display_data"
    },
    {
     "data": {
      "application/vnd.jupyter.widget-view+json": {
       "model_id": "ef34453a19fa48df9f81b5dc118cd45c",
       "version_major": 2,
       "version_minor": 0
      },
      "text/plain": [
       "Retrieving ProvenanceDoc documents:   0%|          | 0/1 [00:00<?, ?it/s]"
      ]
     },
     "metadata": {},
     "output_type": "display_data"
    },
    {
     "data": {
      "application/vnd.jupyter.widget-view+json": {
       "model_id": "8ce2a60a1abc4d28861f6f3f56656057",
       "version_major": 2,
       "version_minor": 0
      },
      "text/plain": [
       "Retrieving ProvenanceDoc documents:   0%|          | 0/1 [00:00<?, ?it/s]"
      ]
     },
     "metadata": {},
     "output_type": "display_data"
    },
    {
     "data": {
      "application/vnd.jupyter.widget-view+json": {
       "model_id": "017acf9b6ae146b4a652c9f80b68c06f",
       "version_major": 2,
       "version_minor": 0
      },
      "text/plain": [
       "Retrieving ProvenanceDoc documents:   0%|          | 0/1 [00:00<?, ?it/s]"
      ]
     },
     "metadata": {},
     "output_type": "display_data"
    },
    {
     "data": {
      "application/vnd.jupyter.widget-view+json": {
       "model_id": "25d39b8cc37c42a0a2eec332956744d3",
       "version_major": 2,
       "version_minor": 0
      },
      "text/plain": [
       "Retrieving ProvenanceDoc documents:   0%|          | 0/1 [00:00<?, ?it/s]"
      ]
     },
     "metadata": {},
     "output_type": "display_data"
    },
    {
     "data": {
      "application/vnd.jupyter.widget-view+json": {
       "model_id": "f2b29c08187e423ca6c26979fab0d0e4",
       "version_major": 2,
       "version_minor": 0
      },
      "text/plain": [
       "Retrieving ProvenanceDoc documents:   0%|          | 0/1 [00:00<?, ?it/s]"
      ]
     },
     "metadata": {},
     "output_type": "display_data"
    },
    {
     "data": {
      "application/vnd.jupyter.widget-view+json": {
       "model_id": "82ae5d4d6150433293ec598cbfc92310",
       "version_major": 2,
       "version_minor": 0
      },
      "text/plain": [
       "Retrieving ProvenanceDoc documents:   0%|          | 0/1 [00:00<?, ?it/s]"
      ]
     },
     "metadata": {},
     "output_type": "display_data"
    },
    {
     "data": {
      "application/vnd.jupyter.widget-view+json": {
       "model_id": "18001ad6af044cfc9231569bde3825ff",
       "version_major": 2,
       "version_minor": 0
      },
      "text/plain": [
       "Retrieving ProvenanceDoc documents:   0%|          | 0/1 [00:00<?, ?it/s]"
      ]
     },
     "metadata": {},
     "output_type": "display_data"
    },
    {
     "data": {
      "application/vnd.jupyter.widget-view+json": {
       "model_id": "664c51bb43af44f39b8b6845fa28b584",
       "version_major": 2,
       "version_minor": 0
      },
      "text/plain": [
       "Retrieving ProvenanceDoc documents:   0%|          | 0/1 [00:00<?, ?it/s]"
      ]
     },
     "metadata": {},
     "output_type": "display_data"
    },
    {
     "data": {
      "application/vnd.jupyter.widget-view+json": {
       "model_id": "fb2a239dd8a04b3fbafe2ded2abb27b2",
       "version_major": 2,
       "version_minor": 0
      },
      "text/plain": [
       "Retrieving ProvenanceDoc documents:   0%|          | 0/1 [00:00<?, ?it/s]"
      ]
     },
     "metadata": {},
     "output_type": "display_data"
    },
    {
     "data": {
      "application/vnd.jupyter.widget-view+json": {
       "model_id": "ceabb1ff45e14ad3b230e2b89dd39639",
       "version_major": 2,
       "version_minor": 0
      },
      "text/plain": [
       "Retrieving ProvenanceDoc documents:   0%|          | 0/1 [00:00<?, ?it/s]"
      ]
     },
     "metadata": {},
     "output_type": "display_data"
    },
    {
     "data": {
      "application/vnd.jupyter.widget-view+json": {
       "model_id": "dc0967a6210b4ffabf6c0b3bfe106046",
       "version_major": 2,
       "version_minor": 0
      },
      "text/plain": [
       "Retrieving ProvenanceDoc documents:   0%|          | 0/1 [00:00<?, ?it/s]"
      ]
     },
     "metadata": {},
     "output_type": "display_data"
    },
    {
     "data": {
      "application/vnd.jupyter.widget-view+json": {
       "model_id": "d3d66eaaaec044c5a4aba49686270461",
       "version_major": 2,
       "version_minor": 0
      },
      "text/plain": [
       "Retrieving ProvenanceDoc documents:   0%|          | 0/1 [00:00<?, ?it/s]"
      ]
     },
     "metadata": {},
     "output_type": "display_data"
    },
    {
     "data": {
      "application/vnd.jupyter.widget-view+json": {
       "model_id": "96ef44c3163142468ca7b8a808550c25",
       "version_major": 2,
       "version_minor": 0
      },
      "text/plain": [
       "Retrieving ProvenanceDoc documents:   0%|          | 0/1 [00:00<?, ?it/s]"
      ]
     },
     "metadata": {},
     "output_type": "display_data"
    },
    {
     "data": {
      "application/vnd.jupyter.widget-view+json": {
       "model_id": "e6256f7ce59b4ea684368cde1276674a",
       "version_major": 2,
       "version_minor": 0
      },
      "text/plain": [
       "Retrieving ProvenanceDoc documents:   0%|          | 0/1 [00:00<?, ?it/s]"
      ]
     },
     "metadata": {},
     "output_type": "display_data"
    },
    {
     "data": {
      "application/vnd.jupyter.widget-view+json": {
       "model_id": "99c3c8d0876b4de29e4efd8327f8bba4",
       "version_major": 2,
       "version_minor": 0
      },
      "text/plain": [
       "Retrieving ProvenanceDoc documents:   0%|          | 0/1 [00:00<?, ?it/s]"
      ]
     },
     "metadata": {},
     "output_type": "display_data"
    },
    {
     "data": {
      "application/vnd.jupyter.widget-view+json": {
       "model_id": "9b2deb1a7d9b450bbf3f25722b24a8a3",
       "version_major": 2,
       "version_minor": 0
      },
      "text/plain": [
       "Retrieving ProvenanceDoc documents:   0%|          | 0/1 [00:00<?, ?it/s]"
      ]
     },
     "metadata": {},
     "output_type": "display_data"
    },
    {
     "data": {
      "application/vnd.jupyter.widget-view+json": {
       "model_id": "7ec7efef9e094f5098dfc2a6ac4dfd66",
       "version_major": 2,
       "version_minor": 0
      },
      "text/plain": [
       "Retrieving ProvenanceDoc documents:   0%|          | 0/1 [00:00<?, ?it/s]"
      ]
     },
     "metadata": {},
     "output_type": "display_data"
    },
    {
     "data": {
      "application/vnd.jupyter.widget-view+json": {
       "model_id": "64d98060ec5e43a28403185a2a08ca62",
       "version_major": 2,
       "version_minor": 0
      },
      "text/plain": [
       "Retrieving ProvenanceDoc documents:   0%|          | 0/1 [00:00<?, ?it/s]"
      ]
     },
     "metadata": {},
     "output_type": "display_data"
    },
    {
     "data": {
      "application/vnd.jupyter.widget-view+json": {
       "model_id": "f02db41b89c24c90a316058d3720b88a",
       "version_major": 2,
       "version_minor": 0
      },
      "text/plain": [
       "Retrieving ProvenanceDoc documents:   0%|          | 0/1 [00:00<?, ?it/s]"
      ]
     },
     "metadata": {},
     "output_type": "display_data"
    },
    {
     "data": {
      "application/vnd.jupyter.widget-view+json": {
       "model_id": "75caf265dab74072b6a001fbe58a0701",
       "version_major": 2,
       "version_minor": 0
      },
      "text/plain": [
       "Retrieving ProvenanceDoc documents:   0%|          | 0/1 [00:00<?, ?it/s]"
      ]
     },
     "metadata": {},
     "output_type": "display_data"
    },
    {
     "data": {
      "application/vnd.jupyter.widget-view+json": {
       "model_id": "51e690bc2c9b45eb91d2b121155bab8f",
       "version_major": 2,
       "version_minor": 0
      },
      "text/plain": [
       "Retrieving ProvenanceDoc documents:   0%|          | 0/1 [00:00<?, ?it/s]"
      ]
     },
     "metadata": {},
     "output_type": "display_data"
    },
    {
     "data": {
      "application/vnd.jupyter.widget-view+json": {
       "model_id": "f1663aef435d4171bf34f7bce8336990",
       "version_major": 2,
       "version_minor": 0
      },
      "text/plain": [
       "Retrieving ProvenanceDoc documents:   0%|          | 0/1 [00:00<?, ?it/s]"
      ]
     },
     "metadata": {},
     "output_type": "display_data"
    },
    {
     "data": {
      "application/vnd.jupyter.widget-view+json": {
       "model_id": "20e152d10fd940e1af011e33d3747b2b",
       "version_major": 2,
       "version_minor": 0
      },
      "text/plain": [
       "Retrieving ProvenanceDoc documents:   0%|          | 0/1 [00:00<?, ?it/s]"
      ]
     },
     "metadata": {},
     "output_type": "display_data"
    },
    {
     "data": {
      "application/vnd.jupyter.widget-view+json": {
       "model_id": "58bf84e2878747dc959501adc14aad1e",
       "version_major": 2,
       "version_minor": 0
      },
      "text/plain": [
       "Retrieving ProvenanceDoc documents:   0%|          | 0/1 [00:00<?, ?it/s]"
      ]
     },
     "metadata": {},
     "output_type": "display_data"
    },
    {
     "data": {
      "application/vnd.jupyter.widget-view+json": {
       "model_id": "fb3164219cc94bcd9dc61d0d0df16dfc",
       "version_major": 2,
       "version_minor": 0
      },
      "text/plain": [
       "Retrieving ProvenanceDoc documents:   0%|          | 0/1 [00:00<?, ?it/s]"
      ]
     },
     "metadata": {},
     "output_type": "display_data"
    },
    {
     "data": {
      "application/vnd.jupyter.widget-view+json": {
       "model_id": "88cc860ec2bf458185be4cffe49b9c82",
       "version_major": 2,
       "version_minor": 0
      },
      "text/plain": [
       "Retrieving ProvenanceDoc documents:   0%|          | 0/1 [00:00<?, ?it/s]"
      ]
     },
     "metadata": {},
     "output_type": "display_data"
    },
    {
     "data": {
      "application/vnd.jupyter.widget-view+json": {
       "model_id": "ba0bdf67d2494f27963865dada64a056",
       "version_major": 2,
       "version_minor": 0
      },
      "text/plain": [
       "Retrieving ProvenanceDoc documents:   0%|          | 0/1 [00:00<?, ?it/s]"
      ]
     },
     "metadata": {},
     "output_type": "display_data"
    },
    {
     "data": {
      "application/vnd.jupyter.widget-view+json": {
       "model_id": "19b2dddd474a44918847a3165aa54155",
       "version_major": 2,
       "version_minor": 0
      },
      "text/plain": [
       "Retrieving ProvenanceDoc documents:   0%|          | 0/1 [00:00<?, ?it/s]"
      ]
     },
     "metadata": {},
     "output_type": "display_data"
    },
    {
     "data": {
      "application/vnd.jupyter.widget-view+json": {
       "model_id": "245539dafea64a3397e40875c3cbed5e",
       "version_major": 2,
       "version_minor": 0
      },
      "text/plain": [
       "Retrieving ProvenanceDoc documents:   0%|          | 0/1 [00:00<?, ?it/s]"
      ]
     },
     "metadata": {},
     "output_type": "display_data"
    },
    {
     "data": {
      "application/vnd.jupyter.widget-view+json": {
       "model_id": "971c2fd1d4554b709260fb000cae10f2",
       "version_major": 2,
       "version_minor": 0
      },
      "text/plain": [
       "Retrieving ProvenanceDoc documents:   0%|          | 0/1 [00:00<?, ?it/s]"
      ]
     },
     "metadata": {},
     "output_type": "display_data"
    },
    {
     "data": {
      "application/vnd.jupyter.widget-view+json": {
       "model_id": "74111a63ff524853ac3488f1c86aea0f",
       "version_major": 2,
       "version_minor": 0
      },
      "text/plain": [
       "Retrieving ProvenanceDoc documents:   0%|          | 0/1 [00:00<?, ?it/s]"
      ]
     },
     "metadata": {},
     "output_type": "display_data"
    },
    {
     "data": {
      "application/vnd.jupyter.widget-view+json": {
       "model_id": "22b442bfbec342a183570a3e62ebd5ad",
       "version_major": 2,
       "version_minor": 0
      },
      "text/plain": [
       "Retrieving ProvenanceDoc documents:   0%|          | 0/1 [00:00<?, ?it/s]"
      ]
     },
     "metadata": {},
     "output_type": "display_data"
    },
    {
     "data": {
      "application/vnd.jupyter.widget-view+json": {
       "model_id": "76ba6924460c4db5bfba5463e2aae1c3",
       "version_major": 2,
       "version_minor": 0
      },
      "text/plain": [
       "Retrieving ProvenanceDoc documents:   0%|          | 0/1 [00:00<?, ?it/s]"
      ]
     },
     "metadata": {},
     "output_type": "display_data"
    },
    {
     "data": {
      "application/vnd.jupyter.widget-view+json": {
       "model_id": "c5507da8ca3b4338aea0d40d98a85c98",
       "version_major": 2,
       "version_minor": 0
      },
      "text/plain": [
       "Retrieving ProvenanceDoc documents:   0%|          | 0/1 [00:00<?, ?it/s]"
      ]
     },
     "metadata": {},
     "output_type": "display_data"
    },
    {
     "data": {
      "application/vnd.jupyter.widget-view+json": {
       "model_id": "ccb76802616344ab9764562683381b7f",
       "version_major": 2,
       "version_minor": 0
      },
      "text/plain": [
       "Retrieving ProvenanceDoc documents:   0%|          | 0/1 [00:00<?, ?it/s]"
      ]
     },
     "metadata": {},
     "output_type": "display_data"
    },
    {
     "data": {
      "application/vnd.jupyter.widget-view+json": {
       "model_id": "a0129b518d52426e99d8b75adf4c6d40",
       "version_major": 2,
       "version_minor": 0
      },
      "text/plain": [
       "Retrieving ProvenanceDoc documents:   0%|          | 0/1 [00:00<?, ?it/s]"
      ]
     },
     "metadata": {},
     "output_type": "display_data"
    },
    {
     "data": {
      "application/vnd.jupyter.widget-view+json": {
       "model_id": "1dcc596231a44f3eba71e1cac9d41f81",
       "version_major": 2,
       "version_minor": 0
      },
      "text/plain": [
       "Retrieving ProvenanceDoc documents:   0%|          | 0/1 [00:00<?, ?it/s]"
      ]
     },
     "metadata": {},
     "output_type": "display_data"
    },
    {
     "data": {
      "application/vnd.jupyter.widget-view+json": {
       "model_id": "5d02ce9777ce49a697838e72a6b2bcff",
       "version_major": 2,
       "version_minor": 0
      },
      "text/plain": [
       "Retrieving ProvenanceDoc documents:   0%|          | 0/1 [00:00<?, ?it/s]"
      ]
     },
     "metadata": {},
     "output_type": "display_data"
    },
    {
     "data": {
      "application/vnd.jupyter.widget-view+json": {
       "model_id": "fbb31a5c20f84f31b9eb80de5b4dc354",
       "version_major": 2,
       "version_minor": 0
      },
      "text/plain": [
       "Retrieving ProvenanceDoc documents:   0%|          | 0/1 [00:00<?, ?it/s]"
      ]
     },
     "metadata": {},
     "output_type": "display_data"
    },
    {
     "data": {
      "application/vnd.jupyter.widget-view+json": {
       "model_id": "6191f79fa97b4feea3d96763b039e1c8",
       "version_major": 2,
       "version_minor": 0
      },
      "text/plain": [
       "Retrieving ProvenanceDoc documents:   0%|          | 0/1 [00:00<?, ?it/s]"
      ]
     },
     "metadata": {},
     "output_type": "display_data"
    },
    {
     "data": {
      "application/vnd.jupyter.widget-view+json": {
       "model_id": "dcd83cf9ab7144d1808110d303f4dea3",
       "version_major": 2,
       "version_minor": 0
      },
      "text/plain": [
       "Retrieving ProvenanceDoc documents:   0%|          | 0/1 [00:00<?, ?it/s]"
      ]
     },
     "metadata": {},
     "output_type": "display_data"
    },
    {
     "data": {
      "application/vnd.jupyter.widget-view+json": {
       "model_id": "b6df41e9243d4c5ab32bda7d73a6f201",
       "version_major": 2,
       "version_minor": 0
      },
      "text/plain": [
       "Retrieving ProvenanceDoc documents:   0%|          | 0/1 [00:00<?, ?it/s]"
      ]
     },
     "metadata": {},
     "output_type": "display_data"
    },
    {
     "data": {
      "application/vnd.jupyter.widget-view+json": {
       "model_id": "ec78e7deeffb44bea2f95bfe665efc8d",
       "version_major": 2,
       "version_minor": 0
      },
      "text/plain": [
       "Retrieving ProvenanceDoc documents:   0%|          | 0/1 [00:00<?, ?it/s]"
      ]
     },
     "metadata": {},
     "output_type": "display_data"
    },
    {
     "data": {
      "application/vnd.jupyter.widget-view+json": {
       "model_id": "680fc78f31ee49b2ac01f399a1216afc",
       "version_major": 2,
       "version_minor": 0
      },
      "text/plain": [
       "Retrieving ProvenanceDoc documents:   0%|          | 0/1 [00:00<?, ?it/s]"
      ]
     },
     "metadata": {},
     "output_type": "display_data"
    },
    {
     "data": {
      "application/vnd.jupyter.widget-view+json": {
       "model_id": "9f939de22ff5442bb944fa9a84860534",
       "version_major": 2,
       "version_minor": 0
      },
      "text/plain": [
       "Retrieving ProvenanceDoc documents:   0%|          | 0/1 [00:00<?, ?it/s]"
      ]
     },
     "metadata": {},
     "output_type": "display_data"
    },
    {
     "data": {
      "application/vnd.jupyter.widget-view+json": {
       "model_id": "0096be1a7e7d4fbf825432c1ee91cd10",
       "version_major": 2,
       "version_minor": 0
      },
      "text/plain": [
       "Retrieving ProvenanceDoc documents:   0%|          | 0/1 [00:00<?, ?it/s]"
      ]
     },
     "metadata": {},
     "output_type": "display_data"
    },
    {
     "data": {
      "application/vnd.jupyter.widget-view+json": {
       "model_id": "b21f5f3a47104a2980b7e1711f5d0ddc",
       "version_major": 2,
       "version_minor": 0
      },
      "text/plain": [
       "Retrieving ProvenanceDoc documents:   0%|          | 0/1 [00:00<?, ?it/s]"
      ]
     },
     "metadata": {},
     "output_type": "display_data"
    },
    {
     "data": {
      "application/vnd.jupyter.widget-view+json": {
       "model_id": "7f830c40b89e4eb793ca1356f299dab0",
       "version_major": 2,
       "version_minor": 0
      },
      "text/plain": [
       "Retrieving ProvenanceDoc documents:   0%|          | 0/1 [00:00<?, ?it/s]"
      ]
     },
     "metadata": {},
     "output_type": "display_data"
    },
    {
     "data": {
      "application/vnd.jupyter.widget-view+json": {
       "model_id": "0fd97341acce4268be0d872f8cb514df",
       "version_major": 2,
       "version_minor": 0
      },
      "text/plain": [
       "Retrieving ProvenanceDoc documents:   0%|          | 0/1 [00:00<?, ?it/s]"
      ]
     },
     "metadata": {},
     "output_type": "display_data"
    },
    {
     "data": {
      "application/vnd.jupyter.widget-view+json": {
       "model_id": "ab7ab09d300c4bfb8b4363f4165d6c41",
       "version_major": 2,
       "version_minor": 0
      },
      "text/plain": [
       "Retrieving ProvenanceDoc documents:   0%|          | 0/1 [00:00<?, ?it/s]"
      ]
     },
     "metadata": {},
     "output_type": "display_data"
    },
    {
     "data": {
      "application/vnd.jupyter.widget-view+json": {
       "model_id": "739f09c3a15349d094a4e1ddea1eb300",
       "version_major": 2,
       "version_minor": 0
      },
      "text/plain": [
       "Retrieving ProvenanceDoc documents:   0%|          | 0/1 [00:00<?, ?it/s]"
      ]
     },
     "metadata": {},
     "output_type": "display_data"
    },
    {
     "data": {
      "application/vnd.jupyter.widget-view+json": {
       "model_id": "248cb7e0ff394368a179981d3a4842a0",
       "version_major": 2,
       "version_minor": 0
      },
      "text/plain": [
       "Retrieving ProvenanceDoc documents:   0%|          | 0/1 [00:00<?, ?it/s]"
      ]
     },
     "metadata": {},
     "output_type": "display_data"
    },
    {
     "data": {
      "application/vnd.jupyter.widget-view+json": {
       "model_id": "6fecbf6f71e74f449f8804ecd3a6281d",
       "version_major": 2,
       "version_minor": 0
      },
      "text/plain": [
       "Retrieving ProvenanceDoc documents:   0%|          | 0/1 [00:00<?, ?it/s]"
      ]
     },
     "metadata": {},
     "output_type": "display_data"
    },
    {
     "data": {
      "application/vnd.jupyter.widget-view+json": {
       "model_id": "54c15f63755d48fa9f325ee89c57e5c1",
       "version_major": 2,
       "version_minor": 0
      },
      "text/plain": [
       "Retrieving ProvenanceDoc documents:   0%|          | 0/1 [00:00<?, ?it/s]"
      ]
     },
     "metadata": {},
     "output_type": "display_data"
    },
    {
     "data": {
      "application/vnd.jupyter.widget-view+json": {
       "model_id": "c54cce71ce6f454a962e8cebba3318ef",
       "version_major": 2,
       "version_minor": 0
      },
      "text/plain": [
       "Retrieving ProvenanceDoc documents:   0%|          | 0/1 [00:00<?, ?it/s]"
      ]
     },
     "metadata": {},
     "output_type": "display_data"
    },
    {
     "data": {
      "application/vnd.jupyter.widget-view+json": {
       "model_id": "62329eced2644a5996ddc97632bbf0ef",
       "version_major": 2,
       "version_minor": 0
      },
      "text/plain": [
       "Retrieving ProvenanceDoc documents:   0%|          | 0/1 [00:00<?, ?it/s]"
      ]
     },
     "metadata": {},
     "output_type": "display_data"
    },
    {
     "data": {
      "application/vnd.jupyter.widget-view+json": {
       "model_id": "678c8220e9d44c55a4e344cdd600d8b8",
       "version_major": 2,
       "version_minor": 0
      },
      "text/plain": [
       "Retrieving ProvenanceDoc documents:   0%|          | 0/1 [00:00<?, ?it/s]"
      ]
     },
     "metadata": {},
     "output_type": "display_data"
    },
    {
     "data": {
      "application/vnd.jupyter.widget-view+json": {
       "model_id": "ff472cce316d42cc966d813e15590719",
       "version_major": 2,
       "version_minor": 0
      },
      "text/plain": [
       "Retrieving ProvenanceDoc documents:   0%|          | 0/1 [00:00<?, ?it/s]"
      ]
     },
     "metadata": {},
     "output_type": "display_data"
    },
    {
     "data": {
      "application/vnd.jupyter.widget-view+json": {
       "model_id": "fcee80d95e014c538a6f075a3ac56a63",
       "version_major": 2,
       "version_minor": 0
      },
      "text/plain": [
       "Retrieving ProvenanceDoc documents:   0%|          | 0/1 [00:00<?, ?it/s]"
      ]
     },
     "metadata": {},
     "output_type": "display_data"
    },
    {
     "data": {
      "application/vnd.jupyter.widget-view+json": {
       "model_id": "177f38d888214bc1aa0d2f887b6c5df1",
       "version_major": 2,
       "version_minor": 0
      },
      "text/plain": [
       "Retrieving ProvenanceDoc documents:   0%|          | 0/1 [00:00<?, ?it/s]"
      ]
     },
     "metadata": {},
     "output_type": "display_data"
    },
    {
     "data": {
      "application/vnd.jupyter.widget-view+json": {
       "model_id": "a7eee15ac45944d1bbd8844c0b17ba87",
       "version_major": 2,
       "version_minor": 0
      },
      "text/plain": [
       "Retrieving ProvenanceDoc documents:   0%|          | 0/1 [00:00<?, ?it/s]"
      ]
     },
     "metadata": {},
     "output_type": "display_data"
    },
    {
     "data": {
      "application/vnd.jupyter.widget-view+json": {
       "model_id": "7aa6de5cccae44a0b2bebd4026a1e3b2",
       "version_major": 2,
       "version_minor": 0
      },
      "text/plain": [
       "Retrieving ProvenanceDoc documents:   0%|          | 0/1 [00:00<?, ?it/s]"
      ]
     },
     "metadata": {},
     "output_type": "display_data"
    },
    {
     "data": {
      "application/vnd.jupyter.widget-view+json": {
       "model_id": "011bd3f653394117ba49c16489eb6db7",
       "version_major": 2,
       "version_minor": 0
      },
      "text/plain": [
       "Retrieving ProvenanceDoc documents:   0%|          | 0/1 [00:00<?, ?it/s]"
      ]
     },
     "metadata": {},
     "output_type": "display_data"
    },
    {
     "data": {
      "application/vnd.jupyter.widget-view+json": {
       "model_id": "dbe3831a83ba4faab91715edd5a9df68",
       "version_major": 2,
       "version_minor": 0
      },
      "text/plain": [
       "Retrieving ProvenanceDoc documents:   0%|          | 0/1 [00:00<?, ?it/s]"
      ]
     },
     "metadata": {},
     "output_type": "display_data"
    },
    {
     "data": {
      "application/vnd.jupyter.widget-view+json": {
       "model_id": "1b2ae5dea89544e6a6551c60e6572e0a",
       "version_major": 2,
       "version_minor": 0
      },
      "text/plain": [
       "Retrieving ProvenanceDoc documents:   0%|          | 0/1 [00:00<?, ?it/s]"
      ]
     },
     "metadata": {},
     "output_type": "display_data"
    },
    {
     "data": {
      "application/vnd.jupyter.widget-view+json": {
       "model_id": "b91d4be884b24e97b46e14c316a0ad4f",
       "version_major": 2,
       "version_minor": 0
      },
      "text/plain": [
       "Retrieving ProvenanceDoc documents:   0%|          | 0/1 [00:00<?, ?it/s]"
      ]
     },
     "metadata": {},
     "output_type": "display_data"
    },
    {
     "data": {
      "application/vnd.jupyter.widget-view+json": {
       "model_id": "535da47689a0468f90cbacd7ced0c365",
       "version_major": 2,
       "version_minor": 0
      },
      "text/plain": [
       "Retrieving ProvenanceDoc documents:   0%|          | 0/1 [00:00<?, ?it/s]"
      ]
     },
     "metadata": {},
     "output_type": "display_data"
    },
    {
     "data": {
      "application/vnd.jupyter.widget-view+json": {
       "model_id": "a81c5354c9c3455391ca47682992c0a7",
       "version_major": 2,
       "version_minor": 0
      },
      "text/plain": [
       "Retrieving ProvenanceDoc documents:   0%|          | 0/1 [00:00<?, ?it/s]"
      ]
     },
     "metadata": {},
     "output_type": "display_data"
    },
    {
     "data": {
      "application/vnd.jupyter.widget-view+json": {
       "model_id": "565104df84034b73a45ef4f1e5e3aba6",
       "version_major": 2,
       "version_minor": 0
      },
      "text/plain": [
       "Retrieving ProvenanceDoc documents:   0%|          | 0/1 [00:00<?, ?it/s]"
      ]
     },
     "metadata": {},
     "output_type": "display_data"
    },
    {
     "data": {
      "application/vnd.jupyter.widget-view+json": {
       "model_id": "8da6366e86cb4638b3b812a9c9ccdb2d",
       "version_major": 2,
       "version_minor": 0
      },
      "text/plain": [
       "Retrieving ProvenanceDoc documents:   0%|          | 0/1 [00:00<?, ?it/s]"
      ]
     },
     "metadata": {},
     "output_type": "display_data"
    },
    {
     "data": {
      "application/vnd.jupyter.widget-view+json": {
       "model_id": "ad8653cb9fdf434a9c74ae75f657128b",
       "version_major": 2,
       "version_minor": 0
      },
      "text/plain": [
       "Retrieving ProvenanceDoc documents:   0%|          | 0/1 [00:00<?, ?it/s]"
      ]
     },
     "metadata": {},
     "output_type": "display_data"
    },
    {
     "data": {
      "application/vnd.jupyter.widget-view+json": {
       "model_id": "52deef8f2bb1472e9eb6f2675ab6265c",
       "version_major": 2,
       "version_minor": 0
      },
      "text/plain": [
       "Retrieving ProvenanceDoc documents:   0%|          | 0/1 [00:00<?, ?it/s]"
      ]
     },
     "metadata": {},
     "output_type": "display_data"
    },
    {
     "data": {
      "application/vnd.jupyter.widget-view+json": {
       "model_id": "c1ed5d681430438f94a1adf672cf8f7b",
       "version_major": 2,
       "version_minor": 0
      },
      "text/plain": [
       "Retrieving ProvenanceDoc documents:   0%|          | 0/1 [00:00<?, ?it/s]"
      ]
     },
     "metadata": {},
     "output_type": "display_data"
    },
    {
     "data": {
      "application/vnd.jupyter.widget-view+json": {
       "model_id": "790fa60632624948b77721d7e9ea530e",
       "version_major": 2,
       "version_minor": 0
      },
      "text/plain": [
       "Retrieving ProvenanceDoc documents:   0%|          | 0/1 [00:00<?, ?it/s]"
      ]
     },
     "metadata": {},
     "output_type": "display_data"
    },
    {
     "data": {
      "application/vnd.jupyter.widget-view+json": {
       "model_id": "50d726eb4c5f42ba9d9af87836d4a17e",
       "version_major": 2,
       "version_minor": 0
      },
      "text/plain": [
       "Retrieving ProvenanceDoc documents:   0%|          | 0/1 [00:00<?, ?it/s]"
      ]
     },
     "metadata": {},
     "output_type": "display_data"
    },
    {
     "data": {
      "application/vnd.jupyter.widget-view+json": {
       "model_id": "70375b71e2c549bebc4b9499533d8d78",
       "version_major": 2,
       "version_minor": 0
      },
      "text/plain": [
       "Retrieving ProvenanceDoc documents:   0%|          | 0/1 [00:00<?, ?it/s]"
      ]
     },
     "metadata": {},
     "output_type": "display_data"
    },
    {
     "data": {
      "application/vnd.jupyter.widget-view+json": {
       "model_id": "b8fd20a4de764d6ebc9d9ce681f709bf",
       "version_major": 2,
       "version_minor": 0
      },
      "text/plain": [
       "Retrieving ProvenanceDoc documents:   0%|          | 0/1 [00:00<?, ?it/s]"
      ]
     },
     "metadata": {},
     "output_type": "display_data"
    },
    {
     "data": {
      "application/vnd.jupyter.widget-view+json": {
       "model_id": "076ccb8d47514234979dd78221db1885",
       "version_major": 2,
       "version_minor": 0
      },
      "text/plain": [
       "Retrieving ProvenanceDoc documents:   0%|          | 0/1 [00:00<?, ?it/s]"
      ]
     },
     "metadata": {},
     "output_type": "display_data"
    },
    {
     "data": {
      "application/vnd.jupyter.widget-view+json": {
       "model_id": "d9cd842137a5410e8f0a2cd801b2bd1a",
       "version_major": 2,
       "version_minor": 0
      },
      "text/plain": [
       "Retrieving ProvenanceDoc documents:   0%|          | 0/1 [00:00<?, ?it/s]"
      ]
     },
     "metadata": {},
     "output_type": "display_data"
    },
    {
     "data": {
      "application/vnd.jupyter.widget-view+json": {
       "model_id": "45dbb5fae0f9453b9b763c8a580efb2c",
       "version_major": 2,
       "version_minor": 0
      },
      "text/plain": [
       "Retrieving ProvenanceDoc documents:   0%|          | 0/1 [00:00<?, ?it/s]"
      ]
     },
     "metadata": {},
     "output_type": "display_data"
    },
    {
     "data": {
      "application/vnd.jupyter.widget-view+json": {
       "model_id": "4417b0df42d84ad8a70bd44a7040d636",
       "version_major": 2,
       "version_minor": 0
      },
      "text/plain": [
       "Retrieving ProvenanceDoc documents:   0%|          | 0/1 [00:00<?, ?it/s]"
      ]
     },
     "metadata": {},
     "output_type": "display_data"
    },
    {
     "data": {
      "application/vnd.jupyter.widget-view+json": {
       "model_id": "ccb3977d9c9a4b04b0bc1b68f544ab58",
       "version_major": 2,
       "version_minor": 0
      },
      "text/plain": [
       "Retrieving ProvenanceDoc documents:   0%|          | 0/1 [00:00<?, ?it/s]"
      ]
     },
     "metadata": {},
     "output_type": "display_data"
    },
    {
     "data": {
      "application/vnd.jupyter.widget-view+json": {
       "model_id": "387385de060e4bdfad9c2792a813796e",
       "version_major": 2,
       "version_minor": 0
      },
      "text/plain": [
       "Retrieving ProvenanceDoc documents:   0%|          | 0/1 [00:00<?, ?it/s]"
      ]
     },
     "metadata": {},
     "output_type": "display_data"
    },
    {
     "data": {
      "application/vnd.jupyter.widget-view+json": {
       "model_id": "1986f6bb6a94464b9c568af7cea3f120",
       "version_major": 2,
       "version_minor": 0
      },
      "text/plain": [
       "Retrieving ProvenanceDoc documents:   0%|          | 0/1 [00:00<?, ?it/s]"
      ]
     },
     "metadata": {},
     "output_type": "display_data"
    },
    {
     "data": {
      "application/vnd.jupyter.widget-view+json": {
       "model_id": "8f5bb010d6db439fbd1b5cd3315ed1cc",
       "version_major": 2,
       "version_minor": 0
      },
      "text/plain": [
       "Retrieving ProvenanceDoc documents:   0%|          | 0/1 [00:00<?, ?it/s]"
      ]
     },
     "metadata": {},
     "output_type": "display_data"
    },
    {
     "data": {
      "application/vnd.jupyter.widget-view+json": {
       "model_id": "d5dc66a0f0a24e9eb624188d2a1d447d",
       "version_major": 2,
       "version_minor": 0
      },
      "text/plain": [
       "Retrieving ProvenanceDoc documents:   0%|          | 0/1 [00:00<?, ?it/s]"
      ]
     },
     "metadata": {},
     "output_type": "display_data"
    },
    {
     "data": {
      "application/vnd.jupyter.widget-view+json": {
       "model_id": "2a451eb0a9d04bd4a661d00609b2dd4e",
       "version_major": 2,
       "version_minor": 0
      },
      "text/plain": [
       "Retrieving ProvenanceDoc documents:   0%|          | 0/1 [00:00<?, ?it/s]"
      ]
     },
     "metadata": {},
     "output_type": "display_data"
    },
    {
     "data": {
      "application/vnd.jupyter.widget-view+json": {
       "model_id": "cf5a487ac1844ddeafff5233f885783c",
       "version_major": 2,
       "version_minor": 0
      },
      "text/plain": [
       "Retrieving ProvenanceDoc documents:   0%|          | 0/1 [00:00<?, ?it/s]"
      ]
     },
     "metadata": {},
     "output_type": "display_data"
    },
    {
     "data": {
      "application/vnd.jupyter.widget-view+json": {
       "model_id": "a77ada428e6c4660aa187efc8b80ee07",
       "version_major": 2,
       "version_minor": 0
      },
      "text/plain": [
       "Retrieving ProvenanceDoc documents:   0%|          | 0/1 [00:00<?, ?it/s]"
      ]
     },
     "metadata": {},
     "output_type": "display_data"
    },
    {
     "data": {
      "application/vnd.jupyter.widget-view+json": {
       "model_id": "230489630b364ec8bd75cc3e009163f9",
       "version_major": 2,
       "version_minor": 0
      },
      "text/plain": [
       "Retrieving ProvenanceDoc documents:   0%|          | 0/1 [00:00<?, ?it/s]"
      ]
     },
     "metadata": {},
     "output_type": "display_data"
    },
    {
     "data": {
      "application/vnd.jupyter.widget-view+json": {
       "model_id": "ab591c2dfad74e218b7c385a203d1850",
       "version_major": 2,
       "version_minor": 0
      },
      "text/plain": [
       "Retrieving ProvenanceDoc documents:   0%|          | 0/1 [00:00<?, ?it/s]"
      ]
     },
     "metadata": {},
     "output_type": "display_data"
    },
    {
     "data": {
      "application/vnd.jupyter.widget-view+json": {
       "model_id": "3c6eb30260c64f28a83c892590c96664",
       "version_major": 2,
       "version_minor": 0
      },
      "text/plain": [
       "Retrieving ProvenanceDoc documents:   0%|          | 0/1 [00:00<?, ?it/s]"
      ]
     },
     "metadata": {},
     "output_type": "display_data"
    },
    {
     "data": {
      "application/vnd.jupyter.widget-view+json": {
       "model_id": "9e42b74fc8f64f71a6d24b35dd7cbf37",
       "version_major": 2,
       "version_minor": 0
      },
      "text/plain": [
       "Retrieving ProvenanceDoc documents:   0%|          | 0/1 [00:00<?, ?it/s]"
      ]
     },
     "metadata": {},
     "output_type": "display_data"
    },
    {
     "data": {
      "application/vnd.jupyter.widget-view+json": {
       "model_id": "7c799476bbbc409cb16d423dbb73ba40",
       "version_major": 2,
       "version_minor": 0
      },
      "text/plain": [
       "Retrieving ProvenanceDoc documents:   0%|          | 0/1 [00:00<?, ?it/s]"
      ]
     },
     "metadata": {},
     "output_type": "display_data"
    },
    {
     "data": {
      "application/vnd.jupyter.widget-view+json": {
       "model_id": "d298bc2f82fc46239d13b32b9cefac51",
       "version_major": 2,
       "version_minor": 0
      },
      "text/plain": [
       "Retrieving ProvenanceDoc documents:   0%|          | 0/1 [00:00<?, ?it/s]"
      ]
     },
     "metadata": {},
     "output_type": "display_data"
    },
    {
     "data": {
      "application/vnd.jupyter.widget-view+json": {
       "model_id": "6996a2f510eb4f8a964d35cbc3757bce",
       "version_major": 2,
       "version_minor": 0
      },
      "text/plain": [
       "Retrieving ProvenanceDoc documents:   0%|          | 0/1 [00:00<?, ?it/s]"
      ]
     },
     "metadata": {},
     "output_type": "display_data"
    },
    {
     "data": {
      "application/vnd.jupyter.widget-view+json": {
       "model_id": "145b3c0fd5514f1886fd6dc65b16bdf2",
       "version_major": 2,
       "version_minor": 0
      },
      "text/plain": [
       "Retrieving ProvenanceDoc documents:   0%|          | 0/1 [00:00<?, ?it/s]"
      ]
     },
     "metadata": {},
     "output_type": "display_data"
    },
    {
     "data": {
      "application/vnd.jupyter.widget-view+json": {
       "model_id": "e3b7f466e16a44cbaea8d361c782ce95",
       "version_major": 2,
       "version_minor": 0
      },
      "text/plain": [
       "Retrieving ProvenanceDoc documents:   0%|          | 0/1 [00:00<?, ?it/s]"
      ]
     },
     "metadata": {},
     "output_type": "display_data"
    },
    {
     "data": {
      "application/vnd.jupyter.widget-view+json": {
       "model_id": "44546ad5d7364de59d40ee1b1eae1eb7",
       "version_major": 2,
       "version_minor": 0
      },
      "text/plain": [
       "Retrieving ProvenanceDoc documents:   0%|          | 0/1 [00:00<?, ?it/s]"
      ]
     },
     "metadata": {},
     "output_type": "display_data"
    },
    {
     "data": {
      "application/vnd.jupyter.widget-view+json": {
       "model_id": "1ff26139d2704347be8fdc2d9e3d5c74",
       "version_major": 2,
       "version_minor": 0
      },
      "text/plain": [
       "Retrieving ProvenanceDoc documents:   0%|          | 0/1 [00:00<?, ?it/s]"
      ]
     },
     "metadata": {},
     "output_type": "display_data"
    },
    {
     "data": {
      "application/vnd.jupyter.widget-view+json": {
       "model_id": "d17237e549534d088ffd733141203b50",
       "version_major": 2,
       "version_minor": 0
      },
      "text/plain": [
       "Retrieving ProvenanceDoc documents:   0%|          | 0/1 [00:00<?, ?it/s]"
      ]
     },
     "metadata": {},
     "output_type": "display_data"
    },
    {
     "data": {
      "application/vnd.jupyter.widget-view+json": {
       "model_id": "87a7ccc7d16c4ddfad58939d17cee664",
       "version_major": 2,
       "version_minor": 0
      },
      "text/plain": [
       "Retrieving ProvenanceDoc documents:   0%|          | 0/1 [00:00<?, ?it/s]"
      ]
     },
     "metadata": {},
     "output_type": "display_data"
    },
    {
     "data": {
      "application/vnd.jupyter.widget-view+json": {
       "model_id": "9a01c965c04441aa988e0d70bc2ff7d3",
       "version_major": 2,
       "version_minor": 0
      },
      "text/plain": [
       "Retrieving ProvenanceDoc documents:   0%|          | 0/1 [00:00<?, ?it/s]"
      ]
     },
     "metadata": {},
     "output_type": "display_data"
    },
    {
     "data": {
      "application/vnd.jupyter.widget-view+json": {
       "model_id": "85dce670e2b04405bacee939a0e2b1ed",
       "version_major": 2,
       "version_minor": 0
      },
      "text/plain": [
       "Retrieving ProvenanceDoc documents:   0%|          | 0/1 [00:00<?, ?it/s]"
      ]
     },
     "metadata": {},
     "output_type": "display_data"
    },
    {
     "data": {
      "application/vnd.jupyter.widget-view+json": {
       "model_id": "5782211275564d859913b7b7bb7a7641",
       "version_major": 2,
       "version_minor": 0
      },
      "text/plain": [
       "Retrieving ProvenanceDoc documents:   0%|          | 0/1 [00:00<?, ?it/s]"
      ]
     },
     "metadata": {},
     "output_type": "display_data"
    },
    {
     "data": {
      "application/vnd.jupyter.widget-view+json": {
       "model_id": "851434476a6b42958d7a2f5ebf5971ef",
       "version_major": 2,
       "version_minor": 0
      },
      "text/plain": [
       "Retrieving ProvenanceDoc documents:   0%|          | 0/1 [00:00<?, ?it/s]"
      ]
     },
     "metadata": {},
     "output_type": "display_data"
    },
    {
     "data": {
      "application/vnd.jupyter.widget-view+json": {
       "model_id": "690b063363a740d5ac7d242dcc798f58",
       "version_major": 2,
       "version_minor": 0
      },
      "text/plain": [
       "Retrieving ProvenanceDoc documents:   0%|          | 0/1 [00:00<?, ?it/s]"
      ]
     },
     "metadata": {},
     "output_type": "display_data"
    },
    {
     "data": {
      "application/vnd.jupyter.widget-view+json": {
       "model_id": "794404d6483c4023800c1b3dc6d16526",
       "version_major": 2,
       "version_minor": 0
      },
      "text/plain": [
       "Retrieving ProvenanceDoc documents:   0%|          | 0/1 [00:00<?, ?it/s]"
      ]
     },
     "metadata": {},
     "output_type": "display_data"
    },
    {
     "data": {
      "application/vnd.jupyter.widget-view+json": {
       "model_id": "a699bd807c464260a12f3714d65e2785",
       "version_major": 2,
       "version_minor": 0
      },
      "text/plain": [
       "Retrieving ProvenanceDoc documents:   0%|          | 0/1 [00:00<?, ?it/s]"
      ]
     },
     "metadata": {},
     "output_type": "display_data"
    },
    {
     "data": {
      "application/vnd.jupyter.widget-view+json": {
       "model_id": "43cf6f86c3214ce9a165d2fccb85bc94",
       "version_major": 2,
       "version_minor": 0
      },
      "text/plain": [
       "Retrieving ProvenanceDoc documents:   0%|          | 0/1 [00:00<?, ?it/s]"
      ]
     },
     "metadata": {},
     "output_type": "display_data"
    },
    {
     "data": {
      "application/vnd.jupyter.widget-view+json": {
       "model_id": "2117f6f95f914d5dbcfe62c74930afbc",
       "version_major": 2,
       "version_minor": 0
      },
      "text/plain": [
       "Retrieving ProvenanceDoc documents:   0%|          | 0/1 [00:00<?, ?it/s]"
      ]
     },
     "metadata": {},
     "output_type": "display_data"
    },
    {
     "data": {
      "application/vnd.jupyter.widget-view+json": {
       "model_id": "8794d061c2bb45cc8ee2d4601ec92523",
       "version_major": 2,
       "version_minor": 0
      },
      "text/plain": [
       "Retrieving ProvenanceDoc documents:   0%|          | 0/1 [00:00<?, ?it/s]"
      ]
     },
     "metadata": {},
     "output_type": "display_data"
    },
    {
     "data": {
      "application/vnd.jupyter.widget-view+json": {
       "model_id": "953975610a8345ef91f3471236ccf5c3",
       "version_major": 2,
       "version_minor": 0
      },
      "text/plain": [
       "Retrieving ProvenanceDoc documents:   0%|          | 0/1 [00:00<?, ?it/s]"
      ]
     },
     "metadata": {},
     "output_type": "display_data"
    },
    {
     "data": {
      "application/vnd.jupyter.widget-view+json": {
       "model_id": "7a55fd886f53414181047c38b91095dd",
       "version_major": 2,
       "version_minor": 0
      },
      "text/plain": [
       "Retrieving ProvenanceDoc documents:   0%|          | 0/1 [00:00<?, ?it/s]"
      ]
     },
     "metadata": {},
     "output_type": "display_data"
    },
    {
     "data": {
      "application/vnd.jupyter.widget-view+json": {
       "model_id": "89870fb2fdb8411eaf7d69699dc808cd",
       "version_major": 2,
       "version_minor": 0
      },
      "text/plain": [
       "Retrieving ProvenanceDoc documents:   0%|          | 0/1 [00:00<?, ?it/s]"
      ]
     },
     "metadata": {},
     "output_type": "display_data"
    },
    {
     "data": {
      "application/vnd.jupyter.widget-view+json": {
       "model_id": "a219911b5ec14586826714af5e3b43da",
       "version_major": 2,
       "version_minor": 0
      },
      "text/plain": [
       "Retrieving ProvenanceDoc documents:   0%|          | 0/1 [00:00<?, ?it/s]"
      ]
     },
     "metadata": {},
     "output_type": "display_data"
    },
    {
     "data": {
      "application/vnd.jupyter.widget-view+json": {
       "model_id": "be37c0aab3f3470b9102ba2bc1db21e3",
       "version_major": 2,
       "version_minor": 0
      },
      "text/plain": [
       "Retrieving ProvenanceDoc documents:   0%|          | 0/1 [00:00<?, ?it/s]"
      ]
     },
     "metadata": {},
     "output_type": "display_data"
    },
    {
     "data": {
      "application/vnd.jupyter.widget-view+json": {
       "model_id": "8f2b4b02be9945eeb65f0903588f9ebb",
       "version_major": 2,
       "version_minor": 0
      },
      "text/plain": [
       "Retrieving ProvenanceDoc documents:   0%|          | 0/1 [00:00<?, ?it/s]"
      ]
     },
     "metadata": {},
     "output_type": "display_data"
    },
    {
     "data": {
      "application/vnd.jupyter.widget-view+json": {
       "model_id": "daa59e36d63e47c499b559f7aa304049",
       "version_major": 2,
       "version_minor": 0
      },
      "text/plain": [
       "Retrieving ProvenanceDoc documents:   0%|          | 0/1 [00:00<?, ?it/s]"
      ]
     },
     "metadata": {},
     "output_type": "display_data"
    },
    {
     "data": {
      "application/vnd.jupyter.widget-view+json": {
       "model_id": "67f69aeb169f490cbe083538d6a2194f",
       "version_major": 2,
       "version_minor": 0
      },
      "text/plain": [
       "Retrieving ProvenanceDoc documents:   0%|          | 0/1 [00:00<?, ?it/s]"
      ]
     },
     "metadata": {},
     "output_type": "display_data"
    },
    {
     "data": {
      "application/vnd.jupyter.widget-view+json": {
       "model_id": "ea9371e616ef4ec9813c070fdc3b1183",
       "version_major": 2,
       "version_minor": 0
      },
      "text/plain": [
       "Retrieving ProvenanceDoc documents:   0%|          | 0/1 [00:00<?, ?it/s]"
      ]
     },
     "metadata": {},
     "output_type": "display_data"
    },
    {
     "data": {
      "application/vnd.jupyter.widget-view+json": {
       "model_id": "33699de7adbe4450a2a7b1ee01f60a5b",
       "version_major": 2,
       "version_minor": 0
      },
      "text/plain": [
       "Retrieving ProvenanceDoc documents:   0%|          | 0/1 [00:00<?, ?it/s]"
      ]
     },
     "metadata": {},
     "output_type": "display_data"
    },
    {
     "data": {
      "application/vnd.jupyter.widget-view+json": {
       "model_id": "df89863084cd47f098bfd04e7b54de86",
       "version_major": 2,
       "version_minor": 0
      },
      "text/plain": [
       "Retrieving ProvenanceDoc documents:   0%|          | 0/1 [00:00<?, ?it/s]"
      ]
     },
     "metadata": {},
     "output_type": "display_data"
    },
    {
     "data": {
      "application/vnd.jupyter.widget-view+json": {
       "model_id": "35bf68eb6fb341cdb5fa7459cd2343e7",
       "version_major": 2,
       "version_minor": 0
      },
      "text/plain": [
       "Retrieving ProvenanceDoc documents:   0%|          | 0/1 [00:00<?, ?it/s]"
      ]
     },
     "metadata": {},
     "output_type": "display_data"
    },
    {
     "data": {
      "application/vnd.jupyter.widget-view+json": {
       "model_id": "0df11f6db432479182872840113af264",
       "version_major": 2,
       "version_minor": 0
      },
      "text/plain": [
       "Retrieving ProvenanceDoc documents:   0%|          | 0/1 [00:00<?, ?it/s]"
      ]
     },
     "metadata": {},
     "output_type": "display_data"
    },
    {
     "data": {
      "application/vnd.jupyter.widget-view+json": {
       "model_id": "71e37f8dc0eb4b37ab6b1e6384152f14",
       "version_major": 2,
       "version_minor": 0
      },
      "text/plain": [
       "Retrieving ProvenanceDoc documents:   0%|          | 0/1 [00:00<?, ?it/s]"
      ]
     },
     "metadata": {},
     "output_type": "display_data"
    },
    {
     "data": {
      "application/vnd.jupyter.widget-view+json": {
       "model_id": "a7f061c7dfaf441090fb73d031149e9a",
       "version_major": 2,
       "version_minor": 0
      },
      "text/plain": [
       "Retrieving ProvenanceDoc documents:   0%|          | 0/1 [00:00<?, ?it/s]"
      ]
     },
     "metadata": {},
     "output_type": "display_data"
    },
    {
     "data": {
      "application/vnd.jupyter.widget-view+json": {
       "model_id": "8a524f44370a40bc9ace7a594f8c6105",
       "version_major": 2,
       "version_minor": 0
      },
      "text/plain": [
       "Retrieving ProvenanceDoc documents:   0%|          | 0/1 [00:00<?, ?it/s]"
      ]
     },
     "metadata": {},
     "output_type": "display_data"
    },
    {
     "data": {
      "application/vnd.jupyter.widget-view+json": {
       "model_id": "3ea7eeba58474637ae7365c94ec53a45",
       "version_major": 2,
       "version_minor": 0
      },
      "text/plain": [
       "Retrieving ProvenanceDoc documents:   0%|          | 0/1 [00:00<?, ?it/s]"
      ]
     },
     "metadata": {},
     "output_type": "display_data"
    },
    {
     "data": {
      "application/vnd.jupyter.widget-view+json": {
       "model_id": "ab46ce8c74374130884b9a75701c26ed",
       "version_major": 2,
       "version_minor": 0
      },
      "text/plain": [
       "Retrieving ProvenanceDoc documents:   0%|          | 0/1 [00:00<?, ?it/s]"
      ]
     },
     "metadata": {},
     "output_type": "display_data"
    },
    {
     "data": {
      "application/vnd.jupyter.widget-view+json": {
       "model_id": "4748d37d13034ec5ad349676ebb1920a",
       "version_major": 2,
       "version_minor": 0
      },
      "text/plain": [
       "Retrieving ProvenanceDoc documents:   0%|          | 0/1 [00:00<?, ?it/s]"
      ]
     },
     "metadata": {},
     "output_type": "display_data"
    },
    {
     "data": {
      "application/vnd.jupyter.widget-view+json": {
       "model_id": "61d55c0d40c3423d9b8f754262386fe9",
       "version_major": 2,
       "version_minor": 0
      },
      "text/plain": [
       "Retrieving ProvenanceDoc documents:   0%|          | 0/1 [00:00<?, ?it/s]"
      ]
     },
     "metadata": {},
     "output_type": "display_data"
    },
    {
     "data": {
      "application/vnd.jupyter.widget-view+json": {
       "model_id": "a601de4dbc18412bb9f892dbd5dc8f19",
       "version_major": 2,
       "version_minor": 0
      },
      "text/plain": [
       "Retrieving ProvenanceDoc documents:   0%|          | 0/1 [00:00<?, ?it/s]"
      ]
     },
     "metadata": {},
     "output_type": "display_data"
    },
    {
     "data": {
      "application/vnd.jupyter.widget-view+json": {
       "model_id": "6ff9a29273bb4d5eb673547c953a140c",
       "version_major": 2,
       "version_minor": 0
      },
      "text/plain": [
       "Retrieving ProvenanceDoc documents:   0%|          | 0/1 [00:00<?, ?it/s]"
      ]
     },
     "metadata": {},
     "output_type": "display_data"
    },
    {
     "data": {
      "application/vnd.jupyter.widget-view+json": {
       "model_id": "c19699b43f744fc893a6d82674bff3c4",
       "version_major": 2,
       "version_minor": 0
      },
      "text/plain": [
       "Retrieving ProvenanceDoc documents:   0%|          | 0/1 [00:00<?, ?it/s]"
      ]
     },
     "metadata": {},
     "output_type": "display_data"
    },
    {
     "data": {
      "application/vnd.jupyter.widget-view+json": {
       "model_id": "c1ec250abe2141b5bda6d5ca3f278ca6",
       "version_major": 2,
       "version_minor": 0
      },
      "text/plain": [
       "Retrieving ProvenanceDoc documents:   0%|          | 0/1 [00:00<?, ?it/s]"
      ]
     },
     "metadata": {},
     "output_type": "display_data"
    },
    {
     "data": {
      "application/vnd.jupyter.widget-view+json": {
       "model_id": "a8afb697676548fca1b4b2a89832afd4",
       "version_major": 2,
       "version_minor": 0
      },
      "text/plain": [
       "Retrieving ProvenanceDoc documents:   0%|          | 0/1 [00:00<?, ?it/s]"
      ]
     },
     "metadata": {},
     "output_type": "display_data"
    },
    {
     "data": {
      "application/vnd.jupyter.widget-view+json": {
       "model_id": "ab2b0bf4a4f449c99ca024e13baac5a9",
       "version_major": 2,
       "version_minor": 0
      },
      "text/plain": [
       "Retrieving ProvenanceDoc documents:   0%|          | 0/1 [00:00<?, ?it/s]"
      ]
     },
     "metadata": {},
     "output_type": "display_data"
    },
    {
     "data": {
      "application/vnd.jupyter.widget-view+json": {
       "model_id": "1c340f7de7bc45429b14f8b539f38145",
       "version_major": 2,
       "version_minor": 0
      },
      "text/plain": [
       "Retrieving ProvenanceDoc documents:   0%|          | 0/1 [00:00<?, ?it/s]"
      ]
     },
     "metadata": {},
     "output_type": "display_data"
    },
    {
     "data": {
      "application/vnd.jupyter.widget-view+json": {
       "model_id": "1c5b86abbf19495d9494bdb18745551a",
       "version_major": 2,
       "version_minor": 0
      },
      "text/plain": [
       "Retrieving ProvenanceDoc documents:   0%|          | 0/1 [00:00<?, ?it/s]"
      ]
     },
     "metadata": {},
     "output_type": "display_data"
    },
    {
     "data": {
      "application/vnd.jupyter.widget-view+json": {
       "model_id": "d62415bf5d3343bdb0f2bb95ca975c75",
       "version_major": 2,
       "version_minor": 0
      },
      "text/plain": [
       "Retrieving ProvenanceDoc documents:   0%|          | 0/1 [00:00<?, ?it/s]"
      ]
     },
     "metadata": {},
     "output_type": "display_data"
    },
    {
     "data": {
      "application/vnd.jupyter.widget-view+json": {
       "model_id": "91269fe4a73e4320ac5b3bf23f1b9840",
       "version_major": 2,
       "version_minor": 0
      },
      "text/plain": [
       "Retrieving ProvenanceDoc documents:   0%|          | 0/1 [00:00<?, ?it/s]"
      ]
     },
     "metadata": {},
     "output_type": "display_data"
    },
    {
     "data": {
      "application/vnd.jupyter.widget-view+json": {
       "model_id": "5fdbd252a2f64e95a180aa80234a3421",
       "version_major": 2,
       "version_minor": 0
      },
      "text/plain": [
       "Retrieving ProvenanceDoc documents:   0%|          | 0/1 [00:00<?, ?it/s]"
      ]
     },
     "metadata": {},
     "output_type": "display_data"
    },
    {
     "data": {
      "application/vnd.jupyter.widget-view+json": {
       "model_id": "8e75b296f00e416bb7a59824d12df4fe",
       "version_major": 2,
       "version_minor": 0
      },
      "text/plain": [
       "Retrieving ProvenanceDoc documents:   0%|          | 0/1 [00:00<?, ?it/s]"
      ]
     },
     "metadata": {},
     "output_type": "display_data"
    },
    {
     "data": {
      "application/vnd.jupyter.widget-view+json": {
       "model_id": "6f2f8bd17f5246c190dd02a89e6afc99",
       "version_major": 2,
       "version_minor": 0
      },
      "text/plain": [
       "Retrieving ProvenanceDoc documents:   0%|          | 0/1 [00:00<?, ?it/s]"
      ]
     },
     "metadata": {},
     "output_type": "display_data"
    },
    {
     "data": {
      "application/vnd.jupyter.widget-view+json": {
       "model_id": "5aaecafdfae8464990b490498ab56cf2",
       "version_major": 2,
       "version_minor": 0
      },
      "text/plain": [
       "Retrieving ProvenanceDoc documents:   0%|          | 0/1 [00:00<?, ?it/s]"
      ]
     },
     "metadata": {},
     "output_type": "display_data"
    },
    {
     "data": {
      "application/vnd.jupyter.widget-view+json": {
       "model_id": "0f97061d4a5448a9b26ef3ab3c798582",
       "version_major": 2,
       "version_minor": 0
      },
      "text/plain": [
       "Retrieving ProvenanceDoc documents:   0%|          | 0/1 [00:00<?, ?it/s]"
      ]
     },
     "metadata": {},
     "output_type": "display_data"
    },
    {
     "data": {
      "application/vnd.jupyter.widget-view+json": {
       "model_id": "6a78e7181f7d405cb9540cf4a2282806",
       "version_major": 2,
       "version_minor": 0
      },
      "text/plain": [
       "Retrieving ProvenanceDoc documents:   0%|          | 0/1 [00:00<?, ?it/s]"
      ]
     },
     "metadata": {},
     "output_type": "display_data"
    },
    {
     "data": {
      "application/vnd.jupyter.widget-view+json": {
       "model_id": "bdb0159427654609b3c2f79518d537ba",
       "version_major": 2,
       "version_minor": 0
      },
      "text/plain": [
       "Retrieving ProvenanceDoc documents:   0%|          | 0/1 [00:00<?, ?it/s]"
      ]
     },
     "metadata": {},
     "output_type": "display_data"
    },
    {
     "data": {
      "application/vnd.jupyter.widget-view+json": {
       "model_id": "44e701ea6a6c4a658473cf1bb885f9ac",
       "version_major": 2,
       "version_minor": 0
      },
      "text/plain": [
       "Retrieving ProvenanceDoc documents:   0%|          | 0/1 [00:00<?, ?it/s]"
      ]
     },
     "metadata": {},
     "output_type": "display_data"
    },
    {
     "data": {
      "application/vnd.jupyter.widget-view+json": {
       "model_id": "230880ab109348ebb7f4f2d0e6bed262",
       "version_major": 2,
       "version_minor": 0
      },
      "text/plain": [
       "Retrieving ProvenanceDoc documents:   0%|          | 0/1 [00:00<?, ?it/s]"
      ]
     },
     "metadata": {},
     "output_type": "display_data"
    },
    {
     "data": {
      "application/vnd.jupyter.widget-view+json": {
       "model_id": "ab9658bc89ff45aba22a28f3083f7150",
       "version_major": 2,
       "version_minor": 0
      },
      "text/plain": [
       "Retrieving ProvenanceDoc documents:   0%|          | 0/1 [00:00<?, ?it/s]"
      ]
     },
     "metadata": {},
     "output_type": "display_data"
    },
    {
     "data": {
      "application/vnd.jupyter.widget-view+json": {
       "model_id": "927181bf49a647ccbf72ff6593d973aa",
       "version_major": 2,
       "version_minor": 0
      },
      "text/plain": [
       "Retrieving ProvenanceDoc documents:   0%|          | 0/1 [00:00<?, ?it/s]"
      ]
     },
     "metadata": {},
     "output_type": "display_data"
    },
    {
     "data": {
      "application/vnd.jupyter.widget-view+json": {
       "model_id": "d2994b3503814742be5e5fc9c0ab55b9",
       "version_major": 2,
       "version_minor": 0
      },
      "text/plain": [
       "Retrieving ProvenanceDoc documents:   0%|          | 0/1 [00:00<?, ?it/s]"
      ]
     },
     "metadata": {},
     "output_type": "display_data"
    },
    {
     "data": {
      "application/vnd.jupyter.widget-view+json": {
       "model_id": "31e0b06dfcb04a8495f2e74252d32c2f",
       "version_major": 2,
       "version_minor": 0
      },
      "text/plain": [
       "Retrieving ProvenanceDoc documents:   0%|          | 0/1 [00:00<?, ?it/s]"
      ]
     },
     "metadata": {},
     "output_type": "display_data"
    },
    {
     "data": {
      "application/vnd.jupyter.widget-view+json": {
       "model_id": "370e3409746844fe94fa91043ecf85fb",
       "version_major": 2,
       "version_minor": 0
      },
      "text/plain": [
       "Retrieving ProvenanceDoc documents:   0%|          | 0/1 [00:00<?, ?it/s]"
      ]
     },
     "metadata": {},
     "output_type": "display_data"
    },
    {
     "data": {
      "application/vnd.jupyter.widget-view+json": {
       "model_id": "d8f043bb065f458abf3e1c2970f74ec2",
       "version_major": 2,
       "version_minor": 0
      },
      "text/plain": [
       "Retrieving ProvenanceDoc documents:   0%|          | 0/1 [00:00<?, ?it/s]"
      ]
     },
     "metadata": {},
     "output_type": "display_data"
    },
    {
     "data": {
      "application/vnd.jupyter.widget-view+json": {
       "model_id": "9e0e8ee57a4648f0ac9a15a82daa05cb",
       "version_major": 2,
       "version_minor": 0
      },
      "text/plain": [
       "Retrieving ProvenanceDoc documents:   0%|          | 0/1 [00:00<?, ?it/s]"
      ]
     },
     "metadata": {},
     "output_type": "display_data"
    },
    {
     "data": {
      "application/vnd.jupyter.widget-view+json": {
       "model_id": "79dfe07042814358a8f9b79888383211",
       "version_major": 2,
       "version_minor": 0
      },
      "text/plain": [
       "Retrieving ProvenanceDoc documents:   0%|          | 0/1 [00:00<?, ?it/s]"
      ]
     },
     "metadata": {},
     "output_type": "display_data"
    },
    {
     "data": {
      "application/vnd.jupyter.widget-view+json": {
       "model_id": "e858553a16f94569b85667e62f537d26",
       "version_major": 2,
       "version_minor": 0
      },
      "text/plain": [
       "Retrieving ProvenanceDoc documents:   0%|          | 0/1 [00:00<?, ?it/s]"
      ]
     },
     "metadata": {},
     "output_type": "display_data"
    },
    {
     "data": {
      "application/vnd.jupyter.widget-view+json": {
       "model_id": "66109ec4c17449e8b70f52cb3ad0d93b",
       "version_major": 2,
       "version_minor": 0
      },
      "text/plain": [
       "Retrieving ProvenanceDoc documents:   0%|          | 0/1 [00:00<?, ?it/s]"
      ]
     },
     "metadata": {},
     "output_type": "display_data"
    },
    {
     "data": {
      "application/vnd.jupyter.widget-view+json": {
       "model_id": "0f914b80793042ce9f9980a5ae465818",
       "version_major": 2,
       "version_minor": 0
      },
      "text/plain": [
       "Retrieving ProvenanceDoc documents:   0%|          | 0/1 [00:00<?, ?it/s]"
      ]
     },
     "metadata": {},
     "output_type": "display_data"
    },
    {
     "data": {
      "application/vnd.jupyter.widget-view+json": {
       "model_id": "e9f84d25e1ef48b5ae1530cae7a5bef0",
       "version_major": 2,
       "version_minor": 0
      },
      "text/plain": [
       "Retrieving ProvenanceDoc documents:   0%|          | 0/1 [00:00<?, ?it/s]"
      ]
     },
     "metadata": {},
     "output_type": "display_data"
    },
    {
     "data": {
      "application/vnd.jupyter.widget-view+json": {
       "model_id": "e9baf7f7cf6c42b2be08f99664c3727a",
       "version_major": 2,
       "version_minor": 0
      },
      "text/plain": [
       "Retrieving ProvenanceDoc documents:   0%|          | 0/1 [00:00<?, ?it/s]"
      ]
     },
     "metadata": {},
     "output_type": "display_data"
    },
    {
     "data": {
      "application/vnd.jupyter.widget-view+json": {
       "model_id": "9511830b7e48466ebdeb24707b3e592f",
       "version_major": 2,
       "version_minor": 0
      },
      "text/plain": [
       "Retrieving ProvenanceDoc documents:   0%|          | 0/1 [00:00<?, ?it/s]"
      ]
     },
     "metadata": {},
     "output_type": "display_data"
    },
    {
     "data": {
      "application/vnd.jupyter.widget-view+json": {
       "model_id": "4779bbaeb7114b1bb2bbe27035fd0091",
       "version_major": 2,
       "version_minor": 0
      },
      "text/plain": [
       "Retrieving ProvenanceDoc documents:   0%|          | 0/1 [00:00<?, ?it/s]"
      ]
     },
     "metadata": {},
     "output_type": "display_data"
    },
    {
     "data": {
      "application/vnd.jupyter.widget-view+json": {
       "model_id": "7a77aa18c387414f810b7c3e22df92b9",
       "version_major": 2,
       "version_minor": 0
      },
      "text/plain": [
       "Retrieving ProvenanceDoc documents:   0%|          | 0/1 [00:00<?, ?it/s]"
      ]
     },
     "metadata": {},
     "output_type": "display_data"
    },
    {
     "data": {
      "application/vnd.jupyter.widget-view+json": {
       "model_id": "3d350c36d4a9401c953c4c39bfecc259",
       "version_major": 2,
       "version_minor": 0
      },
      "text/plain": [
       "Retrieving ProvenanceDoc documents:   0%|          | 0/1 [00:00<?, ?it/s]"
      ]
     },
     "metadata": {},
     "output_type": "display_data"
    },
    {
     "data": {
      "application/vnd.jupyter.widget-view+json": {
       "model_id": "f5a060e3c03548fdab9242037b42f009",
       "version_major": 2,
       "version_minor": 0
      },
      "text/plain": [
       "Retrieving ProvenanceDoc documents:   0%|          | 0/1 [00:00<?, ?it/s]"
      ]
     },
     "metadata": {},
     "output_type": "display_data"
    },
    {
     "data": {
      "application/vnd.jupyter.widget-view+json": {
       "model_id": "0d11bee30e6148ffa43ff78b4ac8f069",
       "version_major": 2,
       "version_minor": 0
      },
      "text/plain": [
       "Retrieving ProvenanceDoc documents:   0%|          | 0/1 [00:00<?, ?it/s]"
      ]
     },
     "metadata": {},
     "output_type": "display_data"
    },
    {
     "data": {
      "application/vnd.jupyter.widget-view+json": {
       "model_id": "01f48253756a4815a42a64286ce01c6a",
       "version_major": 2,
       "version_minor": 0
      },
      "text/plain": [
       "Retrieving ProvenanceDoc documents:   0%|          | 0/1 [00:00<?, ?it/s]"
      ]
     },
     "metadata": {},
     "output_type": "display_data"
    },
    {
     "data": {
      "application/vnd.jupyter.widget-view+json": {
       "model_id": "45296b02b5954bec9d244e20e0702722",
       "version_major": 2,
       "version_minor": 0
      },
      "text/plain": [
       "Retrieving ProvenanceDoc documents:   0%|          | 0/1 [00:00<?, ?it/s]"
      ]
     },
     "metadata": {},
     "output_type": "display_data"
    },
    {
     "data": {
      "application/vnd.jupyter.widget-view+json": {
       "model_id": "b9583e7e47b94b8c84f504f2eb579de5",
       "version_major": 2,
       "version_minor": 0
      },
      "text/plain": [
       "Retrieving ProvenanceDoc documents:   0%|          | 0/1 [00:00<?, ?it/s]"
      ]
     },
     "metadata": {},
     "output_type": "display_data"
    },
    {
     "data": {
      "application/vnd.jupyter.widget-view+json": {
       "model_id": "c2f99f1187c54c5487c295bd168adde8",
       "version_major": 2,
       "version_minor": 0
      },
      "text/plain": [
       "Retrieving ProvenanceDoc documents:   0%|          | 0/1 [00:00<?, ?it/s]"
      ]
     },
     "metadata": {},
     "output_type": "display_data"
    },
    {
     "data": {
      "application/vnd.jupyter.widget-view+json": {
       "model_id": "5f0e54ae47a2499bb2ae5ef6a7c081f6",
       "version_major": 2,
       "version_minor": 0
      },
      "text/plain": [
       "Retrieving ProvenanceDoc documents:   0%|          | 0/1 [00:00<?, ?it/s]"
      ]
     },
     "metadata": {},
     "output_type": "display_data"
    },
    {
     "data": {
      "application/vnd.jupyter.widget-view+json": {
       "model_id": "35df9b9fbd28421f98b0064a25b9afd2",
       "version_major": 2,
       "version_minor": 0
      },
      "text/plain": [
       "Retrieving ProvenanceDoc documents:   0%|          | 0/1 [00:00<?, ?it/s]"
      ]
     },
     "metadata": {},
     "output_type": "display_data"
    },
    {
     "data": {
      "application/vnd.jupyter.widget-view+json": {
       "model_id": "b86ab97858604bb8b812d0400f667d75",
       "version_major": 2,
       "version_minor": 0
      },
      "text/plain": [
       "Retrieving ProvenanceDoc documents:   0%|          | 0/1 [00:00<?, ?it/s]"
      ]
     },
     "metadata": {},
     "output_type": "display_data"
    },
    {
     "data": {
      "application/vnd.jupyter.widget-view+json": {
       "model_id": "ddd4e3a8130045199ea625876bcbb9de",
       "version_major": 2,
       "version_minor": 0
      },
      "text/plain": [
       "Retrieving ProvenanceDoc documents:   0%|          | 0/1 [00:00<?, ?it/s]"
      ]
     },
     "metadata": {},
     "output_type": "display_data"
    },
    {
     "data": {
      "application/vnd.jupyter.widget-view+json": {
       "model_id": "44ddba7bad824794af2c4e079d7a8acb",
       "version_major": 2,
       "version_minor": 0
      },
      "text/plain": [
       "Retrieving ProvenanceDoc documents:   0%|          | 0/1 [00:00<?, ?it/s]"
      ]
     },
     "metadata": {},
     "output_type": "display_data"
    },
    {
     "data": {
      "application/vnd.jupyter.widget-view+json": {
       "model_id": "70b2103a8fd24ff78f70d4f9b058af73",
       "version_major": 2,
       "version_minor": 0
      },
      "text/plain": [
       "Retrieving ProvenanceDoc documents:   0%|          | 0/1 [00:00<?, ?it/s]"
      ]
     },
     "metadata": {},
     "output_type": "display_data"
    },
    {
     "data": {
      "application/vnd.jupyter.widget-view+json": {
       "model_id": "91756498df904974a6eab0689952e610",
       "version_major": 2,
       "version_minor": 0
      },
      "text/plain": [
       "Retrieving ProvenanceDoc documents:   0%|          | 0/1 [00:00<?, ?it/s]"
      ]
     },
     "metadata": {},
     "output_type": "display_data"
    },
    {
     "data": {
      "application/vnd.jupyter.widget-view+json": {
       "model_id": "78abc89787004f669ed7458de50f327c",
       "version_major": 2,
       "version_minor": 0
      },
      "text/plain": [
       "Retrieving ProvenanceDoc documents:   0%|          | 0/1 [00:00<?, ?it/s]"
      ]
     },
     "metadata": {},
     "output_type": "display_data"
    },
    {
     "data": {
      "application/vnd.jupyter.widget-view+json": {
       "model_id": "dd8603ec346d42e7822088b0b210dfc1",
       "version_major": 2,
       "version_minor": 0
      },
      "text/plain": [
       "Retrieving ProvenanceDoc documents:   0%|          | 0/1 [00:00<?, ?it/s]"
      ]
     },
     "metadata": {},
     "output_type": "display_data"
    },
    {
     "data": {
      "application/vnd.jupyter.widget-view+json": {
       "model_id": "76205a68a7e24aba94f7649e6064df50",
       "version_major": 2,
       "version_minor": 0
      },
      "text/plain": [
       "Retrieving ProvenanceDoc documents:   0%|          | 0/1 [00:00<?, ?it/s]"
      ]
     },
     "metadata": {},
     "output_type": "display_data"
    },
    {
     "data": {
      "application/vnd.jupyter.widget-view+json": {
       "model_id": "dca77dedbb1a476bbe3e21eabe334856",
       "version_major": 2,
       "version_minor": 0
      },
      "text/plain": [
       "Retrieving ProvenanceDoc documents:   0%|          | 0/1 [00:00<?, ?it/s]"
      ]
     },
     "metadata": {},
     "output_type": "display_data"
    },
    {
     "data": {
      "application/vnd.jupyter.widget-view+json": {
       "model_id": "5f152b4eb018402f9a267530b5b4e6f3",
       "version_major": 2,
       "version_minor": 0
      },
      "text/plain": [
       "Retrieving ProvenanceDoc documents:   0%|          | 0/1 [00:00<?, ?it/s]"
      ]
     },
     "metadata": {},
     "output_type": "display_data"
    },
    {
     "data": {
      "application/vnd.jupyter.widget-view+json": {
       "model_id": "2942a9a6aee7401794c4a55bc875b785",
       "version_major": 2,
       "version_minor": 0
      },
      "text/plain": [
       "Retrieving ProvenanceDoc documents:   0%|          | 0/1 [00:00<?, ?it/s]"
      ]
     },
     "metadata": {},
     "output_type": "display_data"
    },
    {
     "data": {
      "application/vnd.jupyter.widget-view+json": {
       "model_id": "6fe5c18dbaf14d7ca8d57cc7d22acd5e",
       "version_major": 2,
       "version_minor": 0
      },
      "text/plain": [
       "Retrieving ProvenanceDoc documents:   0%|          | 0/1 [00:00<?, ?it/s]"
      ]
     },
     "metadata": {},
     "output_type": "display_data"
    },
    {
     "data": {
      "application/vnd.jupyter.widget-view+json": {
       "model_id": "63fb42e08dbc4d46898988c9c73577c0",
       "version_major": 2,
       "version_minor": 0
      },
      "text/plain": [
       "Retrieving ProvenanceDoc documents:   0%|          | 0/1 [00:00<?, ?it/s]"
      ]
     },
     "metadata": {},
     "output_type": "display_data"
    },
    {
     "data": {
      "application/vnd.jupyter.widget-view+json": {
       "model_id": "587c4870bfbb4c359de79171eff46c29",
       "version_major": 2,
       "version_minor": 0
      },
      "text/plain": [
       "Retrieving ProvenanceDoc documents:   0%|          | 0/1 [00:00<?, ?it/s]"
      ]
     },
     "metadata": {},
     "output_type": "display_data"
    },
    {
     "data": {
      "application/vnd.jupyter.widget-view+json": {
       "model_id": "0de0e02e50194e4f9dffac4855ef87c2",
       "version_major": 2,
       "version_minor": 0
      },
      "text/plain": [
       "Retrieving ProvenanceDoc documents:   0%|          | 0/1 [00:00<?, ?it/s]"
      ]
     },
     "metadata": {},
     "output_type": "display_data"
    },
    {
     "data": {
      "application/vnd.jupyter.widget-view+json": {
       "model_id": "00f1429b74f74517af27a459a8e48d5b",
       "version_major": 2,
       "version_minor": 0
      },
      "text/plain": [
       "Retrieving ProvenanceDoc documents:   0%|          | 0/1 [00:00<?, ?it/s]"
      ]
     },
     "metadata": {},
     "output_type": "display_data"
    },
    {
     "data": {
      "application/vnd.jupyter.widget-view+json": {
       "model_id": "1e0e351ff6c74cc1a48e792519cdb42a",
       "version_major": 2,
       "version_minor": 0
      },
      "text/plain": [
       "Retrieving ProvenanceDoc documents:   0%|          | 0/1 [00:00<?, ?it/s]"
      ]
     },
     "metadata": {},
     "output_type": "display_data"
    },
    {
     "data": {
      "application/vnd.jupyter.widget-view+json": {
       "model_id": "e287de686e8f4e179ee5c675a3516316",
       "version_major": 2,
       "version_minor": 0
      },
      "text/plain": [
       "Retrieving ProvenanceDoc documents:   0%|          | 0/1 [00:00<?, ?it/s]"
      ]
     },
     "metadata": {},
     "output_type": "display_data"
    },
    {
     "data": {
      "application/vnd.jupyter.widget-view+json": {
       "model_id": "3976df323c2f412389bdf364762056bc",
       "version_major": 2,
       "version_minor": 0
      },
      "text/plain": [
       "Retrieving ProvenanceDoc documents:   0%|          | 0/1 [00:00<?, ?it/s]"
      ]
     },
     "metadata": {},
     "output_type": "display_data"
    },
    {
     "data": {
      "application/vnd.jupyter.widget-view+json": {
       "model_id": "34eb5024d0bb490b9212c03d99abb450",
       "version_major": 2,
       "version_minor": 0
      },
      "text/plain": [
       "Retrieving ProvenanceDoc documents:   0%|          | 0/1 [00:00<?, ?it/s]"
      ]
     },
     "metadata": {},
     "output_type": "display_data"
    },
    {
     "data": {
      "application/vnd.jupyter.widget-view+json": {
       "model_id": "2f0843f7a628441fa629af124515660e",
       "version_major": 2,
       "version_minor": 0
      },
      "text/plain": [
       "Retrieving ProvenanceDoc documents:   0%|          | 0/1 [00:00<?, ?it/s]"
      ]
     },
     "metadata": {},
     "output_type": "display_data"
    },
    {
     "data": {
      "application/vnd.jupyter.widget-view+json": {
       "model_id": "baab822d48fa4e93a035883648063db8",
       "version_major": 2,
       "version_minor": 0
      },
      "text/plain": [
       "Retrieving ProvenanceDoc documents:   0%|          | 0/1 [00:00<?, ?it/s]"
      ]
     },
     "metadata": {},
     "output_type": "display_data"
    },
    {
     "data": {
      "application/vnd.jupyter.widget-view+json": {
       "model_id": "a61a50067b8e413fb07b29641bb183c1",
       "version_major": 2,
       "version_minor": 0
      },
      "text/plain": [
       "Retrieving ProvenanceDoc documents:   0%|          | 0/1 [00:00<?, ?it/s]"
      ]
     },
     "metadata": {},
     "output_type": "display_data"
    },
    {
     "data": {
      "application/vnd.jupyter.widget-view+json": {
       "model_id": "d5c77b1ae4c64a01bc3dda07ddace682",
       "version_major": 2,
       "version_minor": 0
      },
      "text/plain": [
       "Retrieving ProvenanceDoc documents:   0%|          | 0/1 [00:00<?, ?it/s]"
      ]
     },
     "metadata": {},
     "output_type": "display_data"
    },
    {
     "data": {
      "application/vnd.jupyter.widget-view+json": {
       "model_id": "9df6004f5c2e4f619da59a8a9fadb854",
       "version_major": 2,
       "version_minor": 0
      },
      "text/plain": [
       "Retrieving ProvenanceDoc documents:   0%|          | 0/1 [00:00<?, ?it/s]"
      ]
     },
     "metadata": {},
     "output_type": "display_data"
    },
    {
     "data": {
      "application/vnd.jupyter.widget-view+json": {
       "model_id": "bd6cb243e89c484d828f43a07a0d882d",
       "version_major": 2,
       "version_minor": 0
      },
      "text/plain": [
       "Retrieving ProvenanceDoc documents:   0%|          | 0/1 [00:00<?, ?it/s]"
      ]
     },
     "metadata": {},
     "output_type": "display_data"
    },
    {
     "data": {
      "application/vnd.jupyter.widget-view+json": {
       "model_id": "3ced5960f4c74e25b5462319236f647a",
       "version_major": 2,
       "version_minor": 0
      },
      "text/plain": [
       "Retrieving ProvenanceDoc documents:   0%|          | 0/1 [00:00<?, ?it/s]"
      ]
     },
     "metadata": {},
     "output_type": "display_data"
    },
    {
     "data": {
      "application/vnd.jupyter.widget-view+json": {
       "model_id": "4bfe7cd1c8e54597adcd095f49ff2b90",
       "version_major": 2,
       "version_minor": 0
      },
      "text/plain": [
       "Retrieving ProvenanceDoc documents:   0%|          | 0/1 [00:00<?, ?it/s]"
      ]
     },
     "metadata": {},
     "output_type": "display_data"
    },
    {
     "data": {
      "application/vnd.jupyter.widget-view+json": {
       "model_id": "811a71239be64603a5cb0f944c5168ae",
       "version_major": 2,
       "version_minor": 0
      },
      "text/plain": [
       "Retrieving ProvenanceDoc documents:   0%|          | 0/1 [00:00<?, ?it/s]"
      ]
     },
     "metadata": {},
     "output_type": "display_data"
    },
    {
     "data": {
      "application/vnd.jupyter.widget-view+json": {
       "model_id": "7f8eb3c08ada43559a7b659619cd67f7",
       "version_major": 2,
       "version_minor": 0
      },
      "text/plain": [
       "Retrieving ProvenanceDoc documents:   0%|          | 0/1 [00:00<?, ?it/s]"
      ]
     },
     "metadata": {},
     "output_type": "display_data"
    },
    {
     "data": {
      "application/vnd.jupyter.widget-view+json": {
       "model_id": "717ff5712f9349e999b1c7c0e5b0c23f",
       "version_major": 2,
       "version_minor": 0
      },
      "text/plain": [
       "Retrieving ProvenanceDoc documents:   0%|          | 0/1 [00:00<?, ?it/s]"
      ]
     },
     "metadata": {},
     "output_type": "display_data"
    },
    {
     "data": {
      "application/vnd.jupyter.widget-view+json": {
       "model_id": "f6af306412cc426894107c14e1e36b5c",
       "version_major": 2,
       "version_minor": 0
      },
      "text/plain": [
       "Retrieving ProvenanceDoc documents:   0%|          | 0/1 [00:00<?, ?it/s]"
      ]
     },
     "metadata": {},
     "output_type": "display_data"
    },
    {
     "data": {
      "application/vnd.jupyter.widget-view+json": {
       "model_id": "3e944b10afa74220908e06d70d6e7f7e",
       "version_major": 2,
       "version_minor": 0
      },
      "text/plain": [
       "Retrieving ProvenanceDoc documents:   0%|          | 0/1 [00:00<?, ?it/s]"
      ]
     },
     "metadata": {},
     "output_type": "display_data"
    },
    {
     "data": {
      "application/vnd.jupyter.widget-view+json": {
       "model_id": "e1eb5d9cffe14c84870dcac10dd156e4",
       "version_major": 2,
       "version_minor": 0
      },
      "text/plain": [
       "Retrieving ProvenanceDoc documents:   0%|          | 0/1 [00:00<?, ?it/s]"
      ]
     },
     "metadata": {},
     "output_type": "display_data"
    },
    {
     "data": {
      "application/vnd.jupyter.widget-view+json": {
       "model_id": "9554a314f5ab4f5396ed527ef6881bcc",
       "version_major": 2,
       "version_minor": 0
      },
      "text/plain": [
       "Retrieving ProvenanceDoc documents:   0%|          | 0/1 [00:00<?, ?it/s]"
      ]
     },
     "metadata": {},
     "output_type": "display_data"
    },
    {
     "data": {
      "application/vnd.jupyter.widget-view+json": {
       "model_id": "be6a9a27f53e4b2d852f022e7c24b724",
       "version_major": 2,
       "version_minor": 0
      },
      "text/plain": [
       "Retrieving ProvenanceDoc documents:   0%|          | 0/1 [00:00<?, ?it/s]"
      ]
     },
     "metadata": {},
     "output_type": "display_data"
    },
    {
     "data": {
      "application/vnd.jupyter.widget-view+json": {
       "model_id": "56397aebef4746dd81919cb6ab25793d",
       "version_major": 2,
       "version_minor": 0
      },
      "text/plain": [
       "Retrieving ProvenanceDoc documents:   0%|          | 0/1 [00:00<?, ?it/s]"
      ]
     },
     "metadata": {},
     "output_type": "display_data"
    },
    {
     "data": {
      "application/vnd.jupyter.widget-view+json": {
       "model_id": "17229ad603594ad2affd3f68bea86452",
       "version_major": 2,
       "version_minor": 0
      },
      "text/plain": [
       "Retrieving ProvenanceDoc documents:   0%|          | 0/1 [00:00<?, ?it/s]"
      ]
     },
     "metadata": {},
     "output_type": "display_data"
    },
    {
     "data": {
      "application/vnd.jupyter.widget-view+json": {
       "model_id": "ef385fa26f5b4669978ea3768918d2b7",
       "version_major": 2,
       "version_minor": 0
      },
      "text/plain": [
       "Retrieving ProvenanceDoc documents:   0%|          | 0/1 [00:00<?, ?it/s]"
      ]
     },
     "metadata": {},
     "output_type": "display_data"
    },
    {
     "data": {
      "application/vnd.jupyter.widget-view+json": {
       "model_id": "c5bd881e74594619b43dedc00851e1fa",
       "version_major": 2,
       "version_minor": 0
      },
      "text/plain": [
       "Retrieving ProvenanceDoc documents:   0%|          | 0/1 [00:00<?, ?it/s]"
      ]
     },
     "metadata": {},
     "output_type": "display_data"
    },
    {
     "data": {
      "application/vnd.jupyter.widget-view+json": {
       "model_id": "eee8a73cbfe145d1abd3f654cfb6d98f",
       "version_major": 2,
       "version_minor": 0
      },
      "text/plain": [
       "Retrieving ProvenanceDoc documents:   0%|          | 0/1 [00:00<?, ?it/s]"
      ]
     },
     "metadata": {},
     "output_type": "display_data"
    },
    {
     "data": {
      "application/vnd.jupyter.widget-view+json": {
       "model_id": "95627d8428404e32b09c68a0671cf5bc",
       "version_major": 2,
       "version_minor": 0
      },
      "text/plain": [
       "Retrieving ProvenanceDoc documents:   0%|          | 0/1 [00:00<?, ?it/s]"
      ]
     },
     "metadata": {},
     "output_type": "display_data"
    },
    {
     "data": {
      "application/vnd.jupyter.widget-view+json": {
       "model_id": "f45c3ef7811640a9b87e0e621ef4457c",
       "version_major": 2,
       "version_minor": 0
      },
      "text/plain": [
       "Retrieving ProvenanceDoc documents:   0%|          | 0/1 [00:00<?, ?it/s]"
      ]
     },
     "metadata": {},
     "output_type": "display_data"
    },
    {
     "data": {
      "application/vnd.jupyter.widget-view+json": {
       "model_id": "553d9cd791fc43edad2240faf28baa06",
       "version_major": 2,
       "version_minor": 0
      },
      "text/plain": [
       "Retrieving ProvenanceDoc documents:   0%|          | 0/1 [00:00<?, ?it/s]"
      ]
     },
     "metadata": {},
     "output_type": "display_data"
    },
    {
     "data": {
      "application/vnd.jupyter.widget-view+json": {
       "model_id": "75d525d0302944209b9c6440a2691bca",
       "version_major": 2,
       "version_minor": 0
      },
      "text/plain": [
       "Retrieving ProvenanceDoc documents:   0%|          | 0/1 [00:00<?, ?it/s]"
      ]
     },
     "metadata": {},
     "output_type": "display_data"
    },
    {
     "data": {
      "application/vnd.jupyter.widget-view+json": {
       "model_id": "2521b04935984c86b14e0a8129d872be",
       "version_major": 2,
       "version_minor": 0
      },
      "text/plain": [
       "Retrieving ProvenanceDoc documents:   0%|          | 0/1 [00:00<?, ?it/s]"
      ]
     },
     "metadata": {},
     "output_type": "display_data"
    },
    {
     "data": {
      "application/vnd.jupyter.widget-view+json": {
       "model_id": "985ab86e42f04335bb483ff95a471696",
       "version_major": 2,
       "version_minor": 0
      },
      "text/plain": [
       "Retrieving ProvenanceDoc documents:   0%|          | 0/1 [00:00<?, ?it/s]"
      ]
     },
     "metadata": {},
     "output_type": "display_data"
    },
    {
     "data": {
      "application/vnd.jupyter.widget-view+json": {
       "model_id": "8f4941116a974ed29ee478ceb13456c0",
       "version_major": 2,
       "version_minor": 0
      },
      "text/plain": [
       "Retrieving ProvenanceDoc documents:   0%|          | 0/1 [00:00<?, ?it/s]"
      ]
     },
     "metadata": {},
     "output_type": "display_data"
    },
    {
     "data": {
      "application/vnd.jupyter.widget-view+json": {
       "model_id": "293af8e8442940ddae713d5ca0600505",
       "version_major": 2,
       "version_minor": 0
      },
      "text/plain": [
       "Retrieving ProvenanceDoc documents:   0%|          | 0/1 [00:00<?, ?it/s]"
      ]
     },
     "metadata": {},
     "output_type": "display_data"
    },
    {
     "data": {
      "application/vnd.jupyter.widget-view+json": {
       "model_id": "21790733e4934b0ab29b0e3d5d1f7c3c",
       "version_major": 2,
       "version_minor": 0
      },
      "text/plain": [
       "Retrieving ProvenanceDoc documents:   0%|          | 0/1 [00:00<?, ?it/s]"
      ]
     },
     "metadata": {},
     "output_type": "display_data"
    },
    {
     "data": {
      "application/vnd.jupyter.widget-view+json": {
       "model_id": "57aafc1b936c487ba04e8f217d4ec206",
       "version_major": 2,
       "version_minor": 0
      },
      "text/plain": [
       "Retrieving ProvenanceDoc documents:   0%|          | 0/1 [00:00<?, ?it/s]"
      ]
     },
     "metadata": {},
     "output_type": "display_data"
    },
    {
     "data": {
      "application/vnd.jupyter.widget-view+json": {
       "model_id": "1ee655b3b4a845788149d377d702a02a",
       "version_major": 2,
       "version_minor": 0
      },
      "text/plain": [
       "Retrieving ProvenanceDoc documents:   0%|          | 0/1 [00:00<?, ?it/s]"
      ]
     },
     "metadata": {},
     "output_type": "display_data"
    },
    {
     "data": {
      "application/vnd.jupyter.widget-view+json": {
       "model_id": "a71b53869a214552ae05b94ac47e507b",
       "version_major": 2,
       "version_minor": 0
      },
      "text/plain": [
       "Retrieving ProvenanceDoc documents:   0%|          | 0/1 [00:00<?, ?it/s]"
      ]
     },
     "metadata": {},
     "output_type": "display_data"
    },
    {
     "data": {
      "application/vnd.jupyter.widget-view+json": {
       "model_id": "895366dc27a24378a421c8de2be5efcc",
       "version_major": 2,
       "version_minor": 0
      },
      "text/plain": [
       "Retrieving ProvenanceDoc documents:   0%|          | 0/1 [00:00<?, ?it/s]"
      ]
     },
     "metadata": {},
     "output_type": "display_data"
    },
    {
     "data": {
      "application/vnd.jupyter.widget-view+json": {
       "model_id": "373123772ca54126b0e0e719e8814d8e",
       "version_major": 2,
       "version_minor": 0
      },
      "text/plain": [
       "Retrieving ProvenanceDoc documents:   0%|          | 0/1 [00:00<?, ?it/s]"
      ]
     },
     "metadata": {},
     "output_type": "display_data"
    },
    {
     "data": {
      "application/vnd.jupyter.widget-view+json": {
       "model_id": "97a2a943db414e4789fc5936f7b38158",
       "version_major": 2,
       "version_minor": 0
      },
      "text/plain": [
       "Retrieving ProvenanceDoc documents:   0%|          | 0/1 [00:00<?, ?it/s]"
      ]
     },
     "metadata": {},
     "output_type": "display_data"
    },
    {
     "data": {
      "application/vnd.jupyter.widget-view+json": {
       "model_id": "0108be44aa0a43beacb07c150f87e3f8",
       "version_major": 2,
       "version_minor": 0
      },
      "text/plain": [
       "Retrieving ProvenanceDoc documents:   0%|          | 0/1 [00:00<?, ?it/s]"
      ]
     },
     "metadata": {},
     "output_type": "display_data"
    },
    {
     "data": {
      "application/vnd.jupyter.widget-view+json": {
       "model_id": "42281fe180a94456a66f77a7a627e742",
       "version_major": 2,
       "version_minor": 0
      },
      "text/plain": [
       "Retrieving ProvenanceDoc documents:   0%|          | 0/1 [00:00<?, ?it/s]"
      ]
     },
     "metadata": {},
     "output_type": "display_data"
    },
    {
     "data": {
      "application/vnd.jupyter.widget-view+json": {
       "model_id": "ffb1e160984342d18bbbfc2f424c965b",
       "version_major": 2,
       "version_minor": 0
      },
      "text/plain": [
       "Retrieving ProvenanceDoc documents:   0%|          | 0/1 [00:00<?, ?it/s]"
      ]
     },
     "metadata": {},
     "output_type": "display_data"
    },
    {
     "data": {
      "application/vnd.jupyter.widget-view+json": {
       "model_id": "6bf2366c24e54f6ba16b893197fceb6c",
       "version_major": 2,
       "version_minor": 0
      },
      "text/plain": [
       "Retrieving ProvenanceDoc documents:   0%|          | 0/1 [00:00<?, ?it/s]"
      ]
     },
     "metadata": {},
     "output_type": "display_data"
    },
    {
     "data": {
      "application/vnd.jupyter.widget-view+json": {
       "model_id": "e0117003e6b4477aa80ac5c1f5296cd5",
       "version_major": 2,
       "version_minor": 0
      },
      "text/plain": [
       "Retrieving ProvenanceDoc documents:   0%|          | 0/1 [00:00<?, ?it/s]"
      ]
     },
     "metadata": {},
     "output_type": "display_data"
    },
    {
     "data": {
      "application/vnd.jupyter.widget-view+json": {
       "model_id": "ff27dc3be60942f2b70252782c9f10d0",
       "version_major": 2,
       "version_minor": 0
      },
      "text/plain": [
       "Retrieving ProvenanceDoc documents:   0%|          | 0/1 [00:00<?, ?it/s]"
      ]
     },
     "metadata": {},
     "output_type": "display_data"
    },
    {
     "data": {
      "application/vnd.jupyter.widget-view+json": {
       "model_id": "21a98c985f52449f987e5af7901e79a2",
       "version_major": 2,
       "version_minor": 0
      },
      "text/plain": [
       "Retrieving ProvenanceDoc documents:   0%|          | 0/1 [00:00<?, ?it/s]"
      ]
     },
     "metadata": {},
     "output_type": "display_data"
    },
    {
     "data": {
      "application/vnd.jupyter.widget-view+json": {
       "model_id": "2d6084383b214263a31358e081c6224b",
       "version_major": 2,
       "version_minor": 0
      },
      "text/plain": [
       "Retrieving ProvenanceDoc documents:   0%|          | 0/1 [00:00<?, ?it/s]"
      ]
     },
     "metadata": {},
     "output_type": "display_data"
    },
    {
     "data": {
      "application/vnd.jupyter.widget-view+json": {
       "model_id": "fd15c8445d724056b8d2ac35e81e6471",
       "version_major": 2,
       "version_minor": 0
      },
      "text/plain": [
       "Retrieving ProvenanceDoc documents:   0%|          | 0/1 [00:00<?, ?it/s]"
      ]
     },
     "metadata": {},
     "output_type": "display_data"
    },
    {
     "data": {
      "application/vnd.jupyter.widget-view+json": {
       "model_id": "2f03ac9c69894dafb83f9c90947274f2",
       "version_major": 2,
       "version_minor": 0
      },
      "text/plain": [
       "Retrieving ProvenanceDoc documents:   0%|          | 0/1 [00:00<?, ?it/s]"
      ]
     },
     "metadata": {},
     "output_type": "display_data"
    },
    {
     "data": {
      "application/vnd.jupyter.widget-view+json": {
       "model_id": "d65c383dd12043ca86a42ec6c52fbc4b",
       "version_major": 2,
       "version_minor": 0
      },
      "text/plain": [
       "Retrieving ProvenanceDoc documents:   0%|          | 0/1 [00:00<?, ?it/s]"
      ]
     },
     "metadata": {},
     "output_type": "display_data"
    },
    {
     "data": {
      "application/vnd.jupyter.widget-view+json": {
       "model_id": "39899aeb0c004feabbabe1f9728c4075",
       "version_major": 2,
       "version_minor": 0
      },
      "text/plain": [
       "Retrieving ProvenanceDoc documents:   0%|          | 0/1 [00:00<?, ?it/s]"
      ]
     },
     "metadata": {},
     "output_type": "display_data"
    },
    {
     "data": {
      "application/vnd.jupyter.widget-view+json": {
       "model_id": "bdd68d305bf344259ba3c2440f5f9c7b",
       "version_major": 2,
       "version_minor": 0
      },
      "text/plain": [
       "Retrieving ProvenanceDoc documents:   0%|          | 0/1 [00:00<?, ?it/s]"
      ]
     },
     "metadata": {},
     "output_type": "display_data"
    },
    {
     "data": {
      "application/vnd.jupyter.widget-view+json": {
       "model_id": "0ae7ad0419cc49059db3c39b158f2341",
       "version_major": 2,
       "version_minor": 0
      },
      "text/plain": [
       "Retrieving ProvenanceDoc documents:   0%|          | 0/1 [00:00<?, ?it/s]"
      ]
     },
     "metadata": {},
     "output_type": "display_data"
    },
    {
     "data": {
      "application/vnd.jupyter.widget-view+json": {
       "model_id": "9549916fa67c4027a0aab1de6c1393fb",
       "version_major": 2,
       "version_minor": 0
      },
      "text/plain": [
       "Retrieving ProvenanceDoc documents:   0%|          | 0/1 [00:00<?, ?it/s]"
      ]
     },
     "metadata": {},
     "output_type": "display_data"
    },
    {
     "data": {
      "application/vnd.jupyter.widget-view+json": {
       "model_id": "43902f0eb48744838ee14a25ee9b8b2d",
       "version_major": 2,
       "version_minor": 0
      },
      "text/plain": [
       "Retrieving ProvenanceDoc documents:   0%|          | 0/1 [00:00<?, ?it/s]"
      ]
     },
     "metadata": {},
     "output_type": "display_data"
    },
    {
     "data": {
      "application/vnd.jupyter.widget-view+json": {
       "model_id": "9a4f44aa986e4e9b8354c6a467281565",
       "version_major": 2,
       "version_minor": 0
      },
      "text/plain": [
       "Retrieving ProvenanceDoc documents:   0%|          | 0/1 [00:00<?, ?it/s]"
      ]
     },
     "metadata": {},
     "output_type": "display_data"
    },
    {
     "data": {
      "application/vnd.jupyter.widget-view+json": {
       "model_id": "77e10b3b12f84667a9c548316475f563",
       "version_major": 2,
       "version_minor": 0
      },
      "text/plain": [
       "Retrieving ProvenanceDoc documents:   0%|          | 0/1 [00:00<?, ?it/s]"
      ]
     },
     "metadata": {},
     "output_type": "display_data"
    },
    {
     "data": {
      "application/vnd.jupyter.widget-view+json": {
       "model_id": "98d8b11bbd9d478e84f1a1a0dd921ee6",
       "version_major": 2,
       "version_minor": 0
      },
      "text/plain": [
       "Retrieving ProvenanceDoc documents:   0%|          | 0/1 [00:00<?, ?it/s]"
      ]
     },
     "metadata": {},
     "output_type": "display_data"
    },
    {
     "data": {
      "application/vnd.jupyter.widget-view+json": {
       "model_id": "b33bc0b17d0d47e7a3179f23f0c28772",
       "version_major": 2,
       "version_minor": 0
      },
      "text/plain": [
       "Retrieving ProvenanceDoc documents:   0%|          | 0/1 [00:00<?, ?it/s]"
      ]
     },
     "metadata": {},
     "output_type": "display_data"
    },
    {
     "data": {
      "application/vnd.jupyter.widget-view+json": {
       "model_id": "9cb59b335aae48a3bde694533c1b2387",
       "version_major": 2,
       "version_minor": 0
      },
      "text/plain": [
       "Retrieving ProvenanceDoc documents:   0%|          | 0/1 [00:00<?, ?it/s]"
      ]
     },
     "metadata": {},
     "output_type": "display_data"
    },
    {
     "data": {
      "application/vnd.jupyter.widget-view+json": {
       "model_id": "70918e1c0a7144288a017b76f44b5c2c",
       "version_major": 2,
       "version_minor": 0
      },
      "text/plain": [
       "Retrieving ProvenanceDoc documents:   0%|          | 0/1 [00:00<?, ?it/s]"
      ]
     },
     "metadata": {},
     "output_type": "display_data"
    },
    {
     "data": {
      "application/vnd.jupyter.widget-view+json": {
       "model_id": "95d39022da4e42588b21095a5b76454a",
       "version_major": 2,
       "version_minor": 0
      },
      "text/plain": [
       "Retrieving ProvenanceDoc documents:   0%|          | 0/1 [00:00<?, ?it/s]"
      ]
     },
     "metadata": {},
     "output_type": "display_data"
    },
    {
     "data": {
      "application/vnd.jupyter.widget-view+json": {
       "model_id": "cbdde11cbd4648b49b05c7fab2385086",
       "version_major": 2,
       "version_minor": 0
      },
      "text/plain": [
       "Retrieving ProvenanceDoc documents:   0%|          | 0/1 [00:00<?, ?it/s]"
      ]
     },
     "metadata": {},
     "output_type": "display_data"
    },
    {
     "data": {
      "application/vnd.jupyter.widget-view+json": {
       "model_id": "6ca04aa6544a4173bc2fe45b13cd6541",
       "version_major": 2,
       "version_minor": 0
      },
      "text/plain": [
       "Retrieving ProvenanceDoc documents:   0%|          | 0/1 [00:00<?, ?it/s]"
      ]
     },
     "metadata": {},
     "output_type": "display_data"
    },
    {
     "data": {
      "application/vnd.jupyter.widget-view+json": {
       "model_id": "775cf32507694cbb950bf149685b6065",
       "version_major": 2,
       "version_minor": 0
      },
      "text/plain": [
       "Retrieving ProvenanceDoc documents:   0%|          | 0/1 [00:00<?, ?it/s]"
      ]
     },
     "metadata": {},
     "output_type": "display_data"
    },
    {
     "data": {
      "application/vnd.jupyter.widget-view+json": {
       "model_id": "2b57d91710a64f599c996e5a7b83a903",
       "version_major": 2,
       "version_minor": 0
      },
      "text/plain": [
       "Retrieving ProvenanceDoc documents:   0%|          | 0/1 [00:00<?, ?it/s]"
      ]
     },
     "metadata": {},
     "output_type": "display_data"
    },
    {
     "data": {
      "application/vnd.jupyter.widget-view+json": {
       "model_id": "e4ff78b30db64ba48f14efd25c5f7196",
       "version_major": 2,
       "version_minor": 0
      },
      "text/plain": [
       "Retrieving ProvenanceDoc documents:   0%|          | 0/1 [00:00<?, ?it/s]"
      ]
     },
     "metadata": {},
     "output_type": "display_data"
    },
    {
     "data": {
      "application/vnd.jupyter.widget-view+json": {
       "model_id": "53760a16e20243d5904d5b2bbf4a5ad8",
       "version_major": 2,
       "version_minor": 0
      },
      "text/plain": [
       "Retrieving ProvenanceDoc documents:   0%|          | 0/1 [00:00<?, ?it/s]"
      ]
     },
     "metadata": {},
     "output_type": "display_data"
    },
    {
     "data": {
      "application/vnd.jupyter.widget-view+json": {
       "model_id": "9146e697d47e4e69a557726c83cc5638",
       "version_major": 2,
       "version_minor": 0
      },
      "text/plain": [
       "Retrieving ProvenanceDoc documents:   0%|          | 0/1 [00:00<?, ?it/s]"
      ]
     },
     "metadata": {},
     "output_type": "display_data"
    },
    {
     "data": {
      "application/vnd.jupyter.widget-view+json": {
       "model_id": "470b997898b044f4806f4e9bb1ea87b5",
       "version_major": 2,
       "version_minor": 0
      },
      "text/plain": [
       "Retrieving ProvenanceDoc documents:   0%|          | 0/1 [00:00<?, ?it/s]"
      ]
     },
     "metadata": {},
     "output_type": "display_data"
    },
    {
     "data": {
      "application/vnd.jupyter.widget-view+json": {
       "model_id": "e9bc1fc0395342d3859e1339e9b6b263",
       "version_major": 2,
       "version_minor": 0
      },
      "text/plain": [
       "Retrieving ProvenanceDoc documents:   0%|          | 0/1 [00:00<?, ?it/s]"
      ]
     },
     "metadata": {},
     "output_type": "display_data"
    },
    {
     "data": {
      "application/vnd.jupyter.widget-view+json": {
       "model_id": "ba1cb0497da94fe9abc436d74d67cc78",
       "version_major": 2,
       "version_minor": 0
      },
      "text/plain": [
       "Retrieving ProvenanceDoc documents:   0%|          | 0/1 [00:00<?, ?it/s]"
      ]
     },
     "metadata": {},
     "output_type": "display_data"
    },
    {
     "data": {
      "application/vnd.jupyter.widget-view+json": {
       "model_id": "9b3788e79b314ede9fa0a020543041a7",
       "version_major": 2,
       "version_minor": 0
      },
      "text/plain": [
       "Retrieving ProvenanceDoc documents:   0%|          | 0/1 [00:00<?, ?it/s]"
      ]
     },
     "metadata": {},
     "output_type": "display_data"
    },
    {
     "data": {
      "application/vnd.jupyter.widget-view+json": {
       "model_id": "6105e7b742e64e169e2f633010968908",
       "version_major": 2,
       "version_minor": 0
      },
      "text/plain": [
       "Retrieving ProvenanceDoc documents:   0%|          | 0/1 [00:00<?, ?it/s]"
      ]
     },
     "metadata": {},
     "output_type": "display_data"
    },
    {
     "data": {
      "application/vnd.jupyter.widget-view+json": {
       "model_id": "40354b8c2f1e4fb79a7654ba136a2bb4",
       "version_major": 2,
       "version_minor": 0
      },
      "text/plain": [
       "Retrieving ProvenanceDoc documents:   0%|          | 0/1 [00:00<?, ?it/s]"
      ]
     },
     "metadata": {},
     "output_type": "display_data"
    },
    {
     "data": {
      "application/vnd.jupyter.widget-view+json": {
       "model_id": "bf6da906b8f44a989cd557a6c05c57f9",
       "version_major": 2,
       "version_minor": 0
      },
      "text/plain": [
       "Retrieving ProvenanceDoc documents:   0%|          | 0/1 [00:00<?, ?it/s]"
      ]
     },
     "metadata": {},
     "output_type": "display_data"
    },
    {
     "data": {
      "application/vnd.jupyter.widget-view+json": {
       "model_id": "360f56b529a8426badf0aa2297d03283",
       "version_major": 2,
       "version_minor": 0
      },
      "text/plain": [
       "Retrieving ProvenanceDoc documents:   0%|          | 0/1 [00:00<?, ?it/s]"
      ]
     },
     "metadata": {},
     "output_type": "display_data"
    },
    {
     "data": {
      "application/vnd.jupyter.widget-view+json": {
       "model_id": "fe79146bc33c4a7b89d2d2c0ef32532c",
       "version_major": 2,
       "version_minor": 0
      },
      "text/plain": [
       "Retrieving ProvenanceDoc documents:   0%|          | 0/1 [00:00<?, ?it/s]"
      ]
     },
     "metadata": {},
     "output_type": "display_data"
    },
    {
     "data": {
      "application/vnd.jupyter.widget-view+json": {
       "model_id": "2c71fbd42e364e87bf39b163852c2f6d",
       "version_major": 2,
       "version_minor": 0
      },
      "text/plain": [
       "Retrieving ProvenanceDoc documents:   0%|          | 0/1 [00:00<?, ?it/s]"
      ]
     },
     "metadata": {},
     "output_type": "display_data"
    },
    {
     "data": {
      "application/vnd.jupyter.widget-view+json": {
       "model_id": "2f5e05cabc3f4736b0163401ded0845e",
       "version_major": 2,
       "version_minor": 0
      },
      "text/plain": [
       "Retrieving ProvenanceDoc documents:   0%|          | 0/1 [00:00<?, ?it/s]"
      ]
     },
     "metadata": {},
     "output_type": "display_data"
    },
    {
     "data": {
      "application/vnd.jupyter.widget-view+json": {
       "model_id": "0c5a092ad67f4287bf0e64f379424dab",
       "version_major": 2,
       "version_minor": 0
      },
      "text/plain": [
       "Retrieving ProvenanceDoc documents:   0%|          | 0/1 [00:00<?, ?it/s]"
      ]
     },
     "metadata": {},
     "output_type": "display_data"
    },
    {
     "data": {
      "application/vnd.jupyter.widget-view+json": {
       "model_id": "dec7789ee86542d49a9ef05b95814319",
       "version_major": 2,
       "version_minor": 0
      },
      "text/plain": [
       "Retrieving ProvenanceDoc documents:   0%|          | 0/1 [00:00<?, ?it/s]"
      ]
     },
     "metadata": {},
     "output_type": "display_data"
    },
    {
     "data": {
      "application/vnd.jupyter.widget-view+json": {
       "model_id": "b5b7cc49ec214b98af6aaa45546e7941",
       "version_major": 2,
       "version_minor": 0
      },
      "text/plain": [
       "Retrieving ProvenanceDoc documents:   0%|          | 0/1 [00:00<?, ?it/s]"
      ]
     },
     "metadata": {},
     "output_type": "display_data"
    },
    {
     "data": {
      "application/vnd.jupyter.widget-view+json": {
       "model_id": "2458fae58e9c4474978e1aa29ccccec8",
       "version_major": 2,
       "version_minor": 0
      },
      "text/plain": [
       "Retrieving ProvenanceDoc documents:   0%|          | 0/1 [00:00<?, ?it/s]"
      ]
     },
     "metadata": {},
     "output_type": "display_data"
    },
    {
     "data": {
      "application/vnd.jupyter.widget-view+json": {
       "model_id": "668f44a86e304dadbebcfe37f0b6a348",
       "version_major": 2,
       "version_minor": 0
      },
      "text/plain": [
       "Retrieving ProvenanceDoc documents:   0%|          | 0/1 [00:00<?, ?it/s]"
      ]
     },
     "metadata": {},
     "output_type": "display_data"
    },
    {
     "data": {
      "application/vnd.jupyter.widget-view+json": {
       "model_id": "f61900ab83934fb6b70c2da2a0f2172c",
       "version_major": 2,
       "version_minor": 0
      },
      "text/plain": [
       "Retrieving ProvenanceDoc documents:   0%|          | 0/1 [00:00<?, ?it/s]"
      ]
     },
     "metadata": {},
     "output_type": "display_data"
    },
    {
     "data": {
      "application/vnd.jupyter.widget-view+json": {
       "model_id": "cbc3bf0b4482447ba9bb414fdbcfa1df",
       "version_major": 2,
       "version_minor": 0
      },
      "text/plain": [
       "Retrieving ProvenanceDoc documents:   0%|          | 0/1 [00:00<?, ?it/s]"
      ]
     },
     "metadata": {},
     "output_type": "display_data"
    },
    {
     "data": {
      "application/vnd.jupyter.widget-view+json": {
       "model_id": "50ded129236140589d6c1dc0a9cfc908",
       "version_major": 2,
       "version_minor": 0
      },
      "text/plain": [
       "Retrieving ProvenanceDoc documents:   0%|          | 0/1 [00:00<?, ?it/s]"
      ]
     },
     "metadata": {},
     "output_type": "display_data"
    },
    {
     "data": {
      "application/vnd.jupyter.widget-view+json": {
       "model_id": "8a6f1eef0a6946c0b9d446d1f0f4ff50",
       "version_major": 2,
       "version_minor": 0
      },
      "text/plain": [
       "Retrieving ProvenanceDoc documents:   0%|          | 0/1 [00:00<?, ?it/s]"
      ]
     },
     "metadata": {},
     "output_type": "display_data"
    },
    {
     "data": {
      "application/vnd.jupyter.widget-view+json": {
       "model_id": "31c0c9560762484f9bdd84bc2f13c9c8",
       "version_major": 2,
       "version_minor": 0
      },
      "text/plain": [
       "Retrieving ProvenanceDoc documents:   0%|          | 0/1 [00:00<?, ?it/s]"
      ]
     },
     "metadata": {},
     "output_type": "display_data"
    },
    {
     "data": {
      "application/vnd.jupyter.widget-view+json": {
       "model_id": "c2fb923862ab4481bcdc79fa6be1fbdd",
       "version_major": 2,
       "version_minor": 0
      },
      "text/plain": [
       "Retrieving ProvenanceDoc documents:   0%|          | 0/1 [00:00<?, ?it/s]"
      ]
     },
     "metadata": {},
     "output_type": "display_data"
    },
    {
     "data": {
      "application/vnd.jupyter.widget-view+json": {
       "model_id": "49aeca47fba44d0b9ef3fb3c58df6589",
       "version_major": 2,
       "version_minor": 0
      },
      "text/plain": [
       "Retrieving ProvenanceDoc documents:   0%|          | 0/1 [00:00<?, ?it/s]"
      ]
     },
     "metadata": {},
     "output_type": "display_data"
    },
    {
     "data": {
      "application/vnd.jupyter.widget-view+json": {
       "model_id": "57c29cdc03934711a3febb8ecc115e76",
       "version_major": 2,
       "version_minor": 0
      },
      "text/plain": [
       "Retrieving ProvenanceDoc documents:   0%|          | 0/1 [00:00<?, ?it/s]"
      ]
     },
     "metadata": {},
     "output_type": "display_data"
    },
    {
     "data": {
      "application/vnd.jupyter.widget-view+json": {
       "model_id": "68ca6a1aa7bd44b780e45263064d05f1",
       "version_major": 2,
       "version_minor": 0
      },
      "text/plain": [
       "Retrieving ProvenanceDoc documents:   0%|          | 0/1 [00:00<?, ?it/s]"
      ]
     },
     "metadata": {},
     "output_type": "display_data"
    },
    {
     "data": {
      "application/vnd.jupyter.widget-view+json": {
       "model_id": "48fd871d254c4bbd809163512c57d8b6",
       "version_major": 2,
       "version_minor": 0
      },
      "text/plain": [
       "Retrieving ProvenanceDoc documents:   0%|          | 0/1 [00:00<?, ?it/s]"
      ]
     },
     "metadata": {},
     "output_type": "display_data"
    },
    {
     "data": {
      "application/vnd.jupyter.widget-view+json": {
       "model_id": "0269bfdfca6d49bb96b159ad18c55b96",
       "version_major": 2,
       "version_minor": 0
      },
      "text/plain": [
       "Retrieving ProvenanceDoc documents:   0%|          | 0/1 [00:00<?, ?it/s]"
      ]
     },
     "metadata": {},
     "output_type": "display_data"
    },
    {
     "data": {
      "application/vnd.jupyter.widget-view+json": {
       "model_id": "1f40554184f642dd9d4bfa697ca57a5c",
       "version_major": 2,
       "version_minor": 0
      },
      "text/plain": [
       "Retrieving ProvenanceDoc documents:   0%|          | 0/1 [00:00<?, ?it/s]"
      ]
     },
     "metadata": {},
     "output_type": "display_data"
    },
    {
     "data": {
      "application/vnd.jupyter.widget-view+json": {
       "model_id": "68a6ddc6a1e3416fa07f0ab98d0df5dd",
       "version_major": 2,
       "version_minor": 0
      },
      "text/plain": [
       "Retrieving ProvenanceDoc documents:   0%|          | 0/1 [00:00<?, ?it/s]"
      ]
     },
     "metadata": {},
     "output_type": "display_data"
    },
    {
     "data": {
      "application/vnd.jupyter.widget-view+json": {
       "model_id": "6b95fe4329384a5fa0f55b6016082e96",
       "version_major": 2,
       "version_minor": 0
      },
      "text/plain": [
       "Retrieving ProvenanceDoc documents:   0%|          | 0/1 [00:00<?, ?it/s]"
      ]
     },
     "metadata": {},
     "output_type": "display_data"
    },
    {
     "data": {
      "application/vnd.jupyter.widget-view+json": {
       "model_id": "65970b1914c341f4bac59b8f62b357fa",
       "version_major": 2,
       "version_minor": 0
      },
      "text/plain": [
       "Retrieving ProvenanceDoc documents:   0%|          | 0/1 [00:00<?, ?it/s]"
      ]
     },
     "metadata": {},
     "output_type": "display_data"
    },
    {
     "data": {
      "application/vnd.jupyter.widget-view+json": {
       "model_id": "e96cdb4bb569413a901cf1e1da93e18a",
       "version_major": 2,
       "version_minor": 0
      },
      "text/plain": [
       "Retrieving ProvenanceDoc documents:   0%|          | 0/1 [00:00<?, ?it/s]"
      ]
     },
     "metadata": {},
     "output_type": "display_data"
    },
    {
     "data": {
      "application/vnd.jupyter.widget-view+json": {
       "model_id": "a92af14103414ebc97502f3c42e584e6",
       "version_major": 2,
       "version_minor": 0
      },
      "text/plain": [
       "Retrieving ProvenanceDoc documents:   0%|          | 0/1 [00:00<?, ?it/s]"
      ]
     },
     "metadata": {},
     "output_type": "display_data"
    },
    {
     "data": {
      "application/vnd.jupyter.widget-view+json": {
       "model_id": "36d5712e4b3e4498b1986cdf7838405d",
       "version_major": 2,
       "version_minor": 0
      },
      "text/plain": [
       "Retrieving ProvenanceDoc documents:   0%|          | 0/1 [00:00<?, ?it/s]"
      ]
     },
     "metadata": {},
     "output_type": "display_data"
    },
    {
     "data": {
      "application/vnd.jupyter.widget-view+json": {
       "model_id": "b1b34f5447c843c1a3286ce9f24d6333",
       "version_major": 2,
       "version_minor": 0
      },
      "text/plain": [
       "Retrieving ProvenanceDoc documents:   0%|          | 0/1 [00:00<?, ?it/s]"
      ]
     },
     "metadata": {},
     "output_type": "display_data"
    },
    {
     "data": {
      "application/vnd.jupyter.widget-view+json": {
       "model_id": "07654639c80a4eb6a3d4c836d0901cde",
       "version_major": 2,
       "version_minor": 0
      },
      "text/plain": [
       "Retrieving ProvenanceDoc documents:   0%|          | 0/1 [00:00<?, ?it/s]"
      ]
     },
     "metadata": {},
     "output_type": "display_data"
    },
    {
     "data": {
      "application/vnd.jupyter.widget-view+json": {
       "model_id": "c9d69c312f6448b998e6b1d1b5e4f06a",
       "version_major": 2,
       "version_minor": 0
      },
      "text/plain": [
       "Retrieving ProvenanceDoc documents:   0%|          | 0/1 [00:00<?, ?it/s]"
      ]
     },
     "metadata": {},
     "output_type": "display_data"
    },
    {
     "data": {
      "application/vnd.jupyter.widget-view+json": {
       "model_id": "7b5f89cdda124c0bbf1dd0372d56eee4",
       "version_major": 2,
       "version_minor": 0
      },
      "text/plain": [
       "Retrieving ProvenanceDoc documents:   0%|          | 0/1 [00:00<?, ?it/s]"
      ]
     },
     "metadata": {},
     "output_type": "display_data"
    },
    {
     "data": {
      "application/vnd.jupyter.widget-view+json": {
       "model_id": "63ee6fbd62e5483d9aba681c1de5b1a4",
       "version_major": 2,
       "version_minor": 0
      },
      "text/plain": [
       "Retrieving ProvenanceDoc documents:   0%|          | 0/1 [00:00<?, ?it/s]"
      ]
     },
     "metadata": {},
     "output_type": "display_data"
    },
    {
     "data": {
      "application/vnd.jupyter.widget-view+json": {
       "model_id": "50691b799a254965957e7d8b46bf0ca9",
       "version_major": 2,
       "version_minor": 0
      },
      "text/plain": [
       "Retrieving ProvenanceDoc documents:   0%|          | 0/1 [00:00<?, ?it/s]"
      ]
     },
     "metadata": {},
     "output_type": "display_data"
    },
    {
     "data": {
      "application/vnd.jupyter.widget-view+json": {
       "model_id": "feb800a53d474d55b6987914803d015f",
       "version_major": 2,
       "version_minor": 0
      },
      "text/plain": [
       "Retrieving ProvenanceDoc documents:   0%|          | 0/1 [00:00<?, ?it/s]"
      ]
     },
     "metadata": {},
     "output_type": "display_data"
    },
    {
     "data": {
      "application/vnd.jupyter.widget-view+json": {
       "model_id": "0d32079b302a4486bedce1f7886c36ca",
       "version_major": 2,
       "version_minor": 0
      },
      "text/plain": [
       "Retrieving ProvenanceDoc documents:   0%|          | 0/1 [00:00<?, ?it/s]"
      ]
     },
     "metadata": {},
     "output_type": "display_data"
    },
    {
     "data": {
      "application/vnd.jupyter.widget-view+json": {
       "model_id": "192bfc16130e43848647ab9c3eb40c80",
       "version_major": 2,
       "version_minor": 0
      },
      "text/plain": [
       "Retrieving ProvenanceDoc documents:   0%|          | 0/1 [00:00<?, ?it/s]"
      ]
     },
     "metadata": {},
     "output_type": "display_data"
    },
    {
     "data": {
      "application/vnd.jupyter.widget-view+json": {
       "model_id": "e849b960399947bbac250aa875acee6a",
       "version_major": 2,
       "version_minor": 0
      },
      "text/plain": [
       "Retrieving ProvenanceDoc documents:   0%|          | 0/1 [00:00<?, ?it/s]"
      ]
     },
     "metadata": {},
     "output_type": "display_data"
    },
    {
     "data": {
      "application/vnd.jupyter.widget-view+json": {
       "model_id": "fcbf35261baf4a71ad62286a96c7427d",
       "version_major": 2,
       "version_minor": 0
      },
      "text/plain": [
       "Retrieving ProvenanceDoc documents:   0%|          | 0/1 [00:00<?, ?it/s]"
      ]
     },
     "metadata": {},
     "output_type": "display_data"
    },
    {
     "data": {
      "application/vnd.jupyter.widget-view+json": {
       "model_id": "ec435ea0398f4771900f505e05b9cbbd",
       "version_major": 2,
       "version_minor": 0
      },
      "text/plain": [
       "Retrieving ProvenanceDoc documents:   0%|          | 0/1 [00:00<?, ?it/s]"
      ]
     },
     "metadata": {},
     "output_type": "display_data"
    },
    {
     "data": {
      "application/vnd.jupyter.widget-view+json": {
       "model_id": "c4e3668b2f4c472dab0180c1ec32f360",
       "version_major": 2,
       "version_minor": 0
      },
      "text/plain": [
       "Retrieving ProvenanceDoc documents:   0%|          | 0/1 [00:00<?, ?it/s]"
      ]
     },
     "metadata": {},
     "output_type": "display_data"
    }
   ],
   "source": [
    "mp_ids = data['material_id'].tolist()\n",
    "\n",
    "MP_API_KEY = #type your key\n",
    "\n",
    "with MPRester(MP_API_KEY) as mpr:\n",
    "    docs = [mpr.provenance.get_data_by_id(mp_id, fields =[\"material_id\", \"database_IDs\", \"references\"]) for mp_id in mp_ids]"
   ]
  },
  {
   "cell_type": "code",
   "execution_count": 6,
   "id": "d55fccf8",
   "metadata": {},
   "outputs": [
    {
     "name": "stdout",
     "output_type": "stream",
     "text": [
      "[[66693.0], [201040.0], [nan], [nan], [182309.0, 182308.0, 100200.0], [63201.0, 156893.0, 156895.0, 156899.0, 156897.0, 156901.0, 156903.0, 156889.0, 156891.0, 642175.0], [nan], [100403.0], [60935.0], [20217.0], [165212.0], [nan], [nan], [44781.0], [261236.0, 15150.0, 261238.0, 162215.0, 261239.0], [402083.0], [nan], [60850.0], [200369.0], [415201.0, 415199.0, 415200.0, 84617.0, 1585.0, 38206.0, 66708.0], [61199.0, 19007.0], [nan], [nan], [200774.0], [402341.0], [62333.0, 62878.0], [87990.0], [161498.0], [245983.0], [194777.0, 194776.0, 194778.0], [nan], [nan], [84092.0], [245964.0], [191839.0], [410043.0], [409501.0, 96940.0], [50420.0, 62301.0, 86457.0, 62298.0], [nan], [184088.0, 95979.0, 183669.0], [636.0], [165259.0, 280534.0], [nan], [174443.0, 82635.0], [245841.0], [162772.0], [109087.0], [98020.0], [168795.0], [nan], [nan], [18313.0], [65125.0], [87992.0], [415051.0], [416608.0], [9032.0], [245569.0, 95208.0], [nan], [nan], [246302.0, 67234.0], [100114.0, 616318.0], [9105.0], [96915.0, 634546.0], [1040.0, 35277.0, 35276.0, 35275.0], [203030.0], [203031.0], [nan], [152300.0], [nan], [89535.0, 25705.0], [152568.0], [201138.0], [82200.0, 82199.0], [167573.0, 167574.0, 93259.0, 167572.0], [380105.0], [642223.0, 26880.0, 240861.0], [62481.0], [245988.0], [1411.0, 38350.0], [416928.0, 416926.0, 27008.0, 416929.0, 416927.0], [71696.0], [nan], [97316.0, 74930.0, 97315.0], [nan], [71035.0, 72840.0], [200297.0], [28288.0], [56532.0], [nan], [nan], [nan], [78927.0], [89903.0], [56445.0], [nan], [44959.0, 639371.0], [44960.0, 630736.0], [nan], [nan], [94897.0, 94896.0, 94894.0, 291154.0, 94893.0, 94895.0, 191166.0], [nan], [nan], [82353.0], [4201.0], [nan], [nan], [15631.0], [40265.0], [171161.0], [63179.0, 200623.0, 88900.0], [52775.0, 428106.0], [36644.0], [nan], [nan], [451.0, 75880.0, 73109.0, 300243.0, 42008.0, 73110.0], [nan], [420286.0], [152082.0, 55178.0], [80108.0, 152067.0, 152066.0, 152065.0], [nan], [74950.0], [nan], [23620.0, 88710.0], [658016.0, 59112.0, 162674.0, 639906.0], [nan], [nan], [nan], [37071.0], [69034.0, 402062.0], [23883.0], [nan], [18020.0, 245965.0], [202071.0], [74830.0], [nan], [28420.0, 279593.0, 27316.0, 23837.0], [9004.0], [428109.0, 58800.0], [nan], [nan], [nan], [201817.0, 41199.0], [nan], [nan], [nan], [nan], [26878.0, 610783.0, 43987.0], [410851.0], [nan], [37060.0, 200891.0, 16568.0], [59194.0], [34672.0], [78878.0], [8237.0], [nan], [609869.0, 100004.0], [65150.0, 51678.0], [95381.0], [95380.0], [nan], [nan], [16219.0], [nan], [153518.0], [nan], [nan], [nan], [73000.0], [171375.0], [nan], [245975.0], [167518.0, 62229.0], [nan], [412730.0], [181259.0, 53300.0], [281011.0], [402536.0], [56751.0, 56750.0, 56744.0], [nan], [nan], [18004.0], [642242.0], [nan], [31316.0, 36124.0], [nan], [84763.0], [75264.0], [96941.0], [195819.0, 161763.0], [419137.0, 634534.0, 25566.0], [250297.0], [39814.0], [nan], [nan], [4204.0], [nan], [245981.0], [nan], [98021.0], [65731.0], [36645.0], [150335.0, 68905.0, 150334.0], [35014.0, 28301.0, 61118.0, 28298.0, 90745.0, 167130.0, 90746.0, 94493.0, 28302.0, 247736.0, 250775.0, 28296.0, 247734.0, 169697.0, 28300.0, 155360.0, 415526.0, 109458.0, 28294.0, 94492.0, 28299.0, 155361.0, 164933.0, 84578.0, 169696.0, 169695.0, 247737.0, 164260.0, 28297.0, 28295.0, 247735.0, 74469.0], [44966.0], [42697.0], [44965.0], [nan], [72098.0, 72099.0], [72486.0], [55053.0], [424835.0, 59381.0], [92843.0, 73218.0], [96422.0], [65025.0], [180122.0], [73205.0], [nan], [nan], [nan], [152890.0], [20155.0, 20173.0], [nan], [nan], [25530.0, 180557.0, 152183.0], [853.0, 28192.0, 100402.0, 16626.0], [nan], [nan], [82457.0], [155128.0, 71085.0, 655673.0], [33633.0], [280992.0], [1113.0], [nan], [400552.0], [419925.0], [14.0], [279592.0, 82864.0], [28307.0, 193838.0], [49022.0], [18019.0], [nan], [nan], [74831.0], [413355.0], [33864.0], [nan], [nan], [96266.0, 99217.0, 153661.0, 153660.0], [421741.0, 184917.0, 416877.0], [26284.0], [nan], [78059.0, 87596.0], [60069.0], [75516.0], [16229.0, 1037.0], [nan], [nan], [nan], [63183.0, 200624.0, 63181.0, 63182.0], [391154.0], [169693.0, 90744.0, 90743.0, 169692.0, 169694.0], [nan], [nan], [25565.0], [nan], [87989.0], [nan], [nan], [89650.0], [401208.0], [nan], [nan], [nan], [nan], [16926.0, 9082.0], [2342.0], [82586.0], [nan], [91112.0], [78836.0], [23511.0], [39668.0], [96224.0], [nan], [nan], [245963.0], [nan], [26297.0, 40247.0], [nan], [38036.0], [nan], [419061.0], [415556.0], [78938.0], [30719.0], [74567.0, 9138.0, 35155.0], [249311.0], [200669.0, 14045.0], [25350.0], [420675.0], [91844.0], [152609.0], [422562.0], [87988.0], [281198.0, 391153.0], [nan], [29213.0], [21032.0, 21053.0], [80472.0], [27982.0, 44274.0, 52236.0, 53819.0], [4317.0], [152567.0], [239375.0, 164259.0, 239373.0, 9540.0, 84226.0, 239376.0, 239374.0, 9537.0, 84579.0, 239372.0, 108874.0, 239379.0, 239378.0, 239377.0], [418980.0, 260156.0], [34256.0], [74504.0], [35475.0, 35476.0, 80026.0, 35473.0, 35472.0, 80025.0, 35474.0, 9508.0, 14377.0, 14344.0], [nan], [15785.0], [66387.0], [nan], [36599.0], [99386.0], [92842.0], [280574.0], [nan], [27007.0], [nan], [67274.0], [nan], [280205.0], [nan], [420126.0], [246277.0], [416198.0], [416590.0], [411454.0], [416199.0], [67523.0], [23634.0, 68494.0], [97909.0], [nan], [39206.0, 202660.0, 65442.0], [nan], [107954.0], [78819.0], [nan], [100166.0], [18096.0, 65177.0, 16935.0], [202627.0], [410044.0], [66096.0, 153620.0], [86184.0], [51314.0], [34003.0], [61215.0], [nan], [67981.0], [21013.0], [nan], [161499.0], [45512.0], [158274.0], [45310.0], [nan], [415557.0], [67543.0], [77273.0, 87594.0], [nan], [65735.0], [246731.0, 418992.0, 418991.0], [290831.0, 95649.0], [30584.0], [61216.0, 61144.0], [82352.0], [nan], [280535.0], [39699.0, 150332.0, 25022.0, 150333.0, 39700.0], [35397.0, 245972.0], [74525.0], [402147.0], [71862.0], [87991.0], [172184.0], [402398.0, 202743.0], [67560.0], [34079.0], [200311.0], [290450.0, 47229.0], [79352.0], [nan], [642192.0, 96939.0, 44368.0], [639886.0, 40665.0, 44522.0], [92395.0, 410714.0], [638269.0, 69877.0], [81857.0, 91843.0], [95785.0], [nan], [202863.0, 71875.0], [638198.0, 40580.0], [83509.0], [nan], [nan], [20112.0, 86152.0], [nan], [172216.0], [nan], [nan], [53818.0, 26909.0, 27981.0, 44273.0, 52235.0], [87987.0], [89242.0, 89241.0, 89240.0, 71946.0], [158511.0, 158512.0, 159555.0, 159554.0], [23924.0, 61272.0], [93015.0], [nan], [nan], [nan], [15113.0], [26451.0], [10257.0], [74822.0], [83986.0], [280481.0, 78562.0], [nan], [61203.0], [65175.0], [27896.0, 96727.0, 39563.0, 73709.0], [65176.0], [47104.0, 10062.0], [nan], [nan], [nan], [nan], [414242.0], [202560.0], [412247.0], [427397.0, 427398.0, 427401.0, 427396.0, 75995.0, 80826.0, 427399.0, 427400.0], [nan], [42037.0, 616316.0], [nan], [56752.0], [200780.0], [nan], [nan], [nan], [nan], [nan], [nan], [97291.0, 10237.0, 55161.0, 97290.0, 10238.0, 159530.0, 10236.0, 280110.0, 280109.0, 159531.0, 30521.0, 159532.0, 9668.0, 158509.0, 159529.0, 158510.0, 30295.0], [20835.0, 20191.0], [68429.0], [416197.0], [416196.0], [67265.0], [67264.0], [nan], [430359.0, 30249.0, 430184.0, 23815.0, 430358.0, 430357.0], [79867.0], [nan], [1485.0], [nan], [202623.0, 202622.0], [nan], [60948.0], [nan], [15119.0], [nan], [168446.0, 642353.0, 642355.0, 642354.0, 60433.0], [56444.0], [415411.0], [nan], [95972.0], [22202.0, 20452.0], [67512.0], [172582.0, 172581.0, 78105.0], [nan], [39389.0], [2121.0], [201935.0], [44962.0], [31930.0, 2921.0], [74982.0, 38381.0, 74981.0], [421549.0], [98140.0], [69300.0, 67110.0], [nan], [nan], [nan], [252226.0, 85171.0], [71547.0], [nan], [nan], [32713.0, 34582.0, 66007.0], [74929.0], [16231.0, 78790.0, 262744.0], [nan], [nan], [39211.0, 280993.0], [200078.0], [67114.0], [245980.0], [nan], [nan], [107304.0], [2319.0], [173193.0, 57411.0, 642216.0, 642219.0, 22402.0, 54368.0, 180569.0, 60431.0, 173206.0, 173180.0], [418627.0], [411410.0], [202641.0], [nan], [409384.0], [202642.0], [88467.0], [62137.0], [35182.0], [34362.0], [61751.0, 173178.0, 61749.0, 173205.0, 26874.0, 26873.0, 638265.0, 61754.0, 603869.0, 28557.0, 61753.0, 157495.0, 173177.0, 61750.0, 638263.0, 44748.0, 61752.0, 53975.0, 187681.0, 56066.0, 638266.0, 173192.0, 168789.0, 187680.0], [152079.0, 159536.0, 55172.0, 55173.0, 152078.0, 152077.0, 200128.0], [161017.0, 173179.0, 165467.0, 156000.0, 168793.0, 37370.0, 51679.0, 168792.0, 237203.0, 10354.0, 154395.0, 182471.0, 182470.0], [nan], [84649.0], [89899.0], [78748.0], [nan], [nan], [39648.0], [60949.0], [245287.0, 78731.0, 425059.0, 245288.0], [409539.0], [2642.0, 201816.0], [nan], [nan], [280226.0, 162672.0], [nan], [100854.0], [34221.0, 25816.0, 77095.0, 79427.0, 20208.0], [401122.0], [73276.0], [73275.0], [260001.0, 162785.0], [nan], [72202.0, 69192.0], [46022.0], [nan], [nan], [26233.0, 150674.0, 626233.0, 150675.0], [75597.0, 85735.0], [32595.0], [83652.0], [93086.0, 93087.0, 18152.0], [nan], [48177.0], [88463.0], [nan], [72741.0], [415135.0], [245974.0], [nan], [nan], [83419.0, 400339.0], [nan], [nan], [nan], [416463.0, 22315.0], [65291.0], [23621.0], [80459.0], [245317.0, 245318.0], [nan], [nan], [26208.0, 26207.0], [36470.0, 88828.0, 20851.0, 86284.0, 71364.0, 280391.0, 56106.0, 33251.0, 36471.0, 36472.0, 36038.0, 88827.0, 48136.0], [50950.0], [95248.0], [155127.0, 155126.0], [nan], [nan], [412585.0], [409667.0], [202115.0], [41186.0, 41187.0, 68427.0], [418979.0, 240703.0], [419670.0, 419672.0, 130018.0, 419675.0, 415328.0, 419674.0, 163176.0, 163180.0, 163181.0, 34670.0, 163177.0, 415326.0, 419673.0, 419669.0, 163178.0, 415327.0, 163182.0, 180507.0, 163179.0, 65930.0, 300010.0, 415325.0, 419671.0], [50232.0], [391261.0], [54839.0], [74864.0], [248725.0, 165216.0], [83831.0], [109172.0], [54244.0, 57410.0], [162784.0], [87592.0, 77275.0], [73217.0], [74866.0], [59367.0], [73223.0], [2644.0, 16793.0], [92708.0], [281301.0, 37126.0], [60434.0, 642399.0, 182740.0, 642398.0], [nan], [23406.0], [nan], [nan], [nan], [87413.0], [60838.0, 656944.0, 639900.0], [75031.0], [nan], [201623.0], [162673.0, 162555.0], [173881.0], [162770.0], [67254.0], [35336.0], [nan], [421083.0], [nan], [nan], [92468.0, 92467.0], [61219.0], [61218.0], [421252.0, 247256.0, 247255.0], [67536.0], [nan], [nan], [181326.0, 159173.0], [41022.0, 155129.0], [61337.0], [61338.0], [nan], [nan], [416888.0], [1914.0, 32534.0, 1321.0, 1913.0, 27730.0], [nan], [72100.0], [54396.0, 642291.0, 657597.0, 60432.0, 56023.0, 642297.0, 657596.0], [100324.0, 66942.0, 66941.0, 69133.0, 16713.0], [nan], [65260.0], [65445.0], [60539.0, 23204.0, 60538.0, 10181.0], [8243.0, 10386.0, 27179.0], [405777.0], [202930.0], [65404.0], [69189.0], [24888.0, 2929.0, 22011.0, 22010.0, 22013.0, 22012.0], [49513.0], [413966.0], [22015.0, 22014.0], [74865.0], [44958.0], [44957.0], [161500.0], [69491.0], [202862.0], [nan], [158936.0, 31274.0], [nan], [160608.0], [280906.0, 96477.0], [nan], [nan], [30964.0], [9908.0], [411131.0], [nan], [26879.0], [170861.0], [34118.0, 89524.0], [34888.0, 27543.0], [1318.0, 493.0], [655971.0, 69875.0, 638272.0], [nan], [88464.0, 246278.0, 154175.0], [195621.0, 100631.0], [31858.0], [41321.0, 73836.0, 73835.0], [nan], [59179.0], [nan], [nan], [26337.0, 174059.0, 200524.0], [91496.0], [62532.0], [73706.0], [80925.0, 55162.0, 75263.0, 152068.0, 80924.0, 80923.0, 159534.0], [nan], [66095.0], [67359.0], [77544.0, 77545.0, 77546.0, 77547.0, 77543.0, 200401.0, 77548.0, 77549.0], [nan], [67238.0], [55692.0, 55691.0], [nan], [nan], [245962.0], [72101.0], [nan], [16617.0], [80398.0], [nan], [nan], [nan], [37250.0, 408553.0], [73200.0], [94355.0], [nan], [25752.0], [nan], [nan], [50957.0], [nan], [161953.0, 186264.0, 161954.0, 185861.0, 180103.0, 161952.0, 153287.0, 186263.0, 186261.0, 239763.0, 245568.0, 245567.0, 95207.0, 185860.0, 161951.0], [80511.0, 658259.0], [nan], [nan], [158513.0, 158514.0, 152076.0, 152075.0], [155036.0, 181559.0, 181560.0, 155037.0, 155166.0, 34675.0], [401723.0], [40536.0, 39464.0], [nan], [38167.0], [642303.0, 40457.0], [165579.0, 413238.0], [nan], [69017.0, 642182.0], [290451.0, 67277.0], [nan], [nan], [nan], [73159.0], [15104.0, 28131.0, 1180.0], [402399.0, 73222.0], [48149.0, 408552.0], [41433.0, 280927.0], [74900.0, 658691.0], [75526.0], [nan], [152948.0], [nan], [67535.0], [nan], [2939.0], [67145.0], [33716.0], [411453.0], [84715.0], [402173.0], [84716.0], [nan], [23407.0, 27016.0, 69622.0], [239000.0, 99503.0], [35250.0], [56746.0, 56747.0], [75164.0], [nan], [nan], [68247.0, 5427.0, 23552.0, 174102.0], [156898.0, 156900.0, 34780.0, 166015.0, 34779.0, 34781.0, 156892.0, 34280.0, 156896.0, 660252.0, 168788.0, 76944.0, 173175.0, 156902.0, 156888.0, 642177.0, 156890.0, 642174.0, 642176.0, 156894.0], [422840.0], [39499.0], [88829.0, 62981.0, 71365.0], [414244.0, 53820.0, 44275.0, 27983.0], [36216.0], [50468.0], [281318.0, 167517.0], [nan], [nan], [24051.0, 203032.0, 39574.0], [nan], [nan], [nan], [418994.0, 109259.0], [60824.0], [74526.0], [416889.0], [416890.0], [nan], [14360.0, 72422.0, 72423.0, 67233.0, 37163.0], [38416.0], [415121.0], [245460.0, 186901.0, 186900.0, 247818.0, 247819.0, 416956.0], [61091.0], [nan], [154761.0], [nan], [245979.0, 40479.0], [245971.0], [nan], [42016.0], [31050.0], [202958.0], [nan], [27672.0], [78326.0], [nan], [nan], [nan], [26472.0], [67239.0], [35290.0], [30590.0], [162773.0], [nan], [96914.0, 68465.0], [nan], [75927.0], [415120.0], [20031.0], [419595.0], [40156.0], [45511.0], [nan], [69763.0], [nan], [9430.0], [75223.0, 380104.0], [16790.0], [200980.0, 200981.0], [51630.0], [241234.0, 261256.0], [44900.0, 642341.0], [96728.0], [290452.0, 67275.0, 67887.0], [79616.0], [79805.0], [245970.0], [92571.0, 66944.0, 66940.0, 84638.0], [391258.0], [44963.0], [245516.0], [74860.0], [44964.0], [62654.0], [180289.0, 260259.0], [nan], [33953.0], [66137.0], [71489.0, 202648.0, 71488.0], [67702.0, 95407.0, 67703.0, 14364.0], [152893.0], [35405.0], [nan], [61204.0], [nan], [nan], [280225.0], [nan], [9923.0, 30253.0, 31110.0], [nan], [nan], [nan], [18012.0, 62361.0, 44272.0, 53839.0, 44879.0, 41409.0, 52234.0, 181799.0], [202116.0], [65170.0], [95908.0], [98019.0], [100465.0, 642222.0], [642350.0, 42064.0], [184290.0, 184288.0, 184285.0, 68653.0, 184287.0, 184284.0, 184286.0, 184292.0, 184283.0, 184289.0, 184291.0], [59640.0], [nan], [nan]]\n"
     ]
    }
   ],
   "source": [
    "icsd_id_raw = []\n",
    "for doc in docs:\n",
    "    entry = doc.database_IDs.get('icsd')\n",
    "    icsd_id_raw.append(entry)\n",
    "    \n",
    "#print(icsd_id_raw)    \n",
    "\n",
    "icsd_id = []\n",
    "for icsd in icsd_id_raw:\n",
    "    if icsd is not None:\n",
    "        l = [float(entry[5:]) for entry in icsd]\n",
    "        icsd_id.append(l)\n",
    "    else:\n",
    "        icsd_id.append([np.nan])\n",
    "        \n",
    "print(icsd_id)"
   ]
  },
  {
   "cell_type": "code",
   "execution_count": 7,
   "id": "4ab8aa51",
   "metadata": {},
   "outputs": [
    {
     "data": {
      "text/html": [
       "<div>\n",
       "<style scoped>\n",
       "    .dataframe tbody tr th:only-of-type {\n",
       "        vertical-align: middle;\n",
       "    }\n",
       "\n",
       "    .dataframe tbody tr th {\n",
       "        vertical-align: top;\n",
       "    }\n",
       "\n",
       "    .dataframe thead th {\n",
       "        text-align: right;\n",
       "    }\n",
       "</style>\n",
       "<table border=\"1\" class=\"dataframe\">\n",
       "  <thead>\n",
       "    <tr style=\"text-align: right;\">\n",
       "      <th></th>\n",
       "      <th>Unnamed: 0</th>\n",
       "      <th>material_id</th>\n",
       "      <th>elements</th>\n",
       "      <th>formula_pretty_reduced</th>\n",
       "      <th>formula</th>\n",
       "      <th>icsd_id</th>\n",
       "      <th>num_elements</th>\n",
       "      <th>chemsys</th>\n",
       "      <th>spacegroup_symbol</th>\n",
       "      <th>spacegroup_number</th>\n",
       "      <th>...</th>\n",
       "      <th>0.1</th>\n",
       "      <th>0.2</th>\n",
       "      <th>0.3</th>\n",
       "      <th>0.4</th>\n",
       "      <th>0.5</th>\n",
       "      <th>0.6</th>\n",
       "      <th>1e-05</th>\n",
       "      <th>0.0001</th>\n",
       "      <th>0.001</th>\n",
       "      <th>0.01</th>\n",
       "    </tr>\n",
       "  </thead>\n",
       "  <tbody>\n",
       "    <tr>\n",
       "      <th>0</th>\n",
       "      <td>0</td>\n",
       "      <td>mp-8892</td>\n",
       "      <td>['Li', 'F', 'In']</td>\n",
       "      <td>LiInF4</td>\n",
       "      <td>Li4 In4 F16</td>\n",
       "      <td>[66693.0]</td>\n",
       "      <td>3</td>\n",
       "      <td>F-In-Li</td>\n",
       "      <td>Pbcn</td>\n",
       "      <td>60</td>\n",
       "      <td>...</td>\n",
       "      <td>9.190986</td>\n",
       "      <td>9.927689</td>\n",
       "      <td>9.927689</td>\n",
       "      <td>9.927689</td>\n",
       "      <td>9.927689</td>\n",
       "      <td>9.927689</td>\n",
       "      <td>0.993939</td>\n",
       "      <td>0.981707</td>\n",
       "      <td>0.962025</td>\n",
       "      <td>0.788732</td>\n",
       "    </tr>\n",
       "    <tr>\n",
       "      <th>1</th>\n",
       "      <td>1</td>\n",
       "      <td>mp-772968</td>\n",
       "      <td>['Li', 'Tl', 'P', 'H', 'O']</td>\n",
       "      <td>LiTlPHO3</td>\n",
       "      <td>Li4 Tl4 P4 H4 O12</td>\n",
       "      <td>[201040.0]</td>\n",
       "      <td>5</td>\n",
       "      <td>H-Li-O-P-Tl</td>\n",
       "      <td>C2</td>\n",
       "      <td>5</td>\n",
       "      <td>...</td>\n",
       "      <td>11.140249</td>\n",
       "      <td>11.140249</td>\n",
       "      <td>11.140249</td>\n",
       "      <td>14.066884</td>\n",
       "      <td>14.066884</td>\n",
       "      <td>14.066884</td>\n",
       "      <td>1.000000</td>\n",
       "      <td>0.925000</td>\n",
       "      <td>0.725000</td>\n",
       "      <td>0.555556</td>\n",
       "    </tr>\n",
       "    <tr>\n",
       "      <th>2</th>\n",
       "      <td>2</td>\n",
       "      <td>mp-756951</td>\n",
       "      <td>['Li', 'Sb', 'O']</td>\n",
       "      <td>LiSbO3</td>\n",
       "      <td>Li4 Sb4 O12</td>\n",
       "      <td>[nan]</td>\n",
       "      <td>3</td>\n",
       "      <td>Li-O-Sb</td>\n",
       "      <td>C2/m</td>\n",
       "      <td>12</td>\n",
       "      <td>...</td>\n",
       "      <td>4.864107</td>\n",
       "      <td>5.543978</td>\n",
       "      <td>5.543978</td>\n",
       "      <td>5.543978</td>\n",
       "      <td>5.543978</td>\n",
       "      <td>6.903721</td>\n",
       "      <td>1.000000</td>\n",
       "      <td>0.993865</td>\n",
       "      <td>0.906832</td>\n",
       "      <td>0.560606</td>\n",
       "    </tr>\n",
       "    <tr>\n",
       "      <th>3</th>\n",
       "      <td>3</td>\n",
       "      <td>mp-754856</td>\n",
       "      <td>['Li', 'Y', 'Zr', 'S']</td>\n",
       "      <td>Li7Y7ZrS16</td>\n",
       "      <td>Li7 Y7 Zr1 S16</td>\n",
       "      <td>[nan]</td>\n",
       "      <td>4</td>\n",
       "      <td>Li-S-Y-Zr</td>\n",
       "      <td>P2/m</td>\n",
       "      <td>10</td>\n",
       "      <td>...</td>\n",
       "      <td>4.319241</td>\n",
       "      <td>4.319241</td>\n",
       "      <td>4.319241</td>\n",
       "      <td>4.319241</td>\n",
       "      <td>5.047983</td>\n",
       "      <td>5.047983</td>\n",
       "      <td>0.987952</td>\n",
       "      <td>0.962963</td>\n",
       "      <td>0.921569</td>\n",
       "      <td>0.735294</td>\n",
       "    </tr>\n",
       "    <tr>\n",
       "      <th>4</th>\n",
       "      <td>4</td>\n",
       "      <td>mp-24610</td>\n",
       "      <td>['H', 'Li', 'O', 'P']</td>\n",
       "      <td>LiP(HO2)2</td>\n",
       "      <td>Li4 P4 H8 O16</td>\n",
       "      <td>[182309.0, 182308.0, 100200.0]</td>\n",
       "      <td>4</td>\n",
       "      <td>H-Li-O-P</td>\n",
       "      <td>Pna2_1</td>\n",
       "      <td>33</td>\n",
       "      <td>...</td>\n",
       "      <td>29.153401</td>\n",
       "      <td>29.153401</td>\n",
       "      <td>32.155099</td>\n",
       "      <td>32.155099</td>\n",
       "      <td>32.155099</td>\n",
       "      <td>32.155099</td>\n",
       "      <td>1.000000</td>\n",
       "      <td>0.988506</td>\n",
       "      <td>0.941860</td>\n",
       "      <td>0.537500</td>\n",
       "    </tr>\n",
       "    <tr>\n",
       "      <th>...</th>\n",
       "      <td>...</td>\n",
       "      <td>...</td>\n",
       "      <td>...</td>\n",
       "      <td>...</td>\n",
       "      <td>...</td>\n",
       "      <td>...</td>\n",
       "      <td>...</td>\n",
       "      <td>...</td>\n",
       "      <td>...</td>\n",
       "      <td>...</td>\n",
       "      <td>...</td>\n",
       "      <td>...</td>\n",
       "      <td>...</td>\n",
       "      <td>...</td>\n",
       "      <td>...</td>\n",
       "      <td>...</td>\n",
       "      <td>...</td>\n",
       "      <td>...</td>\n",
       "      <td>...</td>\n",
       "      <td>...</td>\n",
       "      <td>...</td>\n",
       "    </tr>\n",
       "    <tr>\n",
       "      <th>862</th>\n",
       "      <td>868</td>\n",
       "      <td>mp-9919</td>\n",
       "      <td>['Li', 'Zn', 'Sb']</td>\n",
       "      <td>LiZnSb</td>\n",
       "      <td>Li2 Zn2 Sb2</td>\n",
       "      <td>[642350.0, 42064.0]</td>\n",
       "      <td>3</td>\n",
       "      <td>Li-Sb-Zn</td>\n",
       "      <td>P6_3mc</td>\n",
       "      <td>186</td>\n",
       "      <td>...</td>\n",
       "      <td>4.292991</td>\n",
       "      <td>4.292991</td>\n",
       "      <td>7.108637</td>\n",
       "      <td>7.108637</td>\n",
       "      <td>7.108637</td>\n",
       "      <td>7.108637</td>\n",
       "      <td>0.987578</td>\n",
       "      <td>0.968750</td>\n",
       "      <td>0.876623</td>\n",
       "      <td>0.664286</td>\n",
       "    </tr>\n",
       "    <tr>\n",
       "      <th>863</th>\n",
       "      <td>869</td>\n",
       "      <td>mp-14704</td>\n",
       "      <td>['Li', 'B', 'O', 'Y']</td>\n",
       "      <td>Li6Y(BO3)3</td>\n",
       "      <td>Li24 Y4 B12 O36</td>\n",
       "      <td>[184290.0, 184288.0, 184285.0, 68653.0, 184287...</td>\n",
       "      <td>4</td>\n",
       "      <td>B-Li-O-Y</td>\n",
       "      <td>P2_1/c</td>\n",
       "      <td>14</td>\n",
       "      <td>...</td>\n",
       "      <td>5.185502</td>\n",
       "      <td>5.979421</td>\n",
       "      <td>6.508700</td>\n",
       "      <td>7.567257</td>\n",
       "      <td>11.272210</td>\n",
       "      <td>11.272210</td>\n",
       "      <td>1.000000</td>\n",
       "      <td>0.982143</td>\n",
       "      <td>0.812500</td>\n",
       "      <td>0.742574</td>\n",
       "    </tr>\n",
       "    <tr>\n",
       "      <th>864</th>\n",
       "      <td>870</td>\n",
       "      <td>mp-557756</td>\n",
       "      <td>['Li', 'Zn', 'P', 'O']</td>\n",
       "      <td>Li4Zn(PO4)2</td>\n",
       "      <td>Li16 Zn4 P8 O32</td>\n",
       "      <td>[59640.0]</td>\n",
       "      <td>4</td>\n",
       "      <td>Li-O-P-Zn</td>\n",
       "      <td>P2_1/c</td>\n",
       "      <td>14</td>\n",
       "      <td>...</td>\n",
       "      <td>4.985237</td>\n",
       "      <td>8.758697</td>\n",
       "      <td>8.758697</td>\n",
       "      <td>8.758697</td>\n",
       "      <td>8.758697</td>\n",
       "      <td>10.855064</td>\n",
       "      <td>1.000000</td>\n",
       "      <td>0.967480</td>\n",
       "      <td>0.811475</td>\n",
       "      <td>0.700935</td>\n",
       "    </tr>\n",
       "    <tr>\n",
       "      <th>865</th>\n",
       "      <td>871</td>\n",
       "      <td>mp-966801</td>\n",
       "      <td>['Li', 'Ca', 'B', 'O']</td>\n",
       "      <td>LiCaBO3</td>\n",
       "      <td>Li8 Ca8 B8 O24</td>\n",
       "      <td>[nan]</td>\n",
       "      <td>4</td>\n",
       "      <td>B-Ca-Li-O</td>\n",
       "      <td>Ibca</td>\n",
       "      <td>73</td>\n",
       "      <td>...</td>\n",
       "      <td>5.331724</td>\n",
       "      <td>7.424524</td>\n",
       "      <td>10.040524</td>\n",
       "      <td>10.040524</td>\n",
       "      <td>10.040524</td>\n",
       "      <td>10.040524</td>\n",
       "      <td>0.989011</td>\n",
       "      <td>0.933333</td>\n",
       "      <td>0.771084</td>\n",
       "      <td>0.735294</td>\n",
       "    </tr>\n",
       "    <tr>\n",
       "      <th>866</th>\n",
       "      <td>872</td>\n",
       "      <td>mp-772721</td>\n",
       "      <td>['Li', 'Si', 'Bi', 'O']</td>\n",
       "      <td>LiSi6Bi9O26</td>\n",
       "      <td>Li2 Si12 Bi18 O52</td>\n",
       "      <td>[nan]</td>\n",
       "      <td>4</td>\n",
       "      <td>Bi-Li-O-Si</td>\n",
       "      <td>P-3</td>\n",
       "      <td>147</td>\n",
       "      <td>...</td>\n",
       "      <td>2.082729</td>\n",
       "      <td>2.817394</td>\n",
       "      <td>2.817394</td>\n",
       "      <td>3.552058</td>\n",
       "      <td>3.552058</td>\n",
       "      <td>3.919391</td>\n",
       "      <td>1.000000</td>\n",
       "      <td>0.957983</td>\n",
       "      <td>0.815126</td>\n",
       "      <td>0.540541</td>\n",
       "    </tr>\n",
       "  </tbody>\n",
       "</table>\n",
       "<p>867 rows × 124 columns</p>\n",
       "</div>"
      ],
      "text/plain": [
       "     Unnamed: 0 material_id                     elements  \\\n",
       "0             0     mp-8892            ['Li', 'F', 'In']   \n",
       "1             1   mp-772968  ['Li', 'Tl', 'P', 'H', 'O']   \n",
       "2             2   mp-756951            ['Li', 'Sb', 'O']   \n",
       "3             3   mp-754856       ['Li', 'Y', 'Zr', 'S']   \n",
       "4             4    mp-24610        ['H', 'Li', 'O', 'P']   \n",
       "..          ...         ...                          ...   \n",
       "862         868     mp-9919           ['Li', 'Zn', 'Sb']   \n",
       "863         869    mp-14704        ['Li', 'B', 'O', 'Y']   \n",
       "864         870   mp-557756       ['Li', 'Zn', 'P', 'O']   \n",
       "865         871   mp-966801       ['Li', 'Ca', 'B', 'O']   \n",
       "866         872   mp-772721      ['Li', 'Si', 'Bi', 'O']   \n",
       "\n",
       "    formula_pretty_reduced            formula  \\\n",
       "0                   LiInF4        Li4 In4 F16   \n",
       "1                 LiTlPHO3  Li4 Tl4 P4 H4 O12   \n",
       "2                   LiSbO3        Li4 Sb4 O12   \n",
       "3               Li7Y7ZrS16     Li7 Y7 Zr1 S16   \n",
       "4                LiP(HO2)2      Li4 P4 H8 O16   \n",
       "..                     ...                ...   \n",
       "862                 LiZnSb        Li2 Zn2 Sb2   \n",
       "863             Li6Y(BO3)3    Li24 Y4 B12 O36   \n",
       "864            Li4Zn(PO4)2    Li16 Zn4 P8 O32   \n",
       "865                LiCaBO3     Li8 Ca8 B8 O24   \n",
       "866            LiSi6Bi9O26  Li2 Si12 Bi18 O52   \n",
       "\n",
       "                                               icsd_id  num_elements  \\\n",
       "0                                            [66693.0]             3   \n",
       "1                                           [201040.0]             5   \n",
       "2                                                [nan]             3   \n",
       "3                                                [nan]             4   \n",
       "4                       [182309.0, 182308.0, 100200.0]             4   \n",
       "..                                                 ...           ...   \n",
       "862                                [642350.0, 42064.0]             3   \n",
       "863  [184290.0, 184288.0, 184285.0, 68653.0, 184287...             4   \n",
       "864                                          [59640.0]             4   \n",
       "865                                              [nan]             4   \n",
       "866                                              [nan]             4   \n",
       "\n",
       "         chemsys spacegroup_symbol  spacegroup_number  ...        0.1  \\\n",
       "0        F-In-Li              Pbcn                 60  ...   9.190986   \n",
       "1    H-Li-O-P-Tl                C2                  5  ...  11.140249   \n",
       "2        Li-O-Sb              C2/m                 12  ...   4.864107   \n",
       "3      Li-S-Y-Zr              P2/m                 10  ...   4.319241   \n",
       "4       H-Li-O-P            Pna2_1                 33  ...  29.153401   \n",
       "..           ...               ...                ...  ...        ...   \n",
       "862     Li-Sb-Zn            P6_3mc                186  ...   4.292991   \n",
       "863     B-Li-O-Y            P2_1/c                 14  ...   5.185502   \n",
       "864    Li-O-P-Zn            P2_1/c                 14  ...   4.985237   \n",
       "865    B-Ca-Li-O              Ibca                 73  ...   5.331724   \n",
       "866   Bi-Li-O-Si               P-3                147  ...   2.082729   \n",
       "\n",
       "           0.2        0.3        0.4        0.5        0.6     1e-05  \\\n",
       "0     9.927689   9.927689   9.927689   9.927689   9.927689  0.993939   \n",
       "1    11.140249  11.140249  14.066884  14.066884  14.066884  1.000000   \n",
       "2     5.543978   5.543978   5.543978   5.543978   6.903721  1.000000   \n",
       "3     4.319241   4.319241   4.319241   5.047983   5.047983  0.987952   \n",
       "4    29.153401  32.155099  32.155099  32.155099  32.155099  1.000000   \n",
       "..         ...        ...        ...        ...        ...       ...   \n",
       "862   4.292991   7.108637   7.108637   7.108637   7.108637  0.987578   \n",
       "863   5.979421   6.508700   7.567257  11.272210  11.272210  1.000000   \n",
       "864   8.758697   8.758697   8.758697   8.758697  10.855064  1.000000   \n",
       "865   7.424524  10.040524  10.040524  10.040524  10.040524  0.989011   \n",
       "866   2.817394   2.817394   3.552058   3.552058   3.919391  1.000000   \n",
       "\n",
       "       0.0001     0.001      0.01  \n",
       "0    0.981707  0.962025  0.788732  \n",
       "1    0.925000  0.725000  0.555556  \n",
       "2    0.993865  0.906832  0.560606  \n",
       "3    0.962963  0.921569  0.735294  \n",
       "4    0.988506  0.941860  0.537500  \n",
       "..        ...       ...       ...  \n",
       "862  0.968750  0.876623  0.664286  \n",
       "863  0.982143  0.812500  0.742574  \n",
       "864  0.967480  0.811475  0.700935  \n",
       "865  0.933333  0.771084  0.735294  \n",
       "866  0.957983  0.815126  0.540541  \n",
       "\n",
       "[867 rows x 124 columns]"
      ]
     },
     "execution_count": 7,
     "metadata": {},
     "output_type": "execute_result"
    }
   ],
   "source": [
    "data.insert(5, 'icsd_id', icsd_id)\n",
    "\n",
    "data"
   ]
  },
  {
   "cell_type": "code",
   "execution_count": 8,
   "id": "9a910605",
   "metadata": {},
   "outputs": [
    {
     "name": "stdout",
     "output_type": "stream",
     "text": [
      "Index([5, 762], dtype='int64')\n",
      "Index([], dtype='int64')\n",
      "Index([], dtype='int64')\n",
      "Index([], dtype='int64')\n",
      "Index([12], dtype='int64')\n",
      "Index([454], dtype='int64')\n",
      "Index([], dtype='int64')\n",
      "Index([], dtype='int64')\n",
      "Index([318], dtype='int64')\n",
      "Index([], dtype='int64')\n",
      "Index([], dtype='int64')\n",
      "Index([39, 405, 487], dtype='int64')\n",
      "Index([321, 618], dtype='int64')\n",
      "Index([155], dtype='int64')\n",
      "Index([], dtype='int64')\n",
      "Index([], dtype='int64')\n",
      "Index([], dtype='int64')\n",
      "Index([], dtype='int64')\n",
      "Index([76], dtype='int64')\n",
      "Index([123], dtype='int64')\n",
      "Index([], dtype='int64')\n",
      "Index([], dtype='int64')\n",
      "Index([], dtype='int64')\n",
      "Index([420, 536], dtype='int64')\n",
      "Index([], dtype='int64')\n",
      "Index([], dtype='int64')\n",
      "Index([], dtype='int64')\n",
      "Index([], dtype='int64')\n",
      "Index([], dtype='int64')\n",
      "Index([], dtype='int64')\n",
      "Index([], dtype='int64')\n",
      "Index([], dtype='int64')\n",
      "Index([], dtype='int64')\n",
      "Index([], dtype='int64')\n",
      "Index([], dtype='int64')\n",
      "Index([], dtype='int64')\n",
      "Index([], dtype='int64')\n",
      "Index([], dtype='int64')\n",
      "Index([], dtype='int64')\n",
      "Index([], dtype='int64')\n",
      "Index([57, 716], dtype='int64')\n",
      "Pnma\n"
     ]
    },
    {
     "data": {
      "text/html": [
       "<div>\n",
       "<style scoped>\n",
       "    .dataframe tbody tr th:only-of-type {\n",
       "        vertical-align: middle;\n",
       "    }\n",
       "\n",
       "    .dataframe tbody tr th {\n",
       "        vertical-align: top;\n",
       "    }\n",
       "\n",
       "    .dataframe thead th {\n",
       "        text-align: right;\n",
       "    }\n",
       "</style>\n",
       "<table border=\"1\" class=\"dataframe\">\n",
       "  <thead>\n",
       "    <tr style=\"text-align: right;\">\n",
       "      <th></th>\n",
       "      <th>766</th>\n",
       "      <th>13</th>\n",
       "      <th>458</th>\n",
       "      <th>322</th>\n",
       "      <th>325</th>\n",
       "      <th>424</th>\n",
       "      <th>58</th>\n",
       "    </tr>\n",
       "  </thead>\n",
       "  <tbody>\n",
       "    <tr>\n",
       "      <th>Unnamed: 0</th>\n",
       "      <td>770</td>\n",
       "      <td>14</td>\n",
       "      <td>462</td>\n",
       "      <td>326</td>\n",
       "      <td>329</td>\n",
       "      <td>428</td>\n",
       "      <td>59</td>\n",
       "    </tr>\n",
       "    <tr>\n",
       "      <th>material_id</th>\n",
       "      <td>mp-22899</td>\n",
       "      <td>mp-568273</td>\n",
       "      <td>mp-555089</td>\n",
       "      <td>mp-541001</td>\n",
       "      <td>mp-10485</td>\n",
       "      <td>mp-585305</td>\n",
       "      <td>mp-769763</td>\n",
       "    </tr>\n",
       "    <tr>\n",
       "      <th>elements</th>\n",
       "      <td>['Li', 'I']</td>\n",
       "      <td>['Li', 'I']</td>\n",
       "      <td>['Sr', 'Li', 'Ca', 'Si', 'O']</td>\n",
       "      <td>['Li', 'In', 'I']</td>\n",
       "      <td>['Li', 'Sb', 'Ba']</td>\n",
       "      <td>['Li', 'Bi', 'P', 'O']</td>\n",
       "      <td>['Li', 'Cu', 'H', 'O']</td>\n",
       "    </tr>\n",
       "    <tr>\n",
       "      <th>formula_pretty_reduced</th>\n",
       "      <td>LiI</td>\n",
       "      <td>LiI</td>\n",
       "      <td>SrLi4Ca(SiO4)2</td>\n",
       "      <td>LiInI4</td>\n",
       "      <td>BaLiSb</td>\n",
       "      <td>Li9Bi3P8O29</td>\n",
       "      <td>Li5Cu(HO2)2</td>\n",
       "    </tr>\n",
       "    <tr>\n",
       "      <th>formula</th>\n",
       "      <td>Li4 I4</td>\n",
       "      <td>Li2 I2</td>\n",
       "      <td>Sr4 Li16 Ca4 Si8 O32</td>\n",
       "      <td>Li4 In4 I16</td>\n",
       "      <td>Ba2 Li2 Sb2</td>\n",
       "      <td>Li18 Bi6 P16 O58</td>\n",
       "      <td>Li20 Cu4 H8 O16</td>\n",
       "    </tr>\n",
       "    <tr>\n",
       "      <th>...</th>\n",
       "      <td>...</td>\n",
       "      <td>...</td>\n",
       "      <td>...</td>\n",
       "      <td>...</td>\n",
       "      <td>...</td>\n",
       "      <td>...</td>\n",
       "      <td>...</td>\n",
       "    </tr>\n",
       "    <tr>\n",
       "      <th>0.6</th>\n",
       "      <td>5.114019</td>\n",
       "      <td>5.095564</td>\n",
       "      <td>11.447509</td>\n",
       "      <td>4.173836</td>\n",
       "      <td>2.503821</td>\n",
       "      <td>-3.948464</td>\n",
       "      <td>12.552441</td>\n",
       "    </tr>\n",
       "    <tr>\n",
       "      <th>1e-05</th>\n",
       "      <td>0.992248</td>\n",
       "      <td>0.984848</td>\n",
       "      <td>1.0</td>\n",
       "      <td>0.991304</td>\n",
       "      <td>1.0</td>\n",
       "      <td>1.0</td>\n",
       "      <td>1.0</td>\n",
       "    </tr>\n",
       "    <tr>\n",
       "      <th>0.0001</th>\n",
       "      <td>0.952756</td>\n",
       "      <td>0.969466</td>\n",
       "      <td>0.992308</td>\n",
       "      <td>0.973684</td>\n",
       "      <td>1.0</td>\n",
       "      <td>0.991525</td>\n",
       "      <td>1.0</td>\n",
       "    </tr>\n",
       "    <tr>\n",
       "      <th>0.001</th>\n",
       "      <td>0.893443</td>\n",
       "      <td>0.936</td>\n",
       "      <td>0.889764</td>\n",
       "      <td>0.945946</td>\n",
       "      <td>0.942857</td>\n",
       "      <td>0.803419</td>\n",
       "      <td>1.0</td>\n",
       "    </tr>\n",
       "    <tr>\n",
       "      <th>0.01</th>\n",
       "      <td>0.723404</td>\n",
       "      <td>0.688679</td>\n",
       "      <td>0.697479</td>\n",
       "      <td>0.615385</td>\n",
       "      <td>0.766667</td>\n",
       "      <td>0.585586</td>\n",
       "      <td>1.0</td>\n",
       "    </tr>\n",
       "  </tbody>\n",
       "</table>\n",
       "<p>124 rows × 7 columns</p>\n",
       "</div>"
      ],
      "text/plain": [
       "                                766          13   \\\n",
       "Unnamed: 0                      770           14   \n",
       "material_id                mp-22899    mp-568273   \n",
       "elements                ['Li', 'I']  ['Li', 'I']   \n",
       "formula_pretty_reduced          LiI          LiI   \n",
       "formula                      Li4 I4       Li2 I2   \n",
       "...                             ...          ...   \n",
       "0.6                        5.114019     5.095564   \n",
       "1e-05                      0.992248     0.984848   \n",
       "0.0001                     0.952756     0.969466   \n",
       "0.001                      0.893443        0.936   \n",
       "0.01                       0.723404     0.688679   \n",
       "\n",
       "                                                  458                322  \\\n",
       "Unnamed: 0                                        462                326   \n",
       "material_id                                 mp-555089          mp-541001   \n",
       "elements                ['Sr', 'Li', 'Ca', 'Si', 'O']  ['Li', 'In', 'I']   \n",
       "formula_pretty_reduced                 SrLi4Ca(SiO4)2             LiInI4   \n",
       "formula                          Sr4 Li16 Ca4 Si8 O32        Li4 In4 I16   \n",
       "...                                               ...                ...   \n",
       "0.6                                         11.447509           4.173836   \n",
       "1e-05                                             1.0           0.991304   \n",
       "0.0001                                       0.992308           0.973684   \n",
       "0.001                                        0.889764           0.945946   \n",
       "0.01                                         0.697479           0.615385   \n",
       "\n",
       "                                       325                     424  \\\n",
       "Unnamed: 0                             329                     428   \n",
       "material_id                       mp-10485               mp-585305   \n",
       "elements                ['Li', 'Sb', 'Ba']  ['Li', 'Bi', 'P', 'O']   \n",
       "formula_pretty_reduced              BaLiSb             Li9Bi3P8O29   \n",
       "formula                        Ba2 Li2 Sb2        Li18 Bi6 P16 O58   \n",
       "...                                    ...                     ...   \n",
       "0.6                               2.503821               -3.948464   \n",
       "1e-05                                  1.0                     1.0   \n",
       "0.0001                                 1.0                0.991525   \n",
       "0.001                             0.942857                0.803419   \n",
       "0.01                              0.766667                0.585586   \n",
       "\n",
       "                                           58   \n",
       "Unnamed: 0                                  59  \n",
       "material_id                          mp-769763  \n",
       "elements                ['Li', 'Cu', 'H', 'O']  \n",
       "formula_pretty_reduced             Li5Cu(HO2)2  \n",
       "formula                        Li20 Cu4 H8 O16  \n",
       "...                                        ...  \n",
       "0.6                                  12.552441  \n",
       "1e-05                                      1.0  \n",
       "0.0001                                     1.0  \n",
       "0.001                                      1.0  \n",
       "0.01                                       1.0  \n",
       "\n",
       "[124 rows x 7 columns]"
      ]
     },
     "execution_count": 8,
     "metadata": {},
     "output_type": "execute_result"
    }
   ],
   "source": [
    "#Some known good examples of species with high conductivities\n",
    "conductors = ['Li3N', 'Li10GeP2S12', 'L2NH', 'Li7La3Zr2O12', 'Li3ClO', 'Li3BrO', 'Li6Ps5Cl', 'Li6Ps5Br', 'Li3PS4',\n",
    "              'Li7PS6', 'Li3(NH2)2', 'LiTi2(PO4)3', 'Li6PS5I', 'Li2CdCl4', 'Li6BaLa2Ta2O12', 'Li5La3Nb2O12',\n",
    "              'Li7La3Zr2O12', 'Li5La3Ta2O12', 'Li3P', 'LiP5', 'Li5P4', 'Li4P3', 'Li3P7', 'Li3PO4', 'Li10SiPs2S12',\n",
    "              'Li3YBr6', 'Li3ErCl6', 'Li7P3S11', 'Li3InCl6', 'LiClC3H7NO', 'LiTa2PO8', 'Li2SnS3', 'Li4SnS4', \n",
    "              'Li4PS4I', 'Li10SnP2S12', 'Li3(NH2)2I', 'Li8SiP4', 'Li8GeP4', 'Li4B7O12Cl', 'Li6BaLa2Ta2O12',\n",
    "              'LiBH4']\n",
    "for mat in conductors:\n",
    "    idx = data.index[data['formula_pretty_reduced'] == mat]\n",
    "    print(idx)\n",
    "\n",
    "fast_ion = pd.DataFrame()\n",
    "fast_ion = pd.concat([fast_ion,data.iloc[766], data.iloc[13], data.iloc[458], data.iloc[322], \n",
    "                      data.iloc[325], data.iloc[424],data.iloc[58]],axis=1)\n",
    "print(data.loc[58, 'spacegroup_symbol'])\n",
    "fast_ion"
   ]
  },
  {
   "cell_type": "code",
   "execution_count": 9,
   "id": "3a530b67",
   "metadata": {},
   "outputs": [
    {
     "name": "stdout",
     "output_type": "stream",
     "text": [
      "Index([], dtype='int64')\n",
      "Index([], dtype='int64')\n",
      "Index([349], dtype='int64')\n",
      "Index([538], dtype='int64')\n",
      "Index([543], dtype='int64')\n",
      "Index([397], dtype='int64')\n",
      "Index([460], dtype='int64')\n",
      "Index([583], dtype='int64')\n",
      "Index([], dtype='int64')\n",
      "Index([107], dtype='int64')\n",
      "Index([], dtype='int64')\n",
      "Index([], dtype='int64')\n",
      "Index([], dtype='int64')\n",
      "Index([823], dtype='int64')\n",
      "Index([350], dtype='int64')\n",
      "P2_1/c\n"
     ]
    },
    {
     "data": {
      "text/html": [
       "<div>\n",
       "<style scoped>\n",
       "    .dataframe tbody tr th:only-of-type {\n",
       "        vertical-align: middle;\n",
       "    }\n",
       "\n",
       "    .dataframe tbody tr th {\n",
       "        vertical-align: top;\n",
       "    }\n",
       "\n",
       "    .dataframe thead th {\n",
       "        text-align: right;\n",
       "    }\n",
       "</style>\n",
       "<table border=\"1\" class=\"dataframe\">\n",
       "  <thead>\n",
       "    <tr style=\"text-align: right;\">\n",
       "      <th></th>\n",
       "      <th>353</th>\n",
       "      <th>542</th>\n",
       "      <th>547</th>\n",
       "      <th>401</th>\n",
       "      <th>464</th>\n",
       "      <th>587</th>\n",
       "      <th>108</th>\n",
       "      <th>827</th>\n",
       "    </tr>\n",
       "  </thead>\n",
       "  <tbody>\n",
       "    <tr>\n",
       "      <th>Unnamed: 0</th>\n",
       "      <td>357</td>\n",
       "      <td>546</td>\n",
       "      <td>551</td>\n",
       "      <td>405</td>\n",
       "      <td>468</td>\n",
       "      <td>591</td>\n",
       "      <td>109</td>\n",
       "      <td>833</td>\n",
       "    </tr>\n",
       "    <tr>\n",
       "      <th>material_id</th>\n",
       "      <td>mp-18048</td>\n",
       "      <td>mp-6674</td>\n",
       "      <td>mp-6146</td>\n",
       "      <td>mp-643655</td>\n",
       "      <td>mp-14488</td>\n",
       "      <td>mp-17718</td>\n",
       "      <td>mp-8673</td>\n",
       "      <td>mp-4495</td>\n",
       "    </tr>\n",
       "    <tr>\n",
       "      <th>elements</th>\n",
       "      <td>['Li', 'O', 'Zn', 'As']</td>\n",
       "      <td>['Li', 'O', 'Sb', 'La']</td>\n",
       "      <td>['Li', 'O', 'Zn', 'Nb']</td>\n",
       "      <td>['Li', 'Al', 'H', 'Cl', 'O']</td>\n",
       "      <td>['Li', 'O', 'P', 'In']</td>\n",
       "      <td>['Li', 'O', 'Na', 'Si', 'K', 'Cs']</td>\n",
       "      <td>['Li', 'O', 'Sn', 'Te']</td>\n",
       "      <td>['Li', 'K', 'Te']</td>\n",
       "    </tr>\n",
       "    <tr>\n",
       "      <th>formula_pretty_reduced</th>\n",
       "      <td>LiZnAsO4</td>\n",
       "      <td>LiLa2SbO6</td>\n",
       "      <td>LiNbZnO4</td>\n",
       "      <td>LiAl2H6ClO6</td>\n",
       "      <td>Li3In2(PO4)3</td>\n",
       "      <td>CsKNa2Li12(SiO4)4</td>\n",
       "      <td>Li2SnTeO6</td>\n",
       "      <td>KLiTe</td>\n",
       "    </tr>\n",
       "    <tr>\n",
       "      <th>formula</th>\n",
       "      <td>Li18 Zn18 As18 O72</td>\n",
       "      <td>Li2 La4 Sb2 O12</td>\n",
       "      <td>Li4 Nb4 Zn4 O16</td>\n",
       "      <td>Li2 Al4 H12 Cl2 O12</td>\n",
       "      <td>Li12 In8 P12 O48</td>\n",
       "      <td>Cs2 K2 Na4 Li24 Si8 O32</td>\n",
       "      <td>Li4 Sn2 Te2 O12</td>\n",
       "      <td>K2 Li2 Te2</td>\n",
       "    </tr>\n",
       "    <tr>\n",
       "      <th>...</th>\n",
       "      <td>...</td>\n",
       "      <td>...</td>\n",
       "      <td>...</td>\n",
       "      <td>...</td>\n",
       "      <td>...</td>\n",
       "      <td>...</td>\n",
       "      <td>...</td>\n",
       "      <td>...</td>\n",
       "    </tr>\n",
       "    <tr>\n",
       "      <th>0.6</th>\n",
       "      <td>10.971363</td>\n",
       "      <td>8.400202</td>\n",
       "      <td>7.242852</td>\n",
       "      <td>10.567804</td>\n",
       "      <td>9.301846</td>\n",
       "      <td>6.930301</td>\n",
       "      <td>5.633019</td>\n",
       "      <td>2.8814</td>\n",
       "    </tr>\n",
       "    <tr>\n",
       "      <th>1e-05</th>\n",
       "      <td>0.991228</td>\n",
       "      <td>0.974843</td>\n",
       "      <td>1.0</td>\n",
       "      <td>0.916667</td>\n",
       "      <td>1.0</td>\n",
       "      <td>1.0</td>\n",
       "      <td>1.0</td>\n",
       "      <td>0.981308</td>\n",
       "    </tr>\n",
       "    <tr>\n",
       "      <th>0.0001</th>\n",
       "      <td>0.99115</td>\n",
       "      <td>0.954839</td>\n",
       "      <td>0.993976</td>\n",
       "      <td>0.8125</td>\n",
       "      <td>0.983607</td>\n",
       "      <td>1.0</td>\n",
       "      <td>0.9875</td>\n",
       "      <td>0.95283</td>\n",
       "    </tr>\n",
       "    <tr>\n",
       "      <th>0.001</th>\n",
       "      <td>0.927928</td>\n",
       "      <td>0.832215</td>\n",
       "      <td>0.872727</td>\n",
       "      <td>0.659574</td>\n",
       "      <td>0.727273</td>\n",
       "      <td>0.96748</td>\n",
       "      <td>0.96129</td>\n",
       "      <td>0.762376</td>\n",
       "    </tr>\n",
       "    <tr>\n",
       "      <th>0.01</th>\n",
       "      <td>0.631068</td>\n",
       "      <td>0.469697</td>\n",
       "      <td>0.550336</td>\n",
       "      <td>0.44186</td>\n",
       "      <td>0.635514</td>\n",
       "      <td>0.915094</td>\n",
       "      <td>0.678082</td>\n",
       "      <td>0.483871</td>\n",
       "    </tr>\n",
       "  </tbody>\n",
       "</table>\n",
       "<p>124 rows × 8 columns</p>\n",
       "</div>"
      ],
      "text/plain": [
       "                                            353                      542  \\\n",
       "Unnamed: 0                                  357                      546   \n",
       "material_id                            mp-18048                  mp-6674   \n",
       "elements                ['Li', 'O', 'Zn', 'As']  ['Li', 'O', 'Sb', 'La']   \n",
       "formula_pretty_reduced                 LiZnAsO4                LiLa2SbO6   \n",
       "formula                      Li18 Zn18 As18 O72          Li2 La4 Sb2 O12   \n",
       "...                                         ...                      ...   \n",
       "0.6                                   10.971363                 8.400202   \n",
       "1e-05                                  0.991228                 0.974843   \n",
       "0.0001                                  0.99115                 0.954839   \n",
       "0.001                                  0.927928                 0.832215   \n",
       "0.01                                   0.631068                 0.469697   \n",
       "\n",
       "                                            547                           401  \\\n",
       "Unnamed: 0                                  551                           405   \n",
       "material_id                             mp-6146                     mp-643655   \n",
       "elements                ['Li', 'O', 'Zn', 'Nb']  ['Li', 'Al', 'H', 'Cl', 'O']   \n",
       "formula_pretty_reduced                 LiNbZnO4                   LiAl2H6ClO6   \n",
       "formula                         Li4 Nb4 Zn4 O16           Li2 Al4 H12 Cl2 O12   \n",
       "...                                         ...                           ...   \n",
       "0.6                                    7.242852                     10.567804   \n",
       "1e-05                                       1.0                      0.916667   \n",
       "0.0001                                 0.993976                        0.8125   \n",
       "0.001                                  0.872727                      0.659574   \n",
       "0.01                                   0.550336                       0.44186   \n",
       "\n",
       "                                           464  \\\n",
       "Unnamed: 0                                 468   \n",
       "material_id                           mp-14488   \n",
       "elements                ['Li', 'O', 'P', 'In']   \n",
       "formula_pretty_reduced            Li3In2(PO4)3   \n",
       "formula                       Li12 In8 P12 O48   \n",
       "...                                        ...   \n",
       "0.6                                   9.301846   \n",
       "1e-05                                      1.0   \n",
       "0.0001                                0.983607   \n",
       "0.001                                 0.727273   \n",
       "0.01                                  0.635514   \n",
       "\n",
       "                                                       587  \\\n",
       "Unnamed: 0                                             591   \n",
       "material_id                                       mp-17718   \n",
       "elements                ['Li', 'O', 'Na', 'Si', 'K', 'Cs']   \n",
       "formula_pretty_reduced                   CsKNa2Li12(SiO4)4   \n",
       "formula                            Cs2 K2 Na4 Li24 Si8 O32   \n",
       "...                                                    ...   \n",
       "0.6                                               6.930301   \n",
       "1e-05                                                  1.0   \n",
       "0.0001                                                 1.0   \n",
       "0.001                                              0.96748   \n",
       "0.01                                              0.915094   \n",
       "\n",
       "                                            108                827  \n",
       "Unnamed: 0                                  109                833  \n",
       "material_id                             mp-8673            mp-4495  \n",
       "elements                ['Li', 'O', 'Sn', 'Te']  ['Li', 'K', 'Te']  \n",
       "formula_pretty_reduced                Li2SnTeO6              KLiTe  \n",
       "formula                         Li4 Sn2 Te2 O12         K2 Li2 Te2  \n",
       "...                                         ...                ...  \n",
       "0.6                                    5.633019             2.8814  \n",
       "1e-05                                       1.0           0.981308  \n",
       "0.0001                                   0.9875            0.95283  \n",
       "0.001                                   0.96129           0.762376  \n",
       "0.01                                   0.678082           0.483871  \n",
       "\n",
       "[124 rows x 8 columns]"
      ]
     },
     "execution_count": 9,
     "metadata": {},
     "output_type": "execute_result"
    }
   ],
   "source": [
    "#Some known examples of species with low conductivities\n",
    "conductors = ['NaCl', 'Li6PO5Cl', 'Li4GeO4', 'Li2MgBr4', 'LiBiO2', 'LiZnPS4', 'Li2TeO4', 'Li2B4O7', 'LiAlSi3O8', 'Li7SbO6',\n",
    "              'Li2B3PO8', 'Li2NaBP2O8', 'Li4SiO4', 'LiPO3', 'Li2CrCl4']\n",
    "for mat in conductors:\n",
    "    idx = data.index[data['formula_pretty_reduced'] == mat]\n",
    "    print(idx)\n",
    "\n",
    "bad_ion = pd.DataFrame()\n",
    "bad_ion = pd.concat([bad_ion,data.iloc[353], bad_ion,data.iloc[542], bad_ion,data.iloc[547], bad_ion,data.iloc[401],\n",
    "                     bad_ion,data.iloc[464], bad_ion,data.iloc[587], bad_ion,data.iloc[108], bad_ion, data.iloc[827]],axis=1)\n",
    "print(data.loc[387, 'spacegroup_symbol'])\n",
    "bad_ion"
   ]
  },
  {
   "cell_type": "code",
   "execution_count": 10,
   "id": "887b98f6",
   "metadata": {},
   "outputs": [],
   "source": [
    "fast_ion = [766, 13, 458, 322, 325, 424, 58]\n",
    "slow_ion = [353, 542, 547, 401, 464, 587, 108, 827, 354]"
   ]
  },
  {
   "cell_type": "markdown",
   "id": "6b3ba402",
   "metadata": {},
   "source": [
    "### Using the database from \"Identification of potential solid-state Li-ion conductors with semi-supervised learning\""
   ]
  },
  {
   "cell_type": "code",
   "execution_count": 11,
   "id": "e9fb4daa",
   "metadata": {},
   "outputs": [],
   "source": [
    "data['σ(RT)(S cm-1)'] = None"
   ]
  },
  {
   "cell_type": "code",
   "execution_count": 12,
   "id": "d84fa9de",
   "metadata": {},
   "outputs": [
    {
     "name": "stderr",
     "output_type": "stream",
     "text": [
      "100%|██████████| 346/346 [00:00<00:00, 3683.74it/s]"
     ]
    },
    {
     "name": "stdout",
     "output_type": "stream",
     "text": [
      "53 out of 346 inputs are labeled\n"
     ]
    },
    {
     "name": "stderr",
     "output_type": "stream",
     "text": [
      "\n"
     ]
    }
   ],
   "source": [
    "all_labels = []\n",
    "match = []\n",
    "\n",
    "dbdf = pd.read_csv('digitized_data_for_SSEs.csv')\n",
    "dbdf = dbdf.dropna(axis=0, how='any', subset=['ICSD Entry'])\n",
    "for i, icsd in enumerate(tqdm(dbdf['ICSD Entry'])):\n",
    "    all_labels.append(icsd)\n",
    "    for j, icsd_entry in enumerate(data['icsd_id']):\n",
    "        k = 0\n",
    "        for entry in icsd_entry: \n",
    "            if icsd == entry:\n",
    "                k = k+1\n",
    "                match.append(icsd)\n",
    "                if dbdf.iloc[i, 1][0] == '<':\n",
    "                    data.at[j, 'σ(RT)(S cm-1)'] = float(1E-10)\n",
    "                else:\n",
    "                    data.at[j, 'σ(RT)(S cm-1)'] = float(dbdf.iloc[i, 1])\n",
    "        if k>1:\n",
    "            print('More than one value for conductivity: k='+str(k))\n",
    "\n",
    "print('{} out of {} inputs are labeled'.format(len(match), len(all_labels)))  "
   ]
  },
  {
   "cell_type": "code",
   "execution_count": 13,
   "id": "e1cbf982",
   "metadata": {},
   "outputs": [],
   "source": [
    "mat = ['Li10Ge(PS6)2', 'Li10Si(PS6)2', 'Li6PS5I', 'Li3SbS4', 'Li3ClO']\n",
    "sig = [1.20E-02, 2.30E-03, 1.30E-06, 1.50E-06, 8.50E-04]\n",
    "\n",
    "for i, m in enumerate(mat):\n",
    "    index = data.index[data['formula_pretty_reduced'] == m].tolist()\n",
    "    data.at[index[0], 'σ(RT)(S cm-1)'] = sig[i]"
   ]
  },
  {
   "cell_type": "code",
   "execution_count": 14,
   "id": "ee9cf48b",
   "metadata": {},
   "outputs": [],
   "source": [
    "data.to_csv('data_mac_labelled_using_icsd.csv')\n",
    "#data.to_csv('data_pc.csv')"
   ]
  },
  {
   "cell_type": "markdown",
   "id": "958795c0",
   "metadata": {},
   "source": [
    "### Conductivity labels exploration"
   ]
  },
  {
   "cell_type": "code",
   "execution_count": 15,
   "id": "61d523f0",
   "metadata": {
    "scrolled": false
   },
   "outputs": [
    {
     "data": {
      "text/html": [
       "<div>\n",
       "<style scoped>\n",
       "    .dataframe tbody tr th:only-of-type {\n",
       "        vertical-align: middle;\n",
       "    }\n",
       "\n",
       "    .dataframe tbody tr th {\n",
       "        vertical-align: top;\n",
       "    }\n",
       "\n",
       "    .dataframe thead th {\n",
       "        text-align: right;\n",
       "    }\n",
       "</style>\n",
       "<table border=\"1\" class=\"dataframe\">\n",
       "  <thead>\n",
       "    <tr style=\"text-align: right;\">\n",
       "      <th></th>\n",
       "      <th>Unnamed: 0</th>\n",
       "      <th>material_id</th>\n",
       "      <th>elements</th>\n",
       "      <th>formula_pretty_reduced</th>\n",
       "      <th>formula</th>\n",
       "      <th>icsd_id</th>\n",
       "      <th>num_elements</th>\n",
       "      <th>chemsys</th>\n",
       "      <th>spacegroup_symbol</th>\n",
       "      <th>spacegroup_number</th>\n",
       "      <th>...</th>\n",
       "      <th>0.2</th>\n",
       "      <th>0.3</th>\n",
       "      <th>0.4</th>\n",
       "      <th>0.5</th>\n",
       "      <th>0.6</th>\n",
       "      <th>1e-05</th>\n",
       "      <th>0.0001</th>\n",
       "      <th>0.001</th>\n",
       "      <th>0.01</th>\n",
       "      <th>σ(RT)(S cm-1)</th>\n",
       "    </tr>\n",
       "  </thead>\n",
       "  <tbody>\n",
       "    <tr>\n",
       "      <th>12</th>\n",
       "      <td>13</td>\n",
       "      <td>mp-985585</td>\n",
       "      <td>['Li', 'Cl', 'O']</td>\n",
       "      <td>Li3ClO</td>\n",
       "      <td>Li3 Cl1 O1</td>\n",
       "      <td>[nan]</td>\n",
       "      <td>3</td>\n",
       "      <td>Cl-Li-O</td>\n",
       "      <td>Pm-3m</td>\n",
       "      <td>221</td>\n",
       "      <td>...</td>\n",
       "      <td>3.418483</td>\n",
       "      <td>3.418483</td>\n",
       "      <td>4.947412</td>\n",
       "      <td>4.947412</td>\n",
       "      <td>4.947412</td>\n",
       "      <td>1.000000</td>\n",
       "      <td>1.000000</td>\n",
       "      <td>1.012121</td>\n",
       "      <td>1.021898</td>\n",
       "      <td>0.00085</td>\n",
       "    </tr>\n",
       "    <tr>\n",
       "      <th>39</th>\n",
       "      <td>40</td>\n",
       "      <td>mp-18640</td>\n",
       "      <td>['Li', 'O', 'P', 'Ti']</td>\n",
       "      <td>LiTi2(PO4)3</td>\n",
       "      <td>Li6 Ti12 P18 O72</td>\n",
       "      <td>[184088.0, 95979.0, 183669.0]</td>\n",
       "      <td>4</td>\n",
       "      <td>Li-O-P-Ti</td>\n",
       "      <td>R-3c</td>\n",
       "      <td>167</td>\n",
       "      <td>...</td>\n",
       "      <td>2.657019</td>\n",
       "      <td>2.657019</td>\n",
       "      <td>2.657019</td>\n",
       "      <td>2.657019</td>\n",
       "      <td>2.657019</td>\n",
       "      <td>0.984252</td>\n",
       "      <td>0.897638</td>\n",
       "      <td>0.661290</td>\n",
       "      <td>0.495238</td>\n",
       "      <td>0.000008</td>\n",
       "    </tr>\n",
       "    <tr>\n",
       "      <th>64</th>\n",
       "      <td>65</td>\n",
       "      <td>mp-22983</td>\n",
       "      <td>['Li', 'Al', 'Cl']</td>\n",
       "      <td>LiAlCl4</td>\n",
       "      <td>Li4 Al4 Cl16</td>\n",
       "      <td>[1040.0, 35277.0, 35276.0, 35275.0]</td>\n",
       "      <td>3</td>\n",
       "      <td>Al-Cl-Li</td>\n",
       "      <td>P2_1/c</td>\n",
       "      <td>14</td>\n",
       "      <td>...</td>\n",
       "      <td>4.537040</td>\n",
       "      <td>7.293993</td>\n",
       "      <td>7.293993</td>\n",
       "      <td>7.293993</td>\n",
       "      <td>7.293993</td>\n",
       "      <td>1.000000</td>\n",
       "      <td>0.990291</td>\n",
       "      <td>0.901961</td>\n",
       "      <td>0.604396</td>\n",
       "      <td>0.000001</td>\n",
       "    </tr>\n",
       "    <tr>\n",
       "      <th>76</th>\n",
       "      <td>77</td>\n",
       "      <td>mp-736</td>\n",
       "      <td>['Li', 'P']</td>\n",
       "      <td>Li3P</td>\n",
       "      <td>Li6 P2</td>\n",
       "      <td>[642223.0, 26880.0, 240861.0]</td>\n",
       "      <td>2</td>\n",
       "      <td>Li-P</td>\n",
       "      <td>P6_3/mmc</td>\n",
       "      <td>194</td>\n",
       "      <td>...</td>\n",
       "      <td>6.583336</td>\n",
       "      <td>10.191511</td>\n",
       "      <td>10.951127</td>\n",
       "      <td>14.464349</td>\n",
       "      <td>14.464349</td>\n",
       "      <td>0.993902</td>\n",
       "      <td>0.993789</td>\n",
       "      <td>0.993590</td>\n",
       "      <td>1.000000</td>\n",
       "      <td>0.000703</td>\n",
       "    </tr>\n",
       "    <tr>\n",
       "      <th>186</th>\n",
       "      <td>187</td>\n",
       "      <td>mp-29151</td>\n",
       "      <td>['Li', 'N', 'Cl']</td>\n",
       "      <td>Li5NCl2</td>\n",
       "      <td>Li15 N3 Cl6</td>\n",
       "      <td>[84763.0]</td>\n",
       "      <td>3</td>\n",
       "      <td>Cl-Li-N</td>\n",
       "      <td>R-3m</td>\n",
       "      <td>166</td>\n",
       "      <td>...</td>\n",
       "      <td>3.021047</td>\n",
       "      <td>5.610517</td>\n",
       "      <td>5.610517</td>\n",
       "      <td>6.257884</td>\n",
       "      <td>6.257884</td>\n",
       "      <td>1.000000</td>\n",
       "      <td>1.000000</td>\n",
       "      <td>1.000000</td>\n",
       "      <td>0.943662</td>\n",
       "      <td>0.000001</td>\n",
       "    </tr>\n",
       "    <tr>\n",
       "      <th>265</th>\n",
       "      <td>267</td>\n",
       "      <td>mp-696129</td>\n",
       "      <td>['Li', 'Si', 'P', 'S']</td>\n",
       "      <td>Li10Si(PS6)2</td>\n",
       "      <td>Li20 Si2 P4 S24</td>\n",
       "      <td>[nan]</td>\n",
       "      <td>4</td>\n",
       "      <td>Li-P-S-Si</td>\n",
       "      <td>P4_2mc</td>\n",
       "      <td>105</td>\n",
       "      <td>...</td>\n",
       "      <td>-2.550960</td>\n",
       "      <td>4.402649</td>\n",
       "      <td>5.012615</td>\n",
       "      <td>5.012615</td>\n",
       "      <td>5.012615</td>\n",
       "      <td>1.000000</td>\n",
       "      <td>1.000000</td>\n",
       "      <td>1.000000</td>\n",
       "      <td>1.000000</td>\n",
       "      <td>0.0023</td>\n",
       "    </tr>\n",
       "    <tr>\n",
       "      <th>267</th>\n",
       "      <td>269</td>\n",
       "      <td>mp-696128</td>\n",
       "      <td>['Li', 'Ge', 'P', 'S']</td>\n",
       "      <td>Li10Ge(PS6)2</td>\n",
       "      <td>Li20 Ge2 P4 S24</td>\n",
       "      <td>[nan]</td>\n",
       "      <td>4</td>\n",
       "      <td>Ge-Li-P-S</td>\n",
       "      <td>P4_2mc</td>\n",
       "      <td>105</td>\n",
       "      <td>...</td>\n",
       "      <td>-2.276746</td>\n",
       "      <td>3.993160</td>\n",
       "      <td>4.716610</td>\n",
       "      <td>4.716610</td>\n",
       "      <td>4.716610</td>\n",
       "      <td>1.000000</td>\n",
       "      <td>1.000000</td>\n",
       "      <td>1.000000</td>\n",
       "      <td>0.978571</td>\n",
       "      <td>0.012</td>\n",
       "    </tr>\n",
       "    <tr>\n",
       "      <th>321</th>\n",
       "      <td>325</td>\n",
       "      <td>mp-985582</td>\n",
       "      <td>['Li', 'P', 'S', 'I']</td>\n",
       "      <td>Li6PS5I</td>\n",
       "      <td>Li24 P4 S20 I4</td>\n",
       "      <td>[nan]</td>\n",
       "      <td>4</td>\n",
       "      <td>I-Li-P-S</td>\n",
       "      <td>F-43m</td>\n",
       "      <td>216</td>\n",
       "      <td>...</td>\n",
       "      <td>-4.857220</td>\n",
       "      <td>-4.857220</td>\n",
       "      <td>-4.857220</td>\n",
       "      <td>-4.857220</td>\n",
       "      <td>-4.857220</td>\n",
       "      <td>1.000000</td>\n",
       "      <td>1.000000</td>\n",
       "      <td>0.955752</td>\n",
       "      <td>0.709677</td>\n",
       "      <td>0.000001</td>\n",
       "    </tr>\n",
       "    <tr>\n",
       "      <th>454</th>\n",
       "      <td>458</td>\n",
       "      <td>mp-28593</td>\n",
       "      <td>['Li', 'O', 'Br']</td>\n",
       "      <td>Li3BrO</td>\n",
       "      <td>Li3 Br1 O1</td>\n",
       "      <td>[67265.0]</td>\n",
       "      <td>3</td>\n",
       "      <td>Br-Li-O</td>\n",
       "      <td>Pm-3m</td>\n",
       "      <td>221</td>\n",
       "      <td>...</td>\n",
       "      <td>5.891858</td>\n",
       "      <td>5.891858</td>\n",
       "      <td>5.891858</td>\n",
       "      <td>10.789909</td>\n",
       "      <td>10.789909</td>\n",
       "      <td>1.000000</td>\n",
       "      <td>0.986928</td>\n",
       "      <td>0.972973</td>\n",
       "      <td>0.880597</td>\n",
       "      <td>0.000001</td>\n",
       "    </tr>\n",
       "    <tr>\n",
       "      <th>554</th>\n",
       "      <td>558</td>\n",
       "      <td>mp-756316</td>\n",
       "      <td>['Li', 'Sb', 'S']</td>\n",
       "      <td>Li3SbS4</td>\n",
       "      <td>Li6 Sb2 S8</td>\n",
       "      <td>[nan]</td>\n",
       "      <td>3</td>\n",
       "      <td>Li-S-Sb</td>\n",
       "      <td>Pmn2_1</td>\n",
       "      <td>31</td>\n",
       "      <td>...</td>\n",
       "      <td>8.999829</td>\n",
       "      <td>8.999829</td>\n",
       "      <td>8.999829</td>\n",
       "      <td>9.154564</td>\n",
       "      <td>10.005611</td>\n",
       "      <td>1.000000</td>\n",
       "      <td>0.976923</td>\n",
       "      <td>0.944444</td>\n",
       "      <td>0.750000</td>\n",
       "      <td>0.000002</td>\n",
       "    </tr>\n",
       "    <tr>\n",
       "      <th>630</th>\n",
       "      <td>634</td>\n",
       "      <td>mp-28326</td>\n",
       "      <td>['Li', 'Ga', 'Br']</td>\n",
       "      <td>LiGaBr4</td>\n",
       "      <td>Li4 Ga4 Br16</td>\n",
       "      <td>[61337.0]</td>\n",
       "      <td>3</td>\n",
       "      <td>Br-Ga-Li</td>\n",
       "      <td>P2_1/c</td>\n",
       "      <td>14</td>\n",
       "      <td>...</td>\n",
       "      <td>4.482613</td>\n",
       "      <td>4.482613</td>\n",
       "      <td>4.592875</td>\n",
       "      <td>4.592875</td>\n",
       "      <td>4.592875</td>\n",
       "      <td>0.992000</td>\n",
       "      <td>0.991935</td>\n",
       "      <td>0.943089</td>\n",
       "      <td>0.684685</td>\n",
       "      <td>0.000007</td>\n",
       "    </tr>\n",
       "    <tr>\n",
       "      <th>762</th>\n",
       "      <td>766</td>\n",
       "      <td>mp-2251</td>\n",
       "      <td>['Li', 'N']</td>\n",
       "      <td>Li3N</td>\n",
       "      <td>Li3 N1</td>\n",
       "      <td>[156898.0, 156900.0, 34780.0, 166015.0, 34779....</td>\n",
       "      <td>2</td>\n",
       "      <td>Li-N</td>\n",
       "      <td>P6/mmm</td>\n",
       "      <td>191</td>\n",
       "      <td>...</td>\n",
       "      <td>4.194540</td>\n",
       "      <td>4.194540</td>\n",
       "      <td>4.194540</td>\n",
       "      <td>5.510343</td>\n",
       "      <td>9.165354</td>\n",
       "      <td>1.000000</td>\n",
       "      <td>1.006024</td>\n",
       "      <td>1.000000</td>\n",
       "      <td>1.007463</td>\n",
       "      <td>0.0003</td>\n",
       "    </tr>\n",
       "    <tr>\n",
       "      <th>832</th>\n",
       "      <td>838</td>\n",
       "      <td>mp-554395</td>\n",
       "      <td>['Na', 'Li', 'Ti', 'S']</td>\n",
       "      <td>Na5Li3(TiS4)2</td>\n",
       "      <td>Na20 Li12 Ti8 S32</td>\n",
       "      <td>[391258.0]</td>\n",
       "      <td>4</td>\n",
       "      <td>Li-Na-S-Ti</td>\n",
       "      <td>C2/c</td>\n",
       "      <td>15</td>\n",
       "      <td>...</td>\n",
       "      <td>8.903438</td>\n",
       "      <td>8.903438</td>\n",
       "      <td>8.903438</td>\n",
       "      <td>8.903438</td>\n",
       "      <td>8.903438</td>\n",
       "      <td>0.992248</td>\n",
       "      <td>0.976562</td>\n",
       "      <td>0.952000</td>\n",
       "      <td>0.853448</td>\n",
       "      <td>0.000009</td>\n",
       "    </tr>\n",
       "  </tbody>\n",
       "</table>\n",
       "<p>13 rows × 125 columns</p>\n",
       "</div>"
      ],
      "text/plain": [
       "     Unnamed: 0 material_id                 elements formula_pretty_reduced  \\\n",
       "12           13   mp-985585        ['Li', 'Cl', 'O']                 Li3ClO   \n",
       "39           40    mp-18640   ['Li', 'O', 'P', 'Ti']            LiTi2(PO4)3   \n",
       "64           65    mp-22983       ['Li', 'Al', 'Cl']                LiAlCl4   \n",
       "76           77      mp-736              ['Li', 'P']                   Li3P   \n",
       "186         187    mp-29151        ['Li', 'N', 'Cl']                Li5NCl2   \n",
       "265         267   mp-696129   ['Li', 'Si', 'P', 'S']           Li10Si(PS6)2   \n",
       "267         269   mp-696128   ['Li', 'Ge', 'P', 'S']           Li10Ge(PS6)2   \n",
       "321         325   mp-985582    ['Li', 'P', 'S', 'I']                Li6PS5I   \n",
       "454         458    mp-28593        ['Li', 'O', 'Br']                 Li3BrO   \n",
       "554         558   mp-756316        ['Li', 'Sb', 'S']                Li3SbS4   \n",
       "630         634    mp-28326       ['Li', 'Ga', 'Br']                LiGaBr4   \n",
       "762         766     mp-2251              ['Li', 'N']                   Li3N   \n",
       "832         838   mp-554395  ['Na', 'Li', 'Ti', 'S']          Na5Li3(TiS4)2   \n",
       "\n",
       "               formula                                            icsd_id  \\\n",
       "12          Li3 Cl1 O1                                              [nan]   \n",
       "39    Li6 Ti12 P18 O72                      [184088.0, 95979.0, 183669.0]   \n",
       "64        Li4 Al4 Cl16                [1040.0, 35277.0, 35276.0, 35275.0]   \n",
       "76              Li6 P2                      [642223.0, 26880.0, 240861.0]   \n",
       "186        Li15 N3 Cl6                                          [84763.0]   \n",
       "265    Li20 Si2 P4 S24                                              [nan]   \n",
       "267    Li20 Ge2 P4 S24                                              [nan]   \n",
       "321     Li24 P4 S20 I4                                              [nan]   \n",
       "454         Li3 Br1 O1                                          [67265.0]   \n",
       "554         Li6 Sb2 S8                                              [nan]   \n",
       "630       Li4 Ga4 Br16                                          [61337.0]   \n",
       "762             Li3 N1  [156898.0, 156900.0, 34780.0, 166015.0, 34779....   \n",
       "832  Na20 Li12 Ti8 S32                                         [391258.0]   \n",
       "\n",
       "     num_elements     chemsys spacegroup_symbol  spacegroup_number  ...  \\\n",
       "12              3     Cl-Li-O             Pm-3m                221  ...   \n",
       "39              4   Li-O-P-Ti              R-3c                167  ...   \n",
       "64              3    Al-Cl-Li            P2_1/c                 14  ...   \n",
       "76              2        Li-P          P6_3/mmc                194  ...   \n",
       "186             3     Cl-Li-N              R-3m                166  ...   \n",
       "265             4   Li-P-S-Si            P4_2mc                105  ...   \n",
       "267             4   Ge-Li-P-S            P4_2mc                105  ...   \n",
       "321             4    I-Li-P-S             F-43m                216  ...   \n",
       "454             3     Br-Li-O             Pm-3m                221  ...   \n",
       "554             3     Li-S-Sb            Pmn2_1                 31  ...   \n",
       "630             3    Br-Ga-Li            P2_1/c                 14  ...   \n",
       "762             2        Li-N            P6/mmm                191  ...   \n",
       "832             4  Li-Na-S-Ti              C2/c                 15  ...   \n",
       "\n",
       "          0.2        0.3        0.4        0.5        0.6     1e-05    0.0001  \\\n",
       "12   3.418483   3.418483   4.947412   4.947412   4.947412  1.000000  1.000000   \n",
       "39   2.657019   2.657019   2.657019   2.657019   2.657019  0.984252  0.897638   \n",
       "64   4.537040   7.293993   7.293993   7.293993   7.293993  1.000000  0.990291   \n",
       "76   6.583336  10.191511  10.951127  14.464349  14.464349  0.993902  0.993789   \n",
       "186  3.021047   5.610517   5.610517   6.257884   6.257884  1.000000  1.000000   \n",
       "265 -2.550960   4.402649   5.012615   5.012615   5.012615  1.000000  1.000000   \n",
       "267 -2.276746   3.993160   4.716610   4.716610   4.716610  1.000000  1.000000   \n",
       "321 -4.857220  -4.857220  -4.857220  -4.857220  -4.857220  1.000000  1.000000   \n",
       "454  5.891858   5.891858   5.891858  10.789909  10.789909  1.000000  0.986928   \n",
       "554  8.999829   8.999829   8.999829   9.154564  10.005611  1.000000  0.976923   \n",
       "630  4.482613   4.482613   4.592875   4.592875   4.592875  0.992000  0.991935   \n",
       "762  4.194540   4.194540   4.194540   5.510343   9.165354  1.000000  1.006024   \n",
       "832  8.903438   8.903438   8.903438   8.903438   8.903438  0.992248  0.976562   \n",
       "\n",
       "        0.001      0.01  σ(RT)(S cm-1)  \n",
       "12   1.012121  1.021898        0.00085  \n",
       "39   0.661290  0.495238       0.000008  \n",
       "64   0.901961  0.604396       0.000001  \n",
       "76   0.993590  1.000000       0.000703  \n",
       "186  1.000000  0.943662       0.000001  \n",
       "265  1.000000  1.000000         0.0023  \n",
       "267  1.000000  0.978571          0.012  \n",
       "321  0.955752  0.709677       0.000001  \n",
       "454  0.972973  0.880597       0.000001  \n",
       "554  0.944444  0.750000       0.000002  \n",
       "630  0.943089  0.684685       0.000007  \n",
       "762  1.000000  1.007463         0.0003  \n",
       "832  0.952000  0.853448       0.000009  \n",
       "\n",
       "[13 rows x 125 columns]"
      ]
     },
     "execution_count": 15,
     "metadata": {},
     "output_type": "execute_result"
    }
   ],
   "source": [
    "data_fast = data[data['σ(RT)(S cm-1)']>=1E-6]\n",
    "\n",
    "data_fast"
   ]
  },
  {
   "cell_type": "code",
   "execution_count": 16,
   "id": "53bed8f0",
   "metadata": {},
   "outputs": [
    {
     "name": "stdout",
     "output_type": "stream",
     "text": [
      "Number of fast-ion conductors: 13\n"
     ]
    }
   ],
   "source": [
    "print('Number of fast-ion conductors: '+str(len(data_fast)))"
   ]
  },
  {
   "cell_type": "code",
   "execution_count": 17,
   "id": "68dc9e9e",
   "metadata": {
    "scrolled": false
   },
   "outputs": [
    {
     "data": {
      "text/html": [
       "<div>\n",
       "<style scoped>\n",
       "    .dataframe tbody tr th:only-of-type {\n",
       "        vertical-align: middle;\n",
       "    }\n",
       "\n",
       "    .dataframe tbody tr th {\n",
       "        vertical-align: top;\n",
       "    }\n",
       "\n",
       "    .dataframe thead th {\n",
       "        text-align: right;\n",
       "    }\n",
       "</style>\n",
       "<table border=\"1\" class=\"dataframe\">\n",
       "  <thead>\n",
       "    <tr style=\"text-align: right;\">\n",
       "      <th></th>\n",
       "      <th>Unnamed: 0</th>\n",
       "      <th>material_id</th>\n",
       "      <th>elements</th>\n",
       "      <th>formula_pretty_reduced</th>\n",
       "      <th>formula</th>\n",
       "      <th>icsd_id</th>\n",
       "      <th>num_elements</th>\n",
       "      <th>chemsys</th>\n",
       "      <th>spacegroup_symbol</th>\n",
       "      <th>spacegroup_number</th>\n",
       "      <th>...</th>\n",
       "      <th>0.2</th>\n",
       "      <th>0.3</th>\n",
       "      <th>0.4</th>\n",
       "      <th>0.5</th>\n",
       "      <th>0.6</th>\n",
       "      <th>1e-05</th>\n",
       "      <th>0.0001</th>\n",
       "      <th>0.001</th>\n",
       "      <th>0.01</th>\n",
       "      <th>σ(RT)(S cm-1)</th>\n",
       "    </tr>\n",
       "  </thead>\n",
       "  <tbody>\n",
       "    <tr>\n",
       "      <th>52</th>\n",
       "      <td>53</td>\n",
       "      <td>mp-18147</td>\n",
       "      <td>['Li', 'O', 'Si', 'Ga']</td>\n",
       "      <td>LiGaSiO4</td>\n",
       "      <td>Li18 Ga18 Si18 O72</td>\n",
       "      <td>[65125.0]</td>\n",
       "      <td>4</td>\n",
       "      <td>Ga-Li-O-Si</td>\n",
       "      <td>R3</td>\n",
       "      <td>146</td>\n",
       "      <td>...</td>\n",
       "      <td>9.856570</td>\n",
       "      <td>10.411002</td>\n",
       "      <td>10.411002</td>\n",
       "      <td>12.813541</td>\n",
       "      <td>13.367973</td>\n",
       "      <td>1.000000</td>\n",
       "      <td>0.958678</td>\n",
       "      <td>0.822034</td>\n",
       "      <td>0.633028</td>\n",
       "      <td>0.0</td>\n",
       "    </tr>\n",
       "    <tr>\n",
       "      <th>62</th>\n",
       "      <td>63</td>\n",
       "      <td>mp-27275</td>\n",
       "      <td>['Li', 'B', 'O']</td>\n",
       "      <td>Li3BO3</td>\n",
       "      <td>Li12 B4 O12</td>\n",
       "      <td>[9105.0]</td>\n",
       "      <td>3</td>\n",
       "      <td>B-Li-O</td>\n",
       "      <td>P2_1/c</td>\n",
       "      <td>14</td>\n",
       "      <td>...</td>\n",
       "      <td>8.601866</td>\n",
       "      <td>8.601866</td>\n",
       "      <td>10.340474</td>\n",
       "      <td>12.575828</td>\n",
       "      <td>12.575828</td>\n",
       "      <td>0.990991</td>\n",
       "      <td>0.963636</td>\n",
       "      <td>0.861111</td>\n",
       "      <td>0.711340</td>\n",
       "      <td>0.0</td>\n",
       "    </tr>\n",
       "    <tr>\n",
       "      <th>100</th>\n",
       "      <td>101</td>\n",
       "      <td>mp-4156</td>\n",
       "      <td>['Li', 'O', 'Zr']</td>\n",
       "      <td>Li2ZrO3</td>\n",
       "      <td>Li8 Zr4 O12</td>\n",
       "      <td>[94897.0, 94896.0, 94894.0, 291154.0, 94893.0,...</td>\n",
       "      <td>3</td>\n",
       "      <td>Li-O-Zr</td>\n",
       "      <td>C2/c</td>\n",
       "      <td>15</td>\n",
       "      <td>...</td>\n",
       "      <td>3.718460</td>\n",
       "      <td>3.718460</td>\n",
       "      <td>6.503348</td>\n",
       "      <td>6.503348</td>\n",
       "      <td>6.503348</td>\n",
       "      <td>1.000000</td>\n",
       "      <td>1.000000</td>\n",
       "      <td>0.981928</td>\n",
       "      <td>0.776119</td>\n",
       "      <td>0.0</td>\n",
       "    </tr>\n",
       "    <tr>\n",
       "      <th>117</th>\n",
       "      <td>118</td>\n",
       "      <td>mp-558105</td>\n",
       "      <td>['Li', 'B', 'O', 'F']</td>\n",
       "      <td>LiB6O9F</td>\n",
       "      <td>Li4 B24 O36 F4</td>\n",
       "      <td>[420286.0]</td>\n",
       "      <td>4</td>\n",
       "      <td>B-F-Li-O</td>\n",
       "      <td>Pna2_1</td>\n",
       "      <td>33</td>\n",
       "      <td>...</td>\n",
       "      <td>8.623060</td>\n",
       "      <td>9.196701</td>\n",
       "      <td>9.196701</td>\n",
       "      <td>9.196701</td>\n",
       "      <td>10.917621</td>\n",
       "      <td>0.992248</td>\n",
       "      <td>0.921875</td>\n",
       "      <td>0.566929</td>\n",
       "      <td>0.236842</td>\n",
       "      <td>0.0</td>\n",
       "    </tr>\n",
       "    <tr>\n",
       "      <th>129</th>\n",
       "      <td>130</td>\n",
       "      <td>mp-23497</td>\n",
       "      <td>['Li', 'Zn', 'I']</td>\n",
       "      <td>Li2ZnI4</td>\n",
       "      <td>Li8 Zn4 I16</td>\n",
       "      <td>[69034.0, 402062.0]</td>\n",
       "      <td>3</td>\n",
       "      <td>I-Li-Zn</td>\n",
       "      <td>Pnma</td>\n",
       "      <td>62</td>\n",
       "      <td>...</td>\n",
       "      <td>4.389673</td>\n",
       "      <td>4.389673</td>\n",
       "      <td>4.389673</td>\n",
       "      <td>4.389673</td>\n",
       "      <td>4.389673</td>\n",
       "      <td>0.985612</td>\n",
       "      <td>0.971014</td>\n",
       "      <td>0.924812</td>\n",
       "      <td>0.719008</td>\n",
       "      <td>0.0</td>\n",
       "    </tr>\n",
       "    <tr>\n",
       "      <th>150</th>\n",
       "      <td>151</td>\n",
       "      <td>mp-3635</td>\n",
       "      <td>['Li', 'B', 'O']</td>\n",
       "      <td>LiBO2</td>\n",
       "      <td>Li4 B4 O8</td>\n",
       "      <td>[37060.0, 200891.0, 16568.0]</td>\n",
       "      <td>3</td>\n",
       "      <td>B-Li-O</td>\n",
       "      <td>P2_1/c</td>\n",
       "      <td>14</td>\n",
       "      <td>...</td>\n",
       "      <td>10.344364</td>\n",
       "      <td>10.344364</td>\n",
       "      <td>10.344364</td>\n",
       "      <td>12.039833</td>\n",
       "      <td>12.039833</td>\n",
       "      <td>0.993243</td>\n",
       "      <td>0.952381</td>\n",
       "      <td>0.561644</td>\n",
       "      <td>0.422222</td>\n",
       "      <td>0.0</td>\n",
       "    </tr>\n",
       "    <tr>\n",
       "      <th>184</th>\n",
       "      <td>185</td>\n",
       "      <td>mp-5840</td>\n",
       "      <td>['Li', 'O', 'Sc']</td>\n",
       "      <td>LiScO2</td>\n",
       "      <td>Li4 Sc4 O8</td>\n",
       "      <td>[31316.0, 36124.0]</td>\n",
       "      <td>3</td>\n",
       "      <td>Li-O-Sc</td>\n",
       "      <td>I4_1/amd</td>\n",
       "      <td>141</td>\n",
       "      <td>...</td>\n",
       "      <td>3.746910</td>\n",
       "      <td>3.746910</td>\n",
       "      <td>11.284811</td>\n",
       "      <td>11.284811</td>\n",
       "      <td>11.284811</td>\n",
       "      <td>0.993976</td>\n",
       "      <td>0.975460</td>\n",
       "      <td>0.955128</td>\n",
       "      <td>0.778626</td>\n",
       "      <td>0.0</td>\n",
       "    </tr>\n",
       "    <tr>\n",
       "      <th>229</th>\n",
       "      <td>231</td>\n",
       "      <td>mp-8926</td>\n",
       "      <td>['Li', 'B', 'N']</td>\n",
       "      <td>Li3BN2</td>\n",
       "      <td>Li6 B2 N4</td>\n",
       "      <td>[155128.0, 71085.0, 655673.0]</td>\n",
       "      <td>3</td>\n",
       "      <td>B-Li-N</td>\n",
       "      <td>P4_2/mnm</td>\n",
       "      <td>136</td>\n",
       "      <td>...</td>\n",
       "      <td>3.690109</td>\n",
       "      <td>3.690109</td>\n",
       "      <td>3.690109</td>\n",
       "      <td>3.690109</td>\n",
       "      <td>12.190777</td>\n",
       "      <td>1.000000</td>\n",
       "      <td>1.000000</td>\n",
       "      <td>0.945205</td>\n",
       "      <td>0.916667</td>\n",
       "      <td>0.0</td>\n",
       "    </tr>\n",
       "    <tr>\n",
       "      <th>255</th>\n",
       "      <td>257</td>\n",
       "      <td>mp-7535</td>\n",
       "      <td>['Li', 'O', 'Al']</td>\n",
       "      <td>Li5AlO4</td>\n",
       "      <td>Li10 Al2 O8</td>\n",
       "      <td>[16229.0, 1037.0]</td>\n",
       "      <td>3</td>\n",
       "      <td>Al-Li-O</td>\n",
       "      <td>Pmmn</td>\n",
       "      <td>59</td>\n",
       "      <td>...</td>\n",
       "      <td>5.807534</td>\n",
       "      <td>6.398257</td>\n",
       "      <td>7.875064</td>\n",
       "      <td>7.875064</td>\n",
       "      <td>8.465787</td>\n",
       "      <td>1.000000</td>\n",
       "      <td>0.987342</td>\n",
       "      <td>0.973856</td>\n",
       "      <td>0.841727</td>\n",
       "      <td>0.0</td>\n",
       "    </tr>\n",
       "    <tr>\n",
       "      <th>275</th>\n",
       "      <td>277</td>\n",
       "      <td>mp-4657</td>\n",
       "      <td>['Li', 'O', 'Ga']</td>\n",
       "      <td>Li5GaO4</td>\n",
       "      <td>Li40 Ga8 O32</td>\n",
       "      <td>[16926.0, 9082.0]</td>\n",
       "      <td>3</td>\n",
       "      <td>Ga-Li-O</td>\n",
       "      <td>Pbca</td>\n",
       "      <td>61</td>\n",
       "      <td>...</td>\n",
       "      <td>6.000244</td>\n",
       "      <td>6.794394</td>\n",
       "      <td>8.117977</td>\n",
       "      <td>9.441560</td>\n",
       "      <td>9.441560</td>\n",
       "      <td>0.993789</td>\n",
       "      <td>0.987421</td>\n",
       "      <td>0.974026</td>\n",
       "      <td>0.877698</td>\n",
       "      <td>0.0</td>\n",
       "    </tr>\n",
       "    <tr>\n",
       "      <th>301</th>\n",
       "      <td>304</td>\n",
       "      <td>mp-10520</td>\n",
       "      <td>['Li', 'O', 'Ti', 'Nd']</td>\n",
       "      <td>LiNdTiO4</td>\n",
       "      <td>Li2 Nd2 Ti2 O8</td>\n",
       "      <td>[91844.0]</td>\n",
       "      <td>4</td>\n",
       "      <td>Li-Nd-O-Ti</td>\n",
       "      <td>P4/nmm</td>\n",
       "      <td>129</td>\n",
       "      <td>...</td>\n",
       "      <td>7.521030</td>\n",
       "      <td>8.353356</td>\n",
       "      <td>8.353356</td>\n",
       "      <td>9.352148</td>\n",
       "      <td>9.352148</td>\n",
       "      <td>1.000000</td>\n",
       "      <td>0.976048</td>\n",
       "      <td>0.746988</td>\n",
       "      <td>0.604478</td>\n",
       "      <td>0.0</td>\n",
       "    </tr>\n",
       "    <tr>\n",
       "      <th>305</th>\n",
       "      <td>309</td>\n",
       "      <td>mp-760502</td>\n",
       "      <td>['Li', 'H', 'Cl', 'O']</td>\n",
       "      <td>LiH2ClO</td>\n",
       "      <td>Li8 H16 Cl8 O8</td>\n",
       "      <td>[281198.0, 391153.0]</td>\n",
       "      <td>4</td>\n",
       "      <td>Cl-H-Li-O</td>\n",
       "      <td>Cmcm</td>\n",
       "      <td>63</td>\n",
       "      <td>...</td>\n",
       "      <td>5.102674</td>\n",
       "      <td>5.102674</td>\n",
       "      <td>5.102674</td>\n",
       "      <td>5.102674</td>\n",
       "      <td>5.102674</td>\n",
       "      <td>0.979167</td>\n",
       "      <td>0.833333</td>\n",
       "      <td>0.791667</td>\n",
       "      <td>0.604651</td>\n",
       "      <td>0.0</td>\n",
       "    </tr>\n",
       "    <tr>\n",
       "      <th>317</th>\n",
       "      <td>321</td>\n",
       "      <td>mp-22955</td>\n",
       "      <td>['O', 'Li', 'I']</td>\n",
       "      <td>LiIO3</td>\n",
       "      <td>Li2 I2 O6</td>\n",
       "      <td>[35475.0, 35476.0, 80026.0, 35473.0, 35472.0, ...</td>\n",
       "      <td>3</td>\n",
       "      <td>I-Li-O</td>\n",
       "      <td>P6_3</td>\n",
       "      <td>173</td>\n",
       "      <td>...</td>\n",
       "      <td>2.645006</td>\n",
       "      <td>4.945345</td>\n",
       "      <td>4.945345</td>\n",
       "      <td>4.945345</td>\n",
       "      <td>4.945345</td>\n",
       "      <td>0.992424</td>\n",
       "      <td>0.992366</td>\n",
       "      <td>0.968504</td>\n",
       "      <td>0.847458</td>\n",
       "      <td>0.0</td>\n",
       "    </tr>\n",
       "    <tr>\n",
       "      <th>333</th>\n",
       "      <td>337</td>\n",
       "      <td>mp-684024</td>\n",
       "      <td>['Li', 'Si', 'N']</td>\n",
       "      <td>Li2SiN2</td>\n",
       "      <td>Li64 Si32 N64</td>\n",
       "      <td>[420126.0]</td>\n",
       "      <td>3</td>\n",
       "      <td>Li-N-Si</td>\n",
       "      <td>Pbca</td>\n",
       "      <td>61</td>\n",
       "      <td>...</td>\n",
       "      <td>5.325761</td>\n",
       "      <td>5.325761</td>\n",
       "      <td>6.961642</td>\n",
       "      <td>7.325172</td>\n",
       "      <td>7.688701</td>\n",
       "      <td>1.000000</td>\n",
       "      <td>0.987730</td>\n",
       "      <td>0.924051</td>\n",
       "      <td>0.675862</td>\n",
       "      <td>0.0</td>\n",
       "    </tr>\n",
       "    <tr>\n",
       "      <th>349</th>\n",
       "      <td>353</td>\n",
       "      <td>mp-4558</td>\n",
       "      <td>['Li', 'O', 'Ge']</td>\n",
       "      <td>Li4GeO4</td>\n",
       "      <td>Li16 Ge4 O16</td>\n",
       "      <td>[18096.0, 65177.0, 16935.0]</td>\n",
       "      <td>3</td>\n",
       "      <td>Ge-Li-O</td>\n",
       "      <td>Cmcm</td>\n",
       "      <td>63</td>\n",
       "      <td>...</td>\n",
       "      <td>8.631624</td>\n",
       "      <td>8.631624</td>\n",
       "      <td>8.631624</td>\n",
       "      <td>8.631624</td>\n",
       "      <td>12.208755</td>\n",
       "      <td>1.000000</td>\n",
       "      <td>0.980769</td>\n",
       "      <td>0.980132</td>\n",
       "      <td>0.792857</td>\n",
       "      <td>0.0</td>\n",
       "    </tr>\n",
       "    <tr>\n",
       "      <th>350</th>\n",
       "      <td>354</td>\n",
       "      <td>mp-29582</td>\n",
       "      <td>['Li', 'Cl', 'Cr']</td>\n",
       "      <td>Li2CrCl4</td>\n",
       "      <td>Li8 Cr4 Cl16</td>\n",
       "      <td>[202627.0]</td>\n",
       "      <td>3</td>\n",
       "      <td>Cl-Cr-Li</td>\n",
       "      <td>C2/c</td>\n",
       "      <td>15</td>\n",
       "      <td>...</td>\n",
       "      <td>5.657621</td>\n",
       "      <td>8.518927</td>\n",
       "      <td>8.518927</td>\n",
       "      <td>8.518927</td>\n",
       "      <td>8.518927</td>\n",
       "      <td>1.000000</td>\n",
       "      <td>1.000000</td>\n",
       "      <td>0.686747</td>\n",
       "      <td>0.814159</td>\n",
       "      <td>0.0</td>\n",
       "    </tr>\n",
       "    <tr>\n",
       "      <th>372</th>\n",
       "      <td>376</td>\n",
       "      <td>mp-30249</td>\n",
       "      <td>['Li', 'Ge', 'S']</td>\n",
       "      <td>Li4GeS4</td>\n",
       "      <td>Li16 Ge4 S16</td>\n",
       "      <td>[290831.0, 95649.0]</td>\n",
       "      <td>3</td>\n",
       "      <td>Ge-Li-S</td>\n",
       "      <td>Pnma</td>\n",
       "      <td>62</td>\n",
       "      <td>...</td>\n",
       "      <td>4.159165</td>\n",
       "      <td>7.515766</td>\n",
       "      <td>8.548566</td>\n",
       "      <td>8.548566</td>\n",
       "      <td>8.548566</td>\n",
       "      <td>1.000000</td>\n",
       "      <td>0.993711</td>\n",
       "      <td>1.000000</td>\n",
       "      <td>0.972789</td>\n",
       "      <td>0.0</td>\n",
       "    </tr>\n",
       "    <tr>\n",
       "      <th>396</th>\n",
       "      <td>400</td>\n",
       "      <td>mp-6521</td>\n",
       "      <td>['Li', 'O', 'Ti', 'La']</td>\n",
       "      <td>LiLaTiO4</td>\n",
       "      <td>Li2 La2 Ti2 O8</td>\n",
       "      <td>[81857.0, 91843.0]</td>\n",
       "      <td>4</td>\n",
       "      <td>La-Li-O-Ti</td>\n",
       "      <td>P4/nmm</td>\n",
       "      <td>129</td>\n",
       "      <td>...</td>\n",
       "      <td>8.013717</td>\n",
       "      <td>8.013717</td>\n",
       "      <td>9.104611</td>\n",
       "      <td>9.104611</td>\n",
       "      <td>9.883822</td>\n",
       "      <td>0.994012</td>\n",
       "      <td>0.976048</td>\n",
       "      <td>0.795181</td>\n",
       "      <td>0.669231</td>\n",
       "      <td>0.0</td>\n",
       "    </tr>\n",
       "    <tr>\n",
       "      <th>397</th>\n",
       "      <td>401</td>\n",
       "      <td>mp-11175</td>\n",
       "      <td>['Li', 'P', 'S', 'Zn']</td>\n",
       "      <td>LiZnPS4</td>\n",
       "      <td>Li2 Zn2 P2 S8</td>\n",
       "      <td>[95785.0]</td>\n",
       "      <td>4</td>\n",
       "      <td>Li-P-S-Zn</td>\n",
       "      <td>I-4</td>\n",
       "      <td>82</td>\n",
       "      <td>...</td>\n",
       "      <td>8.550774</td>\n",
       "      <td>8.550774</td>\n",
       "      <td>8.550774</td>\n",
       "      <td>11.666576</td>\n",
       "      <td>11.666576</td>\n",
       "      <td>1.000000</td>\n",
       "      <td>0.948718</td>\n",
       "      <td>0.823009</td>\n",
       "      <td>0.524752</td>\n",
       "      <td>0.0</td>\n",
       "    </tr>\n",
       "    <tr>\n",
       "      <th>460</th>\n",
       "      <td>464</td>\n",
       "      <td>mp-13843</td>\n",
       "      <td>['Li', 'O', 'Te']</td>\n",
       "      <td>Li2TeO4</td>\n",
       "      <td>Li8 Te4 O16</td>\n",
       "      <td>[1485.0]</td>\n",
       "      <td>3</td>\n",
       "      <td>Li-O-Te</td>\n",
       "      <td>P4_122</td>\n",
       "      <td>91</td>\n",
       "      <td>...</td>\n",
       "      <td>6.328523</td>\n",
       "      <td>6.328523</td>\n",
       "      <td>6.899541</td>\n",
       "      <td>7.185050</td>\n",
       "      <td>7.185050</td>\n",
       "      <td>1.000000</td>\n",
       "      <td>0.986207</td>\n",
       "      <td>0.971831</td>\n",
       "      <td>0.755556</td>\n",
       "      <td>0.0</td>\n",
       "    </tr>\n",
       "    <tr>\n",
       "      <th>479</th>\n",
       "      <td>483</td>\n",
       "      <td>mp-541661</td>\n",
       "      <td>['Zr', 'P', 'O', 'Li']</td>\n",
       "      <td>LiZr2(PO4)3</td>\n",
       "      <td>Li6 Zr12 P18 O72</td>\n",
       "      <td>[201935.0]</td>\n",
       "      <td>4</td>\n",
       "      <td>Li-O-P-Zr</td>\n",
       "      <td>R-3c</td>\n",
       "      <td>167</td>\n",
       "      <td>...</td>\n",
       "      <td>1.843899</td>\n",
       "      <td>1.843899</td>\n",
       "      <td>1.843899</td>\n",
       "      <td>1.843899</td>\n",
       "      <td>1.843899</td>\n",
       "      <td>1.000000</td>\n",
       "      <td>0.944444</td>\n",
       "      <td>0.820755</td>\n",
       "      <td>0.739130</td>\n",
       "      <td>0.0</td>\n",
       "    </tr>\n",
       "    <tr>\n",
       "      <th>489</th>\n",
       "      <td>493</td>\n",
       "      <td>mp-15254</td>\n",
       "      <td>['Li', 'F', 'Al']</td>\n",
       "      <td>Li3AlF6</td>\n",
       "      <td>Li36 Al12 F72</td>\n",
       "      <td>[252226.0, 85171.0]</td>\n",
       "      <td>3</td>\n",
       "      <td>Al-F-Li</td>\n",
       "      <td>C2/c</td>\n",
       "      <td>15</td>\n",
       "      <td>...</td>\n",
       "      <td>5.726735</td>\n",
       "      <td>6.669995</td>\n",
       "      <td>6.939498</td>\n",
       "      <td>6.939498</td>\n",
       "      <td>8.017509</td>\n",
       "      <td>1.000000</td>\n",
       "      <td>0.993976</td>\n",
       "      <td>0.962733</td>\n",
       "      <td>0.902778</td>\n",
       "      <td>0.0</td>\n",
       "    </tr>\n",
       "    <tr>\n",
       "      <th>493</th>\n",
       "      <td>497</td>\n",
       "      <td>mp-3524</td>\n",
       "      <td>['Li', 'N', 'P']</td>\n",
       "      <td>LiPN2</td>\n",
       "      <td>Li4 P4 N8</td>\n",
       "      <td>[32713.0, 34582.0, 66007.0]</td>\n",
       "      <td>3</td>\n",
       "      <td>Li-N-P</td>\n",
       "      <td>I-42d</td>\n",
       "      <td>122</td>\n",
       "      <td>...</td>\n",
       "      <td>9.076131</td>\n",
       "      <td>9.076131</td>\n",
       "      <td>9.076131</td>\n",
       "      <td>9.076131</td>\n",
       "      <td>9.076131</td>\n",
       "      <td>0.980392</td>\n",
       "      <td>0.927152</td>\n",
       "      <td>0.684932</td>\n",
       "      <td>0.507692</td>\n",
       "      <td>0.0</td>\n",
       "    </tr>\n",
       "    <tr>\n",
       "      <th>514</th>\n",
       "      <td>518</td>\n",
       "      <td>mp-14495</td>\n",
       "      <td>['Li', 'O', 'Zn']</td>\n",
       "      <td>Li6ZnO4</td>\n",
       "      <td>Li12 Zn2 O8</td>\n",
       "      <td>[62137.0]</td>\n",
       "      <td>3</td>\n",
       "      <td>Li-O-Zn</td>\n",
       "      <td>P4_2/nmc</td>\n",
       "      <td>137</td>\n",
       "      <td>...</td>\n",
       "      <td>6.135251</td>\n",
       "      <td>7.062171</td>\n",
       "      <td>7.062171</td>\n",
       "      <td>10.240182</td>\n",
       "      <td>10.240182</td>\n",
       "      <td>1.000000</td>\n",
       "      <td>0.993902</td>\n",
       "      <td>0.993711</td>\n",
       "      <td>0.917808</td>\n",
       "      <td>0.0</td>\n",
       "    </tr>\n",
       "    <tr>\n",
       "      <th>516</th>\n",
       "      <td>520</td>\n",
       "      <td>mp-8184</td>\n",
       "      <td>['Li', 'O', 'Zn', 'Ge']</td>\n",
       "      <td>Li2ZnGeO4</td>\n",
       "      <td>Li4 Zn2 Ge2 O8</td>\n",
       "      <td>[34362.0]</td>\n",
       "      <td>4</td>\n",
       "      <td>Ge-Li-O-Zn</td>\n",
       "      <td>Pc</td>\n",
       "      <td>7</td>\n",
       "      <td>...</td>\n",
       "      <td>12.425296</td>\n",
       "      <td>12.425296</td>\n",
       "      <td>12.425296</td>\n",
       "      <td>12.425296</td>\n",
       "      <td>12.425296</td>\n",
       "      <td>1.000000</td>\n",
       "      <td>0.985294</td>\n",
       "      <td>0.895522</td>\n",
       "      <td>0.647059</td>\n",
       "      <td>0.0</td>\n",
       "    </tr>\n",
       "    <tr>\n",
       "      <th>536</th>\n",
       "      <td>540</td>\n",
       "      <td>mp-2878</td>\n",
       "      <td>['Li', 'O', 'P']</td>\n",
       "      <td>Li3PO4</td>\n",
       "      <td>Li12 P4 O16</td>\n",
       "      <td>[34221.0, 25816.0, 77095.0, 79427.0, 20208.0]</td>\n",
       "      <td>3</td>\n",
       "      <td>Li-O-P</td>\n",
       "      <td>Pnma</td>\n",
       "      <td>62</td>\n",
       "      <td>...</td>\n",
       "      <td>9.120500</td>\n",
       "      <td>9.120500</td>\n",
       "      <td>9.522891</td>\n",
       "      <td>9.522891</td>\n",
       "      <td>9.522891</td>\n",
       "      <td>1.000000</td>\n",
       "      <td>0.966102</td>\n",
       "      <td>0.878261</td>\n",
       "      <td>0.750000</td>\n",
       "      <td>0.0</td>\n",
       "    </tr>\n",
       "    <tr>\n",
       "      <th>538</th>\n",
       "      <td>542</td>\n",
       "      <td>mp-29009</td>\n",
       "      <td>['Li', 'Mg', 'Br']</td>\n",
       "      <td>Li2MgBr4</td>\n",
       "      <td>Li4 Mg2 Br8</td>\n",
       "      <td>[73276.0]</td>\n",
       "      <td>3</td>\n",
       "      <td>Br-Li-Mg</td>\n",
       "      <td>Cmmm</td>\n",
       "      <td>65</td>\n",
       "      <td>...</td>\n",
       "      <td>5.480223</td>\n",
       "      <td>5.480223</td>\n",
       "      <td>5.480223</td>\n",
       "      <td>5.480223</td>\n",
       "      <td>5.480223</td>\n",
       "      <td>0.993377</td>\n",
       "      <td>0.973333</td>\n",
       "      <td>0.931034</td>\n",
       "      <td>0.651515</td>\n",
       "      <td>0.0</td>\n",
       "    </tr>\n",
       "    <tr>\n",
       "      <th>543</th>\n",
       "      <td>547</td>\n",
       "      <td>mp-28253</td>\n",
       "      <td>['Bi', 'O', 'Li']</td>\n",
       "      <td>LiBiO2</td>\n",
       "      <td>Li8 Bi8 O16</td>\n",
       "      <td>[46022.0]</td>\n",
       "      <td>3</td>\n",
       "      <td>Bi-Li-O</td>\n",
       "      <td>Ibam</td>\n",
       "      <td>72</td>\n",
       "      <td>...</td>\n",
       "      <td>1.337766</td>\n",
       "      <td>1.337766</td>\n",
       "      <td>1.337766</td>\n",
       "      <td>1.726184</td>\n",
       "      <td>1.726184</td>\n",
       "      <td>0.994012</td>\n",
       "      <td>0.981818</td>\n",
       "      <td>0.796296</td>\n",
       "      <td>0.270270</td>\n",
       "      <td>0.0</td>\n",
       "    </tr>\n",
       "    <tr>\n",
       "      <th>550</th>\n",
       "      <td>554</td>\n",
       "      <td>mp-5854</td>\n",
       "      <td>['Li', 'O', 'Ga']</td>\n",
       "      <td>LiGaO2</td>\n",
       "      <td>Li4 Ga4 O8</td>\n",
       "      <td>[93086.0, 93087.0, 18152.0]</td>\n",
       "      <td>3</td>\n",
       "      <td>Ga-Li-O</td>\n",
       "      <td>Pna2_1</td>\n",
       "      <td>33</td>\n",
       "      <td>...</td>\n",
       "      <td>12.440522</td>\n",
       "      <td>12.440522</td>\n",
       "      <td>12.704310</td>\n",
       "      <td>12.704310</td>\n",
       "      <td>12.704310</td>\n",
       "      <td>0.993289</td>\n",
       "      <td>0.966216</td>\n",
       "      <td>0.855172</td>\n",
       "      <td>0.500000</td>\n",
       "      <td>0.0</td>\n",
       "    </tr>\n",
       "    <tr>\n",
       "      <th>575</th>\n",
       "      <td>579</td>\n",
       "      <td>mp-5914</td>\n",
       "      <td>['Li', 'B', 'N']</td>\n",
       "      <td>Li3BN2</td>\n",
       "      <td>Li24 B8 N16</td>\n",
       "      <td>[155127.0, 155126.0]</td>\n",
       "      <td>3</td>\n",
       "      <td>B-Li-N</td>\n",
       "      <td>I4_1/amd</td>\n",
       "      <td>141</td>\n",
       "      <td>...</td>\n",
       "      <td>3.220804</td>\n",
       "      <td>3.220804</td>\n",
       "      <td>3.220804</td>\n",
       "      <td>3.220804</td>\n",
       "      <td>10.701381</td>\n",
       "      <td>1.000000</td>\n",
       "      <td>0.984848</td>\n",
       "      <td>0.920635</td>\n",
       "      <td>0.901639</td>\n",
       "      <td>0.0</td>\n",
       "    </tr>\n",
       "    <tr>\n",
       "      <th>583</th>\n",
       "      <td>587</td>\n",
       "      <td>mp-4779</td>\n",
       "      <td>['Li', 'B', 'O']</td>\n",
       "      <td>Li2B4O7</td>\n",
       "      <td>Li16 B32 O56</td>\n",
       "      <td>[419670.0, 419672.0, 130018.0, 419675.0, 41532...</td>\n",
       "      <td>3</td>\n",
       "      <td>B-Li-O</td>\n",
       "      <td>I4_1cd</td>\n",
       "      <td>110</td>\n",
       "      <td>...</td>\n",
       "      <td>6.044755</td>\n",
       "      <td>6.044755</td>\n",
       "      <td>7.468258</td>\n",
       "      <td>7.468258</td>\n",
       "      <td>10.884666</td>\n",
       "      <td>0.992908</td>\n",
       "      <td>0.992857</td>\n",
       "      <td>0.692857</td>\n",
       "      <td>0.387597</td>\n",
       "      <td>0.0</td>\n",
       "    </tr>\n",
       "    <tr>\n",
       "      <th>607</th>\n",
       "      <td>611</td>\n",
       "      <td>mp-15845</td>\n",
       "      <td>['Li', 'N', 'Sr']</td>\n",
       "      <td>SrLi4N2</td>\n",
       "      <td>Sr4 Li16 N8</td>\n",
       "      <td>[87413.0]</td>\n",
       "      <td>3</td>\n",
       "      <td>Li-N-Sr</td>\n",
       "      <td>I4_1/amd</td>\n",
       "      <td>141</td>\n",
       "      <td>...</td>\n",
       "      <td>5.627796</td>\n",
       "      <td>5.627796</td>\n",
       "      <td>5.627796</td>\n",
       "      <td>6.026616</td>\n",
       "      <td>7.621897</td>\n",
       "      <td>1.000000</td>\n",
       "      <td>0.993197</td>\n",
       "      <td>0.993056</td>\n",
       "      <td>0.917293</td>\n",
       "      <td>0.0</td>\n",
       "    </tr>\n",
       "    <tr>\n",
       "      <th>672</th>\n",
       "      <td>676</td>\n",
       "      <td>mp-5853</td>\n",
       "      <td>['Li', 'N', 'Si']</td>\n",
       "      <td>LiSi2N3</td>\n",
       "      <td>Li4 Si8 N12</td>\n",
       "      <td>[34118.0, 89524.0]</td>\n",
       "      <td>3</td>\n",
       "      <td>Li-N-Si</td>\n",
       "      <td>Cmc2_1</td>\n",
       "      <td>36</td>\n",
       "      <td>...</td>\n",
       "      <td>8.754731</td>\n",
       "      <td>8.754731</td>\n",
       "      <td>10.872997</td>\n",
       "      <td>10.872997</td>\n",
       "      <td>10.872997</td>\n",
       "      <td>0.980392</td>\n",
       "      <td>0.940397</td>\n",
       "      <td>0.634483</td>\n",
       "      <td>0.417323</td>\n",
       "      <td>0.0</td>\n",
       "    </tr>\n",
       "    <tr>\n",
       "      <th>680</th>\n",
       "      <td>684</td>\n",
       "      <td>mp-5418</td>\n",
       "      <td>['Li', 'O', 'Zr']</td>\n",
       "      <td>Li6Zr2O7</td>\n",
       "      <td>Li24 Zr8 O28</td>\n",
       "      <td>[41321.0, 73836.0, 73835.0]</td>\n",
       "      <td>3</td>\n",
       "      <td>Li-O-Zr</td>\n",
       "      <td>C2/c</td>\n",
       "      <td>15</td>\n",
       "      <td>...</td>\n",
       "      <td>5.968722</td>\n",
       "      <td>7.351386</td>\n",
       "      <td>7.351386</td>\n",
       "      <td>10.270344</td>\n",
       "      <td>10.577602</td>\n",
       "      <td>1.000000</td>\n",
       "      <td>0.975610</td>\n",
       "      <td>0.922581</td>\n",
       "      <td>0.729323</td>\n",
       "      <td>0.0</td>\n",
       "    </tr>\n",
       "    <tr>\n",
       "      <th>716</th>\n",
       "      <td>720</td>\n",
       "      <td>mp-30209</td>\n",
       "      <td>['H', 'Li', 'B']</td>\n",
       "      <td>LiBH4</td>\n",
       "      <td>Li4 B4 H16</td>\n",
       "      <td>[161953.0, 186264.0, 161954.0, 185861.0, 18010...</td>\n",
       "      <td>3</td>\n",
       "      <td>B-H-Li</td>\n",
       "      <td>Pnma</td>\n",
       "      <td>62</td>\n",
       "      <td>...</td>\n",
       "      <td>6.230977</td>\n",
       "      <td>14.494796</td>\n",
       "      <td>14.494796</td>\n",
       "      <td>31.022434</td>\n",
       "      <td>31.022434</td>\n",
       "      <td>1.000000</td>\n",
       "      <td>0.974359</td>\n",
       "      <td>0.972973</td>\n",
       "      <td>0.941176</td>\n",
       "      <td>0.0</td>\n",
       "    </tr>\n",
       "    <tr>\n",
       "      <th>729</th>\n",
       "      <td>733</td>\n",
       "      <td>mp-14712</td>\n",
       "      <td>['Li', 'N', 'P']</td>\n",
       "      <td>Li7PN4</td>\n",
       "      <td>Li56 P8 N32</td>\n",
       "      <td>[69017.0, 642182.0]</td>\n",
       "      <td>3</td>\n",
       "      <td>Li-N-P</td>\n",
       "      <td>P-43n</td>\n",
       "      <td>218</td>\n",
       "      <td>...</td>\n",
       "      <td>6.089667</td>\n",
       "      <td>6.089667</td>\n",
       "      <td>12.288079</td>\n",
       "      <td>13.266775</td>\n",
       "      <td>16.529097</td>\n",
       "      <td>1.000000</td>\n",
       "      <td>0.993289</td>\n",
       "      <td>0.979021</td>\n",
       "      <td>0.859375</td>\n",
       "      <td>0.0</td>\n",
       "    </tr>\n",
       "    <tr>\n",
       "      <th>738</th>\n",
       "      <td>742</td>\n",
       "      <td>mp-6175</td>\n",
       "      <td>['Li', 'O', 'P', 'Ba']</td>\n",
       "      <td>BaLi2P2O7</td>\n",
       "      <td>Ba8 Li16 P16 O56</td>\n",
       "      <td>[41433.0, 280927.0]</td>\n",
       "      <td>4</td>\n",
       "      <td>Ba-Li-O-P</td>\n",
       "      <td>C2/c</td>\n",
       "      <td>15</td>\n",
       "      <td>...</td>\n",
       "      <td>3.797251</td>\n",
       "      <td>6.718928</td>\n",
       "      <td>7.393161</td>\n",
       "      <td>10.539581</td>\n",
       "      <td>11.213814</td>\n",
       "      <td>1.000000</td>\n",
       "      <td>1.000000</td>\n",
       "      <td>0.974138</td>\n",
       "      <td>0.798165</td>\n",
       "      <td>0.0</td>\n",
       "    </tr>\n",
       "    <tr>\n",
       "      <th>766</th>\n",
       "      <td>770</td>\n",
       "      <td>mp-22899</td>\n",
       "      <td>['Li', 'I']</td>\n",
       "      <td>LiI</td>\n",
       "      <td>Li4 I4</td>\n",
       "      <td>[414244.0, 53820.0, 44275.0, 27983.0]</td>\n",
       "      <td>2</td>\n",
       "      <td>I-Li</td>\n",
       "      <td>Fm-3m</td>\n",
       "      <td>225</td>\n",
       "      <td>...</td>\n",
       "      <td>5.114019</td>\n",
       "      <td>5.114019</td>\n",
       "      <td>5.114019</td>\n",
       "      <td>5.114019</td>\n",
       "      <td>5.114019</td>\n",
       "      <td>0.992248</td>\n",
       "      <td>0.952756</td>\n",
       "      <td>0.893443</td>\n",
       "      <td>0.723404</td>\n",
       "      <td>0.0</td>\n",
       "    </tr>\n",
       "    <tr>\n",
       "      <th>794</th>\n",
       "      <td>798</td>\n",
       "      <td>mp-27968</td>\n",
       "      <td>['Li', 'O', 'Ge']</td>\n",
       "      <td>Li6Ge2O7</td>\n",
       "      <td>Li24 Ge8 O28</td>\n",
       "      <td>[31050.0]</td>\n",
       "      <td>3</td>\n",
       "      <td>Ge-Li-O</td>\n",
       "      <td>P2_1/c</td>\n",
       "      <td>14</td>\n",
       "      <td>...</td>\n",
       "      <td>6.032697</td>\n",
       "      <td>7.542312</td>\n",
       "      <td>8.448081</td>\n",
       "      <td>14.335579</td>\n",
       "      <td>14.335579</td>\n",
       "      <td>1.000000</td>\n",
       "      <td>1.000000</td>\n",
       "      <td>0.940789</td>\n",
       "      <td>0.735714</td>\n",
       "      <td>0.000001</td>\n",
       "    </tr>\n",
       "    <tr>\n",
       "      <th>815</th>\n",
       "      <td>819</td>\n",
       "      <td>mp-7020</td>\n",
       "      <td>['Li', 'O', 'Y']</td>\n",
       "      <td>LiYO2</td>\n",
       "      <td>Li4 Y4 O8</td>\n",
       "      <td>[45511.0]</td>\n",
       "      <td>3</td>\n",
       "      <td>Li-O-Y</td>\n",
       "      <td>P2_1/c</td>\n",
       "      <td>14</td>\n",
       "      <td>...</td>\n",
       "      <td>4.516844</td>\n",
       "      <td>5.423961</td>\n",
       "      <td>5.423961</td>\n",
       "      <td>5.423961</td>\n",
       "      <td>5.423961</td>\n",
       "      <td>1.000000</td>\n",
       "      <td>0.994012</td>\n",
       "      <td>0.968750</td>\n",
       "      <td>0.938356</td>\n",
       "      <td>0.0</td>\n",
       "    </tr>\n",
       "    <tr>\n",
       "      <th>817</th>\n",
       "      <td>821</td>\n",
       "      <td>mp-541272</td>\n",
       "      <td>['Li', 'Ge', 'P', 'O']</td>\n",
       "      <td>LiGe2(PO4)3</td>\n",
       "      <td>Li6 Ge12 P18 O72</td>\n",
       "      <td>[69763.0]</td>\n",
       "      <td>4</td>\n",
       "      <td>Ge-Li-O-P</td>\n",
       "      <td>R-3c</td>\n",
       "      <td>167</td>\n",
       "      <td>...</td>\n",
       "      <td>4.893545</td>\n",
       "      <td>4.893545</td>\n",
       "      <td>4.893545</td>\n",
       "      <td>4.893545</td>\n",
       "      <td>4.893545</td>\n",
       "      <td>1.000000</td>\n",
       "      <td>0.860870</td>\n",
       "      <td>0.547826</td>\n",
       "      <td>0.368421</td>\n",
       "      <td>0.0</td>\n",
       "    </tr>\n",
       "    <tr>\n",
       "      <th>823</th>\n",
       "      <td>827</td>\n",
       "      <td>mp-557189</td>\n",
       "      <td>['Li', 'P', 'O']</td>\n",
       "      <td>LiPO3</td>\n",
       "      <td>Li20 P20 O60</td>\n",
       "      <td>[51630.0]</td>\n",
       "      <td>3</td>\n",
       "      <td>Li-O-P</td>\n",
       "      <td>P2/c</td>\n",
       "      <td>13</td>\n",
       "      <td>...</td>\n",
       "      <td>8.684564</td>\n",
       "      <td>8.684564</td>\n",
       "      <td>8.684564</td>\n",
       "      <td>8.684564</td>\n",
       "      <td>10.512364</td>\n",
       "      <td>1.000000</td>\n",
       "      <td>0.978417</td>\n",
       "      <td>0.755396</td>\n",
       "      <td>0.466667</td>\n",
       "      <td>0.0</td>\n",
       "    </tr>\n",
       "    <tr>\n",
       "      <th>843</th>\n",
       "      <td>849</td>\n",
       "      <td>mp-6783</td>\n",
       "      <td>['Li', 'O', 'Na', 'S']</td>\n",
       "      <td>NaLiSO4</td>\n",
       "      <td>Na6 Li6 S6 O24</td>\n",
       "      <td>[67702.0, 95407.0, 67703.0, 14364.0]</td>\n",
       "      <td>4</td>\n",
       "      <td>Li-Na-O-S</td>\n",
       "      <td>P31c</td>\n",
       "      <td>159</td>\n",
       "      <td>...</td>\n",
       "      <td>-2.349638</td>\n",
       "      <td>2.404665</td>\n",
       "      <td>3.310247</td>\n",
       "      <td>13.724436</td>\n",
       "      <td>18.478739</td>\n",
       "      <td>1.000000</td>\n",
       "      <td>1.000000</td>\n",
       "      <td>0.968085</td>\n",
       "      <td>0.876404</td>\n",
       "      <td>0.0</td>\n",
       "    </tr>\n",
       "  </tbody>\n",
       "</table>\n",
       "<p>43 rows × 125 columns</p>\n",
       "</div>"
      ],
      "text/plain": [
       "     Unnamed: 0 material_id                 elements formula_pretty_reduced  \\\n",
       "52           53    mp-18147  ['Li', 'O', 'Si', 'Ga']               LiGaSiO4   \n",
       "62           63    mp-27275         ['Li', 'B', 'O']                 Li3BO3   \n",
       "100         101     mp-4156        ['Li', 'O', 'Zr']                Li2ZrO3   \n",
       "117         118   mp-558105    ['Li', 'B', 'O', 'F']                LiB6O9F   \n",
       "129         130    mp-23497        ['Li', 'Zn', 'I']                Li2ZnI4   \n",
       "150         151     mp-3635         ['Li', 'B', 'O']                  LiBO2   \n",
       "184         185     mp-5840        ['Li', 'O', 'Sc']                 LiScO2   \n",
       "229         231     mp-8926         ['Li', 'B', 'N']                 Li3BN2   \n",
       "255         257     mp-7535        ['Li', 'O', 'Al']                Li5AlO4   \n",
       "275         277     mp-4657        ['Li', 'O', 'Ga']                Li5GaO4   \n",
       "301         304    mp-10520  ['Li', 'O', 'Ti', 'Nd']               LiNdTiO4   \n",
       "305         309   mp-760502   ['Li', 'H', 'Cl', 'O']                LiH2ClO   \n",
       "317         321    mp-22955         ['O', 'Li', 'I']                  LiIO3   \n",
       "333         337   mp-684024        ['Li', 'Si', 'N']                Li2SiN2   \n",
       "349         353     mp-4558        ['Li', 'O', 'Ge']                Li4GeO4   \n",
       "350         354    mp-29582       ['Li', 'Cl', 'Cr']               Li2CrCl4   \n",
       "372         376    mp-30249        ['Li', 'Ge', 'S']                Li4GeS4   \n",
       "396         400     mp-6521  ['Li', 'O', 'Ti', 'La']               LiLaTiO4   \n",
       "397         401    mp-11175   ['Li', 'P', 'S', 'Zn']                LiZnPS4   \n",
       "460         464    mp-13843        ['Li', 'O', 'Te']                Li2TeO4   \n",
       "479         483   mp-541661   ['Zr', 'P', 'O', 'Li']            LiZr2(PO4)3   \n",
       "489         493    mp-15254        ['Li', 'F', 'Al']                Li3AlF6   \n",
       "493         497     mp-3524         ['Li', 'N', 'P']                  LiPN2   \n",
       "514         518    mp-14495        ['Li', 'O', 'Zn']                Li6ZnO4   \n",
       "516         520     mp-8184  ['Li', 'O', 'Zn', 'Ge']              Li2ZnGeO4   \n",
       "536         540     mp-2878         ['Li', 'O', 'P']                 Li3PO4   \n",
       "538         542    mp-29009       ['Li', 'Mg', 'Br']               Li2MgBr4   \n",
       "543         547    mp-28253        ['Bi', 'O', 'Li']                 LiBiO2   \n",
       "550         554     mp-5854        ['Li', 'O', 'Ga']                 LiGaO2   \n",
       "575         579     mp-5914         ['Li', 'B', 'N']                 Li3BN2   \n",
       "583         587     mp-4779         ['Li', 'B', 'O']                Li2B4O7   \n",
       "607         611    mp-15845        ['Li', 'N', 'Sr']                SrLi4N2   \n",
       "672         676     mp-5853        ['Li', 'N', 'Si']                LiSi2N3   \n",
       "680         684     mp-5418        ['Li', 'O', 'Zr']               Li6Zr2O7   \n",
       "716         720    mp-30209         ['H', 'Li', 'B']                  LiBH4   \n",
       "729         733    mp-14712         ['Li', 'N', 'P']                 Li7PN4   \n",
       "738         742     mp-6175   ['Li', 'O', 'P', 'Ba']              BaLi2P2O7   \n",
       "766         770    mp-22899              ['Li', 'I']                    LiI   \n",
       "794         798    mp-27968        ['Li', 'O', 'Ge']               Li6Ge2O7   \n",
       "815         819     mp-7020         ['Li', 'O', 'Y']                  LiYO2   \n",
       "817         821   mp-541272   ['Li', 'Ge', 'P', 'O']            LiGe2(PO4)3   \n",
       "823         827   mp-557189         ['Li', 'P', 'O']                  LiPO3   \n",
       "843         849     mp-6783   ['Li', 'O', 'Na', 'S']                NaLiSO4   \n",
       "\n",
       "                formula                                            icsd_id  \\\n",
       "52   Li18 Ga18 Si18 O72                                          [65125.0]   \n",
       "62          Li12 B4 O12                                           [9105.0]   \n",
       "100         Li8 Zr4 O12  [94897.0, 94896.0, 94894.0, 291154.0, 94893.0,...   \n",
       "117      Li4 B24 O36 F4                                         [420286.0]   \n",
       "129         Li8 Zn4 I16                                [69034.0, 402062.0]   \n",
       "150           Li4 B4 O8                       [37060.0, 200891.0, 16568.0]   \n",
       "184          Li4 Sc4 O8                                 [31316.0, 36124.0]   \n",
       "229           Li6 B2 N4                      [155128.0, 71085.0, 655673.0]   \n",
       "255         Li10 Al2 O8                                  [16229.0, 1037.0]   \n",
       "275        Li40 Ga8 O32                                  [16926.0, 9082.0]   \n",
       "301      Li2 Nd2 Ti2 O8                                          [91844.0]   \n",
       "305      Li8 H16 Cl8 O8                               [281198.0, 391153.0]   \n",
       "317           Li2 I2 O6  [35475.0, 35476.0, 80026.0, 35473.0, 35472.0, ...   \n",
       "333       Li64 Si32 N64                                         [420126.0]   \n",
       "349        Li16 Ge4 O16                        [18096.0, 65177.0, 16935.0]   \n",
       "350        Li8 Cr4 Cl16                                         [202627.0]   \n",
       "372        Li16 Ge4 S16                                [290831.0, 95649.0]   \n",
       "396      Li2 La2 Ti2 O8                                 [81857.0, 91843.0]   \n",
       "397       Li2 Zn2 P2 S8                                          [95785.0]   \n",
       "460         Li8 Te4 O16                                           [1485.0]   \n",
       "479    Li6 Zr12 P18 O72                                         [201935.0]   \n",
       "489       Li36 Al12 F72                                [252226.0, 85171.0]   \n",
       "493           Li4 P4 N8                        [32713.0, 34582.0, 66007.0]   \n",
       "514         Li12 Zn2 O8                                          [62137.0]   \n",
       "516      Li4 Zn2 Ge2 O8                                          [34362.0]   \n",
       "536         Li12 P4 O16      [34221.0, 25816.0, 77095.0, 79427.0, 20208.0]   \n",
       "538         Li4 Mg2 Br8                                          [73276.0]   \n",
       "543         Li8 Bi8 O16                                          [46022.0]   \n",
       "550          Li4 Ga4 O8                        [93086.0, 93087.0, 18152.0]   \n",
       "575         Li24 B8 N16                               [155127.0, 155126.0]   \n",
       "583        Li16 B32 O56  [419670.0, 419672.0, 130018.0, 419675.0, 41532...   \n",
       "607         Sr4 Li16 N8                                          [87413.0]   \n",
       "672         Li4 Si8 N12                                 [34118.0, 89524.0]   \n",
       "680        Li24 Zr8 O28                        [41321.0, 73836.0, 73835.0]   \n",
       "716          Li4 B4 H16  [161953.0, 186264.0, 161954.0, 185861.0, 18010...   \n",
       "729         Li56 P8 N32                                [69017.0, 642182.0]   \n",
       "738    Ba8 Li16 P16 O56                                [41433.0, 280927.0]   \n",
       "766              Li4 I4              [414244.0, 53820.0, 44275.0, 27983.0]   \n",
       "794        Li24 Ge8 O28                                          [31050.0]   \n",
       "815           Li4 Y4 O8                                          [45511.0]   \n",
       "817    Li6 Ge12 P18 O72                                          [69763.0]   \n",
       "823        Li20 P20 O60                                          [51630.0]   \n",
       "843      Na6 Li6 S6 O24               [67702.0, 95407.0, 67703.0, 14364.0]   \n",
       "\n",
       "     num_elements     chemsys spacegroup_symbol  spacegroup_number  ...  \\\n",
       "52              4  Ga-Li-O-Si                R3                146  ...   \n",
       "62              3      B-Li-O            P2_1/c                 14  ...   \n",
       "100             3     Li-O-Zr              C2/c                 15  ...   \n",
       "117             4    B-F-Li-O            Pna2_1                 33  ...   \n",
       "129             3     I-Li-Zn              Pnma                 62  ...   \n",
       "150             3      B-Li-O            P2_1/c                 14  ...   \n",
       "184             3     Li-O-Sc          I4_1/amd                141  ...   \n",
       "229             3      B-Li-N          P4_2/mnm                136  ...   \n",
       "255             3     Al-Li-O              Pmmn                 59  ...   \n",
       "275             3     Ga-Li-O              Pbca                 61  ...   \n",
       "301             4  Li-Nd-O-Ti            P4/nmm                129  ...   \n",
       "305             4   Cl-H-Li-O              Cmcm                 63  ...   \n",
       "317             3      I-Li-O              P6_3                173  ...   \n",
       "333             3     Li-N-Si              Pbca                 61  ...   \n",
       "349             3     Ge-Li-O              Cmcm                 63  ...   \n",
       "350             3    Cl-Cr-Li              C2/c                 15  ...   \n",
       "372             3     Ge-Li-S              Pnma                 62  ...   \n",
       "396             4  La-Li-O-Ti            P4/nmm                129  ...   \n",
       "397             4   Li-P-S-Zn               I-4                 82  ...   \n",
       "460             3     Li-O-Te            P4_122                 91  ...   \n",
       "479             4   Li-O-P-Zr              R-3c                167  ...   \n",
       "489             3     Al-F-Li              C2/c                 15  ...   \n",
       "493             3      Li-N-P             I-42d                122  ...   \n",
       "514             3     Li-O-Zn          P4_2/nmc                137  ...   \n",
       "516             4  Ge-Li-O-Zn                Pc                  7  ...   \n",
       "536             3      Li-O-P              Pnma                 62  ...   \n",
       "538             3    Br-Li-Mg              Cmmm                 65  ...   \n",
       "543             3     Bi-Li-O              Ibam                 72  ...   \n",
       "550             3     Ga-Li-O            Pna2_1                 33  ...   \n",
       "575             3      B-Li-N          I4_1/amd                141  ...   \n",
       "583             3      B-Li-O            I4_1cd                110  ...   \n",
       "607             3     Li-N-Sr          I4_1/amd                141  ...   \n",
       "672             3     Li-N-Si            Cmc2_1                 36  ...   \n",
       "680             3     Li-O-Zr              C2/c                 15  ...   \n",
       "716             3      B-H-Li              Pnma                 62  ...   \n",
       "729             3      Li-N-P             P-43n                218  ...   \n",
       "738             4   Ba-Li-O-P              C2/c                 15  ...   \n",
       "766             2        I-Li             Fm-3m                225  ...   \n",
       "794             3     Ge-Li-O            P2_1/c                 14  ...   \n",
       "815             3      Li-O-Y            P2_1/c                 14  ...   \n",
       "817             4   Ge-Li-O-P              R-3c                167  ...   \n",
       "823             3      Li-O-P              P2/c                 13  ...   \n",
       "843             4   Li-Na-O-S              P31c                159  ...   \n",
       "\n",
       "           0.2        0.3        0.4        0.5        0.6     1e-05  \\\n",
       "52    9.856570  10.411002  10.411002  12.813541  13.367973  1.000000   \n",
       "62    8.601866   8.601866  10.340474  12.575828  12.575828  0.990991   \n",
       "100   3.718460   3.718460   6.503348   6.503348   6.503348  1.000000   \n",
       "117   8.623060   9.196701   9.196701   9.196701  10.917621  0.992248   \n",
       "129   4.389673   4.389673   4.389673   4.389673   4.389673  0.985612   \n",
       "150  10.344364  10.344364  10.344364  12.039833  12.039833  0.993243   \n",
       "184   3.746910   3.746910  11.284811  11.284811  11.284811  0.993976   \n",
       "229   3.690109   3.690109   3.690109   3.690109  12.190777  1.000000   \n",
       "255   5.807534   6.398257   7.875064   7.875064   8.465787  1.000000   \n",
       "275   6.000244   6.794394   8.117977   9.441560   9.441560  0.993789   \n",
       "301   7.521030   8.353356   8.353356   9.352148   9.352148  1.000000   \n",
       "305   5.102674   5.102674   5.102674   5.102674   5.102674  0.979167   \n",
       "317   2.645006   4.945345   4.945345   4.945345   4.945345  0.992424   \n",
       "333   5.325761   5.325761   6.961642   7.325172   7.688701  1.000000   \n",
       "349   8.631624   8.631624   8.631624   8.631624  12.208755  1.000000   \n",
       "350   5.657621   8.518927   8.518927   8.518927   8.518927  1.000000   \n",
       "372   4.159165   7.515766   8.548566   8.548566   8.548566  1.000000   \n",
       "396   8.013717   8.013717   9.104611   9.104611   9.883822  0.994012   \n",
       "397   8.550774   8.550774   8.550774  11.666576  11.666576  1.000000   \n",
       "460   6.328523   6.328523   6.899541   7.185050   7.185050  1.000000   \n",
       "479   1.843899   1.843899   1.843899   1.843899   1.843899  1.000000   \n",
       "489   5.726735   6.669995   6.939498   6.939498   8.017509  1.000000   \n",
       "493   9.076131   9.076131   9.076131   9.076131   9.076131  0.980392   \n",
       "514   6.135251   7.062171   7.062171  10.240182  10.240182  1.000000   \n",
       "516  12.425296  12.425296  12.425296  12.425296  12.425296  1.000000   \n",
       "536   9.120500   9.120500   9.522891   9.522891   9.522891  1.000000   \n",
       "538   5.480223   5.480223   5.480223   5.480223   5.480223  0.993377   \n",
       "543   1.337766   1.337766   1.337766   1.726184   1.726184  0.994012   \n",
       "550  12.440522  12.440522  12.704310  12.704310  12.704310  0.993289   \n",
       "575   3.220804   3.220804   3.220804   3.220804  10.701381  1.000000   \n",
       "583   6.044755   6.044755   7.468258   7.468258  10.884666  0.992908   \n",
       "607   5.627796   5.627796   5.627796   6.026616   7.621897  1.000000   \n",
       "672   8.754731   8.754731  10.872997  10.872997  10.872997  0.980392   \n",
       "680   5.968722   7.351386   7.351386  10.270344  10.577602  1.000000   \n",
       "716   6.230977  14.494796  14.494796  31.022434  31.022434  1.000000   \n",
       "729   6.089667   6.089667  12.288079  13.266775  16.529097  1.000000   \n",
       "738   3.797251   6.718928   7.393161  10.539581  11.213814  1.000000   \n",
       "766   5.114019   5.114019   5.114019   5.114019   5.114019  0.992248   \n",
       "794   6.032697   7.542312   8.448081  14.335579  14.335579  1.000000   \n",
       "815   4.516844   5.423961   5.423961   5.423961   5.423961  1.000000   \n",
       "817   4.893545   4.893545   4.893545   4.893545   4.893545  1.000000   \n",
       "823   8.684564   8.684564   8.684564   8.684564  10.512364  1.000000   \n",
       "843  -2.349638   2.404665   3.310247  13.724436  18.478739  1.000000   \n",
       "\n",
       "       0.0001     0.001      0.01  σ(RT)(S cm-1)  \n",
       "52   0.958678  0.822034  0.633028            0.0  \n",
       "62   0.963636  0.861111  0.711340            0.0  \n",
       "100  1.000000  0.981928  0.776119            0.0  \n",
       "117  0.921875  0.566929  0.236842            0.0  \n",
       "129  0.971014  0.924812  0.719008            0.0  \n",
       "150  0.952381  0.561644  0.422222            0.0  \n",
       "184  0.975460  0.955128  0.778626            0.0  \n",
       "229  1.000000  0.945205  0.916667            0.0  \n",
       "255  0.987342  0.973856  0.841727            0.0  \n",
       "275  0.987421  0.974026  0.877698            0.0  \n",
       "301  0.976048  0.746988  0.604478            0.0  \n",
       "305  0.833333  0.791667  0.604651            0.0  \n",
       "317  0.992366  0.968504  0.847458            0.0  \n",
       "333  0.987730  0.924051  0.675862            0.0  \n",
       "349  0.980769  0.980132  0.792857            0.0  \n",
       "350  1.000000  0.686747  0.814159            0.0  \n",
       "372  0.993711  1.000000  0.972789            0.0  \n",
       "396  0.976048  0.795181  0.669231            0.0  \n",
       "397  0.948718  0.823009  0.524752            0.0  \n",
       "460  0.986207  0.971831  0.755556            0.0  \n",
       "479  0.944444  0.820755  0.739130            0.0  \n",
       "489  0.993976  0.962733  0.902778            0.0  \n",
       "493  0.927152  0.684932  0.507692            0.0  \n",
       "514  0.993902  0.993711  0.917808            0.0  \n",
       "516  0.985294  0.895522  0.647059            0.0  \n",
       "536  0.966102  0.878261  0.750000            0.0  \n",
       "538  0.973333  0.931034  0.651515            0.0  \n",
       "543  0.981818  0.796296  0.270270            0.0  \n",
       "550  0.966216  0.855172  0.500000            0.0  \n",
       "575  0.984848  0.920635  0.901639            0.0  \n",
       "583  0.992857  0.692857  0.387597            0.0  \n",
       "607  0.993197  0.993056  0.917293            0.0  \n",
       "672  0.940397  0.634483  0.417323            0.0  \n",
       "680  0.975610  0.922581  0.729323            0.0  \n",
       "716  0.974359  0.972973  0.941176            0.0  \n",
       "729  0.993289  0.979021  0.859375            0.0  \n",
       "738  1.000000  0.974138  0.798165            0.0  \n",
       "766  0.952756  0.893443  0.723404            0.0  \n",
       "794  1.000000  0.940789  0.735714       0.000001  \n",
       "815  0.994012  0.968750  0.938356            0.0  \n",
       "817  0.860870  0.547826  0.368421            0.0  \n",
       "823  0.978417  0.755396  0.466667            0.0  \n",
       "843  1.000000  0.968085  0.876404            0.0  \n",
       "\n",
       "[43 rows x 125 columns]"
      ]
     },
     "execution_count": 17,
     "metadata": {},
     "output_type": "execute_result"
    }
   ],
   "source": [
    "data_slow = data[data['σ(RT)(S cm-1)']<1E-6]\n",
    "\n",
    "data_slow"
   ]
  },
  {
   "cell_type": "code",
   "execution_count": 18,
   "id": "d145741c",
   "metadata": {},
   "outputs": [
    {
     "name": "stdout",
     "output_type": "stream",
     "text": [
      "Number of labelled data: 56\n"
     ]
    }
   ],
   "source": [
    "print('Number of labelled data: '+str(len(data_fast)+len(data_slow)))"
   ]
  },
  {
   "cell_type": "code",
   "execution_count": 19,
   "id": "87d37a82",
   "metadata": {},
   "outputs": [],
   "source": [
    "data['Conductor?'] = None"
   ]
  },
  {
   "cell_type": "code",
   "execution_count": 20,
   "id": "ce3bbefa",
   "metadata": {
    "scrolled": false
   },
   "outputs": [
    {
     "data": {
      "text/html": [
       "<div>\n",
       "<style scoped>\n",
       "    .dataframe tbody tr th:only-of-type {\n",
       "        vertical-align: middle;\n",
       "    }\n",
       "\n",
       "    .dataframe tbody tr th {\n",
       "        vertical-align: top;\n",
       "    }\n",
       "\n",
       "    .dataframe thead th {\n",
       "        text-align: right;\n",
       "    }\n",
       "</style>\n",
       "<table border=\"1\" class=\"dataframe\">\n",
       "  <thead>\n",
       "    <tr style=\"text-align: right;\">\n",
       "      <th></th>\n",
       "      <th>Unnamed: 0</th>\n",
       "      <th>material_id</th>\n",
       "      <th>elements</th>\n",
       "      <th>formula_pretty_reduced</th>\n",
       "      <th>formula</th>\n",
       "      <th>icsd_id</th>\n",
       "      <th>num_elements</th>\n",
       "      <th>chemsys</th>\n",
       "      <th>spacegroup_symbol</th>\n",
       "      <th>spacegroup_number</th>\n",
       "      <th>...</th>\n",
       "      <th>0.3</th>\n",
       "      <th>0.4</th>\n",
       "      <th>0.5</th>\n",
       "      <th>0.6</th>\n",
       "      <th>1e-05</th>\n",
       "      <th>0.0001</th>\n",
       "      <th>0.001</th>\n",
       "      <th>0.01</th>\n",
       "      <th>σ(RT)(S cm-1)</th>\n",
       "      <th>Conductor?</th>\n",
       "    </tr>\n",
       "  </thead>\n",
       "  <tbody>\n",
       "    <tr>\n",
       "      <th>0</th>\n",
       "      <td>0</td>\n",
       "      <td>mp-8892</td>\n",
       "      <td>['Li', 'F', 'In']</td>\n",
       "      <td>LiInF4</td>\n",
       "      <td>Li4 In4 F16</td>\n",
       "      <td>[66693.0]</td>\n",
       "      <td>3</td>\n",
       "      <td>F-In-Li</td>\n",
       "      <td>Pbcn</td>\n",
       "      <td>60</td>\n",
       "      <td>...</td>\n",
       "      <td>9.927689</td>\n",
       "      <td>9.927689</td>\n",
       "      <td>9.927689</td>\n",
       "      <td>9.927689</td>\n",
       "      <td>0.993939</td>\n",
       "      <td>0.981707</td>\n",
       "      <td>0.962025</td>\n",
       "      <td>0.788732</td>\n",
       "      <td>None</td>\n",
       "      <td>None</td>\n",
       "    </tr>\n",
       "    <tr>\n",
       "      <th>1</th>\n",
       "      <td>1</td>\n",
       "      <td>mp-772968</td>\n",
       "      <td>['Li', 'Tl', 'P', 'H', 'O']</td>\n",
       "      <td>LiTlPHO3</td>\n",
       "      <td>Li4 Tl4 P4 H4 O12</td>\n",
       "      <td>[201040.0]</td>\n",
       "      <td>5</td>\n",
       "      <td>H-Li-O-P-Tl</td>\n",
       "      <td>C2</td>\n",
       "      <td>5</td>\n",
       "      <td>...</td>\n",
       "      <td>11.140249</td>\n",
       "      <td>14.066884</td>\n",
       "      <td>14.066884</td>\n",
       "      <td>14.066884</td>\n",
       "      <td>1.000000</td>\n",
       "      <td>0.925000</td>\n",
       "      <td>0.725000</td>\n",
       "      <td>0.555556</td>\n",
       "      <td>None</td>\n",
       "      <td>None</td>\n",
       "    </tr>\n",
       "    <tr>\n",
       "      <th>2</th>\n",
       "      <td>2</td>\n",
       "      <td>mp-756951</td>\n",
       "      <td>['Li', 'Sb', 'O']</td>\n",
       "      <td>LiSbO3</td>\n",
       "      <td>Li4 Sb4 O12</td>\n",
       "      <td>[nan]</td>\n",
       "      <td>3</td>\n",
       "      <td>Li-O-Sb</td>\n",
       "      <td>C2/m</td>\n",
       "      <td>12</td>\n",
       "      <td>...</td>\n",
       "      <td>5.543978</td>\n",
       "      <td>5.543978</td>\n",
       "      <td>5.543978</td>\n",
       "      <td>6.903721</td>\n",
       "      <td>1.000000</td>\n",
       "      <td>0.993865</td>\n",
       "      <td>0.906832</td>\n",
       "      <td>0.560606</td>\n",
       "      <td>None</td>\n",
       "      <td>None</td>\n",
       "    </tr>\n",
       "    <tr>\n",
       "      <th>3</th>\n",
       "      <td>3</td>\n",
       "      <td>mp-754856</td>\n",
       "      <td>['Li', 'Y', 'Zr', 'S']</td>\n",
       "      <td>Li7Y7ZrS16</td>\n",
       "      <td>Li7 Y7 Zr1 S16</td>\n",
       "      <td>[nan]</td>\n",
       "      <td>4</td>\n",
       "      <td>Li-S-Y-Zr</td>\n",
       "      <td>P2/m</td>\n",
       "      <td>10</td>\n",
       "      <td>...</td>\n",
       "      <td>4.319241</td>\n",
       "      <td>4.319241</td>\n",
       "      <td>5.047983</td>\n",
       "      <td>5.047983</td>\n",
       "      <td>0.987952</td>\n",
       "      <td>0.962963</td>\n",
       "      <td>0.921569</td>\n",
       "      <td>0.735294</td>\n",
       "      <td>None</td>\n",
       "      <td>None</td>\n",
       "    </tr>\n",
       "    <tr>\n",
       "      <th>4</th>\n",
       "      <td>4</td>\n",
       "      <td>mp-24610</td>\n",
       "      <td>['H', 'Li', 'O', 'P']</td>\n",
       "      <td>LiP(HO2)2</td>\n",
       "      <td>Li4 P4 H8 O16</td>\n",
       "      <td>[182309.0, 182308.0, 100200.0]</td>\n",
       "      <td>4</td>\n",
       "      <td>H-Li-O-P</td>\n",
       "      <td>Pna2_1</td>\n",
       "      <td>33</td>\n",
       "      <td>...</td>\n",
       "      <td>32.155099</td>\n",
       "      <td>32.155099</td>\n",
       "      <td>32.155099</td>\n",
       "      <td>32.155099</td>\n",
       "      <td>1.000000</td>\n",
       "      <td>0.988506</td>\n",
       "      <td>0.941860</td>\n",
       "      <td>0.537500</td>\n",
       "      <td>None</td>\n",
       "      <td>None</td>\n",
       "    </tr>\n",
       "    <tr>\n",
       "      <th>...</th>\n",
       "      <td>...</td>\n",
       "      <td>...</td>\n",
       "      <td>...</td>\n",
       "      <td>...</td>\n",
       "      <td>...</td>\n",
       "      <td>...</td>\n",
       "      <td>...</td>\n",
       "      <td>...</td>\n",
       "      <td>...</td>\n",
       "      <td>...</td>\n",
       "      <td>...</td>\n",
       "      <td>...</td>\n",
       "      <td>...</td>\n",
       "      <td>...</td>\n",
       "      <td>...</td>\n",
       "      <td>...</td>\n",
       "      <td>...</td>\n",
       "      <td>...</td>\n",
       "      <td>...</td>\n",
       "      <td>...</td>\n",
       "      <td>...</td>\n",
       "    </tr>\n",
       "    <tr>\n",
       "      <th>862</th>\n",
       "      <td>868</td>\n",
       "      <td>mp-9919</td>\n",
       "      <td>['Li', 'Zn', 'Sb']</td>\n",
       "      <td>LiZnSb</td>\n",
       "      <td>Li2 Zn2 Sb2</td>\n",
       "      <td>[642350.0, 42064.0]</td>\n",
       "      <td>3</td>\n",
       "      <td>Li-Sb-Zn</td>\n",
       "      <td>P6_3mc</td>\n",
       "      <td>186</td>\n",
       "      <td>...</td>\n",
       "      <td>7.108637</td>\n",
       "      <td>7.108637</td>\n",
       "      <td>7.108637</td>\n",
       "      <td>7.108637</td>\n",
       "      <td>0.987578</td>\n",
       "      <td>0.968750</td>\n",
       "      <td>0.876623</td>\n",
       "      <td>0.664286</td>\n",
       "      <td>None</td>\n",
       "      <td>None</td>\n",
       "    </tr>\n",
       "    <tr>\n",
       "      <th>863</th>\n",
       "      <td>869</td>\n",
       "      <td>mp-14704</td>\n",
       "      <td>['Li', 'B', 'O', 'Y']</td>\n",
       "      <td>Li6Y(BO3)3</td>\n",
       "      <td>Li24 Y4 B12 O36</td>\n",
       "      <td>[184290.0, 184288.0, 184285.0, 68653.0, 184287...</td>\n",
       "      <td>4</td>\n",
       "      <td>B-Li-O-Y</td>\n",
       "      <td>P2_1/c</td>\n",
       "      <td>14</td>\n",
       "      <td>...</td>\n",
       "      <td>6.508700</td>\n",
       "      <td>7.567257</td>\n",
       "      <td>11.272210</td>\n",
       "      <td>11.272210</td>\n",
       "      <td>1.000000</td>\n",
       "      <td>0.982143</td>\n",
       "      <td>0.812500</td>\n",
       "      <td>0.742574</td>\n",
       "      <td>None</td>\n",
       "      <td>None</td>\n",
       "    </tr>\n",
       "    <tr>\n",
       "      <th>864</th>\n",
       "      <td>870</td>\n",
       "      <td>mp-557756</td>\n",
       "      <td>['Li', 'Zn', 'P', 'O']</td>\n",
       "      <td>Li4Zn(PO4)2</td>\n",
       "      <td>Li16 Zn4 P8 O32</td>\n",
       "      <td>[59640.0]</td>\n",
       "      <td>4</td>\n",
       "      <td>Li-O-P-Zn</td>\n",
       "      <td>P2_1/c</td>\n",
       "      <td>14</td>\n",
       "      <td>...</td>\n",
       "      <td>8.758697</td>\n",
       "      <td>8.758697</td>\n",
       "      <td>8.758697</td>\n",
       "      <td>10.855064</td>\n",
       "      <td>1.000000</td>\n",
       "      <td>0.967480</td>\n",
       "      <td>0.811475</td>\n",
       "      <td>0.700935</td>\n",
       "      <td>None</td>\n",
       "      <td>None</td>\n",
       "    </tr>\n",
       "    <tr>\n",
       "      <th>865</th>\n",
       "      <td>871</td>\n",
       "      <td>mp-966801</td>\n",
       "      <td>['Li', 'Ca', 'B', 'O']</td>\n",
       "      <td>LiCaBO3</td>\n",
       "      <td>Li8 Ca8 B8 O24</td>\n",
       "      <td>[nan]</td>\n",
       "      <td>4</td>\n",
       "      <td>B-Ca-Li-O</td>\n",
       "      <td>Ibca</td>\n",
       "      <td>73</td>\n",
       "      <td>...</td>\n",
       "      <td>10.040524</td>\n",
       "      <td>10.040524</td>\n",
       "      <td>10.040524</td>\n",
       "      <td>10.040524</td>\n",
       "      <td>0.989011</td>\n",
       "      <td>0.933333</td>\n",
       "      <td>0.771084</td>\n",
       "      <td>0.735294</td>\n",
       "      <td>None</td>\n",
       "      <td>None</td>\n",
       "    </tr>\n",
       "    <tr>\n",
       "      <th>866</th>\n",
       "      <td>872</td>\n",
       "      <td>mp-772721</td>\n",
       "      <td>['Li', 'Si', 'Bi', 'O']</td>\n",
       "      <td>LiSi6Bi9O26</td>\n",
       "      <td>Li2 Si12 Bi18 O52</td>\n",
       "      <td>[nan]</td>\n",
       "      <td>4</td>\n",
       "      <td>Bi-Li-O-Si</td>\n",
       "      <td>P-3</td>\n",
       "      <td>147</td>\n",
       "      <td>...</td>\n",
       "      <td>2.817394</td>\n",
       "      <td>3.552058</td>\n",
       "      <td>3.552058</td>\n",
       "      <td>3.919391</td>\n",
       "      <td>1.000000</td>\n",
       "      <td>0.957983</td>\n",
       "      <td>0.815126</td>\n",
       "      <td>0.540541</td>\n",
       "      <td>None</td>\n",
       "      <td>None</td>\n",
       "    </tr>\n",
       "  </tbody>\n",
       "</table>\n",
       "<p>867 rows × 126 columns</p>\n",
       "</div>"
      ],
      "text/plain": [
       "     Unnamed: 0 material_id                     elements  \\\n",
       "0             0     mp-8892            ['Li', 'F', 'In']   \n",
       "1             1   mp-772968  ['Li', 'Tl', 'P', 'H', 'O']   \n",
       "2             2   mp-756951            ['Li', 'Sb', 'O']   \n",
       "3             3   mp-754856       ['Li', 'Y', 'Zr', 'S']   \n",
       "4             4    mp-24610        ['H', 'Li', 'O', 'P']   \n",
       "..          ...         ...                          ...   \n",
       "862         868     mp-9919           ['Li', 'Zn', 'Sb']   \n",
       "863         869    mp-14704        ['Li', 'B', 'O', 'Y']   \n",
       "864         870   mp-557756       ['Li', 'Zn', 'P', 'O']   \n",
       "865         871   mp-966801       ['Li', 'Ca', 'B', 'O']   \n",
       "866         872   mp-772721      ['Li', 'Si', 'Bi', 'O']   \n",
       "\n",
       "    formula_pretty_reduced            formula  \\\n",
       "0                   LiInF4        Li4 In4 F16   \n",
       "1                 LiTlPHO3  Li4 Tl4 P4 H4 O12   \n",
       "2                   LiSbO3        Li4 Sb4 O12   \n",
       "3               Li7Y7ZrS16     Li7 Y7 Zr1 S16   \n",
       "4                LiP(HO2)2      Li4 P4 H8 O16   \n",
       "..                     ...                ...   \n",
       "862                 LiZnSb        Li2 Zn2 Sb2   \n",
       "863             Li6Y(BO3)3    Li24 Y4 B12 O36   \n",
       "864            Li4Zn(PO4)2    Li16 Zn4 P8 O32   \n",
       "865                LiCaBO3     Li8 Ca8 B8 O24   \n",
       "866            LiSi6Bi9O26  Li2 Si12 Bi18 O52   \n",
       "\n",
       "                                               icsd_id  num_elements  \\\n",
       "0                                            [66693.0]             3   \n",
       "1                                           [201040.0]             5   \n",
       "2                                                [nan]             3   \n",
       "3                                                [nan]             4   \n",
       "4                       [182309.0, 182308.0, 100200.0]             4   \n",
       "..                                                 ...           ...   \n",
       "862                                [642350.0, 42064.0]             3   \n",
       "863  [184290.0, 184288.0, 184285.0, 68653.0, 184287...             4   \n",
       "864                                          [59640.0]             4   \n",
       "865                                              [nan]             4   \n",
       "866                                              [nan]             4   \n",
       "\n",
       "         chemsys spacegroup_symbol  spacegroup_number  ...        0.3  \\\n",
       "0        F-In-Li              Pbcn                 60  ...   9.927689   \n",
       "1    H-Li-O-P-Tl                C2                  5  ...  11.140249   \n",
       "2        Li-O-Sb              C2/m                 12  ...   5.543978   \n",
       "3      Li-S-Y-Zr              P2/m                 10  ...   4.319241   \n",
       "4       H-Li-O-P            Pna2_1                 33  ...  32.155099   \n",
       "..           ...               ...                ...  ...        ...   \n",
       "862     Li-Sb-Zn            P6_3mc                186  ...   7.108637   \n",
       "863     B-Li-O-Y            P2_1/c                 14  ...   6.508700   \n",
       "864    Li-O-P-Zn            P2_1/c                 14  ...   8.758697   \n",
       "865    B-Ca-Li-O              Ibca                 73  ...  10.040524   \n",
       "866   Bi-Li-O-Si               P-3                147  ...   2.817394   \n",
       "\n",
       "           0.4        0.5        0.6     1e-05    0.0001     0.001      0.01  \\\n",
       "0     9.927689   9.927689   9.927689  0.993939  0.981707  0.962025  0.788732   \n",
       "1    14.066884  14.066884  14.066884  1.000000  0.925000  0.725000  0.555556   \n",
       "2     5.543978   5.543978   6.903721  1.000000  0.993865  0.906832  0.560606   \n",
       "3     4.319241   5.047983   5.047983  0.987952  0.962963  0.921569  0.735294   \n",
       "4    32.155099  32.155099  32.155099  1.000000  0.988506  0.941860  0.537500   \n",
       "..         ...        ...        ...       ...       ...       ...       ...   \n",
       "862   7.108637   7.108637   7.108637  0.987578  0.968750  0.876623  0.664286   \n",
       "863   7.567257  11.272210  11.272210  1.000000  0.982143  0.812500  0.742574   \n",
       "864   8.758697   8.758697  10.855064  1.000000  0.967480  0.811475  0.700935   \n",
       "865  10.040524  10.040524  10.040524  0.989011  0.933333  0.771084  0.735294   \n",
       "866   3.552058   3.552058   3.919391  1.000000  0.957983  0.815126  0.540541   \n",
       "\n",
       "     σ(RT)(S cm-1)  Conductor?  \n",
       "0             None        None  \n",
       "1             None        None  \n",
       "2             None        None  \n",
       "3             None        None  \n",
       "4             None        None  \n",
       "..             ...         ...  \n",
       "862           None        None  \n",
       "863           None        None  \n",
       "864           None        None  \n",
       "865           None        None  \n",
       "866           None        None  \n",
       "\n",
       "[867 rows x 126 columns]"
      ]
     },
     "execution_count": 20,
     "metadata": {},
     "output_type": "execute_result"
    }
   ],
   "source": [
    "for idx in data_fast.index.values:\n",
    "    data.at[idx, 'Conductor?'] = True\n",
    "for idx in data_slow.index.values:\n",
    "    data.at[idx, 'Conductor?'] = False\n",
    "    \n",
    "data"
   ]
  },
  {
   "cell_type": "code",
   "execution_count": 21,
   "id": "0b500f1f",
   "metadata": {},
   "outputs": [],
   "source": [
    "data.to_csv('data_labelled.csv')"
   ]
  }
 ],
 "metadata": {
  "kernelspec": {
   "display_name": "Python 3 (ipykernel)",
   "language": "python",
   "name": "python3"
  },
  "language_info": {
   "codemirror_mode": {
    "name": "ipython",
    "version": 3
   },
   "file_extension": ".py",
   "mimetype": "text/x-python",
   "name": "python",
   "nbconvert_exporter": "python",
   "pygments_lexer": "ipython3",
   "version": "3.9.15"
  }
 },
 "nbformat": 4,
 "nbformat_minor": 5
}
