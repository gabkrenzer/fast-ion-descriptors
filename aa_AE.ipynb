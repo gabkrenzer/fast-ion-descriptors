{
 "cells": [
  {
   "cell_type": "code",
   "execution_count": 1,
   "id": "9fb3b8cd",
   "metadata": {},
   "outputs": [],
   "source": [
    "import numpy as np\n",
    "import torch\n",
    "import torch.nn.functional as F\n",
    "from torch import nn"
   ]
  },
  {
   "cell_type": "markdown",
   "id": "f74d8c5b",
   "metadata": {},
   "source": [
    "### Input Data and Dimensions"
   ]
  },
  {
   "cell_type": "code",
   "execution_count": 2,
   "id": "df1e987f",
   "metadata": {},
   "outputs": [
    {
     "name": "stdout",
     "output_type": "stream",
     "text": [
      "torch.Size([867, 180])\n"
     ]
    }
   ],
   "source": [
    "from sklearn.preprocessing import normalize\n",
    "\n",
    "#Input data\n",
    "dir = 'final_10to35_4/'\n",
    "data = np.load(dir+'vibli_feature.npy')\n",
    "data = normalize(data)\n",
    "data = torch.from_numpy(data)\n",
    "\n",
    "#Input data dimensions\n",
    "n_samples = data.size()[0]\n",
    "n_features = data.size()[1]\n",
    "print(data.size())\n",
    "#Latent dimensions\n",
    "latent_dim = 2"
   ]
  },
  {
   "cell_type": "markdown",
   "id": "ba09c371",
   "metadata": {},
   "source": [
    "### Construct the model"
   ]
  },
  {
   "cell_type": "code",
   "execution_count": 3,
   "id": "f0d43296",
   "metadata": {},
   "outputs": [],
   "source": [
    "class AutoEncoder(nn.Module):\n",
    "    def __init__(self, n_features, n_samples, latent_dim):\n",
    "        super().__init__()\n",
    "        #encoder\n",
    "        self.img_2hid1 = nn.Linear(n_features, n_samples)\n",
    "        self.img_2hid2 = nn.Linear(n_samples, n_samples)\n",
    "        self.hid_2z = nn.Linear(n_samples, latent_dim)\n",
    "        \n",
    "        #decoder\n",
    "        self.z_2hid = nn.Linear(latent_dim, n_samples)\n",
    "        self.hid_2img = nn.Linear(n_samples, n_features)\n",
    "        \n",
    "        self.relu = nn.ReLU()\n",
    "        \n",
    "    def encode(self, x):\n",
    "        h1 = self.relu(self.img_2hid1(x))\n",
    "        h2 = self.relu(self.img_2hid2(h1))\n",
    "        z = self.hid_2z(h2)\n",
    "        \n",
    "        return z\n",
    "    \n",
    "    def decode(self, z):\n",
    "        h = self.relu(self.z_2hid(z))\n",
    "        return torch.sigmoid(self.hid_2img(h))\n",
    "    \n",
    "    def forward(self, x):\n",
    "        z = self.encode(x)\n",
    "        \n",
    "        x_reconstructed = self.decode(z)\n",
    "        \n",
    "        return x_reconstructed"
   ]
  },
  {
   "cell_type": "code",
   "execution_count": 4,
   "id": "779a0f6c",
   "metadata": {},
   "outputs": [
    {
     "name": "stdout",
     "output_type": "stream",
     "text": [
      "torch.Size([867, 180])\n",
      "tensor([[0.4940, 0.4982, 0.5115,  ..., 0.4759, 0.5807, 0.5848],\n",
      "        [0.4941, 0.4983, 0.5115,  ..., 0.4759, 0.5807, 0.5848],\n",
      "        [0.4940, 0.4981, 0.5116,  ..., 0.4760, 0.5805, 0.5848],\n",
      "        ...,\n",
      "        [0.4940, 0.4984, 0.5115,  ..., 0.4759, 0.5809, 0.5849],\n",
      "        [0.4941, 0.4984, 0.5115,  ..., 0.4759, 0.5808, 0.5849],\n",
      "        [0.4948, 0.4987, 0.5115,  ..., 0.4761, 0.5803, 0.5847]],\n",
      "       grad_fn=<SigmoidBackward0>)\n"
     ]
    }
   ],
   "source": [
    "##A randn check of the model.\n",
    "if __name__ == \"__main__\":\n",
    "    x = data.float()\n",
    "    ae = AutoEncoder(n_features, n_samples, latent_dim)\n",
    "    x_reconstructed = ae(x)\n",
    "    print(x_reconstructed.shape)\n",
    "    print(x_reconstructed)"
   ]
  },
  {
   "cell_type": "markdown",
   "id": "e010eeae",
   "metadata": {},
   "source": [
    "### Train the model"
   ]
  },
  {
   "cell_type": "code",
   "execution_count": 5,
   "id": "87f6397f",
   "metadata": {},
   "outputs": [],
   "source": [
    "import torch\n",
    "import torchvision.datasets as datasets #Standard datasets\n",
    "from tqdm import tqdm\n",
    "from torch import nn, optim\n",
    "from torchvision import transforms\n",
    "from torchvision.utils import save_image\n",
    "from torch.utils.data import DataLoader"
   ]
  },
  {
   "cell_type": "code",
   "execution_count": 7,
   "id": "bc9ec2a1",
   "metadata": {},
   "outputs": [
    {
     "name": "stdout",
     "output_type": "stream",
     "text": [
      "tensor([[0., 0., 0.,  ..., 0., 0., 0.],\n",
      "        [0., 0., 0.,  ..., 0., 0., 0.],\n",
      "        [0., 0., 0.,  ..., 0., 0., 0.],\n",
      "        ...,\n",
      "        [0., 0., 0.,  ..., 0., 0., 0.],\n",
      "        [0., 0., 0.,  ..., 0., 0., 0.],\n",
      "        [0., 0., 0.,  ..., 0., 0., 0.]])\n"
     ]
    }
   ],
   "source": [
    "#Configuration\n",
    "DEVICE = torch.device(\"cuda\" if torch.cuda.is_available() else \"cpu\")\n",
    "NUM_EPOCHS = 10\n",
    "BATCH_SIZE = 100\n",
    "LR_RATE = 1e-4 #Karpathy constant, too large\n",
    "train_loader = DataLoader(dataset=x, batch_size=BATCH_SIZE, shuffle=True)\n",
    "print(next(iter(train_loader)))\n",
    "#train_features, train_labels = next(iter(train_loader))\n",
    "#print(f\"Feature batch shape: {train_features.size()}\")\n",
    "#print(f\"Labels batch shape: {train_labels.size()}\")\n",
    "loss_fn = nn.BCELoss(reduction='mean') #MSE_loss, BCELoss y_i * (log())"
   ]
  },
  {
   "cell_type": "code",
   "execution_count": 8,
   "id": "ed49ee0b",
   "metadata": {},
   "outputs": [],
   "source": [
    "def train(model):\n",
    "    losses = []\n",
    "    for epoch in range(NUM_EPOCHS):\n",
    "        loop = tqdm(enumerate(train_loader)) #get progress bar\n",
    "        for i, x in loop:\n",
    "            #forward pass\n",
    "            x = x.to(DEVICE).view(x.shape[0], n_features) #view without a copy, reshape\n",
    "            x_reconstructed = model(x)\n",
    "            #Compute loss\n",
    "            reconstruction_loss = loss_fn(x_reconstructed, x)        \n",
    "            #Backprop\n",
    "            loss = reconstruction_loss\n",
    "            optimizer.zero_grad()\n",
    "            loss.backward()\n",
    "            optimizer.step()\n",
    "            loop.set_postfix(loss=loss.item())\n",
    "        losses.append(loss.item())\n",
    "    return model, losses"
   ]
  },
  {
   "cell_type": "code",
   "execution_count": 9,
   "id": "4a837565",
   "metadata": {},
   "outputs": [
    {
     "name": "stdout",
     "output_type": "stream",
     "text": [
      "LATENT DIMENSIONS: 2\n"
     ]
    },
    {
     "name": "stderr",
     "output_type": "stream",
     "text": [
      "9it [00:00, 51.82it/s, loss=0.631]\n",
      "9it [00:00, 64.79it/s, loss=0.565]\n",
      "9it [00:00, 65.81it/s, loss=0.493]\n",
      "9it [00:00, 64.36it/s, loss=0.405]\n",
      "9it [00:00, 66.30it/s, loss=0.291]\n",
      "9it [00:00, 61.97it/s, loss=0.186]\n",
      "9it [00:00, 62.82it/s, loss=0.136]\n",
      "9it [00:00, 64.70it/s, loss=0.127]\n",
      "9it [00:00, 63.19it/s, loss=0.117]\n",
      "9it [00:00, 64.34it/s, loss=0.108]\n"
     ]
    },
    {
     "name": "stdout",
     "output_type": "stream",
     "text": [
      "LATENT DIMENSIONS: 4\n"
     ]
    },
    {
     "name": "stderr",
     "output_type": "stream",
     "text": [
      "9it [00:00, 65.43it/s, loss=0.66] \n",
      "9it [00:00, 64.20it/s, loss=0.611]\n",
      "9it [00:00, 64.04it/s, loss=0.556]\n",
      "9it [00:00, 64.20it/s, loss=0.476]\n",
      "9it [00:00, 64.94it/s, loss=0.358]\n",
      "9it [00:00, 64.98it/s, loss=0.226]\n",
      "9it [00:00, 66.05it/s, loss=0.149]\n",
      "9it [00:00, 62.66it/s, loss=0.133]\n",
      "9it [00:00, 64.91it/s, loss=0.12] \n",
      "9it [00:00, 59.54it/s, loss=0.12] \n"
     ]
    },
    {
     "name": "stdout",
     "output_type": "stream",
     "text": [
      "LATENT DIMENSIONS: 6\n"
     ]
    },
    {
     "name": "stderr",
     "output_type": "stream",
     "text": [
      "9it [00:00, 65.93it/s, loss=0.655]\n",
      "9it [00:00, 66.63it/s, loss=0.614]\n",
      "9it [00:00, 64.30it/s, loss=0.566]\n",
      "9it [00:00, 63.72it/s, loss=0.494]\n",
      "9it [00:00, 66.07it/s, loss=0.374]\n",
      "9it [00:00, 66.07it/s, loss=0.232]\n",
      "9it [00:00, 67.19it/s, loss=0.146]\n",
      "9it [00:00, 65.71it/s, loss=0.126]\n",
      "9it [00:00, 64.70it/s, loss=0.128]\n",
      "9it [00:00, 64.97it/s, loss=0.117]\n"
     ]
    },
    {
     "name": "stdout",
     "output_type": "stream",
     "text": [
      "LATENT DIMENSIONS: 8\n"
     ]
    },
    {
     "name": "stderr",
     "output_type": "stream",
     "text": [
      "9it [00:00, 62.79it/s, loss=0.665]\n",
      "9it [00:00, 62.91it/s, loss=0.629]\n",
      "9it [00:00, 61.84it/s, loss=0.586]\n",
      "9it [00:00, 65.05it/s, loss=0.517]\n",
      "9it [00:00, 62.91it/s, loss=0.399]\n",
      "9it [00:00, 63.15it/s, loss=0.251]\n",
      "9it [00:00, 63.10it/s, loss=0.152]\n",
      "9it [00:00, 64.86it/s, loss=0.129]\n",
      "9it [00:00, 61.65it/s, loss=0.125]\n",
      "9it [00:00, 64.70it/s, loss=0.118]\n"
     ]
    },
    {
     "name": "stdout",
     "output_type": "stream",
     "text": [
      "LATENT DIMENSIONS: 10\n"
     ]
    },
    {
     "name": "stderr",
     "output_type": "stream",
     "text": [
      "9it [00:00, 64.09it/s, loss=0.665]\n",
      "9it [00:00, 63.00it/s, loss=0.632]\n",
      "9it [00:00, 64.63it/s, loss=0.59] \n",
      "9it [00:00, 64.39it/s, loss=0.52] \n",
      "9it [00:00, 65.26it/s, loss=0.401]\n",
      "9it [00:00, 60.48it/s, loss=0.251]\n",
      "9it [00:00, 63.06it/s, loss=0.157]\n",
      "9it [00:00, 65.77it/s, loss=0.134]\n",
      "9it [00:00, 65.03it/s, loss=0.121]\n",
      "9it [00:00, 65.09it/s, loss=0.117]\n"
     ]
    },
    {
     "name": "stdout",
     "output_type": "stream",
     "text": [
      "LATENT DIMENSIONS: 12\n"
     ]
    },
    {
     "name": "stderr",
     "output_type": "stream",
     "text": [
      "9it [00:00, 62.19it/s, loss=0.671]\n",
      "9it [00:00, 57.26it/s, loss=0.643]\n",
      "9it [00:00, 59.46it/s, loss=0.608]\n",
      "9it [00:00, 58.95it/s, loss=0.552]\n",
      "9it [00:00, 58.14it/s, loss=0.45] \n",
      "9it [00:00, 57.86it/s, loss=0.306]\n",
      "9it [00:00, 60.23it/s, loss=0.177]\n",
      "9it [00:00, 56.01it/s, loss=0.136]\n",
      "9it [00:00, 62.66it/s, loss=0.133]\n",
      "9it [00:00, 60.34it/s, loss=0.122]\n"
     ]
    },
    {
     "name": "stdout",
     "output_type": "stream",
     "text": [
      "LATENT DIMENSIONS: 14\n"
     ]
    },
    {
     "name": "stderr",
     "output_type": "stream",
     "text": [
      "9it [00:00, 64.48it/s, loss=0.674]\n",
      "9it [00:00, 60.13it/s, loss=0.645]\n",
      "9it [00:00, 61.11it/s, loss=0.606]\n",
      "9it [00:00, 59.53it/s, loss=0.541]\n",
      "9it [00:00, 59.94it/s, loss=0.425]\n",
      "9it [00:00, 60.95it/s, loss=0.266]\n",
      "9it [00:00, 62.03it/s, loss=0.156]\n",
      "9it [00:00, 59.06it/s, loss=0.133]\n",
      "9it [00:00, 59.86it/s, loss=0.129]\n",
      "9it [00:00, 61.24it/s, loss=0.121]\n"
     ]
    },
    {
     "name": "stdout",
     "output_type": "stream",
     "text": [
      "LATENT DIMENSIONS: 16\n"
     ]
    },
    {
     "name": "stderr",
     "output_type": "stream",
     "text": [
      "9it [00:00, 59.32it/s, loss=0.673]\n",
      "9it [00:00, 60.39it/s, loss=0.647]\n",
      "9it [00:00, 60.62it/s, loss=0.61] \n",
      "9it [00:00, 61.71it/s, loss=0.542]\n",
      "9it [00:00, 57.03it/s, loss=0.42] \n",
      "9it [00:00, 61.33it/s, loss=0.256]\n",
      "9it [00:00, 58.96it/s, loss=0.153]\n",
      "9it [00:00, 59.40it/s, loss=0.131]\n",
      "9it [00:00, 61.47it/s, loss=0.127]\n",
      "9it [00:00, 60.53it/s, loss=0.118]\n"
     ]
    },
    {
     "name": "stdout",
     "output_type": "stream",
     "text": [
      "LATENT DIMENSIONS: 18\n"
     ]
    },
    {
     "name": "stderr",
     "output_type": "stream",
     "text": [
      "9it [00:00, 57.70it/s, loss=0.67] \n",
      "9it [00:00, 57.95it/s, loss=0.644]\n",
      "9it [00:00, 54.14it/s, loss=0.607]\n",
      "9it [00:00, 60.43it/s, loss=0.541]\n",
      "9it [00:00, 56.89it/s, loss=0.42] \n",
      "9it [00:00, 59.79it/s, loss=0.258]\n",
      "9it [00:00, 58.82it/s, loss=0.149]\n",
      "9it [00:00, 61.49it/s, loss=0.138]\n",
      "9it [00:00, 61.29it/s, loss=0.131]\n",
      "9it [00:00, 60.88it/s, loss=0.11] \n"
     ]
    },
    {
     "name": "stdout",
     "output_type": "stream",
     "text": [
      "LATENT DIMENSIONS: 20\n"
     ]
    },
    {
     "name": "stderr",
     "output_type": "stream",
     "text": [
      "9it [00:00, 62.29it/s, loss=0.672]\n",
      "9it [00:00, 61.40it/s, loss=0.647]\n",
      "9it [00:00, 57.56it/s, loss=0.613]\n",
      "9it [00:00, 63.86it/s, loss=0.554]\n",
      "9it [00:00, 64.19it/s, loss=0.44] \n",
      "9it [00:00, 66.48it/s, loss=0.277]\n",
      "9it [00:00, 63.76it/s, loss=0.157]\n",
      "9it [00:00, 64.09it/s, loss=0.124]\n",
      "9it [00:00, 63.48it/s, loss=0.131]\n",
      "9it [00:00, 60.70it/s, loss=0.112]\n"
     ]
    },
    {
     "name": "stdout",
     "output_type": "stream",
     "text": [
      "LATENT DIMENSIONS: 22\n"
     ]
    },
    {
     "name": "stderr",
     "output_type": "stream",
     "text": [
      "9it [00:00, 60.62it/s, loss=0.674]\n",
      "9it [00:00, 60.38it/s, loss=0.648]\n",
      "9it [00:00, 60.72it/s, loss=0.61] \n",
      "9it [00:00, 56.29it/s, loss=0.539]\n",
      "9it [00:00, 62.79it/s, loss=0.412]\n",
      "9it [00:00, 58.82it/s, loss=0.239]\n",
      "9it [00:00, 60.51it/s, loss=0.147]\n",
      "9it [00:00, 61.38it/s, loss=0.139]\n",
      "9it [00:00, 61.99it/s, loss=0.121]\n",
      "9it [00:00, 61.99it/s, loss=0.113]\n"
     ]
    },
    {
     "name": "stdout",
     "output_type": "stream",
     "text": [
      "LATENT DIMENSIONS: 24\n"
     ]
    },
    {
     "name": "stderr",
     "output_type": "stream",
     "text": [
      "9it [00:00, 62.68it/s, loss=0.674]\n",
      "9it [00:00, 61.44it/s, loss=0.65] \n",
      "9it [00:00, 63.75it/s, loss=0.615]\n",
      "9it [00:00, 62.77it/s, loss=0.549]\n",
      "9it [00:00, 62.96it/s, loss=0.426]\n",
      "9it [00:00, 59.96it/s, loss=0.256]\n",
      "9it [00:00, 59.61it/s, loss=0.147]\n",
      "9it [00:00, 60.43it/s, loss=0.134]\n",
      "9it [00:00, 61.55it/s, loss=0.118]\n",
      "9it [00:00, 59.81it/s, loss=0.115]\n"
     ]
    },
    {
     "name": "stdout",
     "output_type": "stream",
     "text": [
      "LATENT DIMENSIONS: 26\n"
     ]
    },
    {
     "name": "stderr",
     "output_type": "stream",
     "text": [
      "9it [00:00, 59.99it/s, loss=0.676]\n",
      "9it [00:00, 61.55it/s, loss=0.653]\n",
      "9it [00:00, 61.23it/s, loss=0.621]\n",
      "9it [00:00, 63.26it/s, loss=0.558]\n",
      "9it [00:00, 60.57it/s, loss=0.436]\n",
      "9it [00:00, 62.73it/s, loss=0.269]\n",
      "9it [00:00, 62.69it/s, loss=0.156]\n",
      "9it [00:00, 62.80it/s, loss=0.136]\n",
      "9it [00:00, 62.57it/s, loss=0.127]\n",
      "9it [00:00, 61.01it/s, loss=0.119]\n"
     ]
    },
    {
     "name": "stdout",
     "output_type": "stream",
     "text": [
      "LATENT DIMENSIONS: 28\n"
     ]
    },
    {
     "name": "stderr",
     "output_type": "stream",
     "text": [
      "9it [00:00, 63.60it/s, loss=0.674]\n",
      "9it [00:00, 63.69it/s, loss=0.649]\n",
      "9it [00:00, 63.45it/s, loss=0.61] \n",
      "9it [00:00, 63.03it/s, loss=0.535]\n",
      "9it [00:00, 62.92it/s, loss=0.396]\n",
      "9it [00:00, 63.75it/s, loss=0.223]\n",
      "9it [00:00, 58.68it/s, loss=0.138]\n",
      "9it [00:00, 63.64it/s, loss=0.133]\n",
      "9it [00:00, 61.56it/s, loss=0.12] \n",
      "9it [00:00, 64.22it/s, loss=0.119]\n"
     ]
    },
    {
     "name": "stdout",
     "output_type": "stream",
     "text": [
      "LATENT DIMENSIONS: 30\n"
     ]
    },
    {
     "name": "stderr",
     "output_type": "stream",
     "text": [
      "9it [00:00, 62.50it/s, loss=0.674]\n",
      "9it [00:00, 63.25it/s, loss=0.65] \n",
      "9it [00:00, 60.24it/s, loss=0.613]\n",
      "9it [00:00, 61.13it/s, loss=0.542]\n",
      "9it [00:00, 61.34it/s, loss=0.41] \n",
      "9it [00:00, 60.31it/s, loss=0.236]\n",
      "9it [00:00, 60.86it/s, loss=0.141]\n",
      "9it [00:00, 60.42it/s, loss=0.137]\n",
      "9it [00:00, 60.77it/s, loss=0.122]\n",
      "9it [00:00, 61.17it/s, loss=0.114]\n"
     ]
    },
    {
     "name": "stdout",
     "output_type": "stream",
     "text": [
      "LATENT DIMENSIONS: 32\n"
     ]
    },
    {
     "name": "stderr",
     "output_type": "stream",
     "text": [
      "9it [00:00, 62.59it/s, loss=0.676]\n",
      "9it [00:00, 60.59it/s, loss=0.654]\n",
      "9it [00:00, 60.50it/s, loss=0.62] \n",
      "9it [00:00, 60.10it/s, loss=0.554]\n",
      "9it [00:00, 56.84it/s, loss=0.426]\n",
      "9it [00:00, 59.47it/s, loss=0.253]\n",
      "9it [00:00, 57.23it/s, loss=0.145]\n",
      "9it [00:00, 57.64it/s, loss=0.128]\n",
      "9it [00:00, 57.64it/s, loss=0.122]\n",
      "9it [00:00, 59.52it/s, loss=0.117]\n"
     ]
    },
    {
     "name": "stdout",
     "output_type": "stream",
     "text": [
      "LATENT DIMENSIONS: 34\n"
     ]
    },
    {
     "name": "stderr",
     "output_type": "stream",
     "text": [
      "9it [00:00, 60.24it/s, loss=0.678]\n",
      "9it [00:00, 63.29it/s, loss=0.659]\n",
      "9it [00:00, 57.10it/s, loss=0.628]\n",
      "9it [00:00, 62.67it/s, loss=0.57] \n",
      "9it [00:00, 59.78it/s, loss=0.45] \n",
      "9it [00:00, 55.74it/s, loss=0.274]\n",
      "9it [00:00, 54.67it/s, loss=0.152]\n",
      "9it [00:00, 53.91it/s, loss=0.136]\n",
      "9it [00:00, 60.18it/s, loss=0.129]\n",
      "9it [00:00, 57.13it/s, loss=0.115]\n"
     ]
    },
    {
     "name": "stdout",
     "output_type": "stream",
     "text": [
      "LATENT DIMENSIONS: 36\n"
     ]
    },
    {
     "name": "stderr",
     "output_type": "stream",
     "text": [
      "9it [00:00, 59.96it/s, loss=0.677]\n",
      "9it [00:00, 50.68it/s, loss=0.656]\n",
      "9it [00:00, 60.62it/s, loss=0.624]\n",
      "9it [00:00, 61.72it/s, loss=0.56] \n",
      "9it [00:00, 62.31it/s, loss=0.437]\n",
      "9it [00:00, 60.68it/s, loss=0.264]\n",
      "9it [00:00, 60.10it/s, loss=0.147]\n",
      "9it [00:00, 56.07it/s, loss=0.121]\n",
      "9it [00:00, 58.73it/s, loss=0.126]\n",
      "9it [00:00, 61.58it/s, loss=0.117]\n"
     ]
    },
    {
     "name": "stdout",
     "output_type": "stream",
     "text": [
      "LATENT DIMENSIONS: 38\n"
     ]
    },
    {
     "name": "stderr",
     "output_type": "stream",
     "text": [
      "9it [00:00, 57.25it/s, loss=0.675]\n",
      "9it [00:00, 58.50it/s, loss=0.652]\n",
      "9it [00:00, 59.67it/s, loss=0.613]\n",
      "9it [00:00, 60.45it/s, loss=0.533]\n",
      "9it [00:00, 61.34it/s, loss=0.38] \n",
      "9it [00:00, 56.89it/s, loss=0.208]\n",
      "9it [00:00, 59.71it/s, loss=0.136]\n",
      "9it [00:00, 57.81it/s, loss=0.131]\n",
      "9it [00:00, 58.30it/s, loss=0.121]\n",
      "9it [00:00, 59.12it/s, loss=0.112]\n"
     ]
    },
    {
     "name": "stdout",
     "output_type": "stream",
     "text": [
      "LATENT DIMENSIONS: 40\n"
     ]
    },
    {
     "name": "stderr",
     "output_type": "stream",
     "text": [
      "9it [00:00, 58.44it/s, loss=0.679]\n",
      "9it [00:00, 60.43it/s, loss=0.658]\n",
      "9it [00:00, 59.37it/s, loss=0.624]\n",
      "9it [00:00, 59.38it/s, loss=0.553]\n",
      "9it [00:00, 57.23it/s, loss=0.414]\n",
      "9it [00:00, 54.82it/s, loss=0.23] \n",
      "9it [00:00, 57.47it/s, loss=0.135]\n",
      "9it [00:00, 58.02it/s, loss=0.13] \n",
      "9it [00:00, 53.30it/s, loss=0.123]\n",
      "9it [00:00, 58.71it/s, loss=0.115]\n"
     ]
    },
    {
     "name": "stdout",
     "output_type": "stream",
     "text": [
      "LATENT DIMENSIONS: 42\n"
     ]
    },
    {
     "name": "stderr",
     "output_type": "stream",
     "text": [
      "9it [00:00, 59.44it/s, loss=0.677]\n",
      "9it [00:00, 60.63it/s, loss=0.658]\n",
      "9it [00:00, 60.07it/s, loss=0.627]\n",
      "9it [00:00, 59.50it/s, loss=0.56] \n",
      "9it [00:00, 59.76it/s, loss=0.424]\n",
      "9it [00:00, 61.76it/s, loss=0.241]\n",
      "9it [00:00, 59.17it/s, loss=0.142]\n",
      "9it [00:00, 60.03it/s, loss=0.131]\n",
      "9it [00:00, 60.42it/s, loss=0.126]\n",
      "9it [00:00, 60.77it/s, loss=0.11] \n"
     ]
    },
    {
     "name": "stdout",
     "output_type": "stream",
     "text": [
      "LATENT DIMENSIONS: 44\n"
     ]
    },
    {
     "name": "stderr",
     "output_type": "stream",
     "text": [
      "9it [00:00, 64.08it/s, loss=0.678]\n",
      "9it [00:00, 64.28it/s, loss=0.657]\n",
      "9it [00:00, 64.18it/s, loss=0.621]\n",
      "9it [00:00, 63.21it/s, loss=0.544]\n",
      "9it [00:00, 61.09it/s, loss=0.393]\n",
      "9it [00:00, 62.84it/s, loss=0.21] \n",
      "9it [00:00, 61.07it/s, loss=0.132]\n",
      "9it [00:00, 62.70it/s, loss=0.139]\n",
      "9it [00:00, 62.92it/s, loss=0.118]\n",
      "9it [00:00, 63.97it/s, loss=0.113]\n"
     ]
    },
    {
     "name": "stdout",
     "output_type": "stream",
     "text": [
      "LATENT DIMENSIONS: 46\n"
     ]
    },
    {
     "name": "stderr",
     "output_type": "stream",
     "text": [
      "9it [00:00, 59.76it/s, loss=0.678]\n",
      "9it [00:00, 61.54it/s, loss=0.658]\n",
      "9it [00:00, 62.47it/s, loss=0.622]\n",
      "9it [00:00, 62.32it/s, loss=0.547]\n",
      "9it [00:00, 61.17it/s, loss=0.398]\n",
      "9it [00:00, 60.38it/s, loss=0.215]\n",
      "9it [00:00, 60.75it/s, loss=0.131]\n",
      "9it [00:00, 60.42it/s, loss=0.135]\n",
      "9it [00:00, 61.52it/s, loss=0.121]\n",
      "9it [00:00, 56.45it/s, loss=0.113]\n"
     ]
    },
    {
     "name": "stdout",
     "output_type": "stream",
     "text": [
      "LATENT DIMENSIONS: 48\n"
     ]
    },
    {
     "name": "stderr",
     "output_type": "stream",
     "text": [
      "9it [00:00, 61.83it/s, loss=0.679]\n",
      "9it [00:00, 59.37it/s, loss=0.658]\n",
      "9it [00:00, 57.10it/s, loss=0.623]\n",
      "9it [00:00, 56.94it/s, loss=0.548]\n",
      "9it [00:00, 55.19it/s, loss=0.399]\n",
      "9it [00:00, 56.25it/s, loss=0.212]\n",
      "9it [00:00, 58.03it/s, loss=0.135]\n",
      "9it [00:00, 58.06it/s, loss=0.124]\n",
      "9it [00:00, 59.67it/s, loss=0.13] \n",
      "9it [00:00, 59.71it/s, loss=0.116]\n"
     ]
    },
    {
     "name": "stdout",
     "output_type": "stream",
     "text": [
      "LATENT DIMENSIONS: 50\n"
     ]
    },
    {
     "name": "stderr",
     "output_type": "stream",
     "text": [
      "9it [00:00, 62.66it/s, loss=0.678]\n",
      "9it [00:00, 62.50it/s, loss=0.66] \n",
      "9it [00:00, 60.10it/s, loss=0.629]\n",
      "9it [00:00, 60.42it/s, loss=0.558]\n",
      "9it [00:00, 60.85it/s, loss=0.413]\n",
      "9it [00:00, 60.49it/s, loss=0.226]\n",
      "9it [00:00, 61.92it/s, loss=0.138]\n",
      "9it [00:00, 60.13it/s, loss=0.136]\n",
      "9it [00:00, 61.15it/s, loss=0.123]\n",
      "9it [00:00, 59.23it/s, loss=0.107]\n"
     ]
    }
   ],
   "source": [
    "loss_lat = []\n",
    "step = 2\n",
    "for latent_dim in range(2, 51, step):\n",
    "    print('LATENT DIMENSIONS: '+str(latent_dim))\n",
    "    model = AutoEncoder(n_features, n_samples, latent_dim).to(DEVICE)\n",
    "    optimizer = torch.optim.Adam(model.parameters(), lr=LR_RATE)\n",
    "    model_train, losses = train(model)\n",
    "    loss_lat.append(losses)"
   ]
  },
  {
   "cell_type": "code",
   "execution_count": 11,
   "id": "38775179",
   "metadata": {},
   "outputs": [],
   "source": [
    "fs = 13"
   ]
  },
  {
   "cell_type": "code",
   "execution_count": 13,
   "id": "733e71fa",
   "metadata": {},
   "outputs": [
    {
     "data": {
      "image/png": "[encoded data removed]",
      "text/plain": [
       "<Figure size 432x288 with 1 Axes>"
      ]
     },
     "metadata": {
      "needs_background": "light"
     },
     "output_type": "display_data"
    }
   ],
   "source": [
    "import matplotlib.pyplot as plt\n",
    "\n",
    "for dim, losses in enumerate(loss_lat):\n",
    "    if dim*step+2 == 10:\n",
    "        color ='r'\n",
    "    else:\n",
    "        color = 'k'\n",
    "    #plt.scatter(dim*step+2, losses[-1]/(BATCH_SIZE*n_features), color=color)\n",
    "    plt.scatter(dim*step+2, losses[-1], color=color)\n",
    "    plt.xlabel('Latent Dimensions', fontsize=fs)\n",
    "    plt.ylabel('Loss', fontsize=fs)\n",
    "    plt.xticks(fontsize=fs)\n",
    "    plt.yticks(fontsize=fs)"
   ]
  },
  {
   "cell_type": "code",
   "execution_count": 14,
   "id": "0d479007",
   "metadata": {},
   "outputs": [
    {
     "data": {
      "text/plain": [
       "(array([0. , 0.1, 0.2, 0.3, 0.4, 0.5, 0.6, 0.7]),\n",
       " [Text(0, 0.0, '0.0'),\n",
       "  Text(0, 0.1, '0.1'),\n",
       "  Text(0, 0.2, '0.2'),\n",
       "  Text(0, 0.30000000000000004, '0.3'),\n",
       "  Text(0, 0.4, '0.4'),\n",
       "  Text(0, 0.5, '0.5'),\n",
       "  Text(0, 0.6000000000000001, '0.6'),\n",
       "  Text(0, 0.7000000000000001, '0.7')])"
      ]
     },
     "execution_count": 14,
     "metadata": {},
     "output_type": "execute_result"
    },
    {
     "data": {
      "image/png": "[encoded data removed]",
      "text/plain": [
       "<Figure size 432x288 with 1 Axes>"
      ]
     },
     "metadata": {
      "needs_background": "light"
     },
     "output_type": "display_data"
    }
   ],
   "source": [
    "DIM = 10\n",
    "actual_dim = int((DIM-2)/step)\n",
    "\n",
    "#plt.plot(np.array(loss_lat[actual_dim])/(BATCH_SIZE*n_features))\n",
    "plt.plot(np.array(loss_lat[actual_dim]))\n",
    "plt.xlabel('EPOCHS', fontsize=fs)\n",
    "plt.ylabel('Loss', fontsize=fs)\n",
    "plt.xticks(fontsize=fs)\n",
    "plt.yticks(fontsize=fs)"
   ]
  },
  {
   "cell_type": "code",
   "execution_count": 12,
   "id": "17e632a4",
   "metadata": {},
   "outputs": [
    {
     "name": "stderr",
     "output_type": "stream",
     "text": [
      "9it [00:00, 63.00it/s, loss=8.01e+3]\n",
      "9it [00:00, 63.02it/s, loss=7.58e+3]\n",
      "9it [00:00, 63.42it/s, loss=7.01e+3]\n",
      "9it [00:00, 62.66it/s, loss=6.09e+3]\n",
      "9it [00:00, 73.11it/s, loss=4.58e+3]\n",
      "9it [00:00, 71.36it/s, loss=2.84e+3]\n",
      "9it [00:00, 66.92it/s, loss=1.8e+3] \n",
      "9it [00:00, 70.71it/s, loss=1.61e+3]\n",
      "9it [00:00, 69.77it/s, loss=1.4e+3] \n",
      "9it [00:00, 70.82it/s, loss=1.39e+3]\n"
     ]
    }
   ],
   "source": [
    "latent_dim = 10\n",
    "model = AutoEncoder(n_features, n_samples, latent_dim).to(DEVICE)\n",
    "optimizer = torch.optim.Adam(model.parameters(), lr=LR_RATE)\n",
    "model_train, losses = train(model)"
   ]
  },
  {
   "cell_type": "markdown",
   "id": "02cbc68c",
   "metadata": {},
   "source": [
    "### Save data"
   ]
  },
  {
   "cell_type": "code",
   "execution_count": 13,
   "id": "bab45c1f",
   "metadata": {},
   "outputs": [],
   "source": [
    "import matplotlib.pyplot as plt\n",
    "\n",
    "model.eval()\n",
    "\n",
    "def plot_latent(model, data, NUM_EPOCHS=NUM_EPOCHS):\n",
    "    z = model.encode(x.to(DEVICE))\n",
    "    plt.scatter(z[:,0], z[:,0])\n",
    "    plt.xlabel('Dimension 1')\n",
    "    plt.ylabel('Dimension 2')\n",
    "            \n",
    "    return z"
   ]
  },
  {
   "cell_type": "code",
   "execution_count": 14,
   "id": "2c6904f4",
   "metadata": {
    "scrolled": true
   },
   "outputs": [
    {
     "name": "stdout",
     "output_type": "stream",
     "text": [
      "torch.Size([867, 10])\n"
     ]
    },
    {
     "data": {
      "image/png": "[encoded data removed]",
      "text/plain": [
       "<Figure size 432x288 with 1 Axes>"
      ]
     },
     "metadata": {
      "needs_background": "light"
     },
     "output_type": "display_data"
    }
   ],
   "source": [
    "with torch.no_grad():\n",
    "    z = plot_latent(model_train, train_loader)\n",
    "    print(z.size())\n",
    "    data_reduced = z.numpy()"
   ]
  },
  {
   "cell_type": "code",
   "execution_count": 15,
   "id": "d6568e24",
   "metadata": {},
   "outputs": [],
   "source": [
    "np.save('lidos_f_ae', data_reduced)"
   ]
  },
  {
   "cell_type": "code",
   "execution_count": null,
   "id": "34a94249",
   "metadata": {},
   "outputs": [],
   "source": []
  }
 ],
 "metadata": {
  "kernelspec": {
   "display_name": "Python 3",
   "language": "python",
   "name": "python3"
  },
  "language_info": {
   "codemirror_mode": {
    "name": "ipython",
    "version": 3
   },
   "file_extension": ".py",
   "mimetype": "text/x-python",
   "name": "python",
   "nbconvert_exporter": "python",
   "pygments_lexer": "ipython3",
   "version": "3.8.8"
  }
 },
 "nbformat": 4,
 "nbformat_minor": 5
}
