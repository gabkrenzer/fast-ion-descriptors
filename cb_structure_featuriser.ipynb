{
 "cells": [
  {
   "cell_type": "code",
   "execution_count": 1,
   "id": "2742dd09",
   "metadata": {},
   "outputs": [],
   "source": [
    "import pandas as pd\n",
    "from tqdm import tqdm\n",
    "import numpy as np\n",
    "from mp_api.client import MPRester\n",
    "from emmet.core.summary import HasProps\n",
    "import pymatgen.core\n",
    "from pymatgen.analysis.local_env import VoronoiNN\n",
    "from matminer.utils.caching import get_all_nearest_neighbors\n",
    "from matminer.featurizers.utils.stats import PropertyStats\n",
    "from matminer.featurizers.structure.order import DensityFeatures, ChemicalOrdering, StructuralComplexity\n",
    "from matminer.featurizers.structure.bonding import BondFractions, GlobalInstabilityIndex, StructuralHeterogeneity\n",
    "from matminer.featurizers.structure.matrix import SineCoulombMatrix\n",
    "from matminer.featurizers.structure.misc import EwaldEnergy, XRDPowderPattern\n",
    "from matminer.featurizers.structure.rdf import RadialDistributionFunction, PartialRadialDistributionFunction\n",
    "from matminer.featurizers.structure.composite import JarvisCFID"
   ]
  },
  {
   "cell_type": "code",
   "execution_count": 4,
   "id": "0ed54870",
   "metadata": {},
   "outputs": [],
   "source": [
    "import warnings\n",
    "warnings.filterwarnings('ignore')"
   ]
  },
  {
   "cell_type": "code",
   "execution_count": 5,
   "id": "33a8d0cf",
   "metadata": {
    "scrolled": false
   },
   "outputs": [
    {
     "data": {
      "text/html": [
       "<div>\n",
       "<style scoped>\n",
       "    .dataframe tbody tr th:only-of-type {\n",
       "        vertical-align: middle;\n",
       "    }\n",
       "\n",
       "    .dataframe tbody tr th {\n",
       "        vertical-align: top;\n",
       "    }\n",
       "\n",
       "    .dataframe thead th {\n",
       "        text-align: right;\n",
       "    }\n",
       "</style>\n",
       "<table border=\"1\" class=\"dataframe\">\n",
       "  <thead>\n",
       "    <tr style=\"text-align: right;\">\n",
       "      <th></th>\n",
       "      <th>Unnamed: 0.1</th>\n",
       "      <th>Unnamed: 0</th>\n",
       "      <th>material_id</th>\n",
       "      <th>elements</th>\n",
       "      <th>formula_pretty_reduced</th>\n",
       "      <th>formula</th>\n",
       "      <th>num_elements</th>\n",
       "      <th>chemsys</th>\n",
       "      <th>spacegroup_symbol</th>\n",
       "      <th>spacegroup_number</th>\n",
       "      <th>...</th>\n",
       "      <th>980</th>\n",
       "      <th>990</th>\n",
       "      <th>0.2</th>\n",
       "      <th>0.5</th>\n",
       "      <th>0.6</th>\n",
       "      <th>1e-05</th>\n",
       "      <th>0.0001</th>\n",
       "      <th>0.001</th>\n",
       "      <th>0.01</th>\n",
       "      <th>σ(RT)(S cm-1)</th>\n",
       "    </tr>\n",
       "  </thead>\n",
       "  <tbody>\n",
       "    <tr>\n",
       "      <th>0</th>\n",
       "      <td>0</td>\n",
       "      <td>0</td>\n",
       "      <td>mp-8892</td>\n",
       "      <td>['Li', 'F', 'In']</td>\n",
       "      <td>LiInF4</td>\n",
       "      <td>Li4 In4 F16</td>\n",
       "      <td>3</td>\n",
       "      <td>F-In-Li</td>\n",
       "      <td>Pbcn</td>\n",
       "      <td>60</td>\n",
       "      <td>...</td>\n",
       "      <td>9.653824</td>\n",
       "      <td>9.657305</td>\n",
       "      <td>9.927689</td>\n",
       "      <td>9.927689</td>\n",
       "      <td>9.927689</td>\n",
       "      <td>0.993939</td>\n",
       "      <td>0.981707</td>\n",
       "      <td>0.962025</td>\n",
       "      <td>0.788732</td>\n",
       "      <td>NaN</td>\n",
       "    </tr>\n",
       "    <tr>\n",
       "      <th>1</th>\n",
       "      <td>1</td>\n",
       "      <td>1</td>\n",
       "      <td>mp-772968</td>\n",
       "      <td>['Li', 'Tl', 'P', 'H', 'O']</td>\n",
       "      <td>LiTlPHO3</td>\n",
       "      <td>Li4 Tl4 P4 H4 O12</td>\n",
       "      <td>5</td>\n",
       "      <td>H-Li-O-P-Tl</td>\n",
       "      <td>C2</td>\n",
       "      <td>5</td>\n",
       "      <td>...</td>\n",
       "      <td>9.865593</td>\n",
       "      <td>9.873043</td>\n",
       "      <td>11.140249</td>\n",
       "      <td>14.066884</td>\n",
       "      <td>14.066884</td>\n",
       "      <td>1.000000</td>\n",
       "      <td>0.925000</td>\n",
       "      <td>0.725000</td>\n",
       "      <td>0.555556</td>\n",
       "      <td>NaN</td>\n",
       "    </tr>\n",
       "    <tr>\n",
       "      <th>2</th>\n",
       "      <td>2</td>\n",
       "      <td>2</td>\n",
       "      <td>mp-756951</td>\n",
       "      <td>['Li', 'Sb', 'O']</td>\n",
       "      <td>LiSbO3</td>\n",
       "      <td>Li4 Sb4 O12</td>\n",
       "      <td>3</td>\n",
       "      <td>Li-O-Sb</td>\n",
       "      <td>C2/m</td>\n",
       "      <td>12</td>\n",
       "      <td>...</td>\n",
       "      <td>7.551016</td>\n",
       "      <td>7.553322</td>\n",
       "      <td>5.543978</td>\n",
       "      <td>5.543978</td>\n",
       "      <td>6.903721</td>\n",
       "      <td>1.000000</td>\n",
       "      <td>0.993865</td>\n",
       "      <td>0.906832</td>\n",
       "      <td>0.560606</td>\n",
       "      <td>NaN</td>\n",
       "    </tr>\n",
       "    <tr>\n",
       "      <th>3</th>\n",
       "      <td>3</td>\n",
       "      <td>3</td>\n",
       "      <td>mp-754856</td>\n",
       "      <td>['Li', 'Y', 'Zr', 'S']</td>\n",
       "      <td>Li7Y7ZrS16</td>\n",
       "      <td>Li7 Y7 Zr1 S16</td>\n",
       "      <td>4</td>\n",
       "      <td>Li-S-Y-Zr</td>\n",
       "      <td>P2/m</td>\n",
       "      <td>10</td>\n",
       "      <td>...</td>\n",
       "      <td>5.753538</td>\n",
       "      <td>5.754215</td>\n",
       "      <td>4.319241</td>\n",
       "      <td>5.047983</td>\n",
       "      <td>5.047983</td>\n",
       "      <td>0.987952</td>\n",
       "      <td>0.962963</td>\n",
       "      <td>0.921569</td>\n",
       "      <td>0.735294</td>\n",
       "      <td>NaN</td>\n",
       "    </tr>\n",
       "    <tr>\n",
       "      <th>4</th>\n",
       "      <td>4</td>\n",
       "      <td>4</td>\n",
       "      <td>mp-24610</td>\n",
       "      <td>['H', 'Li', 'O', 'P']</td>\n",
       "      <td>LiP(HO2)2</td>\n",
       "      <td>Li4 P4 H8 O16</td>\n",
       "      <td>4</td>\n",
       "      <td>H-Li-O-P</td>\n",
       "      <td>Pna2_1</td>\n",
       "      <td>33</td>\n",
       "      <td>...</td>\n",
       "      <td>20.776278</td>\n",
       "      <td>20.872825</td>\n",
       "      <td>29.153401</td>\n",
       "      <td>32.155099</td>\n",
       "      <td>32.155099</td>\n",
       "      <td>1.000000</td>\n",
       "      <td>0.988506</td>\n",
       "      <td>0.941860</td>\n",
       "      <td>0.537500</td>\n",
       "      <td>NaN</td>\n",
       "    </tr>\n",
       "    <tr>\n",
       "      <th>...</th>\n",
       "      <td>...</td>\n",
       "      <td>...</td>\n",
       "      <td>...</td>\n",
       "      <td>...</td>\n",
       "      <td>...</td>\n",
       "      <td>...</td>\n",
       "      <td>...</td>\n",
       "      <td>...</td>\n",
       "      <td>...</td>\n",
       "      <td>...</td>\n",
       "      <td>...</td>\n",
       "      <td>...</td>\n",
       "      <td>...</td>\n",
       "      <td>...</td>\n",
       "      <td>...</td>\n",
       "      <td>...</td>\n",
       "      <td>...</td>\n",
       "      <td>...</td>\n",
       "      <td>...</td>\n",
       "      <td>...</td>\n",
       "      <td>...</td>\n",
       "    </tr>\n",
       "    <tr>\n",
       "      <th>868</th>\n",
       "      <td>868</td>\n",
       "      <td>868</td>\n",
       "      <td>mp-9919</td>\n",
       "      <td>['Li', 'Zn', 'Sb']</td>\n",
       "      <td>LiZnSb</td>\n",
       "      <td>Li2 Zn2 Sb2</td>\n",
       "      <td>3</td>\n",
       "      <td>Li-Sb-Zn</td>\n",
       "      <td>P6_3mc</td>\n",
       "      <td>186</td>\n",
       "      <td>...</td>\n",
       "      <td>5.701444</td>\n",
       "      <td>5.702351</td>\n",
       "      <td>4.292991</td>\n",
       "      <td>7.108637</td>\n",
       "      <td>7.108637</td>\n",
       "      <td>0.987578</td>\n",
       "      <td>0.968750</td>\n",
       "      <td>0.876623</td>\n",
       "      <td>0.664286</td>\n",
       "      <td>NaN</td>\n",
       "    </tr>\n",
       "    <tr>\n",
       "      <th>869</th>\n",
       "      <td>869</td>\n",
       "      <td>869</td>\n",
       "      <td>mp-14704</td>\n",
       "      <td>['Li', 'B', 'O', 'Y']</td>\n",
       "      <td>Li6Y(BO3)3</td>\n",
       "      <td>Li24 Y4 B12 O36</td>\n",
       "      <td>4</td>\n",
       "      <td>B-Li-O-Y</td>\n",
       "      <td>P2_1/c</td>\n",
       "      <td>14</td>\n",
       "      <td>...</td>\n",
       "      <td>8.689684</td>\n",
       "      <td>8.696529</td>\n",
       "      <td>5.979421</td>\n",
       "      <td>11.272210</td>\n",
       "      <td>11.272210</td>\n",
       "      <td>1.000000</td>\n",
       "      <td>0.982143</td>\n",
       "      <td>0.812500</td>\n",
       "      <td>0.742574</td>\n",
       "      <td>NaN</td>\n",
       "    </tr>\n",
       "    <tr>\n",
       "      <th>870</th>\n",
       "      <td>870</td>\n",
       "      <td>870</td>\n",
       "      <td>mp-557756</td>\n",
       "      <td>['Li', 'Zn', 'P', 'O']</td>\n",
       "      <td>Li4Zn(PO4)2</td>\n",
       "      <td>Li16 Zn4 P8 O32</td>\n",
       "      <td>4</td>\n",
       "      <td>Li-O-P-Zn</td>\n",
       "      <td>P2_1/c</td>\n",
       "      <td>14</td>\n",
       "      <td>...</td>\n",
       "      <td>10.007699</td>\n",
       "      <td>10.013265</td>\n",
       "      <td>8.758697</td>\n",
       "      <td>8.758697</td>\n",
       "      <td>10.855064</td>\n",
       "      <td>1.000000</td>\n",
       "      <td>0.967480</td>\n",
       "      <td>0.811475</td>\n",
       "      <td>0.700935</td>\n",
       "      <td>1.000000e-10</td>\n",
       "    </tr>\n",
       "    <tr>\n",
       "      <th>871</th>\n",
       "      <td>871</td>\n",
       "      <td>871</td>\n",
       "      <td>mp-966801</td>\n",
       "      <td>['Li', 'Ca', 'B', 'O']</td>\n",
       "      <td>LiCaBO3</td>\n",
       "      <td>Li8 Ca8 B8 O24</td>\n",
       "      <td>4</td>\n",
       "      <td>B-Ca-Li-O</td>\n",
       "      <td>Ibca</td>\n",
       "      <td>73</td>\n",
       "      <td>...</td>\n",
       "      <td>8.888549</td>\n",
       "      <td>8.891707</td>\n",
       "      <td>7.424524</td>\n",
       "      <td>10.040524</td>\n",
       "      <td>10.040524</td>\n",
       "      <td>0.989011</td>\n",
       "      <td>0.933333</td>\n",
       "      <td>0.771084</td>\n",
       "      <td>0.735294</td>\n",
       "      <td>NaN</td>\n",
       "    </tr>\n",
       "    <tr>\n",
       "      <th>872</th>\n",
       "      <td>872</td>\n",
       "      <td>872</td>\n",
       "      <td>mp-772721</td>\n",
       "      <td>['Li', 'Si', 'Bi', 'O']</td>\n",
       "      <td>LiSi6Bi9O26</td>\n",
       "      <td>Li2 Si12 Bi18 O52</td>\n",
       "      <td>4</td>\n",
       "      <td>Bi-Li-O-Si</td>\n",
       "      <td>P-3</td>\n",
       "      <td>147</td>\n",
       "      <td>...</td>\n",
       "      <td>4.306544</td>\n",
       "      <td>4.308040</td>\n",
       "      <td>2.817394</td>\n",
       "      <td>3.552058</td>\n",
       "      <td>3.919391</td>\n",
       "      <td>1.000000</td>\n",
       "      <td>0.957983</td>\n",
       "      <td>0.815126</td>\n",
       "      <td>0.540541</td>\n",
       "      <td>NaN</td>\n",
       "    </tr>\n",
       "  </tbody>\n",
       "</table>\n",
       "<p>873 rows × 121 columns</p>\n",
       "</div>"
      ],
      "text/plain": [
       "     Unnamed: 0.1  Unnamed: 0 material_id                     elements  \\\n",
       "0               0           0     mp-8892            ['Li', 'F', 'In']   \n",
       "1               1           1   mp-772968  ['Li', 'Tl', 'P', 'H', 'O']   \n",
       "2               2           2   mp-756951            ['Li', 'Sb', 'O']   \n",
       "3               3           3   mp-754856       ['Li', 'Y', 'Zr', 'S']   \n",
       "4               4           4    mp-24610        ['H', 'Li', 'O', 'P']   \n",
       "..            ...         ...         ...                          ...   \n",
       "868           868         868     mp-9919           ['Li', 'Zn', 'Sb']   \n",
       "869           869         869    mp-14704        ['Li', 'B', 'O', 'Y']   \n",
       "870           870         870   mp-557756       ['Li', 'Zn', 'P', 'O']   \n",
       "871           871         871   mp-966801       ['Li', 'Ca', 'B', 'O']   \n",
       "872           872         872   mp-772721      ['Li', 'Si', 'Bi', 'O']   \n",
       "\n",
       "    formula_pretty_reduced            formula  num_elements      chemsys  \\\n",
       "0                   LiInF4        Li4 In4 F16             3      F-In-Li   \n",
       "1                 LiTlPHO3  Li4 Tl4 P4 H4 O12             5  H-Li-O-P-Tl   \n",
       "2                   LiSbO3        Li4 Sb4 O12             3      Li-O-Sb   \n",
       "3               Li7Y7ZrS16     Li7 Y7 Zr1 S16             4    Li-S-Y-Zr   \n",
       "4                LiP(HO2)2      Li4 P4 H8 O16             4     H-Li-O-P   \n",
       "..                     ...                ...           ...          ...   \n",
       "868                 LiZnSb        Li2 Zn2 Sb2             3     Li-Sb-Zn   \n",
       "869             Li6Y(BO3)3    Li24 Y4 B12 O36             4     B-Li-O-Y   \n",
       "870            Li4Zn(PO4)2    Li16 Zn4 P8 O32             4    Li-O-P-Zn   \n",
       "871                LiCaBO3     Li8 Ca8 B8 O24             4    B-Ca-Li-O   \n",
       "872            LiSi6Bi9O26  Li2 Si12 Bi18 O52             4   Bi-Li-O-Si   \n",
       "\n",
       "    spacegroup_symbol  spacegroup_number  ...        980        990  \\\n",
       "0                Pbcn                 60  ...   9.653824   9.657305   \n",
       "1                  C2                  5  ...   9.865593   9.873043   \n",
       "2                C2/m                 12  ...   7.551016   7.553322   \n",
       "3                P2/m                 10  ...   5.753538   5.754215   \n",
       "4              Pna2_1                 33  ...  20.776278  20.872825   \n",
       "..                ...                ...  ...        ...        ...   \n",
       "868            P6_3mc                186  ...   5.701444   5.702351   \n",
       "869            P2_1/c                 14  ...   8.689684   8.696529   \n",
       "870            P2_1/c                 14  ...  10.007699  10.013265   \n",
       "871              Ibca                 73  ...   8.888549   8.891707   \n",
       "872               P-3                147  ...   4.306544   4.308040   \n",
       "\n",
       "           0.2        0.5        0.6     1e-05    0.0001     0.001      0.01  \\\n",
       "0     9.927689   9.927689   9.927689  0.993939  0.981707  0.962025  0.788732   \n",
       "1    11.140249  14.066884  14.066884  1.000000  0.925000  0.725000  0.555556   \n",
       "2     5.543978   5.543978   6.903721  1.000000  0.993865  0.906832  0.560606   \n",
       "3     4.319241   5.047983   5.047983  0.987952  0.962963  0.921569  0.735294   \n",
       "4    29.153401  32.155099  32.155099  1.000000  0.988506  0.941860  0.537500   \n",
       "..         ...        ...        ...       ...       ...       ...       ...   \n",
       "868   4.292991   7.108637   7.108637  0.987578  0.968750  0.876623  0.664286   \n",
       "869   5.979421  11.272210  11.272210  1.000000  0.982143  0.812500  0.742574   \n",
       "870   8.758697   8.758697  10.855064  1.000000  0.967480  0.811475  0.700935   \n",
       "871   7.424524  10.040524  10.040524  0.989011  0.933333  0.771084  0.735294   \n",
       "872   2.817394   3.552058   3.919391  1.000000  0.957983  0.815126  0.540541   \n",
       "\n",
       "     σ(RT)(S cm-1)  \n",
       "0              NaN  \n",
       "1              NaN  \n",
       "2              NaN  \n",
       "3              NaN  \n",
       "4              NaN  \n",
       "..             ...  \n",
       "868            NaN  \n",
       "869            NaN  \n",
       "870   1.000000e-10  \n",
       "871            NaN  \n",
       "872            NaN  \n",
       "\n",
       "[873 rows x 121 columns]"
      ]
     },
     "execution_count": 5,
     "metadata": {},
     "output_type": "execute_result"
    }
   ],
   "source": [
    "data = pd.read_csv('data.csv')\n",
    "data"
   ]
  },
  {
   "cell_type": "code",
   "execution_count": 6,
   "id": "5b102fc5",
   "metadata": {},
   "outputs": [],
   "source": [
    "df = data[['material_id', 'formula_pretty_reduced']]"
   ]
  },
  {
   "cell_type": "code",
   "execution_count": 7,
   "id": "4aa19000",
   "metadata": {
    "scrolled": true
   },
   "outputs": [],
   "source": [
    "mat_id = df['material_id'].tolist() "
   ]
  },
  {
   "cell_type": "code",
   "execution_count": 8,
   "id": "560fad5b",
   "metadata": {},
   "outputs": [
    {
     "data": {
      "text/plain": [
       "873"
      ]
     },
     "execution_count": 8,
     "metadata": {},
     "output_type": "execute_result"
    }
   ],
   "source": [
    "len(mat_id)"
   ]
  },
  {
   "cell_type": "code",
   "execution_count": 9,
   "id": "7cbf0391",
   "metadata": {},
   "outputs": [
    {
     "data": {
      "application/vnd.jupyter.widget-view+json": {
       "model_id": "8eab92308bd34e6c93d9745e918687b9",
       "version_major": 2,
       "version_minor": 0
      },
      "text/plain": [
       "Retrieving OxidationStateDoc documents:   0%|          | 0/867 [00:00<?, ?it/s]"
      ]
     },
     "metadata": {},
     "output_type": "display_data"
    }
   ],
   "source": [
    "MP_API_KEY = #type your key\n",
    "\n",
    "with MPRester(MP_API_KEY) as mpr:\n",
    "    oxi_docs = mpr.provenance.get_data_by_id(material_ids=mat_id,\n",
    "                                                     fields=['material_id','structure','formula_pretty','possible_species'])"
   ]
  },
  {
   "cell_type": "code",
   "execution_count": 10,
   "id": "445317ad",
   "metadata": {},
   "outputs": [
    {
     "name": "stdout",
     "output_type": "stream",
     "text": [
      "{'mp-867699', 'mp-867712', 'mp-613442', 'mp-561623', 'mp-867677', 'mp-867700'}\n"
     ]
    }
   ],
   "source": [
    "oxi_mat_ids = [doc.material_id for doc in oxi_docs]\n",
    "\n",
    "missing_id = set(mat_id)-set(oxi_mat_ids)\n",
    "\n",
    "print(missing_id)"
   ]
  },
  {
   "cell_type": "code",
   "execution_count": 11,
   "id": "0cf97bab",
   "metadata": {},
   "outputs": [
    {
     "data": {
      "text/plain": [
       "867"
      ]
     },
     "execution_count": 11,
     "metadata": {},
     "output_type": "execute_result"
    }
   ],
   "source": [
    "mat_id_updt = mat_id\n",
    "for mat in missing_id:\n",
    "    mat_id_updt.remove(mat)\n",
    "    \n",
    "len(mat_id_updt)"
   ]
  },
  {
   "cell_type": "code",
   "execution_count": 12,
   "id": "4983c1fc",
   "metadata": {},
   "outputs": [
    {
     "data": {
      "text/html": [
       "<div>\n",
       "<style scoped>\n",
       "    .dataframe tbody tr th:only-of-type {\n",
       "        vertical-align: middle;\n",
       "    }\n",
       "\n",
       "    .dataframe tbody tr th {\n",
       "        vertical-align: top;\n",
       "    }\n",
       "\n",
       "    .dataframe thead th {\n",
       "        text-align: right;\n",
       "    }\n",
       "</style>\n",
       "<table border=\"1\" class=\"dataframe\">\n",
       "  <thead>\n",
       "    <tr style=\"text-align: right;\">\n",
       "      <th></th>\n",
       "      <th>material_id</th>\n",
       "      <th>formula_pretty_reduced</th>\n",
       "    </tr>\n",
       "  </thead>\n",
       "  <tbody>\n",
       "    <tr>\n",
       "      <th>0</th>\n",
       "      <td>mp-10103</td>\n",
       "      <td>LiYbAlF6</td>\n",
       "    </tr>\n",
       "    <tr>\n",
       "      <th>1</th>\n",
       "      <td>mp-10517</td>\n",
       "      <td>LiScP2O7</td>\n",
       "    </tr>\n",
       "    <tr>\n",
       "      <th>2</th>\n",
       "      <td>mp-10555</td>\n",
       "      <td>Ba2LiReN4</td>\n",
       "    </tr>\n",
       "    <tr>\n",
       "      <th>3</th>\n",
       "      <td>mp-12263</td>\n",
       "      <td>LiAuF4</td>\n",
       "    </tr>\n",
       "    <tr>\n",
       "      <th>4</th>\n",
       "      <td>mp-14476</td>\n",
       "      <td>LiRhO2</td>\n",
       "    </tr>\n",
       "    <tr>\n",
       "      <th>...</th>\n",
       "      <td>...</td>\n",
       "      <td>...</td>\n",
       "    </tr>\n",
       "    <tr>\n",
       "      <th>862</th>\n",
       "      <td>mp-8430</td>\n",
       "      <td>KLiS</td>\n",
       "    </tr>\n",
       "    <tr>\n",
       "      <th>863</th>\n",
       "      <td>mp-8754</td>\n",
       "      <td>NaLiTe</td>\n",
       "    </tr>\n",
       "    <tr>\n",
       "      <th>864</th>\n",
       "      <td>mp-8870</td>\n",
       "      <td>LiMgAsO4</td>\n",
       "    </tr>\n",
       "    <tr>\n",
       "      <th>865</th>\n",
       "      <td>mp-9018</td>\n",
       "      <td>LiCdPO4</td>\n",
       "    </tr>\n",
       "    <tr>\n",
       "      <th>866</th>\n",
       "      <td>mp-989405</td>\n",
       "      <td>Cs2LiInBr6</td>\n",
       "    </tr>\n",
       "  </tbody>\n",
       "</table>\n",
       "<p>867 rows × 2 columns</p>\n",
       "</div>"
      ],
      "text/plain": [
       "    material_id formula_pretty_reduced\n",
       "0      mp-10103               LiYbAlF6\n",
       "1      mp-10517               LiScP2O7\n",
       "2      mp-10555              Ba2LiReN4\n",
       "3      mp-12263                 LiAuF4\n",
       "4      mp-14476                 LiRhO2\n",
       "..          ...                    ...\n",
       "862     mp-8430                   KLiS\n",
       "863     mp-8754                 NaLiTe\n",
       "864     mp-8870               LiMgAsO4\n",
       "865     mp-9018                LiCdPO4\n",
       "866   mp-989405             Cs2LiInBr6\n",
       "\n",
       "[867 rows x 2 columns]"
      ]
     },
     "execution_count": 12,
     "metadata": {},
     "output_type": "execute_result"
    }
   ],
   "source": [
    "df_s = pd.DataFrame()\n",
    "\n",
    "for i, doc in enumerate(oxi_docs):\n",
    "    df_s.loc[i, 'material_id'] = doc.material_id\n",
    "    df_s.loc[i, 'formula_pretty_reduced'] = doc.formula_pretty \n",
    "    \n",
    "df_s"
   ]
  },
  {
   "cell_type": "code",
   "execution_count": 13,
   "id": "35cb158a",
   "metadata": {},
   "outputs": [
    {
     "name": "stderr",
     "output_type": "stream",
     "text": [
      "100%|██████████| 867/867 [00:00<00:00, 2158.13it/s]\n"
     ]
    }
   ],
   "source": [
    "no_oxi = ['Li(BH)5', 'K2LiBO3', 'K4LiIO6', 'LiSiB6', 'LiB6C', 'LiH6BrO7', 'LiAlB14']\n",
    "structures = []\n",
    "\n",
    "for i, doc in enumerate(tqdm(oxi_docs)):\n",
    "    s = doc.structure\n",
    "    if doc.formula_pretty in no_oxi:\n",
    "        s.add_oxidation_state_by_guess()\n",
    "    structures.append(s)"
   ]
  },
  {
   "cell_type": "code",
   "execution_count": 10,
   "id": "d1c00f69",
   "metadata": {},
   "outputs": [
    {
     "name": "stdout",
     "output_type": "stream",
     "text": [
      "[]\n"
     ]
    },
    {
     "data": {
      "text/plain": [
       "['density', 'vpa', 'packing fraction']"
      ]
     },
     "execution_count": 10,
     "metadata": {},
     "output_type": "execute_result"
    }
   ],
   "source": [
    "densityf = DensityFeatures()\n",
    "densityf.feature_labels()"
   ]
  },
  {
   "cell_type": "code",
   "execution_count": 15,
   "id": "8b007c84",
   "metadata": {},
   "outputs": [
    {
     "data": {
      "text/plain": [
       "[5.047785181171902, 11.731326068744151, 0.4408156729864949]"
      ]
     },
     "execution_count": 15,
     "metadata": {},
     "output_type": "execute_result"
    }
   ],
   "source": [
    "s = structures[0]\n",
    "\n",
    "densityf.featurize(s)"
   ]
  },
  {
   "cell_type": "code",
   "execution_count": 16,
   "id": "82a891b4",
   "metadata": {},
   "outputs": [
    {
     "name": "stderr",
     "output_type": "stream",
     "text": [
      "100%|██████████| 867/867 [00:02<00:00, 317.62it/s]\n"
     ]
    },
    {
     "data": {
      "text/html": [
       "<div>\n",
       "<style scoped>\n",
       "    .dataframe tbody tr th:only-of-type {\n",
       "        vertical-align: middle;\n",
       "    }\n",
       "\n",
       "    .dataframe tbody tr th {\n",
       "        vertical-align: top;\n",
       "    }\n",
       "\n",
       "    .dataframe thead th {\n",
       "        text-align: right;\n",
       "    }\n",
       "</style>\n",
       "<table border=\"1\" class=\"dataframe\">\n",
       "  <thead>\n",
       "    <tr style=\"text-align: right;\">\n",
       "      <th></th>\n",
       "      <th>material_id</th>\n",
       "      <th>formula_pretty_reduced</th>\n",
       "      <th>density</th>\n",
       "      <th>vpa</th>\n",
       "      <th>packing fraction</th>\n",
       "    </tr>\n",
       "  </thead>\n",
       "  <tbody>\n",
       "    <tr>\n",
       "      <th>0</th>\n",
       "      <td>mp-10103</td>\n",
       "      <td>LiYbAlF6</td>\n",
       "      <td>5.047785</td>\n",
       "      <td>11.731326</td>\n",
       "      <td>0.440816</td>\n",
       "    </tr>\n",
       "    <tr>\n",
       "      <th>1</th>\n",
       "      <td>mp-10517</td>\n",
       "      <td>LiScP2O7</td>\n",
       "      <td>2.606895</td>\n",
       "      <td>13.077787</td>\n",
       "      <td>0.310300</td>\n",
       "    </tr>\n",
       "    <tr>\n",
       "      <th>2</th>\n",
       "      <td>mp-10555</td>\n",
       "      <td>Ba2LiReN4</td>\n",
       "      <td>6.095159</td>\n",
       "      <td>17.838710</td>\n",
       "      <td>0.777361</td>\n",
       "    </tr>\n",
       "    <tr>\n",
       "      <th>3</th>\n",
       "      <td>mp-12263</td>\n",
       "      <td>LiAuF4</td>\n",
       "      <td>6.143331</td>\n",
       "      <td>12.609524</td>\n",
       "      <td>0.332691</td>\n",
       "    </tr>\n",
       "    <tr>\n",
       "      <th>4</th>\n",
       "      <td>mp-14476</td>\n",
       "      <td>LiRhO2</td>\n",
       "      <td>6.201424</td>\n",
       "      <td>9.495387</td>\n",
       "      <td>0.655202</td>\n",
       "    </tr>\n",
       "    <tr>\n",
       "      <th>...</th>\n",
       "      <td>...</td>\n",
       "      <td>...</td>\n",
       "      <td>...</td>\n",
       "      <td>...</td>\n",
       "      <td>...</td>\n",
       "    </tr>\n",
       "    <tr>\n",
       "      <th>862</th>\n",
       "      <td>mp-8430</td>\n",
       "      <td>KLiS</td>\n",
       "      <td>2.009905</td>\n",
       "      <td>21.509345</td>\n",
       "      <td>0.954021</td>\n",
       "    </tr>\n",
       "    <tr>\n",
       "      <th>863</th>\n",
       "      <td>mp-8754</td>\n",
       "      <td>NaLiTe</td>\n",
       "      <td>3.580874</td>\n",
       "      <td>24.350290</td>\n",
       "      <td>0.666564</td>\n",
       "    </tr>\n",
       "    <tr>\n",
       "      <th>864</th>\n",
       "      <td>mp-8870</td>\n",
       "      <td>LiMgAsO4</td>\n",
       "      <td>3.569512</td>\n",
       "      <td>11.308706</td>\n",
       "      <td>0.466101</td>\n",
       "    </tr>\n",
       "    <tr>\n",
       "      <th>865</th>\n",
       "      <td>mp-9018</td>\n",
       "      <td>LiCdPO4</td>\n",
       "      <td>4.199445</td>\n",
       "      <td>12.106782</td>\n",
       "      <td>0.426874</td>\n",
       "    </tr>\n",
       "    <tr>\n",
       "      <th>866</th>\n",
       "      <td>mp-989405</td>\n",
       "      <td>Cs2LiInBr6</td>\n",
       "      <td>4.218932</td>\n",
       "      <td>34.124211</td>\n",
       "      <td>0.626642</td>\n",
       "    </tr>\n",
       "  </tbody>\n",
       "</table>\n",
       "<p>867 rows × 5 columns</p>\n",
       "</div>"
      ],
      "text/plain": [
       "    material_id formula_pretty_reduced   density        vpa  packing fraction\n",
       "0      mp-10103               LiYbAlF6  5.047785  11.731326          0.440816\n",
       "1      mp-10517               LiScP2O7  2.606895  13.077787          0.310300\n",
       "2      mp-10555              Ba2LiReN4  6.095159  17.838710          0.777361\n",
       "3      mp-12263                 LiAuF4  6.143331  12.609524          0.332691\n",
       "4      mp-14476                 LiRhO2  6.201424   9.495387          0.655202\n",
       "..          ...                    ...       ...        ...               ...\n",
       "862     mp-8430                   KLiS  2.009905  21.509345          0.954021\n",
       "863     mp-8754                 NaLiTe  3.580874  24.350290          0.666564\n",
       "864     mp-8870               LiMgAsO4  3.569512  11.308706          0.466101\n",
       "865     mp-9018                LiCdPO4  4.199445  12.106782          0.426874\n",
       "866   mp-989405             Cs2LiInBr6  4.218932  34.124211          0.626642\n",
       "\n",
       "[867 rows x 5 columns]"
      ]
     },
     "execution_count": 16,
     "metadata": {},
     "output_type": "execute_result"
    }
   ],
   "source": [
    "for i, s in enumerate(tqdm(structures)):\n",
    "    features = densityf.featurize(s)\n",
    "    for j, label in enumerate(densityf.feature_labels()):\n",
    "        df_s.loc[i, label] = features[j]\n",
    "        \n",
    "df_s"
   ]
  },
  {
   "cell_type": "code",
   "execution_count": 2,
   "id": "7cc400fd",
   "metadata": {},
   "outputs": [],
   "source": [
    "chemordering = ChemicalOrdering()\n",
    "complexity = StructuralComplexity()\n",
    "heterogeneity = StructuralHeterogeneity()\n",
    "coulomb = SineCoulombMatrix()\n",
    "ewald = EwaldEnergy()\n",
    "xrd = XRDPowderPattern()\n",
    "rdf = RadialDistributionFunction()\n",
    "prdf = PartialRadialDistributionFunction(include_elems=['Li',])"
   ]
  },
  {
   "cell_type": "code",
   "execution_count": 9,
   "id": "fb70d439",
   "metadata": {},
   "outputs": [
    {
     "name": "stdout",
     "output_type": "stream",
     "text": [
      "0\n",
      "['@article{Ward2017,author = {Ward, Logan and Liu, Ruoqian and Krishna, Amar and Hegde, Vinay I. and Agrawal, Ankit and Choudhary, Alok and Wolverton, Chris},doi = {10.1103/PhysRevB.96.024104},journal = {Physical Review B},pages = {024104},title = {{Including crystal structure attributes in machine learning models of formation energies via Voronoi tessellations}},url = {http://link.aps.org/doi/10.1103/PhysRevB.96.024104},volume = {96},year = {2017}}']\n",
      "1\n",
      "['@article{complexity2013,author = {Krivovichev, S. V.},title = {Structural complexity of minerals: information storage and processing in the mineral world},journal = {Mineral. Mag.},volume = {77},number = {3},pages = {275-326},year = {2013},month = {04},issn = {0026-461X},doi = {10.1180/minmag.2013.077.3.05},url = {https://doi.org/10.1180/minmag.2013.077.3.05}}']\n",
      "2\n",
      "['@article{Ward2017,author = {Ward, Logan and Liu, Ruoqian and Krishna, Amar and Hegde, Vinay I. and Agrawal, Ankit and Choudhary, Alok and Wolverton, Chris},doi = {10.1103/PhysRevB.96.024104},journal = {Physical Review B},pages = {024104},title = {{Including crystal structure attributes in machine learning models of formation energies via Voronoi tessellations}},url = {http://link.aps.org/doi/10.1103/PhysRevB.96.024104},volume = {96},year = {2017}}']\n",
      "3\n",
      "['@article {QUA:QUA24917,author = {Faber, Felix and Lindmaa, Alexander and von Lilienfeld, O. Anatole and Armiento, Rickard},title = {Crystal structure representations for machine learning models of formation energies},journal = {International Journal of Quantum Chemistry},volume = {115},number = {16},issn = {1097-461X},url = {http://dx.doi.org/10.1002/qua.24917},doi = {10.1002/qua.24917},pages = {1094--1101},keywords = {machine learning, formation energies, representations, crystal structure, periodic systems},year = {2015},}']\n",
      "4\n",
      "['@Article{Ewald1921,author = {Ewald, P. P.},doi = {10.1002/andp.19213690304},issn = {00033804},journal = {Annalen der Physik},number = {3},pages = {253--287},title = {{Die Berechnung optischer und elektrostatischer Gitterpotentiale}},url = {http://doi.wiley.com/10.1002/andp.19213690304},volume = {369},year = {1921}}']\n",
      "5\n",
      "['@article{Ong2013, author = {Ong, Shyue Ping and Richards, William Davidson and Jain, Anubhav and Hautier, Geoffroy and Kocher, Michael and Cholia, Shreyas and Gunter, Dan and Chevrier, Vincent L. and Persson, Kristin A. and Ceder, Gerbrand}, doi = {10.1016/j.commatsci.2012.10.028}, issn = {09270256}, journal = {Computational Materials Science}, month = {feb}, pages = {314--319}, publisher = {Elsevier B.V.}, title = {{Python Materials Genomics (pymatgen): A robust, open-source python library for materials analysis}}, url = {http://linkinghub.elsevier.com/retrieve/pii/S0927025612006295}, volume = {68}, year = {2013} } ']\n",
      "6\n",
      "[]\n",
      "7\n",
      "['@article{Schutt2014,author = {Sch{\"{u}}tt, K. T. and Glawe, H. and Brockherde, F. and Sanna, A. and M{\"{u}}ller, K. R. and Gross, E. K. U.},doi = {10.1103/PhysRevB.89.205118},journal = {Physical Review B},month = {may},number = {20},pages = {205118},title = {{How to represent crystal structures for machine learning: Towards fast prediction of electronic properties}},url = {http://link.aps.org/doi/10.1103/PhysRevB.89.205118},volume = {89},year = {2014}}']\n"
     ]
    }
   ],
   "source": [
    "featurizers = [chemordering, complexity, heterogeneity, coulomb, ewald, xrd, rdf, prdf]\n",
    "\n",
    "for i, f in enumerate(featurizers):\n",
    "    print(i)\n",
    "    print(f.citations())"
   ]
  },
  {
   "cell_type": "code",
   "execution_count": 19,
   "id": "5d12ecaf",
   "metadata": {},
   "outputs": [
    {
     "name": "stdout",
     "output_type": "stream",
     "text": [
      "ChemicalOrdering()\n"
     ]
    },
    {
     "name": "stderr",
     "output_type": "stream",
     "text": [
      "100%|██████████| 867/867 [22:09<00:00,  1.53s/it] \n"
     ]
    },
    {
     "name": "stdout",
     "output_type": "stream",
     "text": [
      "StructuralComplexity()\n"
     ]
    },
    {
     "name": "stderr",
     "output_type": "stream",
     "text": [
      "100%|██████████| 867/867 [00:06<00:00, 138.98it/s]\n"
     ]
    },
    {
     "name": "stdout",
     "output_type": "stream",
     "text": [
      "StructuralHeterogeneity()\n"
     ]
    },
    {
     "name": "stderr",
     "output_type": "stream",
     "text": [
      "100%|██████████| 867/867 [15:06<00:00,  1.05s/it] \n"
     ]
    },
    {
     "name": "stdout",
     "output_type": "stream",
     "text": [
      "SineCoulombMatrix()\n"
     ]
    },
    {
     "name": "stderr",
     "output_type": "stream",
     "text": [
      "100%|██████████| 867/867 [00:20<00:00, 42.99it/s]\n"
     ]
    },
    {
     "name": "stdout",
     "output_type": "stream",
     "text": [
      "EwaldEnergy()\n"
     ]
    },
    {
     "name": "stderr",
     "output_type": "stream",
     "text": [
      "100%|██████████| 867/867 [00:13<00:00, 64.50it/s] \n"
     ]
    },
    {
     "name": "stdout",
     "output_type": "stream",
     "text": [
      "XRDPowderPattern(pattern_length=128)\n"
     ]
    },
    {
     "name": "stderr",
     "output_type": "stream",
     "text": [
      "100%|██████████| 867/867 [03:18<00:00,  4.38it/s]\n"
     ]
    },
    {
     "name": "stdout",
     "output_type": "stream",
     "text": [
      "RadialDistributionFunction()\n"
     ]
    },
    {
     "name": "stderr",
     "output_type": "stream",
     "text": [
      "100%|██████████| 867/867 [05:49<00:00,  2.48it/s]\n"
     ]
    },
    {
     "name": "stdout",
     "output_type": "stream",
     "text": [
      "PartialRadialDistributionFunction(exclude_elems=[], include_elems=['Li'])\n"
     ]
    },
    {
     "name": "stderr",
     "output_type": "stream",
     "text": [
      "  0%|          | 0/867 [00:00<?, ?it/s]\n"
     ]
    },
    {
     "name": "stdout",
     "output_type": "stream",
     "text": [
      "\u001b[0;31m---------------------------------------------------------------------------\u001b[0m\n",
      "\u001b[0;31mException\u001b[0m                                 Traceback (most recent call last)\n",
      "\u001b[0;32m<ipython-input-19-1d4392e780d4>\u001b[0m in \u001b[0;36m<module>\u001b[0;34m\u001b[0m\n",
      "\u001b[1;32m     17\u001b[0m     \u001b[0;32melse\u001b[0m\u001b[0;34m:\u001b[0m\u001b[0;34m\u001b[0m\u001b[0;34m\u001b[0m\u001b[0m\n",
      "\u001b[1;32m     18\u001b[0m         \u001b[0;32mfor\u001b[0m \u001b[0mi\u001b[0m\u001b[0;34m,\u001b[0m \u001b[0ms\u001b[0m \u001b[0;32min\u001b[0m \u001b[0menumerate\u001b[0m\u001b[0;34m(\u001b[0m\u001b[0mtqdm\u001b[0m\u001b[0;34m(\u001b[0m\u001b[0mstructures\u001b[0m\u001b[0;34m)\u001b[0m\u001b[0;34m)\u001b[0m\u001b[0;34m:\u001b[0m\u001b[0;34m\u001b[0m\u001b[0;34m\u001b[0m\u001b[0m\n",
      "\u001b[0;32m---> 19\u001b[0;31m             \u001b[0mfeatures\u001b[0m \u001b[0;34m=\u001b[0m \u001b[0mf\u001b[0m\u001b[0;34m.\u001b[0m\u001b[0mfeaturize\u001b[0m\u001b[0;34m(\u001b[0m\u001b[0ms\u001b[0m\u001b[0;34m)\u001b[0m\u001b[0;34m\u001b[0m\u001b[0;34m\u001b[0m\u001b[0m\n",
      "\u001b[0m\u001b[1;32m     20\u001b[0m             \u001b[0;32mfor\u001b[0m \u001b[0mj\u001b[0m\u001b[0;34m,\u001b[0m \u001b[0mlabel\u001b[0m \u001b[0;32min\u001b[0m \u001b[0menumerate\u001b[0m\u001b[0;34m(\u001b[0m\u001b[0mf\u001b[0m\u001b[0;34m.\u001b[0m\u001b[0mfeature_labels\u001b[0m\u001b[0;34m(\u001b[0m\u001b[0;34m)\u001b[0m\u001b[0;34m)\u001b[0m\u001b[0;34m:\u001b[0m\u001b[0;34m\u001b[0m\u001b[0;34m\u001b[0m\u001b[0m\n",
      "\u001b[1;32m     21\u001b[0m                 \u001b[0mdf_s\u001b[0m\u001b[0;34m.\u001b[0m\u001b[0mloc\u001b[0m\u001b[0;34m[\u001b[0m\u001b[0mi\u001b[0m\u001b[0;34m,\u001b[0m \u001b[0mlabel\u001b[0m\u001b[0;34m]\u001b[0m \u001b[0;34m=\u001b[0m \u001b[0mfeatures\u001b[0m\u001b[0;34m[\u001b[0m\u001b[0mj\u001b[0m\u001b[0;34m]\u001b[0m\u001b[0;34m\u001b[0m\u001b[0;34m\u001b[0m\u001b[0m\n",
      "\n",
      "\u001b[0;32m~/anaconda3/lib/python3.8/site-packages/matminer/featurizers/structure/rdf.py\u001b[0m in \u001b[0;36mfeaturize\u001b[0;34m(self, s)\u001b[0m\n",
      "\u001b[1;32m    177\u001b[0m             \u001b[0;32mraise\u001b[0m \u001b[0mValueError\u001b[0m\u001b[0;34m(\u001b[0m\u001b[0;34m\"Disordered structure support not built yet\"\u001b[0m\u001b[0;34m)\u001b[0m\u001b[0;34m\u001b[0m\u001b[0;34m\u001b[0m\u001b[0m\n",
      "\u001b[1;32m    178\u001b[0m         \u001b[0;32mif\u001b[0m \u001b[0mself\u001b[0m\u001b[0;34m.\u001b[0m\u001b[0melements_\u001b[0m \u001b[0;32mis\u001b[0m \u001b[0;32mNone\u001b[0m\u001b[0;34m:\u001b[0m\u001b[0;34m\u001b[0m\u001b[0;34m\u001b[0m\u001b[0m\n",
      "\u001b[0;32m--> 179\u001b[0;31m             \u001b[0;32mraise\u001b[0m \u001b[0mException\u001b[0m\u001b[0;34m(\u001b[0m\u001b[0;34m\"You must run 'fit' first!\"\u001b[0m\u001b[0;34m)\u001b[0m\u001b[0;34m\u001b[0m\u001b[0;34m\u001b[0m\u001b[0m\n",
      "\u001b[0m\u001b[1;32m    180\u001b[0m \u001b[0;34m\u001b[0m\u001b[0m\n",
      "\u001b[1;32m    181\u001b[0m         \u001b[0mdist_bins\u001b[0m\u001b[0;34m,\u001b[0m \u001b[0mprdf\u001b[0m \u001b[0;34m=\u001b[0m \u001b[0mself\u001b[0m\u001b[0;34m.\u001b[0m\u001b[0mcompute_prdf\u001b[0m\u001b[0;34m(\u001b[0m\u001b[0ms\u001b[0m\u001b[0;34m)\u001b[0m  \u001b[0;31m# Assemble the PRDF for each pair\u001b[0m\u001b[0;34m\u001b[0m\u001b[0;34m\u001b[0m\u001b[0m\n",
      "\n",
      "\u001b[0;31mException\u001b[0m: You must run 'fit' first!\n"
     ]
    }
   ],
   "source": [
    "for f in featurizers:\n",
    "    print(f)\n",
    "    if f == chemordering or f == heterogeneity:\n",
    "        for i, s in enumerate(tqdm(structures)):\n",
    "            s.perturb(0.001)\n",
    "            features = f.featurize(s)\n",
    "            for j, label in enumerate(f.feature_labels()):\n",
    "                df_s.loc[i, label] = features[j] \n",
    "    elif f == coulomb or f == rdf:\n",
    "        f.fit(structures)\n",
    "        for i, s in enumerate(tqdm(structures)):\n",
    "            features = f.featurize(s)\n",
    "            for j, label in enumerate(f.feature_labels()):\n",
    "                df_s.loc[i, label] = features[j]\n",
    "    else: \n",
    "        for i, s in enumerate(tqdm(structures)):\n",
    "            features = f.featurize(s)\n",
    "            for j, label in enumerate(f.feature_labels()):\n",
    "                df_s.loc[i, label] = features[j]\n",
    "\n",
    "df_s"
   ]
  },
  {
   "cell_type": "code",
   "execution_count": null,
   "id": "076504f9",
   "metadata": {},
   "outputs": [],
   "source": [
    "df_s"
   ]
  },
  {
   "cell_type": "code",
   "execution_count": null,
   "id": "f561d8b4",
   "metadata": {},
   "outputs": [],
   "source": [
    "df_ordered = pd.DataFrame(columns=df_s.columns)\n",
    "\n",
    "for i, mat in enumerate(tqdm(mat_id_updt)):\n",
    "    row = df_s.loc[df_s['material_id'] == mat].to_dict()\n",
    "    for col in df_ordered.columns:\n",
    "        val = list(row[col].values())[0]\n",
    "        df_ordered.loc[i, col] = val\n",
    "    \n",
    "df_ordered"
   ]
  },
  {
   "cell_type": "code",
   "execution_count": null,
   "id": "49853ed9",
   "metadata": {},
   "outputs": [],
   "source": [
    "df_ordered.to_csv('structure_feature2_mac.csv')"
   ]
  },
  {
   "cell_type": "code",
   "execution_count": null,
   "id": "359ff752",
   "metadata": {},
   "outputs": [],
   "source": []
  }
 ],
 "metadata": {
  "kernelspec": {
   "display_name": "Python 3 (ipykernel)",
   "language": "python",
   "name": "python3"
  },
  "language_info": {
   "codemirror_mode": {
    "name": "ipython",
    "version": 3
   },
   "file_extension": ".py",
   "mimetype": "text/x-python",
   "name": "python",
   "nbconvert_exporter": "python",
   "pygments_lexer": "ipython3",
   "version": "3.9.15"
  }
 },
 "nbformat": 4,
 "nbformat_minor": 5
}
