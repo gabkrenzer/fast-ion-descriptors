{
 "cells": [
  {
   "cell_type": "code",
   "execution_count": 7,
   "id": "97621f2e",
   "metadata": {},
   "outputs": [],
   "source": [
    "import numpy as np\n",
    "import pandas as pd"
   ]
  },
  {
   "cell_type": "code",
   "execution_count": 8,
   "id": "29a6cd2a",
   "metadata": {},
   "outputs": [],
   "source": [
    "def npy_to_csv(filename, l_bound=-10, u_bound=35, density=4):\n",
    "    #preapre dataframe\n",
    "    f_arr = np.arange(l_bound, u_bound, 1/density)\n",
    "    col = []\n",
    "    if 'all' in filename:\n",
    "        for dos in ['Total', 'Li']:\n",
    "            for f in f_arr:\n",
    "                f_str = dos+':'+str(f)+'THz'\n",
    "                col.append(f_str)\n",
    "    else:\n",
    "        for f in f_arr:\n",
    "            f_str = str(f)+'THz'\n",
    "            col.append(f_str)\n",
    "    v_df = pd.DataFrame(columns=col)\n",
    "    #transform .npy to df\n",
    "    v = np.load(filename)\n",
    "    for i, mat in enumerate(v):\n",
    "        v_df.loc[i] = mat\n",
    "    #save to .csv\n",
    "    v_df.to_csv(filename[:-4]+'.csv')"
   ]
  },
  {
   "cell_type": "code",
   "execution_count": 9,
   "id": "77165b23",
   "metadata": {},
   "outputs": [],
   "source": [
    "v_filenames = ['vibli_feature.npy', 'vibtot_feature.npy', 'viball_feature.npy']\n",
    "\n",
    "for filename in v_filenames:\n",
    "    npy_to_csv(filename)"
   ]
  },
  {
   "cell_type": "code",
   "execution_count": null,
   "id": "3244a9ce",
   "metadata": {},
   "outputs": [],
   "source": []
  }
 ],
 "metadata": {
  "kernelspec": {
   "display_name": "Python 3",
   "language": "python",
   "name": "python3"
  },
  "language_info": {
   "codemirror_mode": {
    "name": "ipython",
    "version": 3
   },
   "file_extension": ".py",
   "mimetype": "text/x-python",
   "name": "python",
   "nbconvert_exporter": "python",
   "pygments_lexer": "ipython3",
   "version": "3.8.8"
  }
 },
 "nbformat": 4,
 "nbformat_minor": 5
}
